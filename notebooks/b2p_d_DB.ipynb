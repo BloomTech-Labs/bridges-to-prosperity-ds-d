{
  "nbformat": 4,
  "nbformat_minor": 0,
  "metadata": {
    "kernelspec": {
      "display_name": "Python 3",
      "language": "python",
      "name": "python3"
    },
    "language_info": {
      "codemirror_mode": {
        "name": "ipython",
        "version": 3
      },
      "file_extension": ".py",
      "mimetype": "text/x-python",
      "name": "python",
      "nbconvert_exporter": "python",
      "pygments_lexer": "ipython3",
      "version": "3.7.3"
    },
    "colab": {
      "name": "b2p-d_DB.ipynb",
      "provenance": [],
      "collapsed_sections": [],
      "toc_visible": true
    }
  },
  "cells": [
    {
      "cell_type": "code",
      "metadata": {
        "id": "lwN5fR_BuH77",
        "outputId": "2ac2254a-32b0-4b1c-f145-2de1d6cb5a01",
        "colab": {
          "base_uri": "https://localhost:8080/"
        }
      },
      "source": [
        "!pip install python-dotenv"
      ],
      "execution_count": 1,
      "outputs": [
        {
          "output_type": "stream",
          "text": [
            "Collecting python-dotenv\n",
            "  Downloading https://files.pythonhosted.org/packages/32/2e/e4585559237787966aad0f8fd0fc31df1c4c9eb0e62de458c5b6cde954eb/python_dotenv-0.15.0-py2.py3-none-any.whl\n",
            "Installing collected packages: python-dotenv\n",
            "Successfully installed python-dotenv-0.15.0\n"
          ],
          "name": "stdout"
        }
      ]
    },
    {
      "cell_type": "code",
      "metadata": {
        "id": "fTQN-iCgut_w",
        "outputId": "063c0876-afef-4953-95a3-200e41b0ba50",
        "colab": {
          "base_uri": "https://localhost:8080/"
        }
      },
      "source": [
        "!pip install psycopg2-binary"
      ],
      "execution_count": 2,
      "outputs": [
        {
          "output_type": "stream",
          "text": [
            "Collecting psycopg2-binary\n",
            "\u001b[?25l  Downloading https://files.pythonhosted.org/packages/f2/1b/720b36697158113ca1b2221a8e96a470088ccf3770d182214689d1a96a07/psycopg2_binary-2.8.6-cp36-cp36m-manylinux1_x86_64.whl (3.0MB)\n",
            "\u001b[K     |████████████████████████████████| 3.0MB 5.7MB/s \n",
            "\u001b[?25hInstalling collected packages: psycopg2-binary\n",
            "Successfully installed psycopg2-binary-2.8.6\n"
          ],
          "name": "stdout"
        }
      ]
    },
    {
      "cell_type": "code",
      "metadata": {
        "id": "V-9vk0Sumdfr"
      },
      "source": [
        "import psycopg2\n",
        "import pandas as pd\n",
        "import json\n",
        "import os\n",
        "from dotenv import load_dotenv"
      ],
      "execution_count": 3,
      "outputs": []
    },
    {
      "cell_type": "markdown",
      "metadata": {
        "id": "ZNnj-29Xmdfy"
      },
      "source": [
        "# Convert CSV into DataFrame format"
      ]
    },
    {
      "cell_type": "code",
      "metadata": {
        "id": "_ndLye3-mdfz"
      },
      "source": [
        "#Convert CSV File W/ Data into dataframe, make sure you have the correct file and in the proper csv format\n",
        "df = pd.read_csv(\"predict_df.csv\")\n",
        "# df = pd.read_csv(\"main_data_clean.csv\")"
      ],
      "execution_count": 25,
      "outputs": []
    },
    {
      "cell_type": "code",
      "metadata": {
        "id": "sjElmm75mdf4",
        "outputId": "dc28992c-d4c5-42de-8c3e-d05d278c91d4",
        "colab": {
          "base_uri": "https://localhost:8080/",
          "height": 241
        }
      },
      "source": [
        "#Data frame looks good to go\n",
        "print(df.shape)\n",
        "df.head()"
      ],
      "execution_count": 30,
      "outputs": [
        {
          "output_type": "stream",
          "text": [
            "(1472, 7)\n"
          ],
          "name": "stdout"
        },
        {
          "output_type": "execute_result",
          "data": {
            "text/html": [
              "<div>\n",
              "<style scoped>\n",
              "    .dataframe tbody tr th:only-of-type {\n",
              "        vertical-align: middle;\n",
              "    }\n",
              "\n",
              "    .dataframe tbody tr th {\n",
              "        vertical-align: top;\n",
              "    }\n",
              "\n",
              "    .dataframe thead th {\n",
              "        text-align: right;\n",
              "    }\n",
              "</style>\n",
              "<table border=\"1\" class=\"dataframe\">\n",
              "  <thead>\n",
              "    <tr style=\"text-align: right;\">\n",
              "      <th></th>\n",
              "      <th>bridge_opportunity_bridge_type</th>\n",
              "      <th>bridge_opportunity_span_m</th>\n",
              "      <th>days_per_year_river_is_flooded</th>\n",
              "      <th>bridge_classification</th>\n",
              "      <th>flag_for_rejection</th>\n",
              "      <th>height_differential_between_banks</th>\n",
              "      <th>bridge_opportunity_project_code</th>\n",
              "    </tr>\n",
              "  </thead>\n",
              "  <tbody>\n",
              "    <tr>\n",
              "      <th>0</th>\n",
              "      <td>Suspended Bridge</td>\n",
              "      <td>52.44</td>\n",
              "      <td>78.63</td>\n",
              "      <td>NaN</td>\n",
              "      <td>Yes</td>\n",
              "      <td>0.97</td>\n",
              "      <td>1009317</td>\n",
              "    </tr>\n",
              "    <tr>\n",
              "      <th>1</th>\n",
              "      <td>Suspension Bridge</td>\n",
              "      <td>48.00</td>\n",
              "      <td>120.00</td>\n",
              "      <td>NaN</td>\n",
              "      <td>NaN</td>\n",
              "      <td>0.70</td>\n",
              "      <td>1007325</td>\n",
              "    </tr>\n",
              "    <tr>\n",
              "      <th>2</th>\n",
              "      <td>Suspension Bridge</td>\n",
              "      <td>50.00</td>\n",
              "      <td>60.00</td>\n",
              "      <td>Standard</td>\n",
              "      <td>NaN</td>\n",
              "      <td>1.00</td>\n",
              "      <td>1007374</td>\n",
              "    </tr>\n",
              "    <tr>\n",
              "      <th>3</th>\n",
              "      <td>Suspension Bridge</td>\n",
              "      <td>68.00</td>\n",
              "      <td>60.00</td>\n",
              "      <td>Standard</td>\n",
              "      <td>No</td>\n",
              "      <td>1.10</td>\n",
              "      <td>1007466</td>\n",
              "    </tr>\n",
              "    <tr>\n",
              "      <th>4</th>\n",
              "      <td>Suspension Bridge</td>\n",
              "      <td>78.00</td>\n",
              "      <td>35.00</td>\n",
              "      <td>Standard</td>\n",
              "      <td>No</td>\n",
              "      <td>1.10</td>\n",
              "      <td>1007495</td>\n",
              "    </tr>\n",
              "  </tbody>\n",
              "</table>\n",
              "</div>"
            ],
            "text/plain": [
              "  bridge_opportunity_bridge_type  ...  bridge_opportunity_project_code\n",
              "0               Suspended Bridge  ...                          1009317\n",
              "1              Suspension Bridge  ...                          1007325\n",
              "2              Suspension Bridge  ...                          1007374\n",
              "3              Suspension Bridge  ...                          1007466\n",
              "4              Suspension Bridge  ...                          1007495\n",
              "\n",
              "[5 rows x 7 columns]"
            ]
          },
          "metadata": {
            "tags": []
          },
          "execution_count": 30
        }
      ]
    },
    {
      "cell_type": "markdown",
      "metadata": {
        "id": "AZjVj2Xgmdf7"
      },
      "source": [
        "# Clean Columns If Necessary"
      ]
    },
    {
      "cell_type": "markdown",
      "metadata": {
        "id": "AGV1Z5gAmdgA"
      },
      "source": [
        "# Check Secrets"
      ]
    },
    {
      "cell_type": "code",
      "metadata": {
        "id": "xgV_nzM1xWbh",
        "outputId": "a0cdc11e-eed4-4568-a9a3-dc0b4451e75a",
        "colab": {
          "resources": {
            "http://localhost:8080/nbextensions/google.colab/files.js": {
              "data": "Ly8gQ29weXJpZ2h0IDIwMTcgR29vZ2xlIExMQwovLwovLyBMaWNlbnNlZCB1bmRlciB0aGUgQXBhY2hlIExpY2Vuc2UsIFZlcnNpb24gMi4wICh0aGUgIkxpY2Vuc2UiKTsKLy8geW91IG1heSBub3QgdXNlIHRoaXMgZmlsZSBleGNlcHQgaW4gY29tcGxpYW5jZSB3aXRoIHRoZSBMaWNlbnNlLgovLyBZb3UgbWF5IG9idGFpbiBhIGNvcHkgb2YgdGhlIExpY2Vuc2UgYXQKLy8KLy8gICAgICBodHRwOi8vd3d3LmFwYWNoZS5vcmcvbGljZW5zZXMvTElDRU5TRS0yLjAKLy8KLy8gVW5sZXNzIHJlcXVpcmVkIGJ5IGFwcGxpY2FibGUgbGF3IG9yIGFncmVlZCB0byBpbiB3cml0aW5nLCBzb2Z0d2FyZQovLyBkaXN0cmlidXRlZCB1bmRlciB0aGUgTGljZW5zZSBpcyBkaXN0cmlidXRlZCBvbiBhbiAiQVMgSVMiIEJBU0lTLAovLyBXSVRIT1VUIFdBUlJBTlRJRVMgT1IgQ09ORElUSU9OUyBPRiBBTlkgS0lORCwgZWl0aGVyIGV4cHJlc3Mgb3IgaW1wbGllZC4KLy8gU2VlIHRoZSBMaWNlbnNlIGZvciB0aGUgc3BlY2lmaWMgbGFuZ3VhZ2UgZ292ZXJuaW5nIHBlcm1pc3Npb25zIGFuZAovLyBsaW1pdGF0aW9ucyB1bmRlciB0aGUgTGljZW5zZS4KCi8qKgogKiBAZmlsZW92ZXJ2aWV3IEhlbHBlcnMgZm9yIGdvb2dsZS5jb2xhYiBQeXRob24gbW9kdWxlLgogKi8KKGZ1bmN0aW9uKHNjb3BlKSB7CmZ1bmN0aW9uIHNwYW4odGV4dCwgc3R5bGVBdHRyaWJ1dGVzID0ge30pIHsKICBjb25zdCBlbGVtZW50ID0gZG9jdW1lbnQuY3JlYXRlRWxlbWVudCgnc3BhbicpOwogIGVsZW1lbnQudGV4dENvbnRlbnQgPSB0ZXh0OwogIGZvciAoY29uc3Qga2V5IG9mIE9iamVjdC5rZXlzKHN0eWxlQXR0cmlidXRlcykpIHsKICAgIGVsZW1lbnQuc3R5bGVba2V5XSA9IHN0eWxlQXR0cmlidXRlc1trZXldOwogIH0KICByZXR1cm4gZWxlbWVudDsKfQoKLy8gTWF4IG51bWJlciBvZiBieXRlcyB3aGljaCB3aWxsIGJlIHVwbG9hZGVkIGF0IGEgdGltZS4KY29uc3QgTUFYX1BBWUxPQURfU0laRSA9IDEwMCAqIDEwMjQ7CgpmdW5jdGlvbiBfdXBsb2FkRmlsZXMoaW5wdXRJZCwgb3V0cHV0SWQpIHsKICBjb25zdCBzdGVwcyA9IHVwbG9hZEZpbGVzU3RlcChpbnB1dElkLCBvdXRwdXRJZCk7CiAgY29uc3Qgb3V0cHV0RWxlbWVudCA9IGRvY3VtZW50LmdldEVsZW1lbnRCeUlkKG91dHB1dElkKTsKICAvLyBDYWNoZSBzdGVwcyBvbiB0aGUgb3V0cHV0RWxlbWVudCB0byBtYWtlIGl0IGF2YWlsYWJsZSBmb3IgdGhlIG5leHQgY2FsbAogIC8vIHRvIHVwbG9hZEZpbGVzQ29udGludWUgZnJvbSBQeXRob24uCiAgb3V0cHV0RWxlbWVudC5zdGVwcyA9IHN0ZXBzOwoKICByZXR1cm4gX3VwbG9hZEZpbGVzQ29udGludWUob3V0cHV0SWQpOwp9CgovLyBUaGlzIGlzIHJvdWdobHkgYW4gYXN5bmMgZ2VuZXJhdG9yIChub3Qgc3VwcG9ydGVkIGluIHRoZSBicm93c2VyIHlldCksCi8vIHdoZXJlIHRoZXJlIGFyZSBtdWx0aXBsZSBhc3luY2hyb25vdXMgc3RlcHMgYW5kIHRoZSBQeXRob24gc2lkZSBpcyBnb2luZwovLyB0byBwb2xsIGZvciBjb21wbGV0aW9uIG9mIGVhY2ggc3RlcC4KLy8gVGhpcyB1c2VzIGEgUHJvbWlzZSB0byBibG9jayB0aGUgcHl0aG9uIHNpZGUgb24gY29tcGxldGlvbiBvZiBlYWNoIHN0ZXAsCi8vIHRoZW4gcGFzc2VzIHRoZSByZXN1bHQgb2YgdGhlIHByZXZpb3VzIHN0ZXAgYXMgdGhlIGlucHV0IHRvIHRoZSBuZXh0IHN0ZXAuCmZ1bmN0aW9uIF91cGxvYWRGaWxlc0NvbnRpbnVlKG91dHB1dElkKSB7CiAgY29uc3Qgb3V0cHV0RWxlbWVudCA9IGRvY3VtZW50LmdldEVsZW1lbnRCeUlkKG91dHB1dElkKTsKICBjb25zdCBzdGVwcyA9IG91dHB1dEVsZW1lbnQuc3RlcHM7CgogIGNvbnN0IG5leHQgPSBzdGVwcy5uZXh0KG91dHB1dEVsZW1lbnQubGFzdFByb21pc2VWYWx1ZSk7CiAgcmV0dXJuIFByb21pc2UucmVzb2x2ZShuZXh0LnZhbHVlLnByb21pc2UpLnRoZW4oKHZhbHVlKSA9PiB7CiAgICAvLyBDYWNoZSB0aGUgbGFzdCBwcm9taXNlIHZhbHVlIHRvIG1ha2UgaXQgYXZhaWxhYmxlIHRvIHRoZSBuZXh0CiAgICAvLyBzdGVwIG9mIHRoZSBnZW5lcmF0b3IuCiAgICBvdXRwdXRFbGVtZW50Lmxhc3RQcm9taXNlVmFsdWUgPSB2YWx1ZTsKICAgIHJldHVybiBuZXh0LnZhbHVlLnJlc3BvbnNlOwogIH0pOwp9CgovKioKICogR2VuZXJhdG9yIGZ1bmN0aW9uIHdoaWNoIGlzIGNhbGxlZCBiZXR3ZWVuIGVhY2ggYXN5bmMgc3RlcCBvZiB0aGUgdXBsb2FkCiAqIHByb2Nlc3MuCiAqIEBwYXJhbSB7c3RyaW5nfSBpbnB1dElkIEVsZW1lbnQgSUQgb2YgdGhlIGlucHV0IGZpbGUgcGlja2VyIGVsZW1lbnQuCiAqIEBwYXJhbSB7c3RyaW5nfSBvdXRwdXRJZCBFbGVtZW50IElEIG9mIHRoZSBvdXRwdXQgZGlzcGxheS4KICogQHJldHVybiB7IUl0ZXJhYmxlPCFPYmplY3Q+fSBJdGVyYWJsZSBvZiBuZXh0IHN0ZXBzLgogKi8KZnVuY3Rpb24qIHVwbG9hZEZpbGVzU3RlcChpbnB1dElkLCBvdXRwdXRJZCkgewogIGNvbnN0IGlucHV0RWxlbWVudCA9IGRvY3VtZW50LmdldEVsZW1lbnRCeUlkKGlucHV0SWQpOwogIGlucHV0RWxlbWVudC5kaXNhYmxlZCA9IGZhbHNlOwoKICBjb25zdCBvdXRwdXRFbGVtZW50ID0gZG9jdW1lbnQuZ2V0RWxlbWVudEJ5SWQob3V0cHV0SWQpOwogIG91dHB1dEVsZW1lbnQuaW5uZXJIVE1MID0gJyc7CgogIGNvbnN0IHBpY2tlZFByb21pc2UgPSBuZXcgUHJvbWlzZSgocmVzb2x2ZSkgPT4gewogICAgaW5wdXRFbGVtZW50LmFkZEV2ZW50TGlzdGVuZXIoJ2NoYW5nZScsIChlKSA9PiB7CiAgICAgIHJlc29sdmUoZS50YXJnZXQuZmlsZXMpOwogICAgfSk7CiAgfSk7CgogIGNvbnN0IGNhbmNlbCA9IGRvY3VtZW50LmNyZWF0ZUVsZW1lbnQoJ2J1dHRvbicpOwogIGlucHV0RWxlbWVudC5wYXJlbnRFbGVtZW50LmFwcGVuZENoaWxkKGNhbmNlbCk7CiAgY2FuY2VsLnRleHRDb250ZW50ID0gJ0NhbmNlbCB1cGxvYWQnOwogIGNvbnN0IGNhbmNlbFByb21pc2UgPSBuZXcgUHJvbWlzZSgocmVzb2x2ZSkgPT4gewogICAgY2FuY2VsLm9uY2xpY2sgPSAoKSA9PiB7CiAgICAgIHJlc29sdmUobnVsbCk7CiAgICB9OwogIH0pOwoKICAvLyBXYWl0IGZvciB0aGUgdXNlciB0byBwaWNrIHRoZSBmaWxlcy4KICBjb25zdCBmaWxlcyA9IHlpZWxkIHsKICAgIHByb21pc2U6IFByb21pc2UucmFjZShbcGlja2VkUHJvbWlzZSwgY2FuY2VsUHJvbWlzZV0pLAogICAgcmVzcG9uc2U6IHsKICAgICAgYWN0aW9uOiAnc3RhcnRpbmcnLAogICAgfQogIH07CgogIGNhbmNlbC5yZW1vdmUoKTsKCiAgLy8gRGlzYWJsZSB0aGUgaW5wdXQgZWxlbWVudCBzaW5jZSBmdXJ0aGVyIHBpY2tzIGFyZSBub3QgYWxsb3dlZC4KICBpbnB1dEVsZW1lbnQuZGlzYWJsZWQgPSB0cnVlOwoKICBpZiAoIWZpbGVzKSB7CiAgICByZXR1cm4gewogICAgICByZXNwb25zZTogewogICAgICAgIGFjdGlvbjogJ2NvbXBsZXRlJywKICAgICAgfQogICAgfTsKICB9CgogIGZvciAoY29uc3QgZmlsZSBvZiBmaWxlcykgewogICAgY29uc3QgbGkgPSBkb2N1bWVudC5jcmVhdGVFbGVtZW50KCdsaScpOwogICAgbGkuYXBwZW5kKHNwYW4oZmlsZS5uYW1lLCB7Zm9udFdlaWdodDogJ2JvbGQnfSkpOwogICAgbGkuYXBwZW5kKHNwYW4oCiAgICAgICAgYCgke2ZpbGUudHlwZSB8fCAnbi9hJ30pIC0gJHtmaWxlLnNpemV9IGJ5dGVzLCBgICsKICAgICAgICBgbGFzdCBtb2RpZmllZDogJHsKICAgICAgICAgICAgZmlsZS5sYXN0TW9kaWZpZWREYXRlID8gZmlsZS5sYXN0TW9kaWZpZWREYXRlLnRvTG9jYWxlRGF0ZVN0cmluZygpIDoKICAgICAgICAgICAgICAgICAgICAgICAgICAgICAgICAgICAgJ24vYSd9IC0gYCkpOwogICAgY29uc3QgcGVyY2VudCA9IHNwYW4oJzAlIGRvbmUnKTsKICAgIGxpLmFwcGVuZENoaWxkKHBlcmNlbnQpOwoKICAgIG91dHB1dEVsZW1lbnQuYXBwZW5kQ2hpbGQobGkpOwoKICAgIGNvbnN0IGZpbGVEYXRhUHJvbWlzZSA9IG5ldyBQcm9taXNlKChyZXNvbHZlKSA9PiB7CiAgICAgIGNvbnN0IHJlYWRlciA9IG5ldyBGaWxlUmVhZGVyKCk7CiAgICAgIHJlYWRlci5vbmxvYWQgPSAoZSkgPT4gewogICAgICAgIHJlc29sdmUoZS50YXJnZXQucmVzdWx0KTsKICAgICAgfTsKICAgICAgcmVhZGVyLnJlYWRBc0FycmF5QnVmZmVyKGZpbGUpOwogICAgfSk7CiAgICAvLyBXYWl0IGZvciB0aGUgZGF0YSB0byBiZSByZWFkeS4KICAgIGxldCBmaWxlRGF0YSA9IHlpZWxkIHsKICAgICAgcHJvbWlzZTogZmlsZURhdGFQcm9taXNlLAogICAgICByZXNwb25zZTogewogICAgICAgIGFjdGlvbjogJ2NvbnRpbnVlJywKICAgICAgfQogICAgfTsKCiAgICAvLyBVc2UgYSBjaHVua2VkIHNlbmRpbmcgdG8gYXZvaWQgbWVzc2FnZSBzaXplIGxpbWl0cy4gU2VlIGIvNjIxMTU2NjAuCiAgICBsZXQgcG9zaXRpb24gPSAwOwogICAgd2hpbGUgKHBvc2l0aW9uIDwgZmlsZURhdGEuYnl0ZUxlbmd0aCkgewogICAgICBjb25zdCBsZW5ndGggPSBNYXRoLm1pbihmaWxlRGF0YS5ieXRlTGVuZ3RoIC0gcG9zaXRpb24sIE1BWF9QQVlMT0FEX1NJWkUpOwogICAgICBjb25zdCBjaHVuayA9IG5ldyBVaW50OEFycmF5KGZpbGVEYXRhLCBwb3NpdGlvbiwgbGVuZ3RoKTsKICAgICAgcG9zaXRpb24gKz0gbGVuZ3RoOwoKICAgICAgY29uc3QgYmFzZTY0ID0gYnRvYShTdHJpbmcuZnJvbUNoYXJDb2RlLmFwcGx5KG51bGwsIGNodW5rKSk7CiAgICAgIHlpZWxkIHsKICAgICAgICByZXNwb25zZTogewogICAgICAgICAgYWN0aW9uOiAnYXBwZW5kJywKICAgICAgICAgIGZpbGU6IGZpbGUubmFtZSwKICAgICAgICAgIGRhdGE6IGJhc2U2NCwKICAgICAgICB9LAogICAgICB9OwogICAgICBwZXJjZW50LnRleHRDb250ZW50ID0KICAgICAgICAgIGAke01hdGgucm91bmQoKHBvc2l0aW9uIC8gZmlsZURhdGEuYnl0ZUxlbmd0aCkgKiAxMDApfSUgZG9uZWA7CiAgICB9CiAgfQoKICAvLyBBbGwgZG9uZS4KICB5aWVsZCB7CiAgICByZXNwb25zZTogewogICAgICBhY3Rpb246ICdjb21wbGV0ZScsCiAgICB9CiAgfTsKfQoKc2NvcGUuZ29vZ2xlID0gc2NvcGUuZ29vZ2xlIHx8IHt9OwpzY29wZS5nb29nbGUuY29sYWIgPSBzY29wZS5nb29nbGUuY29sYWIgfHwge307CnNjb3BlLmdvb2dsZS5jb2xhYi5fZmlsZXMgPSB7CiAgX3VwbG9hZEZpbGVzLAogIF91cGxvYWRGaWxlc0NvbnRpbnVlLAp9Owp9KShzZWxmKTsK",
              "ok": true,
              "headers": [
                [
                  "content-type",
                  "application/javascript"
                ]
              ],
              "status": 200,
              "status_text": ""
            }
          },
          "base_uri": "https://localhost:8080/",
          "height": 72
        }
      },
      "source": [
        "from google.colab import files\n",
        "uploaded = files.upload()"
      ],
      "execution_count": null,
      "outputs": [
        {
          "output_type": "display_data",
          "data": {
            "text/html": [
              "\n",
              "     <input type=\"file\" id=\"files-7231357d-c7c7-4dea-be79-fe704f2c398c\" name=\"files[]\" multiple disabled\n",
              "        style=\"border:none\" />\n",
              "     <output id=\"result-7231357d-c7c7-4dea-be79-fe704f2c398c\">\n",
              "      Upload widget is only available when the cell has been executed in the\n",
              "      current browser session. Please rerun this cell to enable.\n",
              "      </output>\n",
              "      <script src=\"/nbextensions/google.colab/files.js\"></script> "
            ],
            "text/plain": [
              "<IPython.core.display.HTML object>"
            ]
          },
          "metadata": {
            "tags": []
          }
        },
        {
          "output_type": "stream",
          "text": [
            "Saving .env to .env\n"
          ],
          "name": "stdout"
        }
      ]
    },
    {
      "cell_type": "code",
      "metadata": {
        "id": "mSuav84oRRUb"
      },
      "source": [
        "# from google.colab import drive\n",
        "# drive.mount('/content/drive')"
      ],
      "execution_count": null,
      "outputs": []
    },
    {
      "cell_type": "code",
      "metadata": {
        "id": "0F9OzLyemdgB"
      },
      "source": [
        "#Secrets are contained in a .envfile\n",
        "load_dotenv()\n",
        "db_name = os.getenv(\"DB_NAME\")\n",
        "db_user = os.getenv(\"DB_USER\")\n",
        "db_password = os.getenv(\"DB_PASSWORD\")\n",
        "db_host = os.getenv(\"DB_HOST\")\n",
        "db_port = os.getenv(\"DB_PORT\")\n",
        "\n",
        "# print(db_name)\n",
        "# print(db_user)\n",
        "# print(db_password)\n",
        "# print(db_host)\n",
        "# print(db_port)"
      ],
      "execution_count": 20,
      "outputs": []
    },
    {
      "cell_type": "markdown",
      "metadata": {
        "id": "w-BQScNTmdgD"
      },
      "source": [
        "# Verify which tables exist in DataBase"
      ]
    },
    {
      "cell_type": "code",
      "metadata": {
        "id": "iefe-caKmdgE",
        "outputId": "312bc603-cdbc-4db5-f1f3-2f701b871d6b",
        "colab": {
          "base_uri": "https://localhost:8080/"
        }
      },
      "source": [
        "import sqlalchemy  # Package for accessing SQL databases via Python\n",
        "# Connect to database (Note: The package psychopg2 is required for Postgres to work with SQLAlchemy)\n",
        "engine = sqlalchemy.create_engine(f\"postgresql://{db_user}:{db_password}@{db_host}:{db_port}/{db_name}\")\n",
        "con = engine.connect()\n",
        "# Verify that there are no existing tables\n",
        "print(engine.table_names())\n",
        "engine.dispose()"
      ],
      "execution_count": 31,
      "outputs": [
        {
          "output_type": "stream",
          "text": [
            "['b2p_lab28d_sk_tab']\n"
          ],
          "name": "stdout"
        }
      ]
    },
    {
      "cell_type": "markdown",
      "metadata": {
        "id": "2CGxv0pamdgG"
      },
      "source": [
        "# Upload DataFrame to DataBase"
      ]
    },
    {
      "cell_type": "code",
      "metadata": {
        "id": "OCPaD1mtmdgG"
      },
      "source": [
        "table_name = 'predict_sk_tab'\n",
        "# table_name = 'b2p_lab28d_sk_tab'\n",
        "\n",
        "df.to_sql(table_name, con)"
      ],
      "execution_count": 32,
      "outputs": []
    },
    {
      "cell_type": "code",
      "metadata": {
        "id": "O93BR-rVmdgI"
      },
      "source": [
        "def conn_curs():\n",
        "    \"\"\"\n",
        "    makes a connection to the database\n",
        "    \"\"\"\n",
        "    global db_name\n",
        "    global db_user\n",
        "    global db_password\n",
        "    global db_host\n",
        "    global db_port\n",
        "    \n",
        "    connection = psycopg2.connect(dbname=db_name, user= db_user,\n",
        "                                  password=db_password, host= db_host,port=db_port)\n",
        "    cursor = connection.cursor()\n",
        "    return connection, cursor"
      ],
      "execution_count": null,
      "outputs": []
    },
    {
      "cell_type": "code",
      "metadata": {
        "id": "gPvSLHU5mdgK"
      },
      "source": [
        "def fetch_query_records(query):\n",
        "    global conn_curs\n",
        "    conn, cursor = conn_curs()\n",
        "    cursor.execute(query)\n",
        "    result = cursor.fetchall()\n",
        "    cursor.close()\n",
        "    conn.close()\n",
        "    return result"
      ],
      "execution_count": null,
      "outputs": []
    },
    {
      "cell_type": "code",
      "metadata": {
        "id": "FqwbcPuRmdgN",
        "outputId": "d031ca9c-3fbf-40c2-feee-0f3f169ab55b"
      },
      "source": [
        "fetch_query_records(\"\"\"SELECT \"bridge_name\" from public.\"B2P_Merged_Final\" LIMIT 1;\"\"\")"
      ],
      "execution_count": null,
      "outputs": [
        {
          "output_type": "execute_result",
          "data": {
            "text/plain": [
              "[('Bukinga',)]"
            ]
          },
          "metadata": {
            "tags": []
          },
          "execution_count": 17
        }
      ]
    },
    {
      "cell_type": "code",
      "metadata": {
        "id": "mAxrAja5mdgP",
        "outputId": "0412f97f-6425-4158-81ed-e863e0a46abb",
        "colab": {
          "base_uri": "https://localhost:8080/"
        }
      },
      "source": [
        "# Testing Querie to get Records based on Bridge Name\n",
        "conn, cursor = conn_curs()\n",
        "query  = f\"\"\"SELECT country from {table_name} where bridge_name = 'Bukinga' LIMIT 1;\"\"\"\n",
        "cursor.execute(query)\n",
        "result = cursor.fetchall()\n",
        "cursor.close()\n",
        "conn.close\n",
        "print(result)"
      ],
      "execution_count": null,
      "outputs": [
        {
          "output_type": "stream",
          "text": [
            "[('Rwanda',)]\n"
          ],
          "name": "stdout"
        }
      ]
    },
    {
      "cell_type": "code",
      "metadata": {
        "id": "q6zlzfegmdgR"
      },
      "source": [
        "def fetch_all_records():\n",
        "    global conn_curs\n",
        "    conn,cursor = conn_curs()\n",
        "    query = f\"\"\" SELECT * from public.{table_name} LIMIT 1\"\"\";\n",
        "    cursor.execute(query)\n",
        "    result = cursor.fetchall() #when it fetches it adds an extra column (indexes), make sure to remove it\n",
        "    conn.close()\n",
        "    df2 = pd.DataFrame(result, columns= ['index']+columns)\n",
        "    df2 = df2.iloc[:,1:] # This code removes extra copied indexed column\n",
        "    df_json = df.to_json(orient='records')\n",
        "    parsed = json.loads(df_json)\n",
        "    return df2\n"
      ],
      "execution_count": null,
      "outputs": []
    },
    {
      "cell_type": "code",
      "metadata": {
        "id": "7EIgr8tpmdgV",
        "outputId": "c330acc9-1beb-4dc9-fef6-e6f2101b2fc5",
        "colab": {
          "base_uri": "https://localhost:8080/",
          "height": 168
        }
      },
      "source": [
        "#Testing fetch_all_records function\n",
        "df2 = fetch_all_records()\n",
        "print(df2.shape)\n",
        "df2.head()"
      ],
      "execution_count": null,
      "outputs": [
        {
          "output_type": "stream",
          "text": [
            "(1, 44)\n"
          ],
          "name": "stdout"
        },
        {
          "output_type": "execute_result",
          "data": {
            "text/html": [
              "<div>\n",
              "<style scoped>\n",
              "    .dataframe tbody tr th:only-of-type {\n",
              "        vertical-align: middle;\n",
              "    }\n",
              "\n",
              "    .dataframe tbody tr th {\n",
              "        vertical-align: top;\n",
              "    }\n",
              "\n",
              "    .dataframe thead th {\n",
              "        text-align: right;\n",
              "    }\n",
              "</style>\n",
              "<table border=\"1\" class=\"dataframe\">\n",
              "  <thead>\n",
              "    <tr style=\"text-align: right;\">\n",
              "      <th></th>\n",
              "      <th>bridge_name</th>\n",
              "      <th>bridge_opportunity_project_code</th>\n",
              "      <th>bridge_opportunity_needs_assessment</th>\n",
              "      <th>bridge_opportunity_level1_government</th>\n",
              "      <th>bridge_opportunity_level2_government</th>\n",
              "      <th>bridge_opportunity_stage</th>\n",
              "      <th>bridge_opportunity_gps_latitude</th>\n",
              "      <th>bridge_opportunity_gps_longitude</th>\n",
              "      <th>bridge_opportunity_bridge_type</th>\n",
              "      <th>bridge_opportunity_span_m</th>\n",
              "      <th>bridge_opportunity_individuals_directly_served</th>\n",
              "      <th>bridge_opportunity_comments</th>\n",
              "      <th>form_form_name</th>\n",
              "      <th>form_created_by</th>\n",
              "      <th>proposed_bridge_location_gps_latitude</th>\n",
              "      <th>proposed_bridge_location_gps_longitude</th>\n",
              "      <th>current_crossing_method</th>\n",
              "      <th>nearest_all_weather_crossing_point</th>\n",
              "      <th>days_per_year_river_is_flooded</th>\n",
              "      <th>flood_duration_during_rainy_season</th>\n",
              "      <th>market_access_blocked_by_river</th>\n",
              "      <th>education_access_blocked_by_river</th>\n",
              "      <th>health_access_blocked_by_river</th>\n",
              "      <th>other_access_blocked_by_river</th>\n",
              "      <th>primary_occupations</th>\n",
              "      <th>primary_crops_grown</th>\n",
              "      <th>river_crossing_deaths_in_last_3_years</th>\n",
              "      <th>river_crossing_injuries_in_last_3_years</th>\n",
              "      <th>incident_descriptions</th>\n",
              "      <th>notes_on_social_information</th>\n",
              "      <th>cell_service_quality</th>\n",
              "      <th>four_wd _accessibility</th>\n",
              "      <th>name_of_nearest_city</th>\n",
              "      <th>name_of_nearest_paved_or_sealed_road</th>\n",
              "      <th>bridge_classification</th>\n",
              "      <th>flag_for_rejection</th>\n",
              "      <th>rejection_reason</th>\n",
              "      <th>bridge_type</th>\n",
              "      <th>estimated_span_m</th>\n",
              "      <th>height_differential_between_banks</th>\n",
              "      <th>bridge_opportunity_general_project_photos</th>\n",
              "      <th>bridge_opportunity_casesafeid</th>\n",
              "      <th>senior_engineering_review_conducted</th>\n",
              "      <th>country</th>\n",
              "    </tr>\n",
              "  </thead>\n",
              "  <tbody>\n",
              "    <tr>\n",
              "      <th>0</th>\n",
              "      <td>Bukinga</td>\n",
              "      <td>1009317</td>\n",
              "      <td>Rwanda Needs Assessment 2018</td>\n",
              "      <td>Southern Province</td>\n",
              "      <td>Nyaruguru</td>\n",
              "      <td>Cancelled</td>\n",
              "      <td>-2.760833</td>\n",
              "      <td>29.488056</td>\n",
              "      <td>Suspended Bridge</td>\n",
              "      <td>None</td>\n",
              "      <td>None</td>\n",
              "      <td>Steep slopes to deal with for anchors</td>\n",
              "      <td>Project Assessment - 2018.10.10</td>\n",
              "      <td>aimablengirabakunzi taroworks</td>\n",
              "      <td>-2.760833</td>\n",
              "      <td>29.488056</td>\n",
              "      <td>None</td>\n",
              "      <td>None</td>\n",
              "      <td>None</td>\n",
              "      <td>None</td>\n",
              "      <td>None</td>\n",
              "      <td>None</td>\n",
              "      <td>None</td>\n",
              "      <td>None</td>\n",
              "      <td>None</td>\n",
              "      <td>None</td>\n",
              "      <td>None</td>\n",
              "      <td>None</td>\n",
              "      <td>None</td>\n",
              "      <td>None</td>\n",
              "      <td>None</td>\n",
              "      <td>None</td>\n",
              "      <td>Huye</td>\n",
              "      <td>None</td>\n",
              "      <td>None</td>\n",
              "      <td>Yes</td>\n",
              "      <td>There is a planned vehicular road with a vehic...</td>\n",
              "      <td>None</td>\n",
              "      <td>None</td>\n",
              "      <td>None</td>\n",
              "      <td>None</td>\n",
              "      <td>006f100000asFErAAM</td>\n",
              "      <td>Yes</td>\n",
              "      <td>Rwanda</td>\n",
              "    </tr>\n",
              "  </tbody>\n",
              "</table>\n",
              "</div>"
            ],
            "text/plain": [
              "  bridge_name  ... country\n",
              "0     Bukinga  ...  Rwanda\n",
              "\n",
              "[1 rows x 44 columns]"
            ]
          },
          "metadata": {
            "tags": []
          },
          "execution_count": 34
        }
      ]
    },
    {
      "cell_type": "code",
      "metadata": {
        "id": "0MvfJLhxO0Kl",
        "outputId": "f259aeca-f90b-4629-a68d-7ded3cb0a0b2",
        "colab": {
          "base_uri": "https://localhost:8080/"
        }
      },
      "source": [
        "df.columns"
      ],
      "execution_count": 22,
      "outputs": [
        {
          "output_type": "execute_result",
          "data": {
            "text/plain": [
              "Index(['bridge_name', 'bridge_opportunity_project_code',\n",
              "       'bridge_opportunity_needs_assessment',\n",
              "       'bridge_opportunity_level1_government',\n",
              "       'bridge_opportunity_level2_government',\n",
              "       'bridge_opportunity_gps_latitude', 'bridge_opportunity_gps_longitude',\n",
              "       'bridge_opportunity_bridge_type', 'bridge_opportunity_span_m',\n",
              "       'bridge_opportunity_individuals_directly_served',\n",
              "       'bridge_opportunity_comments', 'form_form_name', 'form_created_by',\n",
              "       'proposed_bridge_location_gps_latitude',\n",
              "       'proposed_bridge_location_gps_longitude', 'current_crossing_method',\n",
              "       'nearest_all_weather_crossing_point', 'days_per_year_river_is_flooded',\n",
              "       'flood_duration_during_rainy_season', 'market_access_blocked_by_river',\n",
              "       'education_access_blocked_by_river', 'health_access_blocked_by_river',\n",
              "       'other_access_blocked_by_river', 'primary_occupations',\n",
              "       'primary_crops_grown', 'river_crossing_deaths_in_last_3_years',\n",
              "       'river_crossing_injuries_in_last_3_years', 'incident_descriptions',\n",
              "       'notes_on_social_information', 'cell_service_quality',\n",
              "       'four_wd _accessibility', 'name_of_nearest_city',\n",
              "       'name_of_nearest_paved_or_sealed_road', 'bridge_classification',\n",
              "       'flag_for_rejection', 'rejection_reason', 'bridge_type',\n",
              "       'estimated_span_m', 'height_differential_between_banks',\n",
              "       'bridge_opportunity_general_project_photos',\n",
              "       'bridge_opportunity_casesafeid', 'country', 'good_site'],\n",
              "      dtype='object')"
            ]
          },
          "metadata": {
            "tags": []
          },
          "execution_count": 22
        }
      ]
    }
  ]
}