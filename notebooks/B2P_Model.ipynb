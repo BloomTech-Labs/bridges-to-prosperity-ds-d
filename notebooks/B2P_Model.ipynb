{
  "nbformat": 4,
  "nbformat_minor": 0,
  "metadata": {
    "colab": {
      "name": "B2P_Model.ipynb",
      "provenance": [],
      "collapsed_sections": []
    },
    "kernelspec": {
      "display_name": "Python 3",
      "language": "python",
      "name": "python3"
    },
    "language_info": {
      "codemirror_mode": {
        "name": "ipython",
        "version": 3
      },
      "file_extension": ".py",
      "mimetype": "text/x-python",
      "name": "python",
      "nbconvert_exporter": "python",
      "pygments_lexer": "ipython3",
      "version": "3.8.3"
    }
  },
  "cells": [
    {
      "cell_type": "code",
      "metadata": {
        "id": "mhVdRfHOQy-6"
      },
      "source": [
        "# Imports\n",
        "import pandas as pd"
      ],
      "execution_count": 101,
      "outputs": []
    },
    {
      "cell_type": "code",
      "metadata": {
        "id": "uqKaGWgD8THb"
      },
      "source": [
        "path = 'https://raw.githubusercontent.com/medamer/B2P-data/main/Combined_dataset.csv'\n",
        "df = pd.read_csv(path)"
      ],
      "execution_count": 102,
      "outputs": []
    },
    {
      "cell_type": "code",
      "metadata": {
        "id": "izqTAErvmtnO",
        "outputId": "250fe31a-8a49-4d4e-f344-ccb4786cb68c",
        "colab": {
          "base_uri": "https://localhost:8080/",
          "height": 719
        }
      },
      "source": [
        "df.head()"
      ],
      "execution_count": 103,
      "outputs": [
        {
          "output_type": "execute_result",
          "data": {
            "text/html": [
              "<div>\n",
              "<style scoped>\n",
              "    .dataframe tbody tr th:only-of-type {\n",
              "        vertical-align: middle;\n",
              "    }\n",
              "\n",
              "    .dataframe tbody tr th {\n",
              "        vertical-align: top;\n",
              "    }\n",
              "\n",
              "    .dataframe thead th {\n",
              "        text-align: right;\n",
              "    }\n",
              "</style>\n",
              "<table border=\"1\" class=\"dataframe\">\n",
              "  <thead>\n",
              "    <tr style=\"text-align: right;\">\n",
              "      <th></th>\n",
              "      <th>Bridge Name</th>\n",
              "      <th>Bridge Opportunity: Project Code</th>\n",
              "      <th>Bridge Opportunity: Needs Assessment</th>\n",
              "      <th>Bridge Opportunity: Level 1 Government</th>\n",
              "      <th>Bridge Opportunity: Level 2 Government</th>\n",
              "      <th>Bridge Opportunity: GPS (Latitude)</th>\n",
              "      <th>Bridge Opportunity: GPS (Longitude)</th>\n",
              "      <th>Bridge Opportunity: Bridge Type</th>\n",
              "      <th>Bridge Opportunity: Span (m)</th>\n",
              "      <th>Bridge Opportunity: Individuals Directly Served</th>\n",
              "      <th>Bridge Opportunity: Comments</th>\n",
              "      <th>Current crossing method</th>\n",
              "      <th>Nearest all-weather crossing point</th>\n",
              "      <th>Days per year river is flooded</th>\n",
              "      <th>Flood duration during rainy season</th>\n",
              "      <th>Market access blocked by river</th>\n",
              "      <th>Education access blocked by river</th>\n",
              "      <th>Health access blocked by river</th>\n",
              "      <th>Other access blocked by river</th>\n",
              "      <th>Primary occupations</th>\n",
              "      <th>Primary crops grown</th>\n",
              "      <th>River crossing deaths in last 3 years</th>\n",
              "      <th>River crossing injuries in last 3 years</th>\n",
              "      <th>Cell service quality</th>\n",
              "      <th>4WD Accessibility</th>\n",
              "      <th>Name of nearest city</th>\n",
              "      <th>Name of nearest paved or sealed road</th>\n",
              "      <th>Bridge classification</th>\n",
              "      <th>Flag for Rejection</th>\n",
              "      <th>Rejection Reason</th>\n",
              "      <th>Bridge Type</th>\n",
              "      <th>Estimated span (m)</th>\n",
              "      <th>Height differential between banks</th>\n",
              "      <th>Bridge Opportunity: CaseSafeID</th>\n",
              "      <th>Country</th>\n",
              "      <th>B2P Fiscal Year</th>\n",
              "      <th>Project Type</th>\n",
              "      <th>Good Site</th>\n",
              "    </tr>\n",
              "  </thead>\n",
              "  <tbody>\n",
              "    <tr>\n",
              "      <th>0</th>\n",
              "      <td>Bukinga</td>\n",
              "      <td>1009317</td>\n",
              "      <td>Rwanda Needs Assessment 2018</td>\n",
              "      <td>Southern Province</td>\n",
              "      <td>Nyaruguru</td>\n",
              "      <td>-2.760833</td>\n",
              "      <td>29.488056</td>\n",
              "      <td>Suspended Bridge</td>\n",
              "      <td>NaN</td>\n",
              "      <td>NaN</td>\n",
              "      <td>Steep slopes to deal with for anchors</td>\n",
              "      <td>NaN</td>\n",
              "      <td>NaN</td>\n",
              "      <td>NaN</td>\n",
              "      <td>NaN</td>\n",
              "      <td>NaN</td>\n",
              "      <td>NaN</td>\n",
              "      <td>NaN</td>\n",
              "      <td>NaN</td>\n",
              "      <td>NaN</td>\n",
              "      <td>NaN</td>\n",
              "      <td>NaN</td>\n",
              "      <td>NaN</td>\n",
              "      <td>NaN</td>\n",
              "      <td>NaN</td>\n",
              "      <td>Huye</td>\n",
              "      <td>NaN</td>\n",
              "      <td>NaN</td>\n",
              "      <td>Yes</td>\n",
              "      <td>There is a planned vehicular road with a vehic...</td>\n",
              "      <td>NaN</td>\n",
              "      <td>NaN</td>\n",
              "      <td>NaN</td>\n",
              "      <td>006f100000asFErAAM</td>\n",
              "      <td>NaN</td>\n",
              "      <td>NaN</td>\n",
              "      <td>NaN</td>\n",
              "      <td>0.0</td>\n",
              "    </tr>\n",
              "    <tr>\n",
              "      <th>1</th>\n",
              "      <td>Kagarama</td>\n",
              "      <td>1007325</td>\n",
              "      <td>NaN</td>\n",
              "      <td>Western Province</td>\n",
              "      <td>Nyamasheke</td>\n",
              "      <td>-2.322534</td>\n",
              "      <td>29.141944</td>\n",
              "      <td>Suspension Bridge</td>\n",
              "      <td>48.0</td>\n",
              "      <td>4000.0</td>\n",
              "      <td>NaN</td>\n",
              "      <td>Timber Bridge</td>\n",
              "      <td>2 km</td>\n",
              "      <td>120.0</td>\n",
              "      <td>12hours</td>\n",
              "      <td>Schools, hospital, markets and government serv...</td>\n",
              "      <td>NaN</td>\n",
              "      <td>NaN</td>\n",
              "      <td>NaN</td>\n",
              "      <td>farming</td>\n",
              "      <td>banana</td>\n",
              "      <td>2.0</td>\n",
              "      <td>15.0</td>\n",
              "      <td>Fair</td>\n",
              "      <td>Seasonally</td>\n",
              "      <td>Kibogora-Kabuga</td>\n",
              "      <td>Karongi-Nyamasheke</td>\n",
              "      <td>NaN</td>\n",
              "      <td>NaN</td>\n",
              "      <td>NaN</td>\n",
              "      <td>NaN</td>\n",
              "      <td>10.0</td>\n",
              "      <td>0.7</td>\n",
              "      <td>006f100000a82QzAAI</td>\n",
              "      <td>NaN</td>\n",
              "      <td>NaN</td>\n",
              "      <td>NaN</td>\n",
              "      <td>1.0</td>\n",
              "    </tr>\n",
              "    <tr>\n",
              "      <th>2</th>\n",
              "      <td>Karambi</td>\n",
              "      <td>1007374</td>\n",
              "      <td>NaN</td>\n",
              "      <td>Southern Province</td>\n",
              "      <td>Huye</td>\n",
              "      <td>-2.513333</td>\n",
              "      <td>29.612778</td>\n",
              "      <td>Suspension Bridge</td>\n",
              "      <td>50.0</td>\n",
              "      <td>12500.0</td>\n",
              "      <td>Likely piloting steel decking on this bridge. ...</td>\n",
              "      <td>Timber Bridge</td>\n",
              "      <td>5 km</td>\n",
              "      <td>60.0</td>\n",
              "      <td>1day</td>\n",
              "      <td>Markets,farms blocked by this river both sides</td>\n",
              "      <td>Education blocked by this river both sides</td>\n",
              "      <td>Health services blocked by this river both sides</td>\n",
              "      <td>Potable water, places of worship ,places for r...</td>\n",
              "      <td>Farming and small business</td>\n",
              "      <td>banana, bean, corn</td>\n",
              "      <td>3.0</td>\n",
              "      <td>15.0</td>\n",
              "      <td>Good</td>\n",
              "      <td>Never</td>\n",
              "      <td>Nyamagabe</td>\n",
              "      <td>Huye-Nyamagabe</td>\n",
              "      <td>Standard</td>\n",
              "      <td>NaN</td>\n",
              "      <td>NaN</td>\n",
              "      <td>Suspension</td>\n",
              "      <td>45.0</td>\n",
              "      <td>1.0</td>\n",
              "      <td>006f100000a86DaAAI</td>\n",
              "      <td>NaN</td>\n",
              "      <td>NaN</td>\n",
              "      <td>NaN</td>\n",
              "      <td>1.0</td>\n",
              "    </tr>\n",
              "    <tr>\n",
              "      <th>3</th>\n",
              "      <td>Rugeti</td>\n",
              "      <td>1007466</td>\n",
              "      <td>Rwanda Needs Assessment 2018</td>\n",
              "      <td>Southern Province</td>\n",
              "      <td>Nyamagabe</td>\n",
              "      <td>-2.476407</td>\n",
              "      <td>29.420800</td>\n",
              "      <td>Suspension Bridge</td>\n",
              "      <td>68.0</td>\n",
              "      <td>4363.0</td>\n",
              "      <td>3000-6000 people directly served, Elevation:21...</td>\n",
              "      <td>Timber</td>\n",
              "      <td>None</td>\n",
              "      <td>60.0</td>\n",
              "      <td>All time in April and May and it is rarely to ...</td>\n",
              "      <td>Markets</td>\n",
              "      <td>Primary and Secondary schools</td>\n",
              "      <td>Health Center</td>\n",
              "      <td>Churches and Government offices</td>\n",
              "      <td>Farming of large tea plantation, wheat farms</td>\n",
              "      <td>bean, cow pea, sweet potato, tea, wheat</td>\n",
              "      <td>0.0</td>\n",
              "      <td>2.0</td>\n",
              "      <td>Fair</td>\n",
              "      <td>Seasonally</td>\n",
              "      <td>Huye</td>\n",
              "      <td>Nyamagabe-Rusizi</td>\n",
              "      <td>Standard</td>\n",
              "      <td>No</td>\n",
              "      <td>NaN</td>\n",
              "      <td>Suspended</td>\n",
              "      <td>47.4</td>\n",
              "      <td>1.1</td>\n",
              "      <td>006f100000a86F4AAI</td>\n",
              "      <td>NaN</td>\n",
              "      <td>NaN</td>\n",
              "      <td>NaN</td>\n",
              "      <td>1.0</td>\n",
              "    </tr>\n",
              "    <tr>\n",
              "      <th>4</th>\n",
              "      <td>Nyakabuye - Nkomane</td>\n",
              "      <td>1007495</td>\n",
              "      <td>Rwanda Needs Assessment 2018</td>\n",
              "      <td>Southern Province</td>\n",
              "      <td>Nyamagabe</td>\n",
              "      <td>-2.233022</td>\n",
              "      <td>29.575130</td>\n",
              "      <td>Suspension Bridge</td>\n",
              "      <td>78.0</td>\n",
              "      <td>2790.0</td>\n",
              "      <td>Not Duplicate 500-1000 people directly served,...</td>\n",
              "      <td>Timber Bridge</td>\n",
              "      <td>5 kilometers</td>\n",
              "      <td>35.0</td>\n",
              "      <td>April To May, September to December, 12 hours ...</td>\n",
              "      <td>Birambo market, Gasura market, kirinda market(...</td>\n",
              "      <td>Groupe scholar Gasave( 1,2)</td>\n",
              "      <td>Kirinda Hospital(villages 1,2)</td>\n",
              "      <td>None</td>\n",
              "      <td>Farming</td>\n",
              "      <td>bean, cassava, maiz, sorghum, sweet potato</td>\n",
              "      <td>4.0</td>\n",
              "      <td>4.0</td>\n",
              "      <td>Good</td>\n",
              "      <td>Never</td>\n",
              "      <td>Nyanza</td>\n",
              "      <td>Nyamagabe</td>\n",
              "      <td>Standard</td>\n",
              "      <td>No</td>\n",
              "      <td>NaN</td>\n",
              "      <td>Suspended</td>\n",
              "      <td>90.0</td>\n",
              "      <td>1.1</td>\n",
              "      <td>006f100000a86FXAAY</td>\n",
              "      <td>NaN</td>\n",
              "      <td>NaN</td>\n",
              "      <td>NaN</td>\n",
              "      <td>1.0</td>\n",
              "    </tr>\n",
              "  </tbody>\n",
              "</table>\n",
              "</div>"
            ],
            "text/plain": [
              "           Bridge Name Bridge Opportunity: Project Code  ... Project Type Good Site\n",
              "0              Bukinga                          1009317  ...          NaN       0.0\n",
              "1             Kagarama                          1007325  ...          NaN       1.0\n",
              "2              Karambi                          1007374  ...          NaN       1.0\n",
              "3               Rugeti                          1007466  ...          NaN       1.0\n",
              "4  Nyakabuye - Nkomane                          1007495  ...          NaN       1.0\n",
              "\n",
              "[5 rows x 38 columns]"
            ]
          },
          "metadata": {
            "tags": []
          },
          "execution_count": 103
        }
      ]
    },
    {
      "cell_type": "code",
      "metadata": {
        "id": "jGZgy_4RmtnR",
        "outputId": "cd0bbcc1-7247-4b98-f2dc-c75154d50e9d",
        "colab": {
          "base_uri": "https://localhost:8080/"
        }
      },
      "source": [
        "df.rename(columns={'Bridge Name': 'bridge_name',\n",
        "                   'Bridge Opportunity: Project Code': 'bridge_opportunity_project_code',\n",
        "                   'Bridge Opportunity: Needs Assessment': 'bridge_opportunity_needs_assessment',\n",
        "                   'Bridge Opportunity: Level 1 Government': 'bridge_opportunity_level1_government',\n",
        "                   'Bridge Opportunity: Level 2 Government': 'bridge_opportunity_level2_government',\n",
        "                   'Bridge Opportunity: GPS (Latitude)': 'bridge_opportunity_gps_latitude',\n",
        "                   'Bridge Opportunity: GPS (Longitude)': 'bridge_opportunity_gps_longitude',\n",
        "                   'Bridge Opportunity: Bridge Type': 'bridge_opportunity_bridge_type',\n",
        "                   'Bridge Opportunity: Span (m)': 'bridge_opportunity_span_m',\n",
        "                   'Bridge Opportunity: Individuals Directly Served': 'bridge_opportunity_individuals_directly_served',\n",
        "                   'Bridge Opportunity: Comments': 'bridge_opportunity_comments',\n",
        "                   'Current crossing method': 'current_crossing_method',\n",
        "                   'Nearest all-weather crossing point': 'nearest_all_weather_crossing_point',\n",
        "                   'Days per year river is flooded': 'days_per_year_river_is_flooded',\n",
        "                   'Flood duration during rainy season': 'flood_duration_during_rainy_season',\n",
        "                   'Market access blocked by river': 'market_access_blocked_by_river',\n",
        "                   'Education access blocked by river': 'education_access_blocked_by_river',\n",
        "                   'Health access blocked by river': 'health_access_blocked_by_river',\n",
        "                   'Other access blocked by river': 'other_access_blocked_by_river', 'Primary occupations': 'primary_occupations',\n",
        "                   'Primary crops grown': 'primary_crops_grown',\n",
        "                   'River crossing deaths in last 3 years': 'river_crossing_deaths_in_last_3_years',\n",
        "                   'River crossing injuries in last 3 years': 'river_crossing_injuries_in_last_3_years',\n",
        "                   'Cell service quality': 'incident_descriptions',\n",
        "                   '4WD Accessibility': 'four_wd _accessibility', 'Name of nearest city': 'name_of_nearest_city',\n",
        "                   'Name of nearest paved or sealed road': 'name_of_nearest_paved_or_sealed_road',\n",
        "                   'Bridge classification': 'bridge_classification', 'Flag for Rejection': 'flag_for_rejection',\n",
        "                   'Rejection Reason': 'rejection_reason', 'Bridge Type': 'bridge_type',\n",
        "                   'Estimated span (m)': 'estimated_span_m', 'Height differential between banks': 'height_differential_between_banks',\n",
        "                   'Bridge Opportunity: CaseSafeID': 'bridge_opportunity_casesafeid', 'Country': 'country',\n",
        "                   'B2P Fiscal Year': 'b2p_fiscal_year',\n",
        "                   'Project Type': 'project_type', 'Good Site': 'good_site'}, inplace=True)\n",
        "df.columns"
      ],
      "execution_count": 104,
      "outputs": [
        {
          "output_type": "execute_result",
          "data": {
            "text/plain": [
              "Index(['bridge_name', 'bridge_opportunity_project_code',\n",
              "       'bridge_opportunity_needs_assessment',\n",
              "       'bridge_opportunity_level1_government',\n",
              "       'bridge_opportunity_level2_government',\n",
              "       'bridge_opportunity_gps_latitude', 'bridge_opportunity_gps_longitude',\n",
              "       'bridge_opportunity_bridge_type', 'bridge_opportunity_span_m',\n",
              "       'bridge_opportunity_individuals_directly_served',\n",
              "       'bridge_opportunity_comments', 'current_crossing_method',\n",
              "       'nearest_all_weather_crossing_point', 'days_per_year_river_is_flooded',\n",
              "       'flood_duration_during_rainy_season', 'market_access_blocked_by_river',\n",
              "       'education_access_blocked_by_river', 'health_access_blocked_by_river',\n",
              "       'other_access_blocked_by_river', 'primary_occupations',\n",
              "       'primary_crops_grown', 'river_crossing_deaths_in_last_3_years',\n",
              "       'river_crossing_injuries_in_last_3_years', 'incident_descriptions',\n",
              "       'four_wd _accessibility', 'name_of_nearest_city',\n",
              "       'name_of_nearest_paved_or_sealed_road', 'bridge_classification',\n",
              "       'flag_for_rejection', 'rejection_reason', 'bridge_type',\n",
              "       'estimated_span_m', 'height_differential_between_banks',\n",
              "       'bridge_opportunity_casesafeid', 'country', 'b2p_fiscal_year',\n",
              "       'project_type', 'good_site'],\n",
              "      dtype='object')"
            ]
          },
          "metadata": {
            "tags": []
          },
          "execution_count": 104
        }
      ]
    },
    {
      "cell_type": "code",
      "metadata": {
        "id": "V0q2JCyImtnU"
      },
      "source": [
        "# Split the dataset:\n",
        "# Positives:\n",
        "# positive = (\n",
        "#     (df['senior_engineering_review_conducted']=='Yes') & \n",
        "#     (df['bridge_opportunity_stage'].isin(['Complete', 'Prospecting', 'Confirmed', 'Under Construction']))\n",
        "# )\n",
        "\n",
        "# # Negatives:\n",
        "# negative = (\n",
        "#     (df['senior_engineering_review_conducted']=='Yes') & \n",
        "#     (df['bridge_opportunity_stage'].isin(['Rejected', 'Cancelled']))\n",
        "# )\n",
        "\n",
        "# # Unknown:\n",
        "# unknown = df['senior_engineering_review_conducted'].isna()"
      ],
      "execution_count": 105,
      "outputs": []
    },
    {
      "cell_type": "code",
      "metadata": {
        "id": "-FwSgQMDmtnW"
      },
      "source": [
        "# Create a new column named \"Good Site.\" This is the target to predict.\n",
        "# Assign a 1 for the positive class, 0 for the negative class and -1 for unkown class.\n",
        "# df.loc[positive, 'good_site'] = 1\n",
        "# df.loc[negative, 'good_site'] = 0\n",
        "# df.loc[unknown, 'good_site'] = -1"
      ],
      "execution_count": 106,
      "outputs": []
    },
    {
      "cell_type": "code",
      "metadata": {
        "id": "KpIkmiV5mtnY",
        "outputId": "375d83d0-a8f4-4f39-d4c8-af4d5019b839",
        "colab": {
          "base_uri": "https://localhost:8080/"
        }
      },
      "source": [
        "# Because these columns were used to derive the target, \n",
        "# We can't use them as features, or it would be leakage.\n",
        "# df = df.drop(columns=['senior_engineering_review_conducted', 'bridge_opportunity_stage'])\n",
        "df['good_site'].value_counts()"
      ],
      "execution_count": 107,
      "outputs": [
        {
          "output_type": "execute_result",
          "data": {
            "text/plain": [
              "-1.0    1383\n",
              " 1.0     404\n",
              " 0.0      24\n",
              "Name: good_site, dtype: int64"
            ]
          },
          "metadata": {
            "tags": []
          },
          "execution_count": 107
        }
      ]
    },
    {
      "cell_type": "code",
      "metadata": {
        "id": "rPQYLcdTmtna",
        "outputId": "2270f042-1652-44bf-f3e9-b1fa07640b17",
        "colab": {
          "base_uri": "https://localhost:8080/",
          "height": 339
        }
      },
      "source": [
        "df.head()"
      ],
      "execution_count": 108,
      "outputs": [
        {
          "output_type": "execute_result",
          "data": {
            "text/html": [
              "<div>\n",
              "<style scoped>\n",
              "    .dataframe tbody tr th:only-of-type {\n",
              "        vertical-align: middle;\n",
              "    }\n",
              "\n",
              "    .dataframe tbody tr th {\n",
              "        vertical-align: top;\n",
              "    }\n",
              "\n",
              "    .dataframe thead th {\n",
              "        text-align: right;\n",
              "    }\n",
              "</style>\n",
              "<table border=\"1\" class=\"dataframe\">\n",
              "  <thead>\n",
              "    <tr style=\"text-align: right;\">\n",
              "      <th></th>\n",
              "      <th>bridge_name</th>\n",
              "      <th>bridge_opportunity_project_code</th>\n",
              "      <th>bridge_opportunity_needs_assessment</th>\n",
              "      <th>bridge_opportunity_level1_government</th>\n",
              "      <th>bridge_opportunity_level2_government</th>\n",
              "      <th>bridge_opportunity_gps_latitude</th>\n",
              "      <th>bridge_opportunity_gps_longitude</th>\n",
              "      <th>bridge_opportunity_bridge_type</th>\n",
              "      <th>bridge_opportunity_span_m</th>\n",
              "      <th>bridge_opportunity_individuals_directly_served</th>\n",
              "      <th>bridge_opportunity_comments</th>\n",
              "      <th>current_crossing_method</th>\n",
              "      <th>nearest_all_weather_crossing_point</th>\n",
              "      <th>days_per_year_river_is_flooded</th>\n",
              "      <th>flood_duration_during_rainy_season</th>\n",
              "      <th>market_access_blocked_by_river</th>\n",
              "      <th>education_access_blocked_by_river</th>\n",
              "      <th>health_access_blocked_by_river</th>\n",
              "      <th>other_access_blocked_by_river</th>\n",
              "      <th>primary_occupations</th>\n",
              "      <th>primary_crops_grown</th>\n",
              "      <th>river_crossing_deaths_in_last_3_years</th>\n",
              "      <th>river_crossing_injuries_in_last_3_years</th>\n",
              "      <th>incident_descriptions</th>\n",
              "      <th>four_wd _accessibility</th>\n",
              "      <th>name_of_nearest_city</th>\n",
              "      <th>name_of_nearest_paved_or_sealed_road</th>\n",
              "      <th>bridge_classification</th>\n",
              "      <th>flag_for_rejection</th>\n",
              "      <th>rejection_reason</th>\n",
              "      <th>bridge_type</th>\n",
              "      <th>estimated_span_m</th>\n",
              "      <th>height_differential_between_banks</th>\n",
              "      <th>bridge_opportunity_casesafeid</th>\n",
              "      <th>country</th>\n",
              "      <th>b2p_fiscal_year</th>\n",
              "      <th>project_type</th>\n",
              "      <th>good_site</th>\n",
              "    </tr>\n",
              "  </thead>\n",
              "  <tbody>\n",
              "    <tr>\n",
              "      <th>0</th>\n",
              "      <td>Bukinga</td>\n",
              "      <td>1009317</td>\n",
              "      <td>Rwanda Needs Assessment 2018</td>\n",
              "      <td>Southern Province</td>\n",
              "      <td>Nyaruguru</td>\n",
              "      <td>-2.760833</td>\n",
              "      <td>29.488056</td>\n",
              "      <td>Suspended Bridge</td>\n",
              "      <td>NaN</td>\n",
              "      <td>NaN</td>\n",
              "      <td>Steep slopes to deal with for anchors</td>\n",
              "      <td>NaN</td>\n",
              "      <td>NaN</td>\n",
              "      <td>NaN</td>\n",
              "      <td>NaN</td>\n",
              "      <td>NaN</td>\n",
              "      <td>NaN</td>\n",
              "      <td>NaN</td>\n",
              "      <td>NaN</td>\n",
              "      <td>NaN</td>\n",
              "      <td>NaN</td>\n",
              "      <td>NaN</td>\n",
              "      <td>NaN</td>\n",
              "      <td>NaN</td>\n",
              "      <td>NaN</td>\n",
              "      <td>Huye</td>\n",
              "      <td>NaN</td>\n",
              "      <td>NaN</td>\n",
              "      <td>Yes</td>\n",
              "      <td>There is a planned vehicular road with a vehic...</td>\n",
              "      <td>NaN</td>\n",
              "      <td>NaN</td>\n",
              "      <td>NaN</td>\n",
              "      <td>006f100000asFErAAM</td>\n",
              "      <td>NaN</td>\n",
              "      <td>NaN</td>\n",
              "      <td>NaN</td>\n",
              "      <td>0.0</td>\n",
              "    </tr>\n",
              "    <tr>\n",
              "      <th>1</th>\n",
              "      <td>Kagarama</td>\n",
              "      <td>1007325</td>\n",
              "      <td>NaN</td>\n",
              "      <td>Western Province</td>\n",
              "      <td>Nyamasheke</td>\n",
              "      <td>-2.322534</td>\n",
              "      <td>29.141944</td>\n",
              "      <td>Suspension Bridge</td>\n",
              "      <td>48.0</td>\n",
              "      <td>4000.0</td>\n",
              "      <td>NaN</td>\n",
              "      <td>Timber Bridge</td>\n",
              "      <td>2 km</td>\n",
              "      <td>120.0</td>\n",
              "      <td>12hours</td>\n",
              "      <td>Schools, hospital, markets and government serv...</td>\n",
              "      <td>NaN</td>\n",
              "      <td>NaN</td>\n",
              "      <td>NaN</td>\n",
              "      <td>farming</td>\n",
              "      <td>banana</td>\n",
              "      <td>2.0</td>\n",
              "      <td>15.0</td>\n",
              "      <td>Fair</td>\n",
              "      <td>Seasonally</td>\n",
              "      <td>Kibogora-Kabuga</td>\n",
              "      <td>Karongi-Nyamasheke</td>\n",
              "      <td>NaN</td>\n",
              "      <td>NaN</td>\n",
              "      <td>NaN</td>\n",
              "      <td>NaN</td>\n",
              "      <td>10.0</td>\n",
              "      <td>0.7</td>\n",
              "      <td>006f100000a82QzAAI</td>\n",
              "      <td>NaN</td>\n",
              "      <td>NaN</td>\n",
              "      <td>NaN</td>\n",
              "      <td>1.0</td>\n",
              "    </tr>\n",
              "    <tr>\n",
              "      <th>2</th>\n",
              "      <td>Karambi</td>\n",
              "      <td>1007374</td>\n",
              "      <td>NaN</td>\n",
              "      <td>Southern Province</td>\n",
              "      <td>Huye</td>\n",
              "      <td>-2.513333</td>\n",
              "      <td>29.612778</td>\n",
              "      <td>Suspension Bridge</td>\n",
              "      <td>50.0</td>\n",
              "      <td>12500.0</td>\n",
              "      <td>Likely piloting steel decking on this bridge. ...</td>\n",
              "      <td>Timber Bridge</td>\n",
              "      <td>5 km</td>\n",
              "      <td>60.0</td>\n",
              "      <td>1day</td>\n",
              "      <td>Markets,farms blocked by this river both sides</td>\n",
              "      <td>Education blocked by this river both sides</td>\n",
              "      <td>Health services blocked by this river both sides</td>\n",
              "      <td>Potable water, places of worship ,places for r...</td>\n",
              "      <td>Farming and small business</td>\n",
              "      <td>banana, bean, corn</td>\n",
              "      <td>3.0</td>\n",
              "      <td>15.0</td>\n",
              "      <td>Good</td>\n",
              "      <td>Never</td>\n",
              "      <td>Nyamagabe</td>\n",
              "      <td>Huye-Nyamagabe</td>\n",
              "      <td>Standard</td>\n",
              "      <td>NaN</td>\n",
              "      <td>NaN</td>\n",
              "      <td>Suspension</td>\n",
              "      <td>45.0</td>\n",
              "      <td>1.0</td>\n",
              "      <td>006f100000a86DaAAI</td>\n",
              "      <td>NaN</td>\n",
              "      <td>NaN</td>\n",
              "      <td>NaN</td>\n",
              "      <td>1.0</td>\n",
              "    </tr>\n",
              "    <tr>\n",
              "      <th>3</th>\n",
              "      <td>Rugeti</td>\n",
              "      <td>1007466</td>\n",
              "      <td>Rwanda Needs Assessment 2018</td>\n",
              "      <td>Southern Province</td>\n",
              "      <td>Nyamagabe</td>\n",
              "      <td>-2.476407</td>\n",
              "      <td>29.420800</td>\n",
              "      <td>Suspension Bridge</td>\n",
              "      <td>68.0</td>\n",
              "      <td>4363.0</td>\n",
              "      <td>3000-6000 people directly served, Elevation:21...</td>\n",
              "      <td>Timber</td>\n",
              "      <td>None</td>\n",
              "      <td>60.0</td>\n",
              "      <td>All time in April and May and it is rarely to ...</td>\n",
              "      <td>Markets</td>\n",
              "      <td>Primary and Secondary schools</td>\n",
              "      <td>Health Center</td>\n",
              "      <td>Churches and Government offices</td>\n",
              "      <td>Farming of large tea plantation, wheat farms</td>\n",
              "      <td>bean, cow pea, sweet potato, tea, wheat</td>\n",
              "      <td>0.0</td>\n",
              "      <td>2.0</td>\n",
              "      <td>Fair</td>\n",
              "      <td>Seasonally</td>\n",
              "      <td>Huye</td>\n",
              "      <td>Nyamagabe-Rusizi</td>\n",
              "      <td>Standard</td>\n",
              "      <td>No</td>\n",
              "      <td>NaN</td>\n",
              "      <td>Suspended</td>\n",
              "      <td>47.4</td>\n",
              "      <td>1.1</td>\n",
              "      <td>006f100000a86F4AAI</td>\n",
              "      <td>NaN</td>\n",
              "      <td>NaN</td>\n",
              "      <td>NaN</td>\n",
              "      <td>1.0</td>\n",
              "    </tr>\n",
              "    <tr>\n",
              "      <th>4</th>\n",
              "      <td>Nyakabuye - Nkomane</td>\n",
              "      <td>1007495</td>\n",
              "      <td>Rwanda Needs Assessment 2018</td>\n",
              "      <td>Southern Province</td>\n",
              "      <td>Nyamagabe</td>\n",
              "      <td>-2.233022</td>\n",
              "      <td>29.575130</td>\n",
              "      <td>Suspension Bridge</td>\n",
              "      <td>78.0</td>\n",
              "      <td>2790.0</td>\n",
              "      <td>Not Duplicate 500-1000 people directly served,...</td>\n",
              "      <td>Timber Bridge</td>\n",
              "      <td>5 kilometers</td>\n",
              "      <td>35.0</td>\n",
              "      <td>April To May, September to December, 12 hours ...</td>\n",
              "      <td>Birambo market, Gasura market, kirinda market(...</td>\n",
              "      <td>Groupe scholar Gasave( 1,2)</td>\n",
              "      <td>Kirinda Hospital(villages 1,2)</td>\n",
              "      <td>None</td>\n",
              "      <td>Farming</td>\n",
              "      <td>bean, cassava, maiz, sorghum, sweet potato</td>\n",
              "      <td>4.0</td>\n",
              "      <td>4.0</td>\n",
              "      <td>Good</td>\n",
              "      <td>Never</td>\n",
              "      <td>Nyanza</td>\n",
              "      <td>Nyamagabe</td>\n",
              "      <td>Standard</td>\n",
              "      <td>No</td>\n",
              "      <td>NaN</td>\n",
              "      <td>Suspended</td>\n",
              "      <td>90.0</td>\n",
              "      <td>1.1</td>\n",
              "      <td>006f100000a86FXAAY</td>\n",
              "      <td>NaN</td>\n",
              "      <td>NaN</td>\n",
              "      <td>NaN</td>\n",
              "      <td>1.0</td>\n",
              "    </tr>\n",
              "  </tbody>\n",
              "</table>\n",
              "</div>"
            ],
            "text/plain": [
              "           bridge_name bridge_opportunity_project_code  ... project_type good_site\n",
              "0              Bukinga                         1009317  ...          NaN       0.0\n",
              "1             Kagarama                         1007325  ...          NaN       1.0\n",
              "2              Karambi                         1007374  ...          NaN       1.0\n",
              "3               Rugeti                         1007466  ...          NaN       1.0\n",
              "4  Nyakabuye - Nkomane                         1007495  ...          NaN       1.0\n",
              "\n",
              "[5 rows x 38 columns]"
            ]
          },
          "metadata": {
            "tags": []
          },
          "execution_count": 108
        }
      ]
    },
    {
      "cell_type": "code",
      "metadata": {
        "id": "5uKueRf64gkJ",
        "outputId": "2eec30af-9a18-45a0-f9c6-06197b07f319",
        "colab": {
          "base_uri": "https://localhost:8080/"
        }
      },
      "source": [
        "!pip install category_encoders"
      ],
      "execution_count": 109,
      "outputs": [
        {
          "output_type": "stream",
          "text": [
            "Requirement already satisfied: category_encoders in /usr/local/lib/python3.6/dist-packages (2.2.2)\n",
            "Requirement already satisfied: patsy>=0.5.1 in /usr/local/lib/python3.6/dist-packages (from category_encoders) (0.5.1)\n",
            "Requirement already satisfied: pandas>=0.21.1 in /usr/local/lib/python3.6/dist-packages (from category_encoders) (1.1.4)\n",
            "Requirement already satisfied: scikit-learn>=0.20.0 in /usr/local/lib/python3.6/dist-packages (from category_encoders) (0.22.2.post1)\n",
            "Requirement already satisfied: numpy>=1.14.0 in /usr/local/lib/python3.6/dist-packages (from category_encoders) (1.18.5)\n",
            "Requirement already satisfied: scipy>=1.0.0 in /usr/local/lib/python3.6/dist-packages (from category_encoders) (1.4.1)\n",
            "Requirement already satisfied: statsmodels>=0.9.0 in /usr/local/lib/python3.6/dist-packages (from category_encoders) (0.10.2)\n",
            "Requirement already satisfied: six in /usr/local/lib/python3.6/dist-packages (from patsy>=0.5.1->category_encoders) (1.15.0)\n",
            "Requirement already satisfied: python-dateutil>=2.7.3 in /usr/local/lib/python3.6/dist-packages (from pandas>=0.21.1->category_encoders) (2.8.1)\n",
            "Requirement already satisfied: pytz>=2017.2 in /usr/local/lib/python3.6/dist-packages (from pandas>=0.21.1->category_encoders) (2018.9)\n",
            "Requirement already satisfied: joblib>=0.11 in /usr/local/lib/python3.6/dist-packages (from scikit-learn>=0.20.0->category_encoders) (0.17.0)\n"
          ],
          "name": "stdout"
        }
      ]
    },
    {
      "cell_type": "code",
      "metadata": {
        "id": "ZyWFhCzomtnd"
      },
      "source": [
        "# Imports:\n",
        "#from collections import Counter\n",
        "from sklearn.pipeline import make_pipeline\n",
        "from imblearn.pipeline import make_pipeline as make_pipeline_imb\n",
        "from imblearn.over_sampling import SMOTE\n",
        "from imblearn.under_sampling import NearMiss\n",
        "#from imblearn.metrics import classification_report_imbalanced\n",
        "from sklearn.ensemble import RandomForestClassifier\n",
        "import category_encoders as ce\n",
        "from sklearn.impute import SimpleImputer"
      ],
      "execution_count": 110,
      "outputs": []
    },
    {
      "cell_type": "code",
      "metadata": {
        "id": "YcrNxoeCo0Ci",
        "outputId": "a82a27ea-b57b-4b40-b7d0-3bdd04d000fd",
        "colab": {
          "base_uri": "https://localhost:8080/"
        }
      },
      "source": [
        "# Use the classifier model:\n",
        "classifier = RandomForestClassifier\n",
        "\n",
        "# Split the data to train and test sets:\n",
        "train = df[(df['good_site']== 0) | (df['good_site']== 1)]\n",
        "test = df[df['good_site']== -1]\n",
        "train.shape, test.shape"
      ],
      "execution_count": 111,
      "outputs": [
        {
          "output_type": "execute_result",
          "data": {
            "text/plain": [
              "((428, 38), (1383, 38))"
            ]
          },
          "metadata": {
            "tags": []
          },
          "execution_count": 111
        }
      ]
    },
    {
      "cell_type": "code",
      "metadata": {
        "id": "WU5YcKzApoh1",
        "outputId": "8efbb1d4-aaba-4afd-bdf4-6e81dead3ac7",
        "colab": {
          "base_uri": "https://localhost:8080/"
        }
      },
      "source": [
        "# Split the data into train, test and target:\n",
        "X_train = train.drop(columns='good_site')\n",
        "y_train = train['good_site']\n",
        "X_test = test.drop(columns='good_site')\n",
        "\n",
        "X_train.shape, y_train.shape, X_test.shape"
      ],
      "execution_count": 112,
      "outputs": [
        {
          "output_type": "execute_result",
          "data": {
            "text/plain": [
              "((428, 37), (428,), (1383, 37))"
            ]
          },
          "metadata": {
            "tags": []
          },
          "execution_count": 112
        }
      ]
    },
    {
      "cell_type": "code",
      "metadata": {
        "id": "9-N3j9oNzL0J"
      },
      "source": [
        "# Build a normal model:\n",
        "pipeline = make_pipeline(ce.OrdinalEncoder(),\n",
        "                        SimpleImputer(strategy = 'mean'),\n",
        "                        classifier(random_state=42))\n",
        "model = pipeline.fit(X_train, y_train)\n",
        "prediction = model.predict(X_test)"
      ],
      "execution_count": 113,
      "outputs": []
    },
    {
      "cell_type": "code",
      "metadata": {
        "id": "2OHk5gz21Y9a",
        "outputId": "fa3629d8-b8b4-405f-d222-a4517e758d72",
        "colab": {
          "base_uri": "https://localhost:8080/"
        }
      },
      "source": [
        "prediction = pd.DataFrame(prediction, columns=['good_site'])\n",
        "prediction.value_counts()"
      ],
      "execution_count": 114,
      "outputs": [
        {
          "output_type": "execute_result",
          "data": {
            "text/plain": [
              "good_site\n",
              "1.0          1344\n",
              "0.0            39\n",
              "dtype: int64"
            ]
          },
          "metadata": {
            "tags": []
          },
          "execution_count": 114
        }
      ]
    },
    {
      "cell_type": "code",
      "metadata": {
        "id": "80NOA8ChIDEp",
        "outputId": "52bf5148-4acf-4fce-93c9-3adab004ba2d",
        "colab": {
          "base_uri": "https://localhost:8080/"
        }
      },
      "source": [
        "# Build a model using oversampling technique SMOTE:\n",
        "smote_pipeline = make_pipeline_imb(ce.OrdinalEncoder(),\n",
        "                                   SimpleImputer(strategy = 'mean'),\n",
        "                                   SMOTE(random_state=1),\n",
        "                                   classifier(random_state=42))\n",
        "smote_model = smote_pipeline.fit(X_train, y_train)\n",
        "smote_prediction = smote_model.predict(X_test)"
      ],
      "execution_count": 115,
      "outputs": [
        {
          "output_type": "stream",
          "text": [
            "/usr/local/lib/python3.6/dist-packages/sklearn/utils/deprecation.py:87: FutureWarning: Function safe_indexing is deprecated; safe_indexing is deprecated in version 0.22 and will be removed in version 0.24.\n",
            "  warnings.warn(msg, category=FutureWarning)\n"
          ],
          "name": "stderr"
        }
      ]
    },
    {
      "cell_type": "code",
      "metadata": {
        "id": "2MKpVklIKHRX",
        "outputId": "599ea39f-a1e3-40b8-d9c1-f7e4a9881a16",
        "colab": {
          "base_uri": "https://localhost:8080/"
        }
      },
      "source": [
        "smote_prediction = pd.DataFrame(smote_prediction, columns=['good_site'])\n",
        "smote_prediction.value_counts()"
      ],
      "execution_count": 116,
      "outputs": [
        {
          "output_type": "execute_result",
          "data": {
            "text/plain": [
              "good_site\n",
              "1.0          1113\n",
              "0.0           270\n",
              "dtype: int64"
            ]
          },
          "metadata": {
            "tags": []
          },
          "execution_count": 116
        }
      ]
    },
    {
      "cell_type": "code",
      "metadata": {
        "id": "p4jNYWEgLjPl",
        "outputId": "2e482887-7455-4b02-b601-da6dd959ba9b",
        "colab": {
          "base_uri": "https://localhost:8080/"
        }
      },
      "source": [
        "# Build a model using undersampling technique:\n",
        "nm_pipeline = make_pipeline_imb(ce.OrdinalEncoder(),\n",
        "                               SimpleImputer(strategy = 'mean'),\n",
        "                               NearMiss(random_state=42),\n",
        "                               classifier(random_state=42))\n",
        "nm_model = nm_pipeline.fit(X_train, y_train)\n",
        "nm_prediction = nm_model.predict(X_test)"
      ],
      "execution_count": 117,
      "outputs": [
        {
          "output_type": "stream",
          "text": [
            "/usr/local/lib/python3.6/dist-packages/sklearn/utils/deprecation.py:87: FutureWarning: Function safe_indexing is deprecated; safe_indexing is deprecated in version 0.22 and will be removed in version 0.24.\n",
            "  warnings.warn(msg, category=FutureWarning)\n",
            "/usr/local/lib/python3.6/dist-packages/sklearn/utils/deprecation.py:87: FutureWarning: Function safe_indexing is deprecated; safe_indexing is deprecated in version 0.22 and will be removed in version 0.24.\n",
            "  warnings.warn(msg, category=FutureWarning)\n",
            "/usr/local/lib/python3.6/dist-packages/sklearn/utils/deprecation.py:87: FutureWarning: Function safe_indexing is deprecated; safe_indexing is deprecated in version 0.22 and will be removed in version 0.24.\n",
            "  warnings.warn(msg, category=FutureWarning)\n"
          ],
          "name": "stderr"
        }
      ]
    },
    {
      "cell_type": "code",
      "metadata": {
        "id": "oY18pXCuMn4l",
        "outputId": "2730a8ed-fd7c-45bd-fdd3-3f5e138d22c2",
        "colab": {
          "base_uri": "https://localhost:8080/"
        }
      },
      "source": [
        "nm_prediction = pd.DataFrame(nm_prediction, columns=['good_site'])\n",
        "nm_prediction.value_counts()"
      ],
      "execution_count": 118,
      "outputs": [
        {
          "output_type": "execute_result",
          "data": {
            "text/plain": [
              "good_site\n",
              "1.0          1258\n",
              "0.0           125\n",
              "dtype: int64"
            ]
          },
          "metadata": {
            "tags": []
          },
          "execution_count": 118
        }
      ]
    }
  ]
}