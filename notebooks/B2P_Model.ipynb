{
  "nbformat": 4,
  "nbformat_minor": 0,
  "metadata": {
    "colab": {
      "name": "B2P-Model.ipynb",
      "provenance": [],
      "collapsed_sections": []
    },
    "kernelspec": {
      "name": "python3",
      "display_name": "Python 3"
    }
  },
  "cells": [
    {
      "cell_type": "code",
      "metadata": {
        "id": "mhVdRfHOQy-6"
      },
      "source": [
        "# Imports\n",
        "import pandas as pd"
      ],
      "execution_count": 86,
      "outputs": []
    },
    {
      "cell_type": "code",
      "metadata": {
        "id": "uqKaGWgD8THb",
        "outputId": "cb85b2d0-dbb4-458b-b0a2-db0ed73b21a1",
        "colab": {
          "base_uri": "https://localhost:8080/"
        }
      },
      "source": [
        "path = 'https://raw.githubusercontent.com/Lambda-School-Labs/bridges-to-prosperity-ds-d/main/Data/Combined_dataset.csv'\n",
        "df_new = pd.read_csv(path)\n",
        "df_new['Flag for Rejection'].value_counts(dropna = False)"
      ],
      "execution_count": 87,
      "outputs": [
        {
          "output_type": "execute_result",
          "data": {
            "text/plain": [
              "No     1024\n",
              "NaN     539\n",
              "Yes     248\n",
              "Name: Flag for Rejection, dtype: int64"
            ]
          },
          "metadata": {
            "tags": []
          },
          "execution_count": 87
        }
      ]
    },
    {
      "cell_type": "code",
      "metadata": {
        "id": "BHNpZyy-8fbZ",
        "outputId": "4ba4216f-08c4-46af-9d0a-e92bc52e10e1",
        "colab": {
          "base_uri": "https://localhost:8080/"
        }
      },
      "source": [
        "# Build a model to predict whether the bridge will be flaged for rejection or not:\n",
        "\n",
        "train = df_new[(df_new['Flag for Rejection']== 'Yes') | (df_new['Flag for Rejection']=='No')]\n",
        "test = df_new[df_new['Flag for Rejection'].isnull()]\n",
        "train.shape, test.shape"
      ],
      "execution_count": 88,
      "outputs": [
        {
          "output_type": "execute_result",
          "data": {
            "text/plain": [
              "((1272, 39), (539, 39))"
            ]
          },
          "metadata": {
            "tags": []
          },
          "execution_count": 88
        }
      ]
    },
    {
      "cell_type": "code",
      "metadata": {
        "id": "dVe8RMXNfqPI",
        "outputId": "363cebd8-af41-4681-921f-33f448ffc8d2",
        "colab": {
          "base_uri": "https://localhost:8080/",
          "height": 334
        }
      },
      "source": [
        "import seaborn as sns\n",
        "\n",
        "sns.countplot(train['Flag for Rejection']);"
      ],
      "execution_count": 89,
      "outputs": [
        {
          "output_type": "stream",
          "text": [
            "/usr/local/lib/python3.6/dist-packages/seaborn/_decorators.py:43: FutureWarning: Pass the following variable as a keyword arg: x. From version 0.12, the only valid positional argument will be `data`, and passing other arguments without an explicit keyword will result in an error or misinterpretation.\n",
            "  FutureWarning\n"
          ],
          "name": "stderr"
        },
        {
          "output_type": "display_data",
          "data": {
            "image/png": "[encoded data removed]",
            "text/plain": [
              "<Figure size 432x288 with 1 Axes>"
            ]
          },
          "metadata": {
            "tags": [],
            "needs_background": "light"
          }
        }
      ]
    },
    {
      "cell_type": "code",
      "metadata": {
        "id": "MS3_iBiIRrXC",
        "outputId": "75ce0de6-0113-4ca7-f683-5abcb6bbbcb1",
        "colab": {
          "base_uri": "https://localhost:8080/"
        }
      },
      "source": [
        "# Check the bridge stage:\n",
        "train['Bridge Opportunity: Stage'].value_counts()"
      ],
      "execution_count": 90,
      "outputs": [
        {
          "output_type": "execute_result",
          "data": {
            "text/plain": [
              "Rejected              1040\n",
              "Identified             179\n",
              "Complete                28\n",
              "Prospecting             16\n",
              "Under Construction       6\n",
              "Confirmed                2\n",
              "Cancelled                1\n",
              "Name: Bridge Opportunity: Stage, dtype: int64"
            ]
          },
          "metadata": {
            "tags": []
          },
          "execution_count": 90
        }
      ]
    },
    {
      "cell_type": "code",
      "metadata": {
        "id": "vz5yfV4RTl1f",
        "outputId": "8c8813bc-7df1-43c6-b789-66533bbb3747",
        "colab": {
          "base_uri": "https://localhost:8080/"
        }
      },
      "source": [
        "# Check the bridge stage where the flag for rejection is YESS:\n",
        "train['Bridge Opportunity: Stage'][train['Flag for Rejection']=='Yes'].value_counts()"
      ],
      "execution_count": 91,
      "outputs": [
        {
          "output_type": "execute_result",
          "data": {
            "text/plain": [
              "Rejected      245\n",
              "Complete        1\n",
              "Identified      1\n",
              "Cancelled       1\n",
              "Name: Bridge Opportunity: Stage, dtype: int64"
            ]
          },
          "metadata": {
            "tags": []
          },
          "execution_count": 91
        }
      ]
    },
    {
      "cell_type": "code",
      "metadata": {
        "id": "BPhL40L-UA4H",
        "outputId": "1a74d53b-f8ed-42cb-a674-9d67f2e01dbf",
        "colab": {
          "base_uri": "https://localhost:8080/"
        }
      },
      "source": [
        "# Check the bridge stage where the flag for rejection is NOO:\n",
        "train['Bridge Opportunity: Stage'][train['Flag for Rejection']=='No'].value_counts()"
      ],
      "execution_count": 92,
      "outputs": [
        {
          "output_type": "execute_result",
          "data": {
            "text/plain": [
              "Rejected              795\n",
              "Identified            178\n",
              "Complete               27\n",
              "Prospecting            16\n",
              "Under Construction      6\n",
              "Confirmed               2\n",
              "Name: Bridge Opportunity: Stage, dtype: int64"
            ]
          },
          "metadata": {
            "tags": []
          },
          "execution_count": 92
        }
      ]
    },
    {
      "cell_type": "code",
      "metadata": {
        "id": "MjSQAIpHeqsX",
        "outputId": "12a5332b-fe35-4486-d417-f0d5915987c8",
        "colab": {
          "base_uri": "https://localhost:8080/"
        }
      },
      "source": [
        "# Check the bridge stage where the engineer reviewed:\n",
        "train['Bridge Opportunity: Stage'][train['Senior Engineering Review Conducted']=='Yes'].value_counts()"
      ],
      "execution_count": 93,
      "outputs": [
        {
          "output_type": "execute_result",
          "data": {
            "text/plain": [
              "Complete       28\n",
              "Rejected       19\n",
              "Prospecting    16\n",
              "Confirmed       2\n",
              "Cancelled       1\n",
              "Name: Bridge Opportunity: Stage, dtype: int64"
            ]
          },
          "metadata": {
            "tags": []
          },
          "execution_count": 93
        }
      ]
    },
    {
      "cell_type": "code",
      "metadata": {
        "id": "YeSwwSZGVFL1",
        "outputId": "6818976a-c8a5-4714-a7c2-286a151d77e1",
        "colab": {
          "base_uri": "https://localhost:8080/"
        }
      },
      "source": [
        "# Check the bridge stage where the flag for rejction is NOO and the Engineer reviewed:\n",
        "train['Bridge Opportunity: Stage'][(train['Flag for Rejection']=='No') & (train['Senior Engineering Review Conducted']=='Yes')].value_counts()"
      ],
      "execution_count": 94,
      "outputs": [
        {
          "output_type": "execute_result",
          "data": {
            "text/plain": [
              "Complete       27\n",
              "Rejected       17\n",
              "Prospecting    16\n",
              "Confirmed       2\n",
              "Name: Bridge Opportunity: Stage, dtype: int64"
            ]
          },
          "metadata": {
            "tags": []
          },
          "execution_count": 94
        }
      ]
    },
    {
      "cell_type": "code",
      "metadata": {
        "id": "QDFZuKWlVgdC",
        "outputId": "00293481-9a65-4099-dbeb-8d9a0c0312fb",
        "colab": {
          "base_uri": "https://localhost:8080/"
        }
      },
      "source": [
        "# Check the bridge stage where the flag for rejection is YESS and the engineer reviewed:\n",
        "train['Bridge Opportunity: Stage'][(train['Flag for Rejection']=='Yes') & (train['Senior Engineering Review Conducted']=='Yes')].value_counts()"
      ],
      "execution_count": 95,
      "outputs": [
        {
          "output_type": "execute_result",
          "data": {
            "text/plain": [
              "Rejected     2\n",
              "Cancelled    1\n",
              "Complete     1\n",
              "Name: Bridge Opportunity: Stage, dtype: int64"
            ]
          },
          "metadata": {
            "tags": []
          },
          "execution_count": 95
        }
      ]
    },
    {
      "cell_type": "code",
      "metadata": {
        "id": "WqeOJwulUISJ",
        "outputId": "b3f548c3-74e4-4041-c6e0-a27ebe83d929",
        "colab": {
          "base_uri": "https://localhost:8080/"
        }
      },
      "source": [
        "# Check the bridge stage where the flag for rejection is NOO and the engineer did not review:\n",
        "train['Bridge Opportunity: Stage'][(train['Flag for Rejection']=='No') & (train['Senior Engineering Review Conducted'].isnull())].value_counts()"
      ],
      "execution_count": 96,
      "outputs": [
        {
          "output_type": "execute_result",
          "data": {
            "text/plain": [
              "Rejected              778\n",
              "Identified            178\n",
              "Under Construction      6\n",
              "Name: Bridge Opportunity: Stage, dtype: int64"
            ]
          },
          "metadata": {
            "tags": []
          },
          "execution_count": 96
        }
      ]
    },
    {
      "cell_type": "code",
      "metadata": {
        "id": "GF6haSpXU0Ao",
        "outputId": "0aa30947-5e2a-44cb-ca2e-cdd8dfc79ae3",
        "colab": {
          "base_uri": "https://localhost:8080/"
        }
      },
      "source": [
        "# Check the bridge stage where the flag for rejection is YESS and the engineer did not review:\n",
        "train['Bridge Opportunity: Stage'][(train['Flag for Rejection']=='Yes') & (train['Senior Engineering Review Conducted'].isnull())].value_counts()"
      ],
      "execution_count": 97,
      "outputs": [
        {
          "output_type": "execute_result",
          "data": {
            "text/plain": [
              "Rejected      243\n",
              "Identified      1\n",
              "Name: Bridge Opportunity: Stage, dtype: int64"
            ]
          },
          "metadata": {
            "tags": []
          },
          "execution_count": 97
        }
      ]
    },
    {
      "cell_type": "code",
      "metadata": {
        "id": "flaCBuIxVtf4",
        "outputId": "55dc4599-a4c1-49d6-a927-9fabaa9d8b36",
        "colab": {
          "base_uri": "https://localhost:8080/"
        }
      },
      "source": [
        "# Split the dataset to train and test sets:\n",
        "X_train = train.drop('Flag for Rejection', axis=1)\n",
        "y_train = train['Flag for Rejection']\n",
        "\n",
        "X_test = test.drop('Flag for Rejection', axis=1)\n",
        "y_test = test['Flag for Rejection']\n",
        "\n",
        "X_train.shape, y_train.shape, X_test.shape, y_test.shape"
      ],
      "execution_count": 98,
      "outputs": [
        {
          "output_type": "execute_result",
          "data": {
            "text/plain": [
              "((1272, 38), (1272,), (539, 38), (539,))"
            ]
          },
          "metadata": {
            "tags": []
          },
          "execution_count": 98
        }
      ]
    },
    {
      "cell_type": "code",
      "metadata": {
        "id": "mZgl5HJDeAmS",
        "outputId": "81544c19-a831-45e5-a95a-aa8631bee3f0",
        "colab": {
          "base_uri": "https://localhost:8080/"
        }
      },
      "source": [
        "df_new.isnull().sum()"
      ],
      "execution_count": 99,
      "outputs": [
        {
          "output_type": "execute_result",
          "data": {
            "text/plain": [
              "Bridge Name                                           0\n",
              "Bridge Opportunity: Project Code                      0\n",
              "Bridge Opportunity: Needs Assessment                379\n",
              "Bridge Opportunity: Level 1 Government              102\n",
              "Bridge Opportunity: Level 2 Government              118\n",
              "Bridge Opportunity: Stage                             0\n",
              "Bridge Opportunity: GPS (Latitude)                   12\n",
              "Bridge Opportunity: GPS (Longitude)                  12\n",
              "Bridge Opportunity: Bridge Type                    1289\n",
              "Bridge Opportunity: Span (m)                       1085\n",
              "Bridge Opportunity: Individuals Directly Served      20\n",
              "Bridge Opportunity: Comments                       1417\n",
              "Current crossing method                             499\n",
              "Nearest all-weather crossing point                  523\n",
              "Days per year river is flooded                      502\n",
              "Flood duration during rainy season                  517\n",
              "Market access blocked by river                      550\n",
              "Education access blocked by river                   573\n",
              "Health access blocked by river                      574\n",
              "Other access blocked by river                       665\n",
              "Primary occupations                                 551\n",
              "Primary crops grown                                 556\n",
              "River crossing deaths in last 3 years               511\n",
              "River crossing injuries in last 3 years             506\n",
              "Cell service quality                                519\n",
              "4WD Accessibility                                   488\n",
              "Name of nearest city                                353\n",
              "Name of nearest paved or sealed road                504\n",
              "Bridge classification                               516\n",
              "Flag for Rejection                                  539\n",
              "Rejection Reason                                   1560\n",
              "Bridge Type                                         509\n",
              "Estimated span (m)                                  522\n",
              "Height differential between banks                  1304\n",
              "Bridge Opportunity: CaseSafeID                      339\n",
              "Senior Engineering Review Conducted                1722\n",
              "Country                                               0\n",
              "B2P Fiscal Year                                    1472\n",
              "Project Type                                       1472\n",
              "dtype: int64"
            ]
          },
          "metadata": {
            "tags": []
          },
          "execution_count": 99
        }
      ]
    },
    {
      "cell_type": "code",
      "metadata": {
        "id": "9DnlNmD-eSRc"
      },
      "source": [
        "# from sklearn.ensemble import RandomForestClassifier\n",
        "# from sklearn.preprocessing import LabelEncoder\n",
        "# from sklearn.preprocessing import OrdinalEncoder\n",
        "\n",
        "# # Ordinal Encoder:\n",
        "# encoder = OrdinalEncoder()\n",
        "# encoder.fit(X_train)\n",
        "\n",
        "# X_train = encoder.transform(X_train)\n",
        "# X_test = encoder.transform(X_test)\n",
        "\n",
        "# # Label Encoder:\n",
        "# label = LabelEncoder()\n",
        "# label.fit(y_train)\n",
        "# y_train = label.transform(y_train)\n",
        "\n",
        "# clf = RandomForestClassifier(n_estimators=100)\n",
        "# clf.fit(X_train, y_train)\n",
        "# y_pred = clf.predict(X_test)"
      ],
      "execution_count": 100,
      "outputs": []
    },
    {
      "cell_type": "code",
      "metadata": {
        "id": "8xRE6ZP8ehRa"
      },
      "source": [
        "# from google.colab import files\n",
        "# Combined_dataset = df_new.copy()\n",
        "# Combined_dataset.to_csv( \"Combined_dataset.csv\",index=False)\n",
        "# files.download('Combined_dataset.csv')"
      ],
      "execution_count": 101,
      "outputs": []
    }
  ]
}