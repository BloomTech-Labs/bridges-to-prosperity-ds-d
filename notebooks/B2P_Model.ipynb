{
  "nbformat": 4,
  "nbformat_minor": 0,
  "metadata": {
    "colab": {
      "name": "B2P_Model.ipynb",
      "provenance": [],
      "collapsed_sections": []
    },
    "kernelspec": {
      "display_name": "Python 3",
      "language": "python",
      "name": "python3"
    },
    "language_info": {
      "codemirror_mode": {
        "name": "ipython",
        "version": 3
      },
      "file_extension": ".py",
      "mimetype": "text/x-python",
      "name": "python",
      "nbconvert_exporter": "python",
      "pygments_lexer": "ipython3",
      "version": "3.8.3"
    }
  },
  "cells": [
    {
      "cell_type": "code",
      "metadata": {
        "id": "mhVdRfHOQy-6"
      },
      "source": [
        "# Imports\n",
        "import pandas as pd\n",
        "import seaborn as sns\n",
        "import matplotlib.pyplot as plt"
      ],
      "execution_count": 88,
      "outputs": []
    },
    {
      "cell_type": "code",
      "metadata": {
        "id": "uqKaGWgD8THb"
      },
      "source": [
        "path = 'https://raw.githubusercontent.com/medamer/B2P-data/main/Combined_dataset.csv'\n",
        "df = pd.read_csv(path)"
      ],
      "execution_count": 89,
      "outputs": []
    },
    {
      "cell_type": "code",
      "metadata": {
        "id": "izqTAErvmtnO",
        "outputId": "c80a4be6-66d9-4162-9299-eb3a6c958942",
        "colab": {
          "base_uri": "https://localhost:8080/",
          "height": 719
        }
      },
      "source": [
        "df.head()"
      ],
      "execution_count": 90,
      "outputs": [
        {
          "output_type": "execute_result",
          "data": {
            "text/html": [
              "<div>\n",
              "<style scoped>\n",
              "    .dataframe tbody tr th:only-of-type {\n",
              "        vertical-align: middle;\n",
              "    }\n",
              "\n",
              "    .dataframe tbody tr th {\n",
              "        vertical-align: top;\n",
              "    }\n",
              "\n",
              "    .dataframe thead th {\n",
              "        text-align: right;\n",
              "    }\n",
              "</style>\n",
              "<table border=\"1\" class=\"dataframe\">\n",
              "  <thead>\n",
              "    <tr style=\"text-align: right;\">\n",
              "      <th></th>\n",
              "      <th>Bridge Name</th>\n",
              "      <th>Bridge Opportunity: Project Code</th>\n",
              "      <th>Bridge Opportunity: Needs Assessment</th>\n",
              "      <th>Bridge Opportunity: Level 1 Government</th>\n",
              "      <th>Bridge Opportunity: Level 2 Government</th>\n",
              "      <th>Bridge Opportunity: GPS (Latitude)</th>\n",
              "      <th>Bridge Opportunity: GPS (Longitude)</th>\n",
              "      <th>Bridge Opportunity: Bridge Type</th>\n",
              "      <th>Bridge Opportunity: Span (m)</th>\n",
              "      <th>Bridge Opportunity: Individuals Directly Served</th>\n",
              "      <th>Bridge Opportunity: Comments</th>\n",
              "      <th>Current crossing method</th>\n",
              "      <th>Nearest all-weather crossing point</th>\n",
              "      <th>Days per year river is flooded</th>\n",
              "      <th>Flood duration during rainy season</th>\n",
              "      <th>Market access blocked by river</th>\n",
              "      <th>Education access blocked by river</th>\n",
              "      <th>Health access blocked by river</th>\n",
              "      <th>Other access blocked by river</th>\n",
              "      <th>Primary occupations</th>\n",
              "      <th>Primary crops grown</th>\n",
              "      <th>River crossing deaths in last 3 years</th>\n",
              "      <th>River crossing injuries in last 3 years</th>\n",
              "      <th>Cell service quality</th>\n",
              "      <th>4WD Accessibility</th>\n",
              "      <th>Name of nearest city</th>\n",
              "      <th>Name of nearest paved or sealed road</th>\n",
              "      <th>Bridge classification</th>\n",
              "      <th>Flag for Rejection</th>\n",
              "      <th>Rejection Reason</th>\n",
              "      <th>Bridge Type</th>\n",
              "      <th>Estimated span (m)</th>\n",
              "      <th>Height differential between banks</th>\n",
              "      <th>Bridge Opportunity: CaseSafeID</th>\n",
              "      <th>Country</th>\n",
              "      <th>B2P Fiscal Year</th>\n",
              "      <th>Project Type</th>\n",
              "      <th>Good Site</th>\n",
              "    </tr>\n",
              "  </thead>\n",
              "  <tbody>\n",
              "    <tr>\n",
              "      <th>0</th>\n",
              "      <td>Bukinga</td>\n",
              "      <td>1009317</td>\n",
              "      <td>Rwanda Needs Assessment 2018</td>\n",
              "      <td>Southern Province</td>\n",
              "      <td>Nyaruguru</td>\n",
              "      <td>-2.760833</td>\n",
              "      <td>29.488056</td>\n",
              "      <td>Suspended Bridge</td>\n",
              "      <td>NaN</td>\n",
              "      <td>NaN</td>\n",
              "      <td>Steep slopes to deal with for anchors</td>\n",
              "      <td>NaN</td>\n",
              "      <td>NaN</td>\n",
              "      <td>NaN</td>\n",
              "      <td>NaN</td>\n",
              "      <td>NaN</td>\n",
              "      <td>NaN</td>\n",
              "      <td>NaN</td>\n",
              "      <td>NaN</td>\n",
              "      <td>NaN</td>\n",
              "      <td>NaN</td>\n",
              "      <td>NaN</td>\n",
              "      <td>NaN</td>\n",
              "      <td>NaN</td>\n",
              "      <td>NaN</td>\n",
              "      <td>Huye</td>\n",
              "      <td>NaN</td>\n",
              "      <td>NaN</td>\n",
              "      <td>Yes</td>\n",
              "      <td>There is a planned vehicular road with a vehic...</td>\n",
              "      <td>NaN</td>\n",
              "      <td>NaN</td>\n",
              "      <td>NaN</td>\n",
              "      <td>006f100000asFErAAM</td>\n",
              "      <td>NaN</td>\n",
              "      <td>NaN</td>\n",
              "      <td>NaN</td>\n",
              "      <td>0.0</td>\n",
              "    </tr>\n",
              "    <tr>\n",
              "      <th>1</th>\n",
              "      <td>Kagarama</td>\n",
              "      <td>1007325</td>\n",
              "      <td>NaN</td>\n",
              "      <td>Western Province</td>\n",
              "      <td>Nyamasheke</td>\n",
              "      <td>-2.322534</td>\n",
              "      <td>29.141944</td>\n",
              "      <td>Suspension Bridge</td>\n",
              "      <td>48.0</td>\n",
              "      <td>4000.0</td>\n",
              "      <td>NaN</td>\n",
              "      <td>Timber Bridge</td>\n",
              "      <td>2 km</td>\n",
              "      <td>120.0</td>\n",
              "      <td>12hours</td>\n",
              "      <td>Schools, hospital, markets and government serv...</td>\n",
              "      <td>NaN</td>\n",
              "      <td>NaN</td>\n",
              "      <td>NaN</td>\n",
              "      <td>farming</td>\n",
              "      <td>banana</td>\n",
              "      <td>2.0</td>\n",
              "      <td>15.0</td>\n",
              "      <td>Fair</td>\n",
              "      <td>Seasonally</td>\n",
              "      <td>Kibogora-Kabuga</td>\n",
              "      <td>Karongi-Nyamasheke</td>\n",
              "      <td>NaN</td>\n",
              "      <td>NaN</td>\n",
              "      <td>NaN</td>\n",
              "      <td>NaN</td>\n",
              "      <td>10.0</td>\n",
              "      <td>0.7</td>\n",
              "      <td>006f100000a82QzAAI</td>\n",
              "      <td>NaN</td>\n",
              "      <td>NaN</td>\n",
              "      <td>NaN</td>\n",
              "      <td>1.0</td>\n",
              "    </tr>\n",
              "    <tr>\n",
              "      <th>2</th>\n",
              "      <td>Karambi</td>\n",
              "      <td>1007374</td>\n",
              "      <td>NaN</td>\n",
              "      <td>Southern Province</td>\n",
              "      <td>Huye</td>\n",
              "      <td>-2.513333</td>\n",
              "      <td>29.612778</td>\n",
              "      <td>Suspension Bridge</td>\n",
              "      <td>50.0</td>\n",
              "      <td>12500.0</td>\n",
              "      <td>Likely piloting steel decking on this bridge. ...</td>\n",
              "      <td>Timber Bridge</td>\n",
              "      <td>5 km</td>\n",
              "      <td>60.0</td>\n",
              "      <td>1day</td>\n",
              "      <td>Markets,farms blocked by this river both sides</td>\n",
              "      <td>Education blocked by this river both sides</td>\n",
              "      <td>Health services blocked by this river both sides</td>\n",
              "      <td>Potable water, places of worship ,places for r...</td>\n",
              "      <td>Farming and small business</td>\n",
              "      <td>banana, bean, corn</td>\n",
              "      <td>3.0</td>\n",
              "      <td>15.0</td>\n",
              "      <td>Good</td>\n",
              "      <td>Never</td>\n",
              "      <td>Nyamagabe</td>\n",
              "      <td>Huye-Nyamagabe</td>\n",
              "      <td>Standard</td>\n",
              "      <td>NaN</td>\n",
              "      <td>NaN</td>\n",
              "      <td>Suspension</td>\n",
              "      <td>45.0</td>\n",
              "      <td>1.0</td>\n",
              "      <td>006f100000a86DaAAI</td>\n",
              "      <td>NaN</td>\n",
              "      <td>NaN</td>\n",
              "      <td>NaN</td>\n",
              "      <td>1.0</td>\n",
              "    </tr>\n",
              "    <tr>\n",
              "      <th>3</th>\n",
              "      <td>Rugeti</td>\n",
              "      <td>1007466</td>\n",
              "      <td>Rwanda Needs Assessment 2018</td>\n",
              "      <td>Southern Province</td>\n",
              "      <td>Nyamagabe</td>\n",
              "      <td>-2.476407</td>\n",
              "      <td>29.420800</td>\n",
              "      <td>Suspension Bridge</td>\n",
              "      <td>68.0</td>\n",
              "      <td>4363.0</td>\n",
              "      <td>3000-6000 people directly served, Elevation:21...</td>\n",
              "      <td>Timber</td>\n",
              "      <td>None</td>\n",
              "      <td>60.0</td>\n",
              "      <td>All time in April and May and it is rarely to ...</td>\n",
              "      <td>Markets</td>\n",
              "      <td>Primary and Secondary schools</td>\n",
              "      <td>Health Center</td>\n",
              "      <td>Churches and Government offices</td>\n",
              "      <td>Farming of large tea plantation, wheat farms</td>\n",
              "      <td>bean, cow pea, sweet potato, tea, wheat</td>\n",
              "      <td>0.0</td>\n",
              "      <td>2.0</td>\n",
              "      <td>Fair</td>\n",
              "      <td>Seasonally</td>\n",
              "      <td>Huye</td>\n",
              "      <td>Nyamagabe-Rusizi</td>\n",
              "      <td>Standard</td>\n",
              "      <td>No</td>\n",
              "      <td>NaN</td>\n",
              "      <td>Suspended</td>\n",
              "      <td>47.4</td>\n",
              "      <td>1.1</td>\n",
              "      <td>006f100000a86F4AAI</td>\n",
              "      <td>NaN</td>\n",
              "      <td>NaN</td>\n",
              "      <td>NaN</td>\n",
              "      <td>1.0</td>\n",
              "    </tr>\n",
              "    <tr>\n",
              "      <th>4</th>\n",
              "      <td>Nyakabuye - Nkomane</td>\n",
              "      <td>1007495</td>\n",
              "      <td>Rwanda Needs Assessment 2018</td>\n",
              "      <td>Southern Province</td>\n",
              "      <td>Nyamagabe</td>\n",
              "      <td>-2.233022</td>\n",
              "      <td>29.575130</td>\n",
              "      <td>Suspension Bridge</td>\n",
              "      <td>78.0</td>\n",
              "      <td>2790.0</td>\n",
              "      <td>Not Duplicate 500-1000 people directly served,...</td>\n",
              "      <td>Timber Bridge</td>\n",
              "      <td>5 kilometers</td>\n",
              "      <td>35.0</td>\n",
              "      <td>April To May, September to December, 12 hours ...</td>\n",
              "      <td>Birambo market, Gasura market, kirinda market(...</td>\n",
              "      <td>Groupe scholar Gasave( 1,2)</td>\n",
              "      <td>Kirinda Hospital(villages 1,2)</td>\n",
              "      <td>None</td>\n",
              "      <td>Farming</td>\n",
              "      <td>bean, cassava, maiz, sorghum, sweet potato</td>\n",
              "      <td>4.0</td>\n",
              "      <td>4.0</td>\n",
              "      <td>Good</td>\n",
              "      <td>Never</td>\n",
              "      <td>Nyanza</td>\n",
              "      <td>Nyamagabe</td>\n",
              "      <td>Standard</td>\n",
              "      <td>No</td>\n",
              "      <td>NaN</td>\n",
              "      <td>Suspended</td>\n",
              "      <td>90.0</td>\n",
              "      <td>1.1</td>\n",
              "      <td>006f100000a86FXAAY</td>\n",
              "      <td>NaN</td>\n",
              "      <td>NaN</td>\n",
              "      <td>NaN</td>\n",
              "      <td>1.0</td>\n",
              "    </tr>\n",
              "  </tbody>\n",
              "</table>\n",
              "</div>"
            ],
            "text/plain": [
              "           Bridge Name Bridge Opportunity: Project Code  ... Project Type Good Site\n",
              "0              Bukinga                          1009317  ...          NaN       0.0\n",
              "1             Kagarama                          1007325  ...          NaN       1.0\n",
              "2              Karambi                          1007374  ...          NaN       1.0\n",
              "3               Rugeti                          1007466  ...          NaN       1.0\n",
              "4  Nyakabuye - Nkomane                          1007495  ...          NaN       1.0\n",
              "\n",
              "[5 rows x 38 columns]"
            ]
          },
          "metadata": {
            "tags": []
          },
          "execution_count": 90
        }
      ]
    },
    {
      "cell_type": "code",
      "metadata": {
        "id": "jGZgy_4RmtnR",
        "outputId": "d3bf34c3-498d-49af-862b-261cd44ee30d",
        "colab": {
          "base_uri": "https://localhost:8080/"
        }
      },
      "source": [
        "df.rename(columns={'Bridge Name': 'bridge_name',\n",
        "                   'Bridge Opportunity: Project Code': 'bridge_opportunity_project_code',\n",
        "                   'Bridge Opportunity: Needs Assessment': 'bridge_opportunity_needs_assessment',\n",
        "                   'Bridge Opportunity: Level 1 Government': 'bridge_opportunity_level1_government',\n",
        "                   'Bridge Opportunity: Level 2 Government': 'bridge_opportunity_level2_government',\n",
        "                   'Bridge Opportunity: GPS (Latitude)': 'bridge_opportunity_gps_latitude',\n",
        "                   'Bridge Opportunity: GPS (Longitude)': 'bridge_opportunity_gps_longitude',\n",
        "                   'Bridge Opportunity: Bridge Type': 'bridge_opportunity_bridge_type',\n",
        "                   'Bridge Opportunity: Span (m)': 'bridge_opportunity_span_m',\n",
        "                   'Bridge Opportunity: Individuals Directly Served': 'bridge_opportunity_individuals_directly_served',\n",
        "                   'Bridge Opportunity: Comments': 'bridge_opportunity_comments',\n",
        "                   'Current crossing method': 'current_crossing_method',\n",
        "                   'Nearest all-weather crossing point': 'nearest_all_weather_crossing_point',\n",
        "                   'Days per year river is flooded': 'days_per_year_river_is_flooded',\n",
        "                   'Flood duration during rainy season': 'flood_duration_during_rainy_season',\n",
        "                   'Market access blocked by river': 'market_access_blocked_by_river',\n",
        "                   'Education access blocked by river': 'education_access_blocked_by_river',\n",
        "                   'Health access blocked by river': 'health_access_blocked_by_river',\n",
        "                   'Other access blocked by river': 'other_access_blocked_by_river', 'Primary occupations': 'primary_occupations',\n",
        "                   'Primary crops grown': 'primary_crops_grown',\n",
        "                   'River crossing deaths in last 3 years': 'river_crossing_deaths_in_last_3_years',\n",
        "                   'River crossing injuries in last 3 years': 'river_crossing_injuries_in_last_3_years',\n",
        "                   'Cell service quality': 'incident_descriptions',\n",
        "                   '4WD Accessibility': 'four_wd _accessibility', 'Name of nearest city': 'name_of_nearest_city',\n",
        "                   'Name of nearest paved or sealed road': 'name_of_nearest_paved_or_sealed_road',\n",
        "                   'Bridge classification': 'bridge_classification', 'Flag for Rejection': 'flag_for_rejection',\n",
        "                   'Rejection Reason': 'rejection_reason', 'Bridge Type': 'bridge_type',\n",
        "                   'Estimated span (m)': 'estimated_span_m', 'Height differential between banks': 'height_differential_between_banks',\n",
        "                   'Bridge Opportunity: CaseSafeID': 'bridge_opportunity_casesafeid', 'Country': 'country',\n",
        "                   'B2P Fiscal Year': 'b2p_fiscal_year',\n",
        "                   'Project Type': 'project_type', 'Good Site': 'good_site'}, inplace=True)\n",
        "df.columns"
      ],
      "execution_count": 91,
      "outputs": [
        {
          "output_type": "execute_result",
          "data": {
            "text/plain": [
              "Index(['bridge_name', 'bridge_opportunity_project_code',\n",
              "       'bridge_opportunity_needs_assessment',\n",
              "       'bridge_opportunity_level1_government',\n",
              "       'bridge_opportunity_level2_government',\n",
              "       'bridge_opportunity_gps_latitude', 'bridge_opportunity_gps_longitude',\n",
              "       'bridge_opportunity_bridge_type', 'bridge_opportunity_span_m',\n",
              "       'bridge_opportunity_individuals_directly_served',\n",
              "       'bridge_opportunity_comments', 'current_crossing_method',\n",
              "       'nearest_all_weather_crossing_point', 'days_per_year_river_is_flooded',\n",
              "       'flood_duration_during_rainy_season', 'market_access_blocked_by_river',\n",
              "       'education_access_blocked_by_river', 'health_access_blocked_by_river',\n",
              "       'other_access_blocked_by_river', 'primary_occupations',\n",
              "       'primary_crops_grown', 'river_crossing_deaths_in_last_3_years',\n",
              "       'river_crossing_injuries_in_last_3_years', 'incident_descriptions',\n",
              "       'four_wd _accessibility', 'name_of_nearest_city',\n",
              "       'name_of_nearest_paved_or_sealed_road', 'bridge_classification',\n",
              "       'flag_for_rejection', 'rejection_reason', 'bridge_type',\n",
              "       'estimated_span_m', 'height_differential_between_banks',\n",
              "       'bridge_opportunity_casesafeid', 'country', 'b2p_fiscal_year',\n",
              "       'project_type', 'good_site'],\n",
              "      dtype='object')"
            ]
          },
          "metadata": {
            "tags": []
          },
          "execution_count": 91
        }
      ]
    },
    {
      "cell_type": "code",
      "metadata": {
        "id": "V0q2JCyImtnU"
      },
      "source": [
        "# Split the dataset:\n",
        "# Positives:\n",
        "# positive = (\n",
        "#     (df['senior_engineering_review_conducted']=='Yes') & \n",
        "#     (df['bridge_opportunity_stage'].isin(['Complete', 'Prospecting', 'Confirmed', 'Under Construction']))\n",
        "# )\n",
        "\n",
        "# # Negatives:\n",
        "# negative = (\n",
        "#     (df['senior_engineering_review_conducted']=='Yes') & \n",
        "#     (df['bridge_opportunity_stage'].isin(['Rejected', 'Cancelled']))\n",
        "# )\n",
        "\n",
        "# # Unknown:\n",
        "# unknown = df['senior_engineering_review_conducted'].isna()"
      ],
      "execution_count": 92,
      "outputs": []
    },
    {
      "cell_type": "code",
      "metadata": {
        "id": "-FwSgQMDmtnW"
      },
      "source": [
        "# Create a new column named \"Good Site.\" This is the target to predict.\n",
        "# Assign a 1 for the positive class, 0 for the negative class and -1 for unkown class.\n",
        "# df.loc[positive, 'good_site'] = 1\n",
        "# df.loc[negative, 'good_site'] = 0\n",
        "# df.loc[unknown, 'good_site'] = -1"
      ],
      "execution_count": 93,
      "outputs": []
    },
    {
      "cell_type": "code",
      "metadata": {
        "id": "KpIkmiV5mtnY",
        "outputId": "d9a862dd-8270-4a35-84cc-8e073318d44e",
        "colab": {
          "base_uri": "https://localhost:8080/"
        }
      },
      "source": [
        "# Because these columns were used to derive the target, \n",
        "# We can't use them as features, or it would be leakage.\n",
        "# df = df.drop(columns=['senior_engineering_review_conducted', 'bridge_opportunity_stage'])\n",
        "df['good_site'].value_counts()"
      ],
      "execution_count": 94,
      "outputs": [
        {
          "output_type": "execute_result",
          "data": {
            "text/plain": [
              "-1.0    1383\n",
              " 1.0     404\n",
              " 0.0      24\n",
              "Name: good_site, dtype: int64"
            ]
          },
          "metadata": {
            "tags": []
          },
          "execution_count": 94
        }
      ]
    },
    {
      "cell_type": "code",
      "metadata": {
        "id": "EJBQR44bVZ8y",
        "outputId": "7b71ab34-bcae-4fe8-e9c3-6fa02cb508d8",
        "colab": {
          "base_uri": "https://localhost:8080/",
          "height": 335
        }
      },
      "source": [
        "# Visualize how imbalanced data is:\n",
        "sns.countplot(df['good_site']);"
      ],
      "execution_count": 95,
      "outputs": [
        {
          "output_type": "stream",
          "text": [
            "/usr/local/lib/python3.6/dist-packages/seaborn/_decorators.py:43: FutureWarning: Pass the following variable as a keyword arg: x. From version 0.12, the only valid positional argument will be `data`, and passing other arguments without an explicit keyword will result in an error or misinterpretation.\n",
            "  FutureWarning\n"
          ],
          "name": "stderr"
        },
        {
          "output_type": "display_data",
          "data": {
            "image/png": "[encoded data removed]",
            "text/plain": [
              "<Figure size 432x288 with 1 Axes>"
            ]
          },
          "metadata": {
            "tags": [],
            "needs_background": "light"
          }
        }
      ]
    },
    {
      "cell_type": "code",
      "metadata": {
        "id": "rPQYLcdTmtna",
        "outputId": "fb4e6167-fe9a-49ad-e3c5-fda2878ad87d",
        "colab": {
          "base_uri": "https://localhost:8080/",
          "height": 339
        }
      },
      "source": [
        "df.head()"
      ],
      "execution_count": 96,
      "outputs": [
        {
          "output_type": "execute_result",
          "data": {
            "text/html": [
              "<div>\n",
              "<style scoped>\n",
              "    .dataframe tbody tr th:only-of-type {\n",
              "        vertical-align: middle;\n",
              "    }\n",
              "\n",
              "    .dataframe tbody tr th {\n",
              "        vertical-align: top;\n",
              "    }\n",
              "\n",
              "    .dataframe thead th {\n",
              "        text-align: right;\n",
              "    }\n",
              "</style>\n",
              "<table border=\"1\" class=\"dataframe\">\n",
              "  <thead>\n",
              "    <tr style=\"text-align: right;\">\n",
              "      <th></th>\n",
              "      <th>bridge_name</th>\n",
              "      <th>bridge_opportunity_project_code</th>\n",
              "      <th>bridge_opportunity_needs_assessment</th>\n",
              "      <th>bridge_opportunity_level1_government</th>\n",
              "      <th>bridge_opportunity_level2_government</th>\n",
              "      <th>bridge_opportunity_gps_latitude</th>\n",
              "      <th>bridge_opportunity_gps_longitude</th>\n",
              "      <th>bridge_opportunity_bridge_type</th>\n",
              "      <th>bridge_opportunity_span_m</th>\n",
              "      <th>bridge_opportunity_individuals_directly_served</th>\n",
              "      <th>bridge_opportunity_comments</th>\n",
              "      <th>current_crossing_method</th>\n",
              "      <th>nearest_all_weather_crossing_point</th>\n",
              "      <th>days_per_year_river_is_flooded</th>\n",
              "      <th>flood_duration_during_rainy_season</th>\n",
              "      <th>market_access_blocked_by_river</th>\n",
              "      <th>education_access_blocked_by_river</th>\n",
              "      <th>health_access_blocked_by_river</th>\n",
              "      <th>other_access_blocked_by_river</th>\n",
              "      <th>primary_occupations</th>\n",
              "      <th>primary_crops_grown</th>\n",
              "      <th>river_crossing_deaths_in_last_3_years</th>\n",
              "      <th>river_crossing_injuries_in_last_3_years</th>\n",
              "      <th>incident_descriptions</th>\n",
              "      <th>four_wd _accessibility</th>\n",
              "      <th>name_of_nearest_city</th>\n",
              "      <th>name_of_nearest_paved_or_sealed_road</th>\n",
              "      <th>bridge_classification</th>\n",
              "      <th>flag_for_rejection</th>\n",
              "      <th>rejection_reason</th>\n",
              "      <th>bridge_type</th>\n",
              "      <th>estimated_span_m</th>\n",
              "      <th>height_differential_between_banks</th>\n",
              "      <th>bridge_opportunity_casesafeid</th>\n",
              "      <th>country</th>\n",
              "      <th>b2p_fiscal_year</th>\n",
              "      <th>project_type</th>\n",
              "      <th>good_site</th>\n",
              "    </tr>\n",
              "  </thead>\n",
              "  <tbody>\n",
              "    <tr>\n",
              "      <th>0</th>\n",
              "      <td>Bukinga</td>\n",
              "      <td>1009317</td>\n",
              "      <td>Rwanda Needs Assessment 2018</td>\n",
              "      <td>Southern Province</td>\n",
              "      <td>Nyaruguru</td>\n",
              "      <td>-2.760833</td>\n",
              "      <td>29.488056</td>\n",
              "      <td>Suspended Bridge</td>\n",
              "      <td>NaN</td>\n",
              "      <td>NaN</td>\n",
              "      <td>Steep slopes to deal with for anchors</td>\n",
              "      <td>NaN</td>\n",
              "      <td>NaN</td>\n",
              "      <td>NaN</td>\n",
              "      <td>NaN</td>\n",
              "      <td>NaN</td>\n",
              "      <td>NaN</td>\n",
              "      <td>NaN</td>\n",
              "      <td>NaN</td>\n",
              "      <td>NaN</td>\n",
              "      <td>NaN</td>\n",
              "      <td>NaN</td>\n",
              "      <td>NaN</td>\n",
              "      <td>NaN</td>\n",
              "      <td>NaN</td>\n",
              "      <td>Huye</td>\n",
              "      <td>NaN</td>\n",
              "      <td>NaN</td>\n",
              "      <td>Yes</td>\n",
              "      <td>There is a planned vehicular road with a vehic...</td>\n",
              "      <td>NaN</td>\n",
              "      <td>NaN</td>\n",
              "      <td>NaN</td>\n",
              "      <td>006f100000asFErAAM</td>\n",
              "      <td>NaN</td>\n",
              "      <td>NaN</td>\n",
              "      <td>NaN</td>\n",
              "      <td>0.0</td>\n",
              "    </tr>\n",
              "    <tr>\n",
              "      <th>1</th>\n",
              "      <td>Kagarama</td>\n",
              "      <td>1007325</td>\n",
              "      <td>NaN</td>\n",
              "      <td>Western Province</td>\n",
              "      <td>Nyamasheke</td>\n",
              "      <td>-2.322534</td>\n",
              "      <td>29.141944</td>\n",
              "      <td>Suspension Bridge</td>\n",
              "      <td>48.0</td>\n",
              "      <td>4000.0</td>\n",
              "      <td>NaN</td>\n",
              "      <td>Timber Bridge</td>\n",
              "      <td>2 km</td>\n",
              "      <td>120.0</td>\n",
              "      <td>12hours</td>\n",
              "      <td>Schools, hospital, markets and government serv...</td>\n",
              "      <td>NaN</td>\n",
              "      <td>NaN</td>\n",
              "      <td>NaN</td>\n",
              "      <td>farming</td>\n",
              "      <td>banana</td>\n",
              "      <td>2.0</td>\n",
              "      <td>15.0</td>\n",
              "      <td>Fair</td>\n",
              "      <td>Seasonally</td>\n",
              "      <td>Kibogora-Kabuga</td>\n",
              "      <td>Karongi-Nyamasheke</td>\n",
              "      <td>NaN</td>\n",
              "      <td>NaN</td>\n",
              "      <td>NaN</td>\n",
              "      <td>NaN</td>\n",
              "      <td>10.0</td>\n",
              "      <td>0.7</td>\n",
              "      <td>006f100000a82QzAAI</td>\n",
              "      <td>NaN</td>\n",
              "      <td>NaN</td>\n",
              "      <td>NaN</td>\n",
              "      <td>1.0</td>\n",
              "    </tr>\n",
              "    <tr>\n",
              "      <th>2</th>\n",
              "      <td>Karambi</td>\n",
              "      <td>1007374</td>\n",
              "      <td>NaN</td>\n",
              "      <td>Southern Province</td>\n",
              "      <td>Huye</td>\n",
              "      <td>-2.513333</td>\n",
              "      <td>29.612778</td>\n",
              "      <td>Suspension Bridge</td>\n",
              "      <td>50.0</td>\n",
              "      <td>12500.0</td>\n",
              "      <td>Likely piloting steel decking on this bridge. ...</td>\n",
              "      <td>Timber Bridge</td>\n",
              "      <td>5 km</td>\n",
              "      <td>60.0</td>\n",
              "      <td>1day</td>\n",
              "      <td>Markets,farms blocked by this river both sides</td>\n",
              "      <td>Education blocked by this river both sides</td>\n",
              "      <td>Health services blocked by this river both sides</td>\n",
              "      <td>Potable water, places of worship ,places for r...</td>\n",
              "      <td>Farming and small business</td>\n",
              "      <td>banana, bean, corn</td>\n",
              "      <td>3.0</td>\n",
              "      <td>15.0</td>\n",
              "      <td>Good</td>\n",
              "      <td>Never</td>\n",
              "      <td>Nyamagabe</td>\n",
              "      <td>Huye-Nyamagabe</td>\n",
              "      <td>Standard</td>\n",
              "      <td>NaN</td>\n",
              "      <td>NaN</td>\n",
              "      <td>Suspension</td>\n",
              "      <td>45.0</td>\n",
              "      <td>1.0</td>\n",
              "      <td>006f100000a86DaAAI</td>\n",
              "      <td>NaN</td>\n",
              "      <td>NaN</td>\n",
              "      <td>NaN</td>\n",
              "      <td>1.0</td>\n",
              "    </tr>\n",
              "    <tr>\n",
              "      <th>3</th>\n",
              "      <td>Rugeti</td>\n",
              "      <td>1007466</td>\n",
              "      <td>Rwanda Needs Assessment 2018</td>\n",
              "      <td>Southern Province</td>\n",
              "      <td>Nyamagabe</td>\n",
              "      <td>-2.476407</td>\n",
              "      <td>29.420800</td>\n",
              "      <td>Suspension Bridge</td>\n",
              "      <td>68.0</td>\n",
              "      <td>4363.0</td>\n",
              "      <td>3000-6000 people directly served, Elevation:21...</td>\n",
              "      <td>Timber</td>\n",
              "      <td>None</td>\n",
              "      <td>60.0</td>\n",
              "      <td>All time in April and May and it is rarely to ...</td>\n",
              "      <td>Markets</td>\n",
              "      <td>Primary and Secondary schools</td>\n",
              "      <td>Health Center</td>\n",
              "      <td>Churches and Government offices</td>\n",
              "      <td>Farming of large tea plantation, wheat farms</td>\n",
              "      <td>bean, cow pea, sweet potato, tea, wheat</td>\n",
              "      <td>0.0</td>\n",
              "      <td>2.0</td>\n",
              "      <td>Fair</td>\n",
              "      <td>Seasonally</td>\n",
              "      <td>Huye</td>\n",
              "      <td>Nyamagabe-Rusizi</td>\n",
              "      <td>Standard</td>\n",
              "      <td>No</td>\n",
              "      <td>NaN</td>\n",
              "      <td>Suspended</td>\n",
              "      <td>47.4</td>\n",
              "      <td>1.1</td>\n",
              "      <td>006f100000a86F4AAI</td>\n",
              "      <td>NaN</td>\n",
              "      <td>NaN</td>\n",
              "      <td>NaN</td>\n",
              "      <td>1.0</td>\n",
              "    </tr>\n",
              "    <tr>\n",
              "      <th>4</th>\n",
              "      <td>Nyakabuye - Nkomane</td>\n",
              "      <td>1007495</td>\n",
              "      <td>Rwanda Needs Assessment 2018</td>\n",
              "      <td>Southern Province</td>\n",
              "      <td>Nyamagabe</td>\n",
              "      <td>-2.233022</td>\n",
              "      <td>29.575130</td>\n",
              "      <td>Suspension Bridge</td>\n",
              "      <td>78.0</td>\n",
              "      <td>2790.0</td>\n",
              "      <td>Not Duplicate 500-1000 people directly served,...</td>\n",
              "      <td>Timber Bridge</td>\n",
              "      <td>5 kilometers</td>\n",
              "      <td>35.0</td>\n",
              "      <td>April To May, September to December, 12 hours ...</td>\n",
              "      <td>Birambo market, Gasura market, kirinda market(...</td>\n",
              "      <td>Groupe scholar Gasave( 1,2)</td>\n",
              "      <td>Kirinda Hospital(villages 1,2)</td>\n",
              "      <td>None</td>\n",
              "      <td>Farming</td>\n",
              "      <td>bean, cassava, maiz, sorghum, sweet potato</td>\n",
              "      <td>4.0</td>\n",
              "      <td>4.0</td>\n",
              "      <td>Good</td>\n",
              "      <td>Never</td>\n",
              "      <td>Nyanza</td>\n",
              "      <td>Nyamagabe</td>\n",
              "      <td>Standard</td>\n",
              "      <td>No</td>\n",
              "      <td>NaN</td>\n",
              "      <td>Suspended</td>\n",
              "      <td>90.0</td>\n",
              "      <td>1.1</td>\n",
              "      <td>006f100000a86FXAAY</td>\n",
              "      <td>NaN</td>\n",
              "      <td>NaN</td>\n",
              "      <td>NaN</td>\n",
              "      <td>1.0</td>\n",
              "    </tr>\n",
              "  </tbody>\n",
              "</table>\n",
              "</div>"
            ],
            "text/plain": [
              "           bridge_name bridge_opportunity_project_code  ... project_type good_site\n",
              "0              Bukinga                         1009317  ...          NaN       0.0\n",
              "1             Kagarama                         1007325  ...          NaN       1.0\n",
              "2              Karambi                         1007374  ...          NaN       1.0\n",
              "3               Rugeti                         1007466  ...          NaN       1.0\n",
              "4  Nyakabuye - Nkomane                         1007495  ...          NaN       1.0\n",
              "\n",
              "[5 rows x 38 columns]"
            ]
          },
          "metadata": {
            "tags": []
          },
          "execution_count": 96
        }
      ]
    },
    {
      "cell_type": "code",
      "metadata": {
        "id": "5uKueRf64gkJ",
        "outputId": "ba05d0be-9ce6-4ce3-e9aa-dcba47fb4cc8",
        "colab": {
          "base_uri": "https://localhost:8080/"
        }
      },
      "source": [
        "!pip install category_encoders"
      ],
      "execution_count": 97,
      "outputs": [
        {
          "output_type": "stream",
          "text": [
            "Requirement already satisfied: category_encoders in /usr/local/lib/python3.6/dist-packages (2.2.2)\n",
            "Requirement already satisfied: scikit-learn>=0.20.0 in /usr/local/lib/python3.6/dist-packages (from category_encoders) (0.22.2.post1)\n",
            "Requirement already satisfied: pandas>=0.21.1 in /usr/local/lib/python3.6/dist-packages (from category_encoders) (1.1.4)\n",
            "Requirement already satisfied: patsy>=0.5.1 in /usr/local/lib/python3.6/dist-packages (from category_encoders) (0.5.1)\n",
            "Requirement already satisfied: numpy>=1.14.0 in /usr/local/lib/python3.6/dist-packages (from category_encoders) (1.18.5)\n",
            "Requirement already satisfied: scipy>=1.0.0 in /usr/local/lib/python3.6/dist-packages (from category_encoders) (1.4.1)\n",
            "Requirement already satisfied: statsmodels>=0.9.0 in /usr/local/lib/python3.6/dist-packages (from category_encoders) (0.10.2)\n",
            "Requirement already satisfied: joblib>=0.11 in /usr/local/lib/python3.6/dist-packages (from scikit-learn>=0.20.0->category_encoders) (0.17.0)\n",
            "Requirement already satisfied: python-dateutil>=2.7.3 in /usr/local/lib/python3.6/dist-packages (from pandas>=0.21.1->category_encoders) (2.8.1)\n",
            "Requirement already satisfied: pytz>=2017.2 in /usr/local/lib/python3.6/dist-packages (from pandas>=0.21.1->category_encoders) (2018.9)\n",
            "Requirement already satisfied: six in /usr/local/lib/python3.6/dist-packages (from patsy>=0.5.1->category_encoders) (1.15.0)\n"
          ],
          "name": "stdout"
        }
      ]
    },
    {
      "cell_type": "code",
      "metadata": {
        "id": "ZyWFhCzomtnd"
      },
      "source": [
        "# Imports:\n",
        "from collections import Counter\n",
        "from sklearn.pipeline import make_pipeline\n",
        "from imblearn.pipeline import make_pipeline as make_pipeline_imb\n",
        "from imblearn.over_sampling import SMOTE\n",
        "from imblearn.under_sampling import NearMiss\n",
        "from imblearn.metrics import classification_report_imbalanced\n",
        "from sklearn.model_selection import train_test_split\n",
        "from sklearn.ensemble import RandomForestClassifier\n",
        "import category_encoders as ce\n",
        "from sklearn.impute import SimpleImputer\n",
        "from sklearn.metrics import precision_score, recall_score, f1_score, roc_auc_score, accuracy_score, classification_report"
      ],
      "execution_count": 98,
      "outputs": []
    },
    {
      "cell_type": "code",
      "metadata": {
        "id": "yAzrYgWthHyk"
      },
      "source": [
        "# Select features:\n",
        "features = ['bridge_opportunity_gps_latitude', 'bridge_opportunity_gps_longitude',\n",
        "            'bridge_opportunity_bridge_type', 'bridge_opportunity_span_m',\n",
        "            'bridge_opportunity_individuals_directly_served','current_crossing_method',\n",
        "            'nearest_all_weather_crossing_point', 'days_per_year_river_is_flooded',\n",
        "            'flood_duration_during_rainy_season', 'market_access_blocked_by_river',\n",
        "            'education_access_blocked_by_river', 'health_access_blocked_by_river',\n",
        "            'other_access_blocked_by_river', 'primary_occupations',\n",
        "            'primary_crops_grown', 'river_crossing_deaths_in_last_3_years',\n",
        "            'river_crossing_injuries_in_last_3_years', 'incident_descriptions', 'bridge_classification',\n",
        "            'flag_for_rejection', 'rejection_reason', 'bridge_type','height_differential_between_banks']"
      ],
      "execution_count": 99,
      "outputs": []
    },
    {
      "cell_type": "code",
      "metadata": {
        "id": "YcrNxoeCo0Ci",
        "outputId": "3a1ba3a1-0d33-4f44-874b-177f709f348f",
        "colab": {
          "base_uri": "https://localhost:8080/"
        }
      },
      "source": [
        "# Use the classifier model:\n",
        "classifier = RandomForestClassifier\n",
        "\n",
        "# Split the data to train and test sets:\n",
        "data = df[(df['good_site']== 0) | (df['good_site']== 1)]\n",
        "test = df[df['good_site']== -1]\n",
        "data.shape, test.shape"
      ],
      "execution_count": 100,
      "outputs": [
        {
          "output_type": "execute_result",
          "data": {
            "text/plain": [
              "((428, 38), (1383, 38))"
            ]
          },
          "metadata": {
            "tags": []
          },
          "execution_count": 100
        }
      ]
    },
    {
      "cell_type": "code",
      "metadata": {
        "id": "WU5YcKzApoh1",
        "outputId": "f6d27cb8-43dc-4b44-a003-1b4d4f4338f7",
        "colab": {
          "base_uri": "https://localhost:8080/"
        }
      },
      "source": [
        "# Split the data into train, validation, test and target:\n",
        "# X_train = train[features]\n",
        "# y_train = train['good_site']\n",
        "train, val = train_test_split(data, test_size=0.2, random_state=42)\n",
        "X_train = train[features]\n",
        "y_train = train['good_site']\n",
        "X_val = val[features]\n",
        "y_val = val['good_site']\n",
        "\n",
        "X_test = test[features]\n",
        "\n",
        "X_train.shape, y_train.shape,X_val.shape, y_val.shape, X_test.shape"
      ],
      "execution_count": 101,
      "outputs": [
        {
          "output_type": "execute_result",
          "data": {
            "text/plain": [
              "((342, 23), (342,), (86, 23), (86,), (1383, 23))"
            ]
          },
          "metadata": {
            "tags": []
          },
          "execution_count": 101
        }
      ]
    },
    {
      "cell_type": "code",
      "metadata": {
        "id": "9-N3j9oNzL0J"
      },
      "source": [
        "# Build a normal model:\n",
        "pipeline = make_pipeline(ce.OrdinalEncoder(),\n",
        "                        SimpleImputer(strategy = 'mean'),\n",
        "                        classifier(random_state=42))\n",
        "model = pipeline.fit(X_train, y_train)\n",
        "prediction = model.predict(X_val)"
      ],
      "execution_count": 102,
      "outputs": []
    },
    {
      "cell_type": "code",
      "metadata": {
        "id": "2OHk5gz21Y9a",
        "outputId": "b82413b3-0c48-4928-f68b-f55136279786",
        "colab": {
          "base_uri": "https://localhost:8080/"
        }
      },
      "source": [
        "# Model Summary:\n",
        "prediction = pd.DataFrame(prediction, columns=['good_site'])\n",
        "prediction.value_counts()"
      ],
      "execution_count": 103,
      "outputs": [
        {
          "output_type": "execute_result",
          "data": {
            "text/plain": [
              "good_site\n",
              "1.0          78\n",
              "0.0           8\n",
              "dtype: int64"
            ]
          },
          "metadata": {
            "tags": []
          },
          "execution_count": 103
        }
      ]
    },
    {
      "cell_type": "code",
      "metadata": {
        "id": "80NOA8ChIDEp",
        "outputId": "ee6d8a47-1395-45ec-859a-e4a8c927d9b0",
        "colab": {
          "base_uri": "https://localhost:8080/"
        }
      },
      "source": [
        "# Build a model using oversampling technique SMOTE:\n",
        "smote_pipeline = make_pipeline_imb(ce.OrdinalEncoder(),\n",
        "                                   SimpleImputer(strategy = 'mean'),\n",
        "                                   SMOTE(random_state=1),\n",
        "                                   classifier(random_state=42))\n",
        "smote_model = smote_pipeline.fit(X_train, y_train)\n",
        "smote_prediction = smote_model.predict(X_val)"
      ],
      "execution_count": 104,
      "outputs": [
        {
          "output_type": "stream",
          "text": [
            "/usr/local/lib/python3.6/dist-packages/sklearn/utils/deprecation.py:87: FutureWarning: Function safe_indexing is deprecated; safe_indexing is deprecated in version 0.22 and will be removed in version 0.24.\n",
            "  warnings.warn(msg, category=FutureWarning)\n"
          ],
          "name": "stderr"
        }
      ]
    },
    {
      "cell_type": "code",
      "metadata": {
        "id": "2MKpVklIKHRX",
        "outputId": "f780c873-6c31-4859-9ffd-2bea1d8ab693",
        "colab": {
          "base_uri": "https://localhost:8080/"
        }
      },
      "source": [
        "smote_prediction = pd.DataFrame(smote_prediction, columns=['good_site'])\n",
        "smote_prediction.value_counts()"
      ],
      "execution_count": 105,
      "outputs": [
        {
          "output_type": "execute_result",
          "data": {
            "text/plain": [
              "good_site\n",
              "1.0          76\n",
              "0.0          10\n",
              "dtype: int64"
            ]
          },
          "metadata": {
            "tags": []
          },
          "execution_count": 105
        }
      ]
    },
    {
      "cell_type": "code",
      "metadata": {
        "id": "p4jNYWEgLjPl",
        "outputId": "d00e9af2-4ba9-4fab-b689-85d46c64b0b5",
        "colab": {
          "base_uri": "https://localhost:8080/"
        }
      },
      "source": [
        "# Build a model using undersampling technique:\n",
        "nm_pipeline = make_pipeline_imb(ce.OrdinalEncoder(),\n",
        "                               SimpleImputer(strategy = 'mean'),\n",
        "                               NearMiss(random_state=42),\n",
        "                               classifier(random_state=42))\n",
        "nm_model = nm_pipeline.fit(X_train, y_train)\n",
        "nm_prediction = nm_model.predict(X_val)"
      ],
      "execution_count": 106,
      "outputs": [
        {
          "output_type": "stream",
          "text": [
            "/usr/local/lib/python3.6/dist-packages/sklearn/utils/deprecation.py:87: FutureWarning: Function safe_indexing is deprecated; safe_indexing is deprecated in version 0.22 and will be removed in version 0.24.\n",
            "  warnings.warn(msg, category=FutureWarning)\n",
            "/usr/local/lib/python3.6/dist-packages/sklearn/utils/deprecation.py:87: FutureWarning: Function safe_indexing is deprecated; safe_indexing is deprecated in version 0.22 and will be removed in version 0.24.\n",
            "  warnings.warn(msg, category=FutureWarning)\n",
            "/usr/local/lib/python3.6/dist-packages/sklearn/utils/deprecation.py:87: FutureWarning: Function safe_indexing is deprecated; safe_indexing is deprecated in version 0.22 and will be removed in version 0.24.\n",
            "  warnings.warn(msg, category=FutureWarning)\n"
          ],
          "name": "stderr"
        }
      ]
    },
    {
      "cell_type": "code",
      "metadata": {
        "id": "oY18pXCuMn4l",
        "outputId": "32bd3f2a-043d-49d2-b6ea-c4b320401ce7",
        "colab": {
          "base_uri": "https://localhost:8080/"
        }
      },
      "source": [
        "nm_prediction = pd.DataFrame(nm_prediction, columns=['good_site'])\n",
        "nm_prediction.value_counts()"
      ],
      "execution_count": 107,
      "outputs": [
        {
          "output_type": "execute_result",
          "data": {
            "text/plain": [
              "good_site\n",
              "1.0          73\n",
              "0.0          13\n",
              "dtype: int64"
            ]
          },
          "metadata": {
            "tags": []
          },
          "execution_count": 107
        }
      ]
    },
    {
      "cell_type": "code",
      "metadata": {
        "id": "ETE03ZyvJarz",
        "outputId": "ad917482-f1e8-4e67-82a7-1de5f700babc",
        "colab": {
          "base_uri": "https://localhost:8080/"
        }
      },
      "source": [
        "# Models Report and Summary:\n",
        "print('============================================================')\n",
        "print(\"Normal data distribution    : \", Counter(y_train))\n",
        "print()\n",
        "encoded = ce.OrdinalEncoder().fit_transform(X_train)\n",
        "imputed = SimpleImputer(strategy = 'mean').fit_transform(encoded)\n",
        "X_smote, y_smote = SMOTE().fit_sample(imputed, y_train)\n",
        "print(\"SMOTE data distribution     : \", Counter(y_smote))\n",
        "print()\n",
        "X_nm, y_nm = NearMiss().fit_sample(imputed, y_train)\n",
        "print(\"NearMiss data distribution  : \", Counter(y_nm))\n",
        "print('============================================================')"
      ],
      "execution_count": 108,
      "outputs": [
        {
          "output_type": "stream",
          "text": [
            "============================================================\n",
            "Normal data distribution    :  Counter({1.0: 328, 0.0: 14})\n",
            "\n",
            "SMOTE data distribution     :  Counter({0.0: 328, 1.0: 328})\n",
            "\n",
            "NearMiss data distribution  :  Counter({0.0: 14, 1.0: 14})\n",
            "============================================================\n"
          ],
          "name": "stdout"
        },
        {
          "output_type": "stream",
          "text": [
            "/usr/local/lib/python3.6/dist-packages/sklearn/utils/deprecation.py:87: FutureWarning: Function safe_indexing is deprecated; safe_indexing is deprecated in version 0.22 and will be removed in version 0.24.\n",
            "  warnings.warn(msg, category=FutureWarning)\n",
            "/usr/local/lib/python3.6/dist-packages/sklearn/utils/deprecation.py:87: FutureWarning: Function safe_indexing is deprecated; safe_indexing is deprecated in version 0.22 and will be removed in version 0.24.\n",
            "  warnings.warn(msg, category=FutureWarning)\n",
            "/usr/local/lib/python3.6/dist-packages/sklearn/utils/deprecation.py:87: FutureWarning: Function safe_indexing is deprecated; safe_indexing is deprecated in version 0.22 and will be removed in version 0.24.\n",
            "  warnings.warn(msg, category=FutureWarning)\n",
            "/usr/local/lib/python3.6/dist-packages/sklearn/utils/deprecation.py:87: FutureWarning: Function safe_indexing is deprecated; safe_indexing is deprecated in version 0.22 and will be removed in version 0.24.\n",
            "  warnings.warn(msg, category=FutureWarning)\n"
          ],
          "name": "stderr"
        }
      ]
    },
    {
      "cell_type": "code",
      "metadata": {
        "id": "Sgx-kUCEPeK4",
        "outputId": "f7fd8bcb-2789-47c5-c5bd-076e267d5137",
        "colab": {
          "base_uri": "https://localhost:8080/"
        }
      },
      "source": [
        "# Classification report:\n",
        "print(\"Normal model: \\n\", classification_report(y_val, prediction))\n",
        "print('=============================================================================')\n",
        "print(\"SMOTE Model: \\n\", classification_report_imbalanced(y_val, smote_prediction))\n",
        "print('=============================================================================')\n",
        "print(\"NearMiss Model: \\n\", classification_report_imbalanced(y_val, nm_prediction))"
      ],
      "execution_count": 109,
      "outputs": [
        {
          "output_type": "stream",
          "text": [
            "Normal model: \n",
            "               precision    recall  f1-score   support\n",
            "\n",
            "         0.0       0.88      0.70      0.78        10\n",
            "         1.0       0.96      0.99      0.97        76\n",
            "\n",
            "    accuracy                           0.95        86\n",
            "   macro avg       0.92      0.84      0.88        86\n",
            "weighted avg       0.95      0.95      0.95        86\n",
            "\n",
            "=============================================================================\n",
            "SMOTE Model: \n",
            "                    pre       rec       spe        f1       geo       iba       sup\n",
            "\n",
            "        0.0       0.90      0.90      0.99      0.90      0.94      0.88        10\n",
            "        1.0       0.99      0.99      0.90      0.99      0.94      0.90        76\n",
            "\n",
            "avg / total       0.98      0.98      0.91      0.98      0.94      0.89        86\n",
            "\n",
            "=============================================================================\n",
            "NearMiss Model: \n",
            "                    pre       rec       spe        f1       geo       iba       sup\n",
            "\n",
            "        0.0       0.69      0.90      0.95      0.78      0.92      0.85        10\n",
            "        1.0       0.99      0.95      0.90      0.97      0.92      0.86        76\n",
            "\n",
            "avg / total       0.95      0.94      0.91      0.95      0.92      0.86        86\n",
            "\n"
          ],
          "name": "stdout"
        }
      ]
    },
    {
      "cell_type": "code",
      "metadata": {
        "id": "vZBEN3RAoYUe",
        "outputId": "5b05e209-3bcb-4f92-e65d-2d3386ea7a04",
        "colab": {
          "base_uri": "https://localhost:8080/"
        }
      },
      "source": [
        "# Model score:\n",
        "print('Normal Pipeline Score: ', pipeline.score(X_val, y_val))\n",
        "print('SMOTE Pipeline Score: ', smote_pipeline.score(X_val, y_val))\n",
        "print('NearMiss Pipeline Score: ', nm_pipeline.score(X_val, y_val))"
      ],
      "execution_count": 110,
      "outputs": [
        {
          "output_type": "stream",
          "text": [
            "Normal Pipeline Score:  0.9534883720930233\n",
            "SMOTE Pipeline Score:  0.9767441860465116\n",
            "NearMiss Pipeline Score:  0.9418604651162791\n"
          ],
          "name": "stdout"
        }
      ]
    },
    {
      "cell_type": "code",
      "metadata": {
        "id": "6FyiUIgKdj6l",
        "outputId": "ca90a065-d704-4ad6-ea72-aec9f0aac13b",
        "colab": {
          "base_uri": "https://localhost:8080/",
          "height": 681
        }
      },
      "source": [
        "# Show before and after applying SMOTE:\n",
        "from imblearn.under_sampling import RandomUnderSampler\n",
        "from imblearn.over_sampling import RandomOverSampler\n",
        "\n",
        "X = imputed\n",
        "y = y_train\n",
        "\n",
        "f, axes = plt.subplots(1, 2, figsize=(12,10))\n",
        "sns.scatterplot(X[:,0],X[:,1],hue=y, ax=axes[0]);\n",
        "sns.scatterplot(X_smote[:,0],X_smote[:,1],hue=y_smote, ax=axes[1]);\n",
        "# sns.scatterplot(X_under[:,0],X_under[:,1],hue=y_over, ax=axes[1]);"
      ],
      "execution_count": 111,
      "outputs": [
        {
          "output_type": "stream",
          "text": [
            "/usr/local/lib/python3.6/dist-packages/seaborn/_decorators.py:43: FutureWarning: Pass the following variables as keyword args: x, y. From version 0.12, the only valid positional argument will be `data`, and passing other arguments without an explicit keyword will result in an error or misinterpretation.\n",
            "  FutureWarning\n",
            "/usr/local/lib/python3.6/dist-packages/seaborn/_decorators.py:43: FutureWarning: Pass the following variables as keyword args: x, y. From version 0.12, the only valid positional argument will be `data`, and passing other arguments without an explicit keyword will result in an error or misinterpretation.\n",
            "  FutureWarning\n"
          ],
          "name": "stderr"
        },
        {
          "output_type": "display_data",
          "data": {
            "image/png": "[encoded data removed]",
            "text/plain": [
              "<Figure size 864x720 with 2 Axes>"
            ]
          },
          "metadata": {
            "tags": [],
            "needs_background": "light"
          }
        }
      ]
    },
    {
      "cell_type": "code",
      "metadata": {
        "id": "kl-7nThjk80W",
        "outputId": "c81b48b6-850d-4b6e-dd54-2ba339bbf150",
        "colab": {
          "base_uri": "https://localhost:8080/",
          "height": 681
        }
      },
      "source": [
        "# Show before and after applying NearMiss:\n",
        "f, axes = plt.subplots(1, 2, figsize=(12,10))\n",
        "sns.scatterplot(X[:,0],X[:,1],hue=y, ax=axes[0]);\n",
        "sns.scatterplot(X_nm[:,0],X_nm[:,1],hue=y_nm, ax=axes[1]);"
      ],
      "execution_count": 116,
      "outputs": [
        {
          "output_type": "stream",
          "text": [
            "/usr/local/lib/python3.6/dist-packages/seaborn/_decorators.py:43: FutureWarning: Pass the following variables as keyword args: x, y. From version 0.12, the only valid positional argument will be `data`, and passing other arguments without an explicit keyword will result in an error or misinterpretation.\n",
            "  FutureWarning\n",
            "/usr/local/lib/python3.6/dist-packages/seaborn/_decorators.py:43: FutureWarning: Pass the following variables as keyword args: x, y. From version 0.12, the only valid positional argument will be `data`, and passing other arguments without an explicit keyword will result in an error or misinterpretation.\n",
            "  FutureWarning\n"
          ],
          "name": "stderr"
        },
        {
          "output_type": "display_data",
          "data": {
            "image/png": "[encoded data removed]",
            "text/plain": [
              "<Figure size 864x720 with 2 Axes>"
            ]
          },
          "metadata": {
            "tags": [],
            "needs_background": "light"
          }
        }
      ]
    },
    {
      "cell_type": "code",
      "metadata": {
        "id": "Vg3vradB9dta"
      },
      "source": [
        "# Before applying the model to the test, I will train all available data:\n",
        "model = pipeline.fit(data[features], data['good_site'])\n",
        "smote_model = smote_pipeline.fit(data[features], data['good_site'])\n",
        "nm_model = nm_pipeline.fit(data[features], data['good_site'])"
      ],
      "execution_count": null,
      "outputs": []
    },
    {
      "cell_type": "code",
      "metadata": {
        "id": "uQX1t8NTrfsF"
      },
      "source": [
        "# Apply the models to the test set:\n",
        "test_prediction = model.predict(X_test)\n",
        "test_smote_prediction = smote_model.predict(X_test)\n",
        "test_nm_prediction = nm_model.predict(X_test)"
      ],
      "execution_count": 114,
      "outputs": []
    },
    {
      "cell_type": "code",
      "metadata": {
        "id": "U-AOjqIrsHd0",
        "outputId": "a5bb5c57-6435-4f31-b5d6-7e84c73fc76e",
        "colab": {
          "base_uri": "https://localhost:8080/"
        }
      },
      "source": [
        "# Models predictions:\n",
        "test_prediction = pd.DataFrame(test_prediction, columns=['good_site'])\n",
        "test_smote_prediction = pd.DataFrame(test_smote_prediction, columns=['good_site'])\n",
        "test_nm_prediction = pd.DataFrame(test_nm_prediction, columns=['good_site'])\n",
        "\n",
        "print(\"Normal Model:\\n\",test_prediction.value_counts())\n",
        "print()\n",
        "print(\"SMOTE Model:\\n\",test_smote_prediction.value_counts())\n",
        "print()\n",
        "print(\"NearMiss Model:\\n\",test_nm_prediction.value_counts())"
      ],
      "execution_count": 115,
      "outputs": [
        {
          "output_type": "stream",
          "text": [
            "Normal Model:\n",
            " good_site\n",
            "0.0          1225\n",
            "1.0           158\n",
            "dtype: int64\n",
            "\n",
            "SMOTE Model:\n",
            " good_site\n",
            "0.0          1248\n",
            "1.0           135\n",
            "dtype: int64\n",
            "\n",
            "NearMiss Model:\n",
            " good_site\n",
            "0.0          1361\n",
            "1.0            22\n",
            "dtype: int64\n"
          ],
          "name": "stdout"
        }
      ]
    }
  ]
}