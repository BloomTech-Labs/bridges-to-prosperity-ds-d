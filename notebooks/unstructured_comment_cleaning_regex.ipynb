{
  "nbformat": 4,
  "nbformat_minor": 0,
  "metadata": {
    "colab": {
      "name": "unstructured_comment_cleaning_regex",
      "provenance": [],
      "authorship_tag": "ABX9TyOJUBXb9XQFdMWZlXS9nrOn",
      "include_colab_link": true
    },
    "kernelspec": {
      "name": "python3",
      "display_name": "Python 3"
    }
  },
  "cells": [
    {
      "cell_type": "markdown",
      "metadata": {
        "id": "view-in-github",
        "colab_type": "text"
      },
      "source": [
        "<a href=\"https://colab.research.google.com/github/Lambda-School-Labs/bridges-to-prosperity-ds-d/blob/add_new_cleaning_notebook/notebooks/unstructured_comment_cleaning_regex.ipynb\" target=\"_parent\"><img src=\"https://colab.research.google.com/assets/colab-badge.svg\" alt=\"Open In Colab\"/></a>"
      ]
    },
    {
      "cell_type": "markdown",
      "metadata": {
        "id": "IiWDqIkUfbKL"
      },
      "source": [
        "# Cleaning of Semi-Structured Comments "
      ]
    },
    {
      "cell_type": "markdown",
      "metadata": {
        "id": "CGB8sHqifhdF"
      },
      "source": [
        "#### Basic Imports + Data loading"
      ]
    },
    {
      "cell_type": "code",
      "metadata": {
        "id": "z2KBobHtKye0",
        "outputId": "a37e5a42-3ceb-47f6-e2e5-c6af133a6e14",
        "colab": {
          "base_uri": "https://localhost:8080/"
        }
      },
      "source": [
        "# importing the dataset given to us from Stakholder LABS28 - saved to github repo\n",
        "import pandas as pd\n",
        "\n",
        "xl_file = pd.ExcelFile('https://github.com/Lambda-School-Labs/bridges-to-prosperity-ds-d/blob/main/Data/B2P%20Dataset_2020.10.xlsx?raw=true')\n",
        "dfs = {sheet_name: xl_file.parse(sheet_name) for sheet_name in xl_file.sheet_names}\n",
        "print(dfs.keys())\n",
        "df = dfs['Data']"
      ],
      "execution_count": 167,
      "outputs": [
        {
          "output_type": "stream",
          "text": [
            "dict_keys(['Data', 'Data Dictionary', 'Contextual Summary'])\n"
          ],
          "name": "stdout"
        }
      ]
    },
    {
      "cell_type": "code",
      "metadata": {
        "id": "zwPhP5ULLQLe"
      },
      "source": [
        "# imports \n",
        "import re\n",
        "import numpy as np"
      ],
      "execution_count": 168,
      "outputs": []
    },
    {
      "cell_type": "code",
      "metadata": {
        "id": "vgc_Ktq0AOVf",
        "outputId": "8e1f865c-3dfe-465f-921a-9987df95ac46",
        "colab": {
          "base_uri": "https://localhost:8080/"
        }
      },
      "source": [
        "# create DF that still persists bridge code as well as comments section of every\n",
        "# cell\n",
        "comments_df = df[['Bridge Opportunity: Project Code', 'Bridge Opportunity: Comments']]\n",
        "comments_df1 = comments_df.copy()\n",
        "comments_df1.shape"
      ],
      "execution_count": 169,
      "outputs": [
        {
          "output_type": "execute_result",
          "data": {
            "text/plain": [
              "(1472, 2)"
            ]
          },
          "metadata": {
            "tags": []
          },
          "execution_count": 169
        }
      ]
    },
    {
      "cell_type": "code",
      "metadata": {
        "id": "we1QodkHAwpi"
      },
      "source": [
        "# alter text to be normalized across all alterations\n",
        "comments_df1['Bridge Opportunity: Comments'] = comments_df1['Bridge Opportunity: Comments'].str.lower()"
      ],
      "execution_count": 170,
      "outputs": []
    },
    {
      "cell_type": "code",
      "metadata": {
        "id": "uBruyjVPCkZ3",
        "outputId": "e3dbf96a-1a5a-4379-e42e-5f1dc71175c0",
        "colab": {
          "base_uri": "https://localhost:8080/",
          "height": 197
        }
      },
      "source": [
        "comments_df1.head()"
      ],
      "execution_count": 171,
      "outputs": [
        {
          "output_type": "execute_result",
          "data": {
            "text/html": [
              "<div>\n",
              "<style scoped>\n",
              "    .dataframe tbody tr th:only-of-type {\n",
              "        vertical-align: middle;\n",
              "    }\n",
              "\n",
              "    .dataframe tbody tr th {\n",
              "        vertical-align: top;\n",
              "    }\n",
              "\n",
              "    .dataframe thead th {\n",
              "        text-align: right;\n",
              "    }\n",
              "</style>\n",
              "<table border=\"1\" class=\"dataframe\">\n",
              "  <thead>\n",
              "    <tr style=\"text-align: right;\">\n",
              "      <th></th>\n",
              "      <th>Bridge Opportunity: Project Code</th>\n",
              "      <th>Bridge Opportunity: Comments</th>\n",
              "    </tr>\n",
              "  </thead>\n",
              "  <tbody>\n",
              "    <tr>\n",
              "      <th>0</th>\n",
              "      <td>1009317</td>\n",
              "      <td>steep slopes to deal with for anchors</td>\n",
              "    </tr>\n",
              "    <tr>\n",
              "      <th>1</th>\n",
              "      <td>1007325</td>\n",
              "      <td>NaN</td>\n",
              "    </tr>\n",
              "    <tr>\n",
              "      <th>2</th>\n",
              "      <td>1007374</td>\n",
              "      <td>likely piloting steel decking on this bridge. ...</td>\n",
              "    </tr>\n",
              "    <tr>\n",
              "      <th>3</th>\n",
              "      <td>1007466</td>\n",
              "      <td>3000-6000 people directly served, elevation:21...</td>\n",
              "    </tr>\n",
              "    <tr>\n",
              "      <th>4</th>\n",
              "      <td>1007495</td>\n",
              "      <td>not duplicate 500-1000 people directly served,...</td>\n",
              "    </tr>\n",
              "  </tbody>\n",
              "</table>\n",
              "</div>"
            ],
            "text/plain": [
              "  Bridge Opportunity: Project Code                       Bridge Opportunity: Comments\n",
              "0                          1009317              steep slopes to deal with for anchors\n",
              "1                          1007325                                                NaN\n",
              "2                          1007374  likely piloting steel decking on this bridge. ...\n",
              "3                          1007466  3000-6000 people directly served, elevation:21...\n",
              "4                          1007495  not duplicate 500-1000 people directly served,..."
            ]
          },
          "metadata": {
            "tags": []
          },
          "execution_count": 171
        }
      ]
    },
    {
      "cell_type": "markdown",
      "metadata": {
        "id": "_k0n6SyyaxVg"
      },
      "source": [
        "# Utilizing Regex to search each comment body\n",
        "- In the following cells I am searching each comment body using regex to find information that matches the regular expression, then appending it to a list. I perform this action on a test_df that has 15 cells from which I make sure that the expression is correctly utilized. Once I have tested that, then I apply the function to the dataframe and create a new column with the information extracted. "
      ]
    },
    {
      "cell_type": "markdown",
      "metadata": {
        "id": "9441z6UBLSN7"
      },
      "source": [
        "### Elevation \n"
      ]
    },
    {
      "cell_type": "markdown",
      "metadata": {
        "id": "7ULetNpSLV5v"
      },
      "source": [
        "#### Test Function - Elevation \n"
      ]
    },
    {
      "cell_type": "code",
      "metadata": {
        "id": "54v1a9nbLUuk"
      },
      "source": [
        "test_df = comments_df1.head(15)"
      ],
      "execution_count": 172,
      "outputs": []
    },
    {
      "cell_type": "code",
      "metadata": {
        "id": "RuCU3XWjLiBB"
      },
      "source": [
        "def elevationcreation(df):\n",
        "  \"\"\" This function Iterates through every row in the inputed Dataframe. \n",
        "  It will save over the variable s with the contents of the row for \"Bridge Opportunity: Comments\". \n",
        "  It then uses RegEx to identify cases of elevation in the text data. If a match is found it is apppended to \n",
        "  an empty list. if there is no match \"none\" is appended to the list. Upon reaching the end of the Dataframe \n",
        "  the list is returned and used to create a new column.\"\"\" \n",
        "  elev_col = []\n",
        "  for i, row in df.iterrows():\n",
        "    s = str(row[\"Bridge Opportunity: Comments\"])\n",
        "    p = re.search('elevation:?(\\d+\\d+\\d+)',s)\n",
        "    if p:\n",
        "      elev_col.append(int(p.group()[10:]))\n",
        "    else:\n",
        "      elev_col.append(p)\n",
        "  return elev_col"
      ],
      "execution_count": 173,
      "outputs": []
    },
    {
      "cell_type": "code",
      "metadata": {
        "id": "vR46wVlmLjEy",
        "outputId": "94dcddf5-c086-4dde-8a92-181bd83ba56d",
        "colab": {
          "base_uri": "https://localhost:8080/"
        }
      },
      "source": [
        "# looking at the list created with the above function \n",
        "listus = elevationcreation(test_df)\n",
        "print(listus)"
      ],
      "execution_count": 174,
      "outputs": [
        {
          "output_type": "stream",
          "text": [
            "[None, None, 1630, 2101, 1522, 1523, 1557, 1363, 2153, 1951, 1591, 1773, 1676, 1506, 1961]\n"
          ],
          "name": "stdout"
        }
      ]
    },
    {
      "cell_type": "code",
      "metadata": {
        "id": "gFeosOeRLoIs",
        "outputId": "35f66fe9-4f05-4f59-b50a-30aa65184976",
        "colab": {
          "base_uri": "https://localhost:8080/"
        }
      },
      "source": [
        "# Creating a new column using the above information \n",
        "test_df['2013 Bridge Elevation (Meters)'] = elevationcreation(test_df)"
      ],
      "execution_count": 175,
      "outputs": [
        {
          "output_type": "stream",
          "text": [
            "/usr/local/lib/python3.6/dist-packages/ipykernel_launcher.py:2: SettingWithCopyWarning: \n",
            "A value is trying to be set on a copy of a slice from a DataFrame.\n",
            "Try using .loc[row_indexer,col_indexer] = value instead\n",
            "\n",
            "See the caveats in the documentation: https://pandas.pydata.org/pandas-docs/stable/user_guide/indexing.html#returning-a-view-versus-a-copy\n",
            "  \n"
          ],
          "name": "stderr"
        }
      ]
    },
    {
      "cell_type": "code",
      "metadata": {
        "id": "p2_BJRISMDZx",
        "outputId": "55fc77b0-ccb1-4aa5-a625-7fcb122f3aff",
        "colab": {
          "base_uri": "https://localhost:8080/",
          "height": 197
        }
      },
      "source": [
        "# Checking to see the new column addition\n",
        "test_df.head()"
      ],
      "execution_count": 176,
      "outputs": [
        {
          "output_type": "execute_result",
          "data": {
            "text/html": [
              "<div>\n",
              "<style scoped>\n",
              "    .dataframe tbody tr th:only-of-type {\n",
              "        vertical-align: middle;\n",
              "    }\n",
              "\n",
              "    .dataframe tbody tr th {\n",
              "        vertical-align: top;\n",
              "    }\n",
              "\n",
              "    .dataframe thead th {\n",
              "        text-align: right;\n",
              "    }\n",
              "</style>\n",
              "<table border=\"1\" class=\"dataframe\">\n",
              "  <thead>\n",
              "    <tr style=\"text-align: right;\">\n",
              "      <th></th>\n",
              "      <th>Bridge Opportunity: Project Code</th>\n",
              "      <th>Bridge Opportunity: Comments</th>\n",
              "      <th>2013 Bridge Elevation (Meters)</th>\n",
              "    </tr>\n",
              "  </thead>\n",
              "  <tbody>\n",
              "    <tr>\n",
              "      <th>0</th>\n",
              "      <td>1009317</td>\n",
              "      <td>steep slopes to deal with for anchors</td>\n",
              "      <td>NaN</td>\n",
              "    </tr>\n",
              "    <tr>\n",
              "      <th>1</th>\n",
              "      <td>1007325</td>\n",
              "      <td>NaN</td>\n",
              "      <td>NaN</td>\n",
              "    </tr>\n",
              "    <tr>\n",
              "      <th>2</th>\n",
              "      <td>1007374</td>\n",
              "      <td>likely piloting steel decking on this bridge. ...</td>\n",
              "      <td>1630.0</td>\n",
              "    </tr>\n",
              "    <tr>\n",
              "      <th>3</th>\n",
              "      <td>1007466</td>\n",
              "      <td>3000-6000 people directly served, elevation:21...</td>\n",
              "      <td>2101.0</td>\n",
              "    </tr>\n",
              "    <tr>\n",
              "      <th>4</th>\n",
              "      <td>1007495</td>\n",
              "      <td>not duplicate 500-1000 people directly served,...</td>\n",
              "      <td>1522.0</td>\n",
              "    </tr>\n",
              "  </tbody>\n",
              "</table>\n",
              "</div>"
            ],
            "text/plain": [
              "  Bridge Opportunity: Project Code  ... 2013 Bridge Elevation (Meters)\n",
              "0                          1009317  ...                            NaN\n",
              "1                          1007325  ...                            NaN\n",
              "2                          1007374  ...                         1630.0\n",
              "3                          1007466  ...                         2101.0\n",
              "4                          1007495  ...                         1522.0\n",
              "\n",
              "[5 rows x 3 columns]"
            ]
          },
          "metadata": {
            "tags": []
          },
          "execution_count": 176
        }
      ]
    },
    {
      "cell_type": "markdown",
      "metadata": {
        "id": "_mYgICG9sWZW"
      },
      "source": [
        "#### Apply function to entire Dataframe\n",
        "\n"
      ]
    },
    {
      "cell_type": "code",
      "metadata": {
        "id": "nXit56sgC9mG"
      },
      "source": [
        "comments_df1['2013_bridge_elevation_meters'] = elevationcreation(comments_df1)"
      ],
      "execution_count": 177,
      "outputs": []
    },
    {
      "cell_type": "code",
      "metadata": {
        "id": "8XPTm6iADDab",
        "outputId": "d50a0501-067e-461e-e6f3-a988cc9b7950",
        "colab": {
          "base_uri": "https://localhost:8080/",
          "height": 197
        }
      },
      "source": [
        "comments_df1.head()"
      ],
      "execution_count": 178,
      "outputs": [
        {
          "output_type": "execute_result",
          "data": {
            "text/html": [
              "<div>\n",
              "<style scoped>\n",
              "    .dataframe tbody tr th:only-of-type {\n",
              "        vertical-align: middle;\n",
              "    }\n",
              "\n",
              "    .dataframe tbody tr th {\n",
              "        vertical-align: top;\n",
              "    }\n",
              "\n",
              "    .dataframe thead th {\n",
              "        text-align: right;\n",
              "    }\n",
              "</style>\n",
              "<table border=\"1\" class=\"dataframe\">\n",
              "  <thead>\n",
              "    <tr style=\"text-align: right;\">\n",
              "      <th></th>\n",
              "      <th>Bridge Opportunity: Project Code</th>\n",
              "      <th>Bridge Opportunity: Comments</th>\n",
              "      <th>2013_bridge_elevation_meters</th>\n",
              "    </tr>\n",
              "  </thead>\n",
              "  <tbody>\n",
              "    <tr>\n",
              "      <th>0</th>\n",
              "      <td>1009317</td>\n",
              "      <td>steep slopes to deal with for anchors</td>\n",
              "      <td>NaN</td>\n",
              "    </tr>\n",
              "    <tr>\n",
              "      <th>1</th>\n",
              "      <td>1007325</td>\n",
              "      <td>NaN</td>\n",
              "      <td>NaN</td>\n",
              "    </tr>\n",
              "    <tr>\n",
              "      <th>2</th>\n",
              "      <td>1007374</td>\n",
              "      <td>likely piloting steel decking on this bridge. ...</td>\n",
              "      <td>1630.0</td>\n",
              "    </tr>\n",
              "    <tr>\n",
              "      <th>3</th>\n",
              "      <td>1007466</td>\n",
              "      <td>3000-6000 people directly served, elevation:21...</td>\n",
              "      <td>2101.0</td>\n",
              "    </tr>\n",
              "    <tr>\n",
              "      <th>4</th>\n",
              "      <td>1007495</td>\n",
              "      <td>not duplicate 500-1000 people directly served,...</td>\n",
              "      <td>1522.0</td>\n",
              "    </tr>\n",
              "  </tbody>\n",
              "</table>\n",
              "</div>"
            ],
            "text/plain": [
              "  Bridge Opportunity: Project Code  ... 2013_bridge_elevation_meters\n",
              "0                          1009317  ...                          NaN\n",
              "1                          1007325  ...                          NaN\n",
              "2                          1007374  ...                       1630.0\n",
              "3                          1007466  ...                       2101.0\n",
              "4                          1007495  ...                       1522.0\n",
              "\n",
              "[5 rows x 3 columns]"
            ]
          },
          "metadata": {
            "tags": []
          },
          "execution_count": 178
        }
      ]
    },
    {
      "cell_type": "markdown",
      "metadata": {
        "id": "VW1Cz72Vsckq"
      },
      "source": [
        "### Cell"
      ]
    },
    {
      "cell_type": "markdown",
      "metadata": {
        "id": "IkJjjKYrwdnC"
      },
      "source": [
        "#### Apply to test df"
      ]
    },
    {
      "cell_type": "code",
      "metadata": {
        "id": "eYXiPfK5spoU"
      },
      "source": [
        "def cell_location(df):\n",
        "  \"\"\" This function Iterates through every row in the inputed Dataframe. \n",
        "  It will save over the variable s with the contents of the row for \"Bridge Opportunity: Comments\". \n",
        "  It then uses RegEx to identify cases of elevation in the text data. If a match is found it is apppended to \n",
        "  an empty list. if there is no match \"none\" is appended to the list. Upon reaching the end of the Dataframe \n",
        "  the list is returned and used to create a new column.\"\"\" \n",
        "  elev_col = []\n",
        "  for i, row in df.iterrows():\n",
        "    s = str(row[\"Bridge Opportunity: Comments\"])\n",
        "    p = re.search('cell:?(\\w+\\S\\w+)',s)\n",
        "    if p:\n",
        "      elev_col.append(str(p.group()[5:]))\n",
        "    else:\n",
        "      elev_col.append(p)\n",
        "  return elev_col"
      ],
      "execution_count": 179,
      "outputs": []
    },
    {
      "cell_type": "code",
      "metadata": {
        "id": "G2Rv9Fi6syLl",
        "outputId": "f42621ec-7c39-42d8-d594-460e637ae170",
        "colab": {
          "base_uri": "https://localhost:8080/"
        }
      },
      "source": [
        "# looking at the list created with the above function \n",
        "listus = cell_location(test_df)\n",
        "print(listus)"
      ],
      "execution_count": 180,
      "outputs": [
        {
          "output_type": "stream",
          "text": [
            "[None, None, 'karambi-gasumba', 'rugogwe', 'gasave', 'gasave-rwesero', 'nyabinyenga', 'gatare-nyamabuye', 'remera-ruyenzi', 'kabere-nyabimata', 'yaramba', 'ngarurira-nyange', 'muhambara-nteko', 'nyamirama', 'cyanyirankora']\n"
          ],
          "name": "stdout"
        }
      ]
    },
    {
      "cell_type": "code",
      "metadata": {
        "id": "_7sS3qz7vytR",
        "outputId": "1d52d49c-1e66-4cac-a8b6-042c5ae420d3",
        "colab": {
          "base_uri": "https://localhost:8080/"
        }
      },
      "source": [
        "# create the new column to hold the information \n",
        "test_df['2013 Cell'] = cell_location(test_df)"
      ],
      "execution_count": 181,
      "outputs": [
        {
          "output_type": "stream",
          "text": [
            "/usr/local/lib/python3.6/dist-packages/ipykernel_launcher.py:2: SettingWithCopyWarning: \n",
            "A value is trying to be set on a copy of a slice from a DataFrame.\n",
            "Try using .loc[row_indexer,col_indexer] = value instead\n",
            "\n",
            "See the caveats in the documentation: https://pandas.pydata.org/pandas-docs/stable/user_guide/indexing.html#returning-a-view-versus-a-copy\n",
            "  \n"
          ],
          "name": "stderr"
        }
      ]
    },
    {
      "cell_type": "code",
      "metadata": {
        "id": "x_-SMzn1wAEL",
        "outputId": "a695d7d3-668e-4caa-e8c5-ea9446235bd3",
        "colab": {
          "base_uri": "https://localhost:8080/",
          "height": 0
        }
      },
      "source": [
        "# see column in test df\n",
        "test_df.head(5)"
      ],
      "execution_count": 182,
      "outputs": [
        {
          "output_type": "execute_result",
          "data": {
            "text/html": [
              "<div>\n",
              "<style scoped>\n",
              "    .dataframe tbody tr th:only-of-type {\n",
              "        vertical-align: middle;\n",
              "    }\n",
              "\n",
              "    .dataframe tbody tr th {\n",
              "        vertical-align: top;\n",
              "    }\n",
              "\n",
              "    .dataframe thead th {\n",
              "        text-align: right;\n",
              "    }\n",
              "</style>\n",
              "<table border=\"1\" class=\"dataframe\">\n",
              "  <thead>\n",
              "    <tr style=\"text-align: right;\">\n",
              "      <th></th>\n",
              "      <th>Bridge Opportunity: Project Code</th>\n",
              "      <th>Bridge Opportunity: Comments</th>\n",
              "      <th>2013 Bridge Elevation (Meters)</th>\n",
              "      <th>2013 Cell</th>\n",
              "    </tr>\n",
              "  </thead>\n",
              "  <tbody>\n",
              "    <tr>\n",
              "      <th>0</th>\n",
              "      <td>1009317</td>\n",
              "      <td>steep slopes to deal with for anchors</td>\n",
              "      <td>NaN</td>\n",
              "      <td>None</td>\n",
              "    </tr>\n",
              "    <tr>\n",
              "      <th>1</th>\n",
              "      <td>1007325</td>\n",
              "      <td>NaN</td>\n",
              "      <td>NaN</td>\n",
              "      <td>None</td>\n",
              "    </tr>\n",
              "    <tr>\n",
              "      <th>2</th>\n",
              "      <td>1007374</td>\n",
              "      <td>likely piloting steel decking on this bridge. ...</td>\n",
              "      <td>1630.0</td>\n",
              "      <td>karambi-gasumba</td>\n",
              "    </tr>\n",
              "    <tr>\n",
              "      <th>3</th>\n",
              "      <td>1007466</td>\n",
              "      <td>3000-6000 people directly served, elevation:21...</td>\n",
              "      <td>2101.0</td>\n",
              "      <td>rugogwe</td>\n",
              "    </tr>\n",
              "    <tr>\n",
              "      <th>4</th>\n",
              "      <td>1007495</td>\n",
              "      <td>not duplicate 500-1000 people directly served,...</td>\n",
              "      <td>1522.0</td>\n",
              "      <td>gasave</td>\n",
              "    </tr>\n",
              "  </tbody>\n",
              "</table>\n",
              "</div>"
            ],
            "text/plain": [
              "  Bridge Opportunity: Project Code  ...        2013 Cell\n",
              "0                          1009317  ...             None\n",
              "1                          1007325  ...             None\n",
              "2                          1007374  ...  karambi-gasumba\n",
              "3                          1007466  ...          rugogwe\n",
              "4                          1007495  ...           gasave\n",
              "\n",
              "[5 rows x 4 columns]"
            ]
          },
          "metadata": {
            "tags": []
          },
          "execution_count": 182
        }
      ]
    },
    {
      "cell_type": "markdown",
      "metadata": {
        "id": "yGa7YLuFsepK"
      },
      "source": [
        "#### Apply to actual df"
      ]
    },
    {
      "cell_type": "code",
      "metadata": {
        "id": "zASRocihwiAV",
        "outputId": "aa9b52a8-179a-497b-fdf4-4366e49c07da",
        "colab": {
          "base_uri": "https://localhost:8080/",
          "height": 0
        }
      },
      "source": [
        "comments_df1['2013_Cell'] = cell_location(comments_df1)\n",
        "comments_df1.head()"
      ],
      "execution_count": 183,
      "outputs": [
        {
          "output_type": "execute_result",
          "data": {
            "text/html": [
              "<div>\n",
              "<style scoped>\n",
              "    .dataframe tbody tr th:only-of-type {\n",
              "        vertical-align: middle;\n",
              "    }\n",
              "\n",
              "    .dataframe tbody tr th {\n",
              "        vertical-align: top;\n",
              "    }\n",
              "\n",
              "    .dataframe thead th {\n",
              "        text-align: right;\n",
              "    }\n",
              "</style>\n",
              "<table border=\"1\" class=\"dataframe\">\n",
              "  <thead>\n",
              "    <tr style=\"text-align: right;\">\n",
              "      <th></th>\n",
              "      <th>Bridge Opportunity: Project Code</th>\n",
              "      <th>Bridge Opportunity: Comments</th>\n",
              "      <th>2013_bridge_elevation_meters</th>\n",
              "      <th>2013_Cell</th>\n",
              "    </tr>\n",
              "  </thead>\n",
              "  <tbody>\n",
              "    <tr>\n",
              "      <th>0</th>\n",
              "      <td>1009317</td>\n",
              "      <td>steep slopes to deal with for anchors</td>\n",
              "      <td>NaN</td>\n",
              "      <td>None</td>\n",
              "    </tr>\n",
              "    <tr>\n",
              "      <th>1</th>\n",
              "      <td>1007325</td>\n",
              "      <td>NaN</td>\n",
              "      <td>NaN</td>\n",
              "      <td>None</td>\n",
              "    </tr>\n",
              "    <tr>\n",
              "      <th>2</th>\n",
              "      <td>1007374</td>\n",
              "      <td>likely piloting steel decking on this bridge. ...</td>\n",
              "      <td>1630.0</td>\n",
              "      <td>karambi-gasumba</td>\n",
              "    </tr>\n",
              "    <tr>\n",
              "      <th>3</th>\n",
              "      <td>1007466</td>\n",
              "      <td>3000-6000 people directly served, elevation:21...</td>\n",
              "      <td>2101.0</td>\n",
              "      <td>rugogwe</td>\n",
              "    </tr>\n",
              "    <tr>\n",
              "      <th>4</th>\n",
              "      <td>1007495</td>\n",
              "      <td>not duplicate 500-1000 people directly served,...</td>\n",
              "      <td>1522.0</td>\n",
              "      <td>gasave</td>\n",
              "    </tr>\n",
              "  </tbody>\n",
              "</table>\n",
              "</div>"
            ],
            "text/plain": [
              "  Bridge Opportunity: Project Code  ...        2013_Cell\n",
              "0                          1009317  ...             None\n",
              "1                          1007325  ...             None\n",
              "2                          1007374  ...  karambi-gasumba\n",
              "3                          1007466  ...          rugogwe\n",
              "4                          1007495  ...           gasave\n",
              "\n",
              "[5 rows x 4 columns]"
            ]
          },
          "metadata": {
            "tags": []
          },
          "execution_count": 183
        }
      ]
    },
    {
      "cell_type": "markdown",
      "metadata": {
        "id": "f03u1yDrwikc"
      },
      "source": [
        "### Bridge Connecting\n"
      ]
    },
    {
      "cell_type": "markdown",
      "metadata": {
        "id": "ByoMzd4SzGxP"
      },
      "source": [
        "Passed the test, there are enough to persist the data in these areas\n",
        "\n",
        "\n",
        "\n"
      ]
    },
    {
      "cell_type": "code",
      "metadata": {
        "id": "GeP-8lS9wnqj",
        "outputId": "a8e81dfc-d9d3-41ff-e7b9-08f7f7cfbf82",
        "colab": {
          "base_uri": "https://localhost:8080/",
          "height": 0
        }
      },
      "source": [
        "# create test to run function \n",
        "test_df.head()"
      ],
      "execution_count": 184,
      "outputs": [
        {
          "output_type": "execute_result",
          "data": {
            "text/html": [
              "<div>\n",
              "<style scoped>\n",
              "    .dataframe tbody tr th:only-of-type {\n",
              "        vertical-align: middle;\n",
              "    }\n",
              "\n",
              "    .dataframe tbody tr th {\n",
              "        vertical-align: top;\n",
              "    }\n",
              "\n",
              "    .dataframe thead th {\n",
              "        text-align: right;\n",
              "    }\n",
              "</style>\n",
              "<table border=\"1\" class=\"dataframe\">\n",
              "  <thead>\n",
              "    <tr style=\"text-align: right;\">\n",
              "      <th></th>\n",
              "      <th>Bridge Opportunity: Project Code</th>\n",
              "      <th>Bridge Opportunity: Comments</th>\n",
              "      <th>2013 Bridge Elevation (Meters)</th>\n",
              "      <th>2013 Cell</th>\n",
              "    </tr>\n",
              "  </thead>\n",
              "  <tbody>\n",
              "    <tr>\n",
              "      <th>0</th>\n",
              "      <td>1009317</td>\n",
              "      <td>steep slopes to deal with for anchors</td>\n",
              "      <td>NaN</td>\n",
              "      <td>None</td>\n",
              "    </tr>\n",
              "    <tr>\n",
              "      <th>1</th>\n",
              "      <td>1007325</td>\n",
              "      <td>NaN</td>\n",
              "      <td>NaN</td>\n",
              "      <td>None</td>\n",
              "    </tr>\n",
              "    <tr>\n",
              "      <th>2</th>\n",
              "      <td>1007374</td>\n",
              "      <td>likely piloting steel decking on this bridge. ...</td>\n",
              "      <td>1630.0</td>\n",
              "      <td>karambi-gasumba</td>\n",
              "    </tr>\n",
              "    <tr>\n",
              "      <th>3</th>\n",
              "      <td>1007466</td>\n",
              "      <td>3000-6000 people directly served, elevation:21...</td>\n",
              "      <td>2101.0</td>\n",
              "      <td>rugogwe</td>\n",
              "    </tr>\n",
              "    <tr>\n",
              "      <th>4</th>\n",
              "      <td>1007495</td>\n",
              "      <td>not duplicate 500-1000 people directly served,...</td>\n",
              "      <td>1522.0</td>\n",
              "      <td>gasave</td>\n",
              "    </tr>\n",
              "  </tbody>\n",
              "</table>\n",
              "</div>"
            ],
            "text/plain": [
              "  Bridge Opportunity: Project Code  ...        2013 Cell\n",
              "0                          1009317  ...             None\n",
              "1                          1007325  ...             None\n",
              "2                          1007374  ...  karambi-gasumba\n",
              "3                          1007466  ...          rugogwe\n",
              "4                          1007495  ...           gasave\n",
              "\n",
              "[5 rows x 4 columns]"
            ]
          },
          "metadata": {
            "tags": []
          },
          "execution_count": 184
        }
      ]
    },
    {
      "cell_type": "code",
      "metadata": {
        "id": "3Ph6jubQwqj1"
      },
      "source": [
        "def bridge_connecting(df):\n",
        "  \"\"\" This function Iterates through every row in the inputed Dataframe. \n",
        "  It will save over the variable s with the contents of the row for \"Bridge Opportunity: Comments\". \n",
        "  It then uses RegEx to identify cases of elevation in the text data. If a match is found it is apppended to \n",
        "  an empty list. if there is no match \"none\" is appended to the list. Upon reaching the end of the Dataframe \n",
        "  the list is returned and used to create a new column.\"\"\" \n",
        "  elev_col = []\n",
        "  for i, row in df.iterrows():\n",
        "    s = str(row[\"Bridge Opportunity: Comments\"])\n",
        "    p = re.search('bridge\\swould\\sconnecting\\s(\\w+\\S\\w+)',s)\n",
        "    if p:\n",
        "      elev_col.append(str(p.group()[24:]))\n",
        "    else:\n",
        "      elev_col.append(p)\n",
        "  return elev_col"
      ],
      "execution_count": 185,
      "outputs": []
    },
    {
      "cell_type": "code",
      "metadata": {
        "id": "I_tOJtwSxdmm",
        "outputId": "bfa90497-81ae-468a-8b9c-02e2b2bc9c4c",
        "colab": {
          "base_uri": "https://localhost:8080/"
        }
      },
      "source": [
        "listus = bridge_connecting(test_df)\n",
        "print(listus)"
      ],
      "execution_count": 186,
      "outputs": [
        {
          "output_type": "stream",
          "text": [
            "[None, None, None, None, None, 'nyamagabe-ruhango', None, None, None, None, None, None, None, None, None]\n"
          ],
          "name": "stdout"
        }
      ]
    },
    {
      "cell_type": "code",
      "metadata": {
        "id": "pkzBTxOxxg89",
        "outputId": "0cb8fdfb-9a99-4636-a25d-e91bc81fac94",
        "colab": {
          "base_uri": "https://localhost:8080/"
        }
      },
      "source": [
        "test_df['2013_bridge_connecting'] = bridge_connecting(test_df)"
      ],
      "execution_count": 187,
      "outputs": [
        {
          "output_type": "stream",
          "text": [
            "/usr/local/lib/python3.6/dist-packages/ipykernel_launcher.py:1: SettingWithCopyWarning: \n",
            "A value is trying to be set on a copy of a slice from a DataFrame.\n",
            "Try using .loc[row_indexer,col_indexer] = value instead\n",
            "\n",
            "See the caveats in the documentation: https://pandas.pydata.org/pandas-docs/stable/user_guide/indexing.html#returning-a-view-versus-a-copy\n",
            "  \"\"\"Entry point for launching an IPython kernel.\n"
          ],
          "name": "stderr"
        }
      ]
    },
    {
      "cell_type": "code",
      "metadata": {
        "id": "DtAO6bUEy45D",
        "outputId": "4ffc5272-3a3b-4d22-d73e-d4931062284a",
        "colab": {
          "base_uri": "https://localhost:8080/"
        }
      },
      "source": [
        "test_df['2013_bridge_connecting'].value_counts()"
      ],
      "execution_count": 188,
      "outputs": [
        {
          "output_type": "execute_result",
          "data": {
            "text/plain": [
              "nyamagabe-ruhango    1\n",
              "Name: 2013_bridge_connecting, dtype: int64"
            ]
          },
          "metadata": {
            "tags": []
          },
          "execution_count": 188
        }
      ]
    },
    {
      "cell_type": "code",
      "metadata": {
        "id": "13hJEgI6y8R5",
        "outputId": "43f5fc24-db8f-43b3-ba44-e204c808f03d",
        "colab": {
          "base_uri": "https://localhost:8080/",
          "height": 0
        }
      },
      "source": [
        "comments_df1['2013_bridge_connects'] = bridge_connecting(comments_df1)\n",
        "comments_df1.head()"
      ],
      "execution_count": 189,
      "outputs": [
        {
          "output_type": "execute_result",
          "data": {
            "text/html": [
              "<div>\n",
              "<style scoped>\n",
              "    .dataframe tbody tr th:only-of-type {\n",
              "        vertical-align: middle;\n",
              "    }\n",
              "\n",
              "    .dataframe tbody tr th {\n",
              "        vertical-align: top;\n",
              "    }\n",
              "\n",
              "    .dataframe thead th {\n",
              "        text-align: right;\n",
              "    }\n",
              "</style>\n",
              "<table border=\"1\" class=\"dataframe\">\n",
              "  <thead>\n",
              "    <tr style=\"text-align: right;\">\n",
              "      <th></th>\n",
              "      <th>Bridge Opportunity: Project Code</th>\n",
              "      <th>Bridge Opportunity: Comments</th>\n",
              "      <th>2013_bridge_elevation_meters</th>\n",
              "      <th>2013_Cell</th>\n",
              "      <th>2013_bridge_connects</th>\n",
              "    </tr>\n",
              "  </thead>\n",
              "  <tbody>\n",
              "    <tr>\n",
              "      <th>0</th>\n",
              "      <td>1009317</td>\n",
              "      <td>steep slopes to deal with for anchors</td>\n",
              "      <td>NaN</td>\n",
              "      <td>None</td>\n",
              "      <td>None</td>\n",
              "    </tr>\n",
              "    <tr>\n",
              "      <th>1</th>\n",
              "      <td>1007325</td>\n",
              "      <td>NaN</td>\n",
              "      <td>NaN</td>\n",
              "      <td>None</td>\n",
              "      <td>None</td>\n",
              "    </tr>\n",
              "    <tr>\n",
              "      <th>2</th>\n",
              "      <td>1007374</td>\n",
              "      <td>likely piloting steel decking on this bridge. ...</td>\n",
              "      <td>1630.0</td>\n",
              "      <td>karambi-gasumba</td>\n",
              "      <td>None</td>\n",
              "    </tr>\n",
              "    <tr>\n",
              "      <th>3</th>\n",
              "      <td>1007466</td>\n",
              "      <td>3000-6000 people directly served, elevation:21...</td>\n",
              "      <td>2101.0</td>\n",
              "      <td>rugogwe</td>\n",
              "      <td>None</td>\n",
              "    </tr>\n",
              "    <tr>\n",
              "      <th>4</th>\n",
              "      <td>1007495</td>\n",
              "      <td>not duplicate 500-1000 people directly served,...</td>\n",
              "      <td>1522.0</td>\n",
              "      <td>gasave</td>\n",
              "      <td>None</td>\n",
              "    </tr>\n",
              "  </tbody>\n",
              "</table>\n",
              "</div>"
            ],
            "text/plain": [
              "  Bridge Opportunity: Project Code  ... 2013_bridge_connects\n",
              "0                          1009317  ...                 None\n",
              "1                          1007325  ...                 None\n",
              "2                          1007374  ...                 None\n",
              "3                          1007466  ...                 None\n",
              "4                          1007495  ...                 None\n",
              "\n",
              "[5 rows x 5 columns]"
            ]
          },
          "metadata": {
            "tags": []
          },
          "execution_count": 189
        }
      ]
    },
    {
      "cell_type": "code",
      "metadata": {
        "id": "KQtp1SCjW9m-",
        "outputId": "366ccc81-49dd-4f3a-8437-fa9ce77081de",
        "colab": {
          "base_uri": "https://localhost:8080/"
        }
      },
      "source": [
        "comments_df1['2013_bridge_connects'].value_counts()"
      ],
      "execution_count": 190,
      "outputs": [
        {
          "output_type": "execute_result",
          "data": {
            "text/plain": [
              "bugesera-kicukiro      3\n",
              "rulindo-gasabo         2\n",
              "nyanza-nyamagabe       1\n",
              "nyarugenge-gasabo      1\n",
              "nyaruguru-nyamagabe    1\n",
              "muhanga-gakenke        1\n",
              "ngororero-rutsiro      1\n",
              "nyamagabe-ruhango      1\n",
              "ngoma-bugesera         1\n",
              "nyamagabe-nyanza       1\n",
              "bugesera-rwamagana     1\n",
              "Name: 2013_bridge_connects, dtype: int64"
            ]
          },
          "metadata": {
            "tags": []
          },
          "execution_count": 190
        }
      ]
    },
    {
      "cell_type": "markdown",
      "metadata": {
        "id": "GCy5Uwxrzc91"
      },
      "source": [
        "### Cross River on Normal Day \n",
        "- number of people that cross the river on a normal day \n",
        "\n",
        "\n"
      ]
    },
    {
      "cell_type": "code",
      "metadata": {
        "id": "U-vV3gL9ziCx"
      },
      "source": [
        "def cross_river_day(df):\n",
        "  \"\"\" This function Iterates through every row in the inputed Dataframe. \n",
        "  It will save over the variable s with the contents of the row for \"Bridge Opportunity: Comments\". \n",
        "  It then uses RegEx to identify cases of elevation in the text data. If a match is found it is apppended to \n",
        "  an empty list. if there is no match \"none\" is appended to the list. Upon reaching the end of the Dataframe \n",
        "  the list is returned and used to create a new column.\"\"\" \n",
        "  num_cross = []\n",
        "  for i, row in df.iterrows():\n",
        "    s = str(row[\"Bridge Opportunity: Comments\"])\n",
        "    p = re.search('cross\\sriver\\son\\sa\\snormal\\sday\\S(\\w+\\S\\w+)',s)\n",
        "    if p:\n",
        "      num_cross.append(str(p.group()[28:]))\n",
        "    else:\n",
        "      num_cross.append(p)\n",
        "  return num_cross"
      ],
      "execution_count": 191,
      "outputs": []
    },
    {
      "cell_type": "code",
      "metadata": {
        "id": "9YmC4hHgz2l7",
        "outputId": "200b8c07-6158-4768-aa80-4fb690b92a87",
        "colab": {
          "base_uri": "https://localhost:8080/"
        }
      },
      "source": [
        "listus = cross_river_day(test_df)\n",
        "print(listus)"
      ],
      "execution_count": 192,
      "outputs": [
        {
          "output_type": "stream",
          "text": [
            "[None, None, None, '300-600', '50-150', '50-150', '50-150', '300-600', '150-300', '150-300', '50-150', '300-600', '300-600', '300-600', '300-600']\n"
          ],
          "name": "stdout"
        }
      ]
    },
    {
      "cell_type": "code",
      "metadata": {
        "id": "b_p7GYd5z4hc",
        "outputId": "30577057-ec25-4df0-8dec-d2ec7d8d50b0",
        "colab": {
          "base_uri": "https://localhost:8080/"
        }
      },
      "source": [
        "test_df['2013_cross_river_day'] = cross_river_day(test_df)"
      ],
      "execution_count": 193,
      "outputs": [
        {
          "output_type": "stream",
          "text": [
            "/usr/local/lib/python3.6/dist-packages/ipykernel_launcher.py:1: SettingWithCopyWarning: \n",
            "A value is trying to be set on a copy of a slice from a DataFrame.\n",
            "Try using .loc[row_indexer,col_indexer] = value instead\n",
            "\n",
            "See the caveats in the documentation: https://pandas.pydata.org/pandas-docs/stable/user_guide/indexing.html#returning-a-view-versus-a-copy\n",
            "  \"\"\"Entry point for launching an IPython kernel.\n"
          ],
          "name": "stderr"
        }
      ]
    },
    {
      "cell_type": "code",
      "metadata": {
        "id": "jZ1RkHsN0NBD",
        "outputId": "0874e300-6e60-4c7c-e601-42ae9e84521b",
        "colab": {
          "base_uri": "https://localhost:8080/"
        }
      },
      "source": [
        "test_df['2013_cross_river_day'].value_counts()"
      ],
      "execution_count": 194,
      "outputs": [
        {
          "output_type": "execute_result",
          "data": {
            "text/plain": [
              "300-600    6\n",
              "50-150     4\n",
              "150-300    2\n",
              "Name: 2013_cross_river_day, dtype: int64"
            ]
          },
          "metadata": {
            "tags": []
          },
          "execution_count": 194
        }
      ]
    },
    {
      "cell_type": "code",
      "metadata": {
        "id": "qezqKikM0QMk",
        "outputId": "0205cded-4fa0-4bea-85a5-a71dbd4b16ac",
        "colab": {
          "base_uri": "https://localhost:8080/",
          "height": 197
        }
      },
      "source": [
        "test_df.head()"
      ],
      "execution_count": 195,
      "outputs": [
        {
          "output_type": "execute_result",
          "data": {
            "text/html": [
              "<div>\n",
              "<style scoped>\n",
              "    .dataframe tbody tr th:only-of-type {\n",
              "        vertical-align: middle;\n",
              "    }\n",
              "\n",
              "    .dataframe tbody tr th {\n",
              "        vertical-align: top;\n",
              "    }\n",
              "\n",
              "    .dataframe thead th {\n",
              "        text-align: right;\n",
              "    }\n",
              "</style>\n",
              "<table border=\"1\" class=\"dataframe\">\n",
              "  <thead>\n",
              "    <tr style=\"text-align: right;\">\n",
              "      <th></th>\n",
              "      <th>Bridge Opportunity: Project Code</th>\n",
              "      <th>Bridge Opportunity: Comments</th>\n",
              "      <th>2013 Bridge Elevation (Meters)</th>\n",
              "      <th>2013 Cell</th>\n",
              "      <th>2013_bridge_connecting</th>\n",
              "      <th>2013_cross_river_day</th>\n",
              "    </tr>\n",
              "  </thead>\n",
              "  <tbody>\n",
              "    <tr>\n",
              "      <th>0</th>\n",
              "      <td>1009317</td>\n",
              "      <td>steep slopes to deal with for anchors</td>\n",
              "      <td>NaN</td>\n",
              "      <td>None</td>\n",
              "      <td>None</td>\n",
              "      <td>None</td>\n",
              "    </tr>\n",
              "    <tr>\n",
              "      <th>1</th>\n",
              "      <td>1007325</td>\n",
              "      <td>NaN</td>\n",
              "      <td>NaN</td>\n",
              "      <td>None</td>\n",
              "      <td>None</td>\n",
              "      <td>None</td>\n",
              "    </tr>\n",
              "    <tr>\n",
              "      <th>2</th>\n",
              "      <td>1007374</td>\n",
              "      <td>likely piloting steel decking on this bridge. ...</td>\n",
              "      <td>1630.0</td>\n",
              "      <td>karambi-gasumba</td>\n",
              "      <td>None</td>\n",
              "      <td>None</td>\n",
              "    </tr>\n",
              "    <tr>\n",
              "      <th>3</th>\n",
              "      <td>1007466</td>\n",
              "      <td>3000-6000 people directly served, elevation:21...</td>\n",
              "      <td>2101.0</td>\n",
              "      <td>rugogwe</td>\n",
              "      <td>None</td>\n",
              "      <td>300-600</td>\n",
              "    </tr>\n",
              "    <tr>\n",
              "      <th>4</th>\n",
              "      <td>1007495</td>\n",
              "      <td>not duplicate 500-1000 people directly served,...</td>\n",
              "      <td>1522.0</td>\n",
              "      <td>gasave</td>\n",
              "      <td>None</td>\n",
              "      <td>50-150</td>\n",
              "    </tr>\n",
              "  </tbody>\n",
              "</table>\n",
              "</div>"
            ],
            "text/plain": [
              "  Bridge Opportunity: Project Code  ... 2013_cross_river_day\n",
              "0                          1009317  ...                 None\n",
              "1                          1007325  ...                 None\n",
              "2                          1007374  ...                 None\n",
              "3                          1007466  ...              300-600\n",
              "4                          1007495  ...               50-150\n",
              "\n",
              "[5 rows x 6 columns]"
            ]
          },
          "metadata": {
            "tags": []
          },
          "execution_count": 195
        }
      ]
    },
    {
      "cell_type": "markdown",
      "metadata": {
        "id": "S3zJWEXnEeaB"
      },
      "source": [
        "Apply to Actual Dataframe"
      ]
    },
    {
      "cell_type": "code",
      "metadata": {
        "id": "AtFiKJ5WEV1w"
      },
      "source": [
        "comments_df1['2013_cross_river_perday'] = cross_river_day(comments_df1)"
      ],
      "execution_count": 196,
      "outputs": []
    },
    {
      "cell_type": "code",
      "metadata": {
        "id": "trmrn2UJEomb",
        "outputId": "f6a992ac-168c-483a-c243-ac688441bc54",
        "colab": {
          "base_uri": "https://localhost:8080/",
          "height": 197
        }
      },
      "source": [
        "comments_df1.head()"
      ],
      "execution_count": 197,
      "outputs": [
        {
          "output_type": "execute_result",
          "data": {
            "text/html": [
              "<div>\n",
              "<style scoped>\n",
              "    .dataframe tbody tr th:only-of-type {\n",
              "        vertical-align: middle;\n",
              "    }\n",
              "\n",
              "    .dataframe tbody tr th {\n",
              "        vertical-align: top;\n",
              "    }\n",
              "\n",
              "    .dataframe thead th {\n",
              "        text-align: right;\n",
              "    }\n",
              "</style>\n",
              "<table border=\"1\" class=\"dataframe\">\n",
              "  <thead>\n",
              "    <tr style=\"text-align: right;\">\n",
              "      <th></th>\n",
              "      <th>Bridge Opportunity: Project Code</th>\n",
              "      <th>Bridge Opportunity: Comments</th>\n",
              "      <th>2013_bridge_elevation_meters</th>\n",
              "      <th>2013_Cell</th>\n",
              "      <th>2013_bridge_connects</th>\n",
              "      <th>2013_cross_river_perday</th>\n",
              "    </tr>\n",
              "  </thead>\n",
              "  <tbody>\n",
              "    <tr>\n",
              "      <th>0</th>\n",
              "      <td>1009317</td>\n",
              "      <td>steep slopes to deal with for anchors</td>\n",
              "      <td>NaN</td>\n",
              "      <td>None</td>\n",
              "      <td>None</td>\n",
              "      <td>None</td>\n",
              "    </tr>\n",
              "    <tr>\n",
              "      <th>1</th>\n",
              "      <td>1007325</td>\n",
              "      <td>NaN</td>\n",
              "      <td>NaN</td>\n",
              "      <td>None</td>\n",
              "      <td>None</td>\n",
              "      <td>None</td>\n",
              "    </tr>\n",
              "    <tr>\n",
              "      <th>2</th>\n",
              "      <td>1007374</td>\n",
              "      <td>likely piloting steel decking on this bridge. ...</td>\n",
              "      <td>1630.0</td>\n",
              "      <td>karambi-gasumba</td>\n",
              "      <td>None</td>\n",
              "      <td>None</td>\n",
              "    </tr>\n",
              "    <tr>\n",
              "      <th>3</th>\n",
              "      <td>1007466</td>\n",
              "      <td>3000-6000 people directly served, elevation:21...</td>\n",
              "      <td>2101.0</td>\n",
              "      <td>rugogwe</td>\n",
              "      <td>None</td>\n",
              "      <td>300-600</td>\n",
              "    </tr>\n",
              "    <tr>\n",
              "      <th>4</th>\n",
              "      <td>1007495</td>\n",
              "      <td>not duplicate 500-1000 people directly served,...</td>\n",
              "      <td>1522.0</td>\n",
              "      <td>gasave</td>\n",
              "      <td>None</td>\n",
              "      <td>50-150</td>\n",
              "    </tr>\n",
              "  </tbody>\n",
              "</table>\n",
              "</div>"
            ],
            "text/plain": [
              "  Bridge Opportunity: Project Code  ... 2013_cross_river_perday\n",
              "0                          1009317  ...                    None\n",
              "1                          1007325  ...                    None\n",
              "2                          1007374  ...                    None\n",
              "3                          1007466  ...                 300-600\n",
              "4                          1007495  ...                  50-150\n",
              "\n",
              "[5 rows x 6 columns]"
            ]
          },
          "metadata": {
            "tags": []
          },
          "execution_count": 197
        }
      ]
    },
    {
      "cell_type": "markdown",
      "metadata": {
        "id": "AxwaHOnF0XWK"
      },
      "source": [
        "## Nearby City Centers\n"
      ]
    },
    {
      "cell_type": "code",
      "metadata": {
        "id": "4jaNF2tl0lhY"
      },
      "source": [
        "def nearby_city_centers(df):\n",
        "  \"\"\" This function Iterates through every row in the inputed Dataframe. \n",
        "  It will save over the variable s with the contents of the row for \"Bridge Opportunity: Comments\". \n",
        "  It then uses RegEx to identify cases of elevation in the text data. If a match is found it is apppended to \n",
        "  an empty list. if there is no match \"none\" is appended to the list. Upon reaching the end of the Dataframe \n",
        "  the list is returned and used to create a new column.\"\"\" \n",
        "  elev_col = []\n",
        "  for i, row in df.iterrows():\n",
        "    s = str(row[\"Bridge Opportunity: Comments\"])\n",
        "    p = re.search('nearby\\scity\\scenters-(\\S\\w+\\s)*\\S\\w+',s)\n",
        "    if p:\n",
        "      elev_col.append(str(p.group()[20:]))\n",
        "    else:\n",
        "      elev_col.append(p)\n",
        "  return elev_col"
      ],
      "execution_count": 198,
      "outputs": []
    },
    {
      "cell_type": "code",
      "metadata": {
        "id": "aWsXy4Z52H7P",
        "outputId": "20779c2b-9068-4e9d-b7cc-5ab16d68c13e",
        "colab": {
          "base_uri": "https://localhost:8080/"
        }
      },
      "source": [
        "listus = nearby_city_centers(test_df)\n",
        "\n",
        "print(listus)"
      ],
      "execution_count": 199,
      "outputs": [
        {
          "output_type": "stream",
          "text": [
            "[None, None, '-karambi -nyamagabe', '-kizimyamuriro', '-rwesero -giti -butare', '-masizi -buhanda', '-cyabakamyi -cyarwa', '-nyabugogo -yanza', '-gisanze -remera', '-mpuza', 'yaramba', '-ndago', '-kubitiro -rebero', '-gihembe -kabuga -rwamiko', '-kaganza -kajwanga']\n"
          ],
          "name": "stdout"
        }
      ]
    },
    {
      "cell_type": "code",
      "metadata": {
        "id": "EUI8npJW2OjP",
        "outputId": "aed6ec81-42dc-4bf8-89d3-4f4822247606",
        "colab": {
          "base_uri": "https://localhost:8080/"
        }
      },
      "source": [
        "test_df['2013_nearby_city_centers'] = nearby_city_centers(test_df)"
      ],
      "execution_count": 200,
      "outputs": [
        {
          "output_type": "stream",
          "text": [
            "/usr/local/lib/python3.6/dist-packages/ipykernel_launcher.py:1: SettingWithCopyWarning: \n",
            "A value is trying to be set on a copy of a slice from a DataFrame.\n",
            "Try using .loc[row_indexer,col_indexer] = value instead\n",
            "\n",
            "See the caveats in the documentation: https://pandas.pydata.org/pandas-docs/stable/user_guide/indexing.html#returning-a-view-versus-a-copy\n",
            "  \"\"\"Entry point for launching an IPython kernel.\n"
          ],
          "name": "stderr"
        }
      ]
    },
    {
      "cell_type": "code",
      "metadata": {
        "id": "53BrdiIJ_spf",
        "outputId": "3c578954-e32e-4dae-82ee-8fd11539ff60",
        "colab": {
          "base_uri": "https://localhost:8080/"
        }
      },
      "source": [
        "test_df['2013_nearby_city_centers'].value_counts()\n",
        "# TODO - replace '-' character with whitespace, add commas between cities"
      ],
      "execution_count": 201,
      "outputs": [
        {
          "output_type": "execute_result",
          "data": {
            "text/plain": [
              "yaramba                      1\n",
              "-masizi -buhanda             1\n",
              "-mpuza                       1\n",
              "-gihembe -kabuga -rwamiko    1\n",
              "-kaganza -kajwanga           1\n",
              "-gisanze -remera             1\n",
              "-kizimyamuriro               1\n",
              "-ndago                       1\n",
              "-nyabugogo -yanza            1\n",
              "-cyabakamyi -cyarwa          1\n",
              "-karambi -nyamagabe          1\n",
              "-kubitiro -rebero            1\n",
              "-rwesero -giti -butare       1\n",
              "Name: 2013_nearby_city_centers, dtype: int64"
            ]
          },
          "metadata": {
            "tags": []
          },
          "execution_count": 201
        }
      ]
    },
    {
      "cell_type": "markdown",
      "metadata": {
        "id": "mBv07FLOE8VX"
      },
      "source": [
        "Apply to full dataframe"
      ]
    },
    {
      "cell_type": "code",
      "metadata": {
        "id": "8zZsHD-m_wHP"
      },
      "source": [
        "comments_df1['2013_nearby_city_centers'] = nearby_city_centers(comments_df1)"
      ],
      "execution_count": 202,
      "outputs": []
    },
    {
      "cell_type": "code",
      "metadata": {
        "id": "QSdhviBeFDhL",
        "outputId": "fd076035-78eb-457b-d22e-07c933e5cd21",
        "colab": {
          "base_uri": "https://localhost:8080/",
          "height": 0
        }
      },
      "source": [
        "comments_df1.head()"
      ],
      "execution_count": 203,
      "outputs": [
        {
          "output_type": "execute_result",
          "data": {
            "text/html": [
              "<div>\n",
              "<style scoped>\n",
              "    .dataframe tbody tr th:only-of-type {\n",
              "        vertical-align: middle;\n",
              "    }\n",
              "\n",
              "    .dataframe tbody tr th {\n",
              "        vertical-align: top;\n",
              "    }\n",
              "\n",
              "    .dataframe thead th {\n",
              "        text-align: right;\n",
              "    }\n",
              "</style>\n",
              "<table border=\"1\" class=\"dataframe\">\n",
              "  <thead>\n",
              "    <tr style=\"text-align: right;\">\n",
              "      <th></th>\n",
              "      <th>Bridge Opportunity: Project Code</th>\n",
              "      <th>Bridge Opportunity: Comments</th>\n",
              "      <th>2013_bridge_elevation_meters</th>\n",
              "      <th>2013_Cell</th>\n",
              "      <th>2013_bridge_connects</th>\n",
              "      <th>2013_cross_river_perday</th>\n",
              "      <th>2013_nearby_city_centers</th>\n",
              "    </tr>\n",
              "  </thead>\n",
              "  <tbody>\n",
              "    <tr>\n",
              "      <th>0</th>\n",
              "      <td>1009317</td>\n",
              "      <td>steep slopes to deal with for anchors</td>\n",
              "      <td>NaN</td>\n",
              "      <td>None</td>\n",
              "      <td>None</td>\n",
              "      <td>None</td>\n",
              "      <td>None</td>\n",
              "    </tr>\n",
              "    <tr>\n",
              "      <th>1</th>\n",
              "      <td>1007325</td>\n",
              "      <td>NaN</td>\n",
              "      <td>NaN</td>\n",
              "      <td>None</td>\n",
              "      <td>None</td>\n",
              "      <td>None</td>\n",
              "      <td>None</td>\n",
              "    </tr>\n",
              "    <tr>\n",
              "      <th>2</th>\n",
              "      <td>1007374</td>\n",
              "      <td>likely piloting steel decking on this bridge. ...</td>\n",
              "      <td>1630.0</td>\n",
              "      <td>karambi-gasumba</td>\n",
              "      <td>None</td>\n",
              "      <td>None</td>\n",
              "      <td>-karambi -nyamagabe</td>\n",
              "    </tr>\n",
              "    <tr>\n",
              "      <th>3</th>\n",
              "      <td>1007466</td>\n",
              "      <td>3000-6000 people directly served, elevation:21...</td>\n",
              "      <td>2101.0</td>\n",
              "      <td>rugogwe</td>\n",
              "      <td>None</td>\n",
              "      <td>300-600</td>\n",
              "      <td>-kizimyamuriro</td>\n",
              "    </tr>\n",
              "    <tr>\n",
              "      <th>4</th>\n",
              "      <td>1007495</td>\n",
              "      <td>not duplicate 500-1000 people directly served,...</td>\n",
              "      <td>1522.0</td>\n",
              "      <td>gasave</td>\n",
              "      <td>None</td>\n",
              "      <td>50-150</td>\n",
              "      <td>-rwesero -giti -butare</td>\n",
              "    </tr>\n",
              "  </tbody>\n",
              "</table>\n",
              "</div>"
            ],
            "text/plain": [
              "  Bridge Opportunity: Project Code  ... 2013_nearby_city_centers\n",
              "0                          1009317  ...                     None\n",
              "1                          1007325  ...                     None\n",
              "2                          1007374  ...      -karambi -nyamagabe\n",
              "3                          1007466  ...           -kizimyamuriro\n",
              "4                          1007495  ...   -rwesero -giti -butare\n",
              "\n",
              "[5 rows x 7 columns]"
            ]
          },
          "metadata": {
            "tags": []
          },
          "execution_count": 203
        }
      ]
    },
    {
      "cell_type": "code",
      "metadata": {
        "id": "VS5JAFYxFFqh"
      },
      "source": [
        ""
      ],
      "execution_count": 203,
      "outputs": []
    },
    {
      "cell_type": "markdown",
      "metadata": {
        "id": "zPv_aUqFFKE8"
      },
      "source": [
        "## Dangerous to cross the river\n",
        "- amount of time throughout the year in which the river is too dangerous to cross"
      ]
    },
    {
      "cell_type": "code",
      "metadata": {
        "id": "qdsHbkIeFV8O"
      },
      "source": [
        "def dangerous_to_cross(df):\n",
        "  \"\"\" This function Iterates through every row in the inputed Dataframe. \n",
        "  It will save over the variable s with the contents of the row for \"Bridge Opportunity: Comments\". \n",
        "  It then uses RegEx to identify cases of elevation in the text data. If a match is found it is apppended to \n",
        "  an empty list. if there is no match \"none\" is appended to the list. Upon reaching the end of the Dataframe \n",
        "  the list is returned and used to create a new column.\"\"\" \n",
        "  elev_col = []\n",
        "  for i, row in df.iterrows():\n",
        "    s = str(row[\"Bridge Opportunity: Comments\"])\n",
        "    p = re.search('dangerous\\sto\\scross\\sthe\\sriver\\S\\d-\\d+',s)\n",
        "    if p:\n",
        "      elev_col.append(str(p.group()[29:]))\n",
        "    else:\n",
        "      elev_col.append(p)\n",
        "  return elev_col"
      ],
      "execution_count": 204,
      "outputs": []
    },
    {
      "cell_type": "code",
      "metadata": {
        "id": "0Z-sG99-GyaC",
        "outputId": "8a678f7c-b892-4699-df44-b3d9996c3e4f",
        "colab": {
          "base_uri": "https://localhost:8080/"
        }
      },
      "source": [
        "listus = dangerous_to_cross(test_df)\n",
        "\n",
        "print(listus)"
      ],
      "execution_count": 205,
      "outputs": [
        {
          "output_type": "stream",
          "text": [
            "[None, None, '6-9', '3-6', '3-6', '9-12', '3-6', '3-6', '6-9', '3-6', '1-3', '9-12', '3-6', '1-3', '3-6']\n"
          ],
          "name": "stdout"
        }
      ]
    },
    {
      "cell_type": "code",
      "metadata": {
        "id": "plMnHG3WHMeb",
        "outputId": "c8822f42-3f68-4b30-ba28-8d858b5639dc",
        "colab": {
          "base_uri": "https://localhost:8080/"
        }
      },
      "source": [
        "test_df['2013_dangerous_to_cross_months'] = dangerous_to_cross(test_df)"
      ],
      "execution_count": 206,
      "outputs": [
        {
          "output_type": "stream",
          "text": [
            "/usr/local/lib/python3.6/dist-packages/ipykernel_launcher.py:1: SettingWithCopyWarning: \n",
            "A value is trying to be set on a copy of a slice from a DataFrame.\n",
            "Try using .loc[row_indexer,col_indexer] = value instead\n",
            "\n",
            "See the caveats in the documentation: https://pandas.pydata.org/pandas-docs/stable/user_guide/indexing.html#returning-a-view-versus-a-copy\n",
            "  \"\"\"Entry point for launching an IPython kernel.\n"
          ],
          "name": "stderr"
        }
      ]
    },
    {
      "cell_type": "code",
      "metadata": {
        "id": "-q4_cJ1iHVMX",
        "outputId": "2eca9647-5b17-4a34-a578-5fbf914fac2f",
        "colab": {
          "base_uri": "https://localhost:8080/",
          "height": 297
        }
      },
      "source": [
        "test_df.head()"
      ],
      "execution_count": 207,
      "outputs": [
        {
          "output_type": "execute_result",
          "data": {
            "text/html": [
              "<div>\n",
              "<style scoped>\n",
              "    .dataframe tbody tr th:only-of-type {\n",
              "        vertical-align: middle;\n",
              "    }\n",
              "\n",
              "    .dataframe tbody tr th {\n",
              "        vertical-align: top;\n",
              "    }\n",
              "\n",
              "    .dataframe thead th {\n",
              "        text-align: right;\n",
              "    }\n",
              "</style>\n",
              "<table border=\"1\" class=\"dataframe\">\n",
              "  <thead>\n",
              "    <tr style=\"text-align: right;\">\n",
              "      <th></th>\n",
              "      <th>Bridge Opportunity: Project Code</th>\n",
              "      <th>Bridge Opportunity: Comments</th>\n",
              "      <th>2013 Bridge Elevation (Meters)</th>\n",
              "      <th>2013 Cell</th>\n",
              "      <th>2013_bridge_connecting</th>\n",
              "      <th>2013_cross_river_day</th>\n",
              "      <th>2013_nearby_city_centers</th>\n",
              "      <th>2013_dangerous_to_cross_months</th>\n",
              "    </tr>\n",
              "  </thead>\n",
              "  <tbody>\n",
              "    <tr>\n",
              "      <th>0</th>\n",
              "      <td>1009317</td>\n",
              "      <td>steep slopes to deal with for anchors</td>\n",
              "      <td>NaN</td>\n",
              "      <td>None</td>\n",
              "      <td>None</td>\n",
              "      <td>None</td>\n",
              "      <td>None</td>\n",
              "      <td>None</td>\n",
              "    </tr>\n",
              "    <tr>\n",
              "      <th>1</th>\n",
              "      <td>1007325</td>\n",
              "      <td>NaN</td>\n",
              "      <td>NaN</td>\n",
              "      <td>None</td>\n",
              "      <td>None</td>\n",
              "      <td>None</td>\n",
              "      <td>None</td>\n",
              "      <td>None</td>\n",
              "    </tr>\n",
              "    <tr>\n",
              "      <th>2</th>\n",
              "      <td>1007374</td>\n",
              "      <td>likely piloting steel decking on this bridge. ...</td>\n",
              "      <td>1630.0</td>\n",
              "      <td>karambi-gasumba</td>\n",
              "      <td>None</td>\n",
              "      <td>None</td>\n",
              "      <td>-karambi -nyamagabe</td>\n",
              "      <td>6-9</td>\n",
              "    </tr>\n",
              "    <tr>\n",
              "      <th>3</th>\n",
              "      <td>1007466</td>\n",
              "      <td>3000-6000 people directly served, elevation:21...</td>\n",
              "      <td>2101.0</td>\n",
              "      <td>rugogwe</td>\n",
              "      <td>None</td>\n",
              "      <td>300-600</td>\n",
              "      <td>-kizimyamuriro</td>\n",
              "      <td>3-6</td>\n",
              "    </tr>\n",
              "    <tr>\n",
              "      <th>4</th>\n",
              "      <td>1007495</td>\n",
              "      <td>not duplicate 500-1000 people directly served,...</td>\n",
              "      <td>1522.0</td>\n",
              "      <td>gasave</td>\n",
              "      <td>None</td>\n",
              "      <td>50-150</td>\n",
              "      <td>-rwesero -giti -butare</td>\n",
              "      <td>3-6</td>\n",
              "    </tr>\n",
              "  </tbody>\n",
              "</table>\n",
              "</div>"
            ],
            "text/plain": [
              "  Bridge Opportunity: Project Code  ... 2013_dangerous_to_cross_months\n",
              "0                          1009317  ...                           None\n",
              "1                          1007325  ...                           None\n",
              "2                          1007374  ...                            6-9\n",
              "3                          1007466  ...                            3-6\n",
              "4                          1007495  ...                            3-6\n",
              "\n",
              "[5 rows x 8 columns]"
            ]
          },
          "metadata": {
            "tags": []
          },
          "execution_count": 207
        }
      ]
    },
    {
      "cell_type": "markdown",
      "metadata": {
        "id": "v6L5myFGHno-"
      },
      "source": [
        "Apply to DataFrame"
      ]
    },
    {
      "cell_type": "code",
      "metadata": {
        "id": "zUJZ_ZmTHaPU"
      },
      "source": [
        "comments_df1['2013_dangerous_to_cross(months)'] = dangerous_to_cross(comments_df1)"
      ],
      "execution_count": 208,
      "outputs": []
    },
    {
      "cell_type": "code",
      "metadata": {
        "id": "gtDMEqHAHt3p",
        "outputId": "80390f75-b527-44be-f060-6971f6ac8fb5",
        "colab": {
          "base_uri": "https://localhost:8080/",
          "height": 397
        }
      },
      "source": [
        "comments_df1.head()"
      ],
      "execution_count": 209,
      "outputs": [
        {
          "output_type": "execute_result",
          "data": {
            "text/html": [
              "<div>\n",
              "<style scoped>\n",
              "    .dataframe tbody tr th:only-of-type {\n",
              "        vertical-align: middle;\n",
              "    }\n",
              "\n",
              "    .dataframe tbody tr th {\n",
              "        vertical-align: top;\n",
              "    }\n",
              "\n",
              "    .dataframe thead th {\n",
              "        text-align: right;\n",
              "    }\n",
              "</style>\n",
              "<table border=\"1\" class=\"dataframe\">\n",
              "  <thead>\n",
              "    <tr style=\"text-align: right;\">\n",
              "      <th></th>\n",
              "      <th>Bridge Opportunity: Project Code</th>\n",
              "      <th>Bridge Opportunity: Comments</th>\n",
              "      <th>2013_bridge_elevation_meters</th>\n",
              "      <th>2013_Cell</th>\n",
              "      <th>2013_bridge_connects</th>\n",
              "      <th>2013_cross_river_perday</th>\n",
              "      <th>2013_nearby_city_centers</th>\n",
              "      <th>2013_dangerous_to_cross(months)</th>\n",
              "    </tr>\n",
              "  </thead>\n",
              "  <tbody>\n",
              "    <tr>\n",
              "      <th>0</th>\n",
              "      <td>1009317</td>\n",
              "      <td>steep slopes to deal with for anchors</td>\n",
              "      <td>NaN</td>\n",
              "      <td>None</td>\n",
              "      <td>None</td>\n",
              "      <td>None</td>\n",
              "      <td>None</td>\n",
              "      <td>None</td>\n",
              "    </tr>\n",
              "    <tr>\n",
              "      <th>1</th>\n",
              "      <td>1007325</td>\n",
              "      <td>NaN</td>\n",
              "      <td>NaN</td>\n",
              "      <td>None</td>\n",
              "      <td>None</td>\n",
              "      <td>None</td>\n",
              "      <td>None</td>\n",
              "      <td>None</td>\n",
              "    </tr>\n",
              "    <tr>\n",
              "      <th>2</th>\n",
              "      <td>1007374</td>\n",
              "      <td>likely piloting steel decking on this bridge. ...</td>\n",
              "      <td>1630.0</td>\n",
              "      <td>karambi-gasumba</td>\n",
              "      <td>None</td>\n",
              "      <td>None</td>\n",
              "      <td>-karambi -nyamagabe</td>\n",
              "      <td>6-9</td>\n",
              "    </tr>\n",
              "    <tr>\n",
              "      <th>3</th>\n",
              "      <td>1007466</td>\n",
              "      <td>3000-6000 people directly served, elevation:21...</td>\n",
              "      <td>2101.0</td>\n",
              "      <td>rugogwe</td>\n",
              "      <td>None</td>\n",
              "      <td>300-600</td>\n",
              "      <td>-kizimyamuriro</td>\n",
              "      <td>3-6</td>\n",
              "    </tr>\n",
              "    <tr>\n",
              "      <th>4</th>\n",
              "      <td>1007495</td>\n",
              "      <td>not duplicate 500-1000 people directly served,...</td>\n",
              "      <td>1522.0</td>\n",
              "      <td>gasave</td>\n",
              "      <td>None</td>\n",
              "      <td>50-150</td>\n",
              "      <td>-rwesero -giti -butare</td>\n",
              "      <td>3-6</td>\n",
              "    </tr>\n",
              "  </tbody>\n",
              "</table>\n",
              "</div>"
            ],
            "text/plain": [
              "  Bridge Opportunity: Project Code  ... 2013_dangerous_to_cross(months)\n",
              "0                          1009317  ...                            None\n",
              "1                          1007325  ...                            None\n",
              "2                          1007374  ...                             6-9\n",
              "3                          1007466  ...                             3-6\n",
              "4                          1007495  ...                             3-6\n",
              "\n",
              "[5 rows x 8 columns]"
            ]
          },
          "metadata": {
            "tags": []
          },
          "execution_count": 209
        }
      ]
    },
    {
      "cell_type": "code",
      "metadata": {
        "id": "Nf1S5NucHvnY"
      },
      "source": [
        ""
      ],
      "execution_count": 209,
      "outputs": []
    },
    {
      "cell_type": "markdown",
      "metadata": {
        "id": "XyxeWOryI6DL"
      },
      "source": [
        "## Crossing River now\n",
        "- The current situation being used to cross the river"
      ]
    },
    {
      "cell_type": "code",
      "metadata": {
        "id": "OvlzBYAfJMvL"
      },
      "source": [
        "def crossing_river_now(df):\n",
        "  \"\"\" This function Iterates through every row in the inputed Dataframe. \n",
        "  It will save over the variable s with the contents of the row for \"Bridge Opportunity: Comments\". \n",
        "  It then uses RegEx to identify cases of elevation in the text data. If a match is found it is apppended to \n",
        "  an empty list. if there is no match \"none\" is appended to the list. Upon reaching the end of the Dataframe \n",
        "  the list is returned and used to create a new column.\"\"\" \n",
        "  elev_col = []\n",
        "  for i, row in df.iterrows():\n",
        "    s = str(row[\"Bridge Opportunity: Comments\"])\n",
        "    p = re.search('crossing\\sriver\\snow-(\\w+\\s)*',s)\n",
        "    if p:\n",
        "      elev_col.append(str(p.group()[19:]))\n",
        "    else:\n",
        "      elev_col.append(p)\n",
        "  return elev_col"
      ],
      "execution_count": 210,
      "outputs": []
    },
    {
      "cell_type": "code",
      "metadata": {
        "id": "YwFioED0KS8_",
        "outputId": "bb2f7f9e-a589-4469-d207-d655e436fabd",
        "colab": {
          "base_uri": "https://localhost:8080/"
        }
      },
      "source": [
        "listus = crossing_river_now(test_df)\n",
        "\n",
        "print(listus)"
      ],
      "execution_count": 211,
      "outputs": [
        {
          "output_type": "stream",
          "text": [
            "[None, None, 'simple timber bridge ', 'simple timber bridge ', 'simple timber bridge ', 'swim ', 'walking through river ', 'simple timber bridge ', 'simple timber bridge ', 'simple timber bridge ', 'simple timber bridge ', 'simple timber bridge ', 'simple timber bridge ', 'simple timber bridge ', 'simple timber bridge ']\n"
          ],
          "name": "stdout"
        }
      ]
    },
    {
      "cell_type": "code",
      "metadata": {
        "id": "-Gfau4JnKazK",
        "outputId": "77c0a8cf-3581-4689-9ec4-aa490397d730",
        "colab": {
          "base_uri": "https://localhost:8080/",
          "height": 541
        }
      },
      "source": [
        "test_df['2013_current_river_crossing'] = crossing_river_now(test_df)\n",
        "\n",
        "test_df.head()"
      ],
      "execution_count": 212,
      "outputs": [
        {
          "output_type": "stream",
          "text": [
            "/usr/local/lib/python3.6/dist-packages/ipykernel_launcher.py:1: SettingWithCopyWarning: \n",
            "A value is trying to be set on a copy of a slice from a DataFrame.\n",
            "Try using .loc[row_indexer,col_indexer] = value instead\n",
            "\n",
            "See the caveats in the documentation: https://pandas.pydata.org/pandas-docs/stable/user_guide/indexing.html#returning-a-view-versus-a-copy\n",
            "  \"\"\"Entry point for launching an IPython kernel.\n"
          ],
          "name": "stderr"
        },
        {
          "output_type": "execute_result",
          "data": {
            "text/html": [
              "<div>\n",
              "<style scoped>\n",
              "    .dataframe tbody tr th:only-of-type {\n",
              "        vertical-align: middle;\n",
              "    }\n",
              "\n",
              "    .dataframe tbody tr th {\n",
              "        vertical-align: top;\n",
              "    }\n",
              "\n",
              "    .dataframe thead th {\n",
              "        text-align: right;\n",
              "    }\n",
              "</style>\n",
              "<table border=\"1\" class=\"dataframe\">\n",
              "  <thead>\n",
              "    <tr style=\"text-align: right;\">\n",
              "      <th></th>\n",
              "      <th>Bridge Opportunity: Project Code</th>\n",
              "      <th>Bridge Opportunity: Comments</th>\n",
              "      <th>2013 Bridge Elevation (Meters)</th>\n",
              "      <th>2013 Cell</th>\n",
              "      <th>2013_bridge_connecting</th>\n",
              "      <th>2013_cross_river_day</th>\n",
              "      <th>2013_nearby_city_centers</th>\n",
              "      <th>2013_dangerous_to_cross_months</th>\n",
              "      <th>2013_current_river_crossing</th>\n",
              "    </tr>\n",
              "  </thead>\n",
              "  <tbody>\n",
              "    <tr>\n",
              "      <th>0</th>\n",
              "      <td>1009317</td>\n",
              "      <td>steep slopes to deal with for anchors</td>\n",
              "      <td>NaN</td>\n",
              "      <td>None</td>\n",
              "      <td>None</td>\n",
              "      <td>None</td>\n",
              "      <td>None</td>\n",
              "      <td>None</td>\n",
              "      <td>None</td>\n",
              "    </tr>\n",
              "    <tr>\n",
              "      <th>1</th>\n",
              "      <td>1007325</td>\n",
              "      <td>NaN</td>\n",
              "      <td>NaN</td>\n",
              "      <td>None</td>\n",
              "      <td>None</td>\n",
              "      <td>None</td>\n",
              "      <td>None</td>\n",
              "      <td>None</td>\n",
              "      <td>None</td>\n",
              "    </tr>\n",
              "    <tr>\n",
              "      <th>2</th>\n",
              "      <td>1007374</td>\n",
              "      <td>likely piloting steel decking on this bridge. ...</td>\n",
              "      <td>1630.0</td>\n",
              "      <td>karambi-gasumba</td>\n",
              "      <td>None</td>\n",
              "      <td>None</td>\n",
              "      <td>-karambi -nyamagabe</td>\n",
              "      <td>6-9</td>\n",
              "      <td>simple timber bridge</td>\n",
              "    </tr>\n",
              "    <tr>\n",
              "      <th>3</th>\n",
              "      <td>1007466</td>\n",
              "      <td>3000-6000 people directly served, elevation:21...</td>\n",
              "      <td>2101.0</td>\n",
              "      <td>rugogwe</td>\n",
              "      <td>None</td>\n",
              "      <td>300-600</td>\n",
              "      <td>-kizimyamuriro</td>\n",
              "      <td>3-6</td>\n",
              "      <td>simple timber bridge</td>\n",
              "    </tr>\n",
              "    <tr>\n",
              "      <th>4</th>\n",
              "      <td>1007495</td>\n",
              "      <td>not duplicate 500-1000 people directly served,...</td>\n",
              "      <td>1522.0</td>\n",
              "      <td>gasave</td>\n",
              "      <td>None</td>\n",
              "      <td>50-150</td>\n",
              "      <td>-rwesero -giti -butare</td>\n",
              "      <td>3-6</td>\n",
              "      <td>simple timber bridge</td>\n",
              "    </tr>\n",
              "  </tbody>\n",
              "</table>\n",
              "</div>"
            ],
            "text/plain": [
              "  Bridge Opportunity: Project Code  ... 2013_current_river_crossing\n",
              "0                          1009317  ...                        None\n",
              "1                          1007325  ...                        None\n",
              "2                          1007374  ...       simple timber bridge \n",
              "3                          1007466  ...       simple timber bridge \n",
              "4                          1007495  ...       simple timber bridge \n",
              "\n",
              "[5 rows x 9 columns]"
            ]
          },
          "metadata": {
            "tags": []
          },
          "execution_count": 212
        }
      ]
    },
    {
      "cell_type": "markdown",
      "metadata": {
        "id": "qFzEKxwNKsxL"
      },
      "source": [
        "Apply to entire DF"
      ]
    },
    {
      "cell_type": "code",
      "metadata": {
        "id": "xJTGT1CGKkY9",
        "outputId": "bd04f9a8-4ada-40c6-a3fd-99adab314917",
        "colab": {
          "base_uri": "https://localhost:8080/",
          "height": 417
        }
      },
      "source": [
        "comments_df1['2013_current_river_crossing'] = crossing_river_now(comments_df1)\n",
        "\n",
        "comments_df1.head()"
      ],
      "execution_count": 213,
      "outputs": [
        {
          "output_type": "execute_result",
          "data": {
            "text/html": [
              "<div>\n",
              "<style scoped>\n",
              "    .dataframe tbody tr th:only-of-type {\n",
              "        vertical-align: middle;\n",
              "    }\n",
              "\n",
              "    .dataframe tbody tr th {\n",
              "        vertical-align: top;\n",
              "    }\n",
              "\n",
              "    .dataframe thead th {\n",
              "        text-align: right;\n",
              "    }\n",
              "</style>\n",
              "<table border=\"1\" class=\"dataframe\">\n",
              "  <thead>\n",
              "    <tr style=\"text-align: right;\">\n",
              "      <th></th>\n",
              "      <th>Bridge Opportunity: Project Code</th>\n",
              "      <th>Bridge Opportunity: Comments</th>\n",
              "      <th>2013_bridge_elevation_meters</th>\n",
              "      <th>2013_Cell</th>\n",
              "      <th>2013_bridge_connects</th>\n",
              "      <th>2013_cross_river_perday</th>\n",
              "      <th>2013_nearby_city_centers</th>\n",
              "      <th>2013_dangerous_to_cross(months)</th>\n",
              "      <th>2013_current_river_crossing</th>\n",
              "    </tr>\n",
              "  </thead>\n",
              "  <tbody>\n",
              "    <tr>\n",
              "      <th>0</th>\n",
              "      <td>1009317</td>\n",
              "      <td>steep slopes to deal with for anchors</td>\n",
              "      <td>NaN</td>\n",
              "      <td>None</td>\n",
              "      <td>None</td>\n",
              "      <td>None</td>\n",
              "      <td>None</td>\n",
              "      <td>None</td>\n",
              "      <td>None</td>\n",
              "    </tr>\n",
              "    <tr>\n",
              "      <th>1</th>\n",
              "      <td>1007325</td>\n",
              "      <td>NaN</td>\n",
              "      <td>NaN</td>\n",
              "      <td>None</td>\n",
              "      <td>None</td>\n",
              "      <td>None</td>\n",
              "      <td>None</td>\n",
              "      <td>None</td>\n",
              "      <td>None</td>\n",
              "    </tr>\n",
              "    <tr>\n",
              "      <th>2</th>\n",
              "      <td>1007374</td>\n",
              "      <td>likely piloting steel decking on this bridge. ...</td>\n",
              "      <td>1630.0</td>\n",
              "      <td>karambi-gasumba</td>\n",
              "      <td>None</td>\n",
              "      <td>None</td>\n",
              "      <td>-karambi -nyamagabe</td>\n",
              "      <td>6-9</td>\n",
              "      <td>simple timber bridge</td>\n",
              "    </tr>\n",
              "    <tr>\n",
              "      <th>3</th>\n",
              "      <td>1007466</td>\n",
              "      <td>3000-6000 people directly served, elevation:21...</td>\n",
              "      <td>2101.0</td>\n",
              "      <td>rugogwe</td>\n",
              "      <td>None</td>\n",
              "      <td>300-600</td>\n",
              "      <td>-kizimyamuriro</td>\n",
              "      <td>3-6</td>\n",
              "      <td>simple timber bridge</td>\n",
              "    </tr>\n",
              "    <tr>\n",
              "      <th>4</th>\n",
              "      <td>1007495</td>\n",
              "      <td>not duplicate 500-1000 people directly served,...</td>\n",
              "      <td>1522.0</td>\n",
              "      <td>gasave</td>\n",
              "      <td>None</td>\n",
              "      <td>50-150</td>\n",
              "      <td>-rwesero -giti -butare</td>\n",
              "      <td>3-6</td>\n",
              "      <td>simple timber bridge</td>\n",
              "    </tr>\n",
              "  </tbody>\n",
              "</table>\n",
              "</div>"
            ],
            "text/plain": [
              "  Bridge Opportunity: Project Code  ... 2013_current_river_crossing\n",
              "0                          1009317  ...                        None\n",
              "1                          1007325  ...                        None\n",
              "2                          1007374  ...       simple timber bridge \n",
              "3                          1007466  ...       simple timber bridge \n",
              "4                          1007495  ...       simple timber bridge \n",
              "\n",
              "[5 rows x 9 columns]"
            ]
          },
          "metadata": {
            "tags": []
          },
          "execution_count": 213
        }
      ]
    },
    {
      "cell_type": "code",
      "metadata": {
        "id": "dyBRpsobK2Lq"
      },
      "source": [
        ""
      ],
      "execution_count": 213,
      "outputs": []
    },
    {
      "cell_type": "markdown",
      "metadata": {
        "id": "BYVdWIR0L5DQ"
      },
      "source": [
        "## Travel to nearest safe bridge/river crossing"
      ]
    },
    {
      "cell_type": "code",
      "metadata": {
        "id": "4WvYml8cL8HI"
      },
      "source": [
        "# Travel to nearest safe bridge/river crossing->3 hours\n",
        "# this one has some instances where -> or - to id the time to crossing"
      ],
      "execution_count": 214,
      "outputs": []
    },
    {
      "cell_type": "code",
      "metadata": {
        "id": "wcm_Aa-zMCiH"
      },
      "source": [
        "def nearest_safe_bridge(df):\n",
        "  \"\"\" This function Iterates through every row in the inputed Dataframe. \n",
        "  It will save over the variable s with the contents of the row for \"Bridge Opportunity: Comments\". \n",
        "  It then uses RegEx to identify cases of elevation in the text data. If a match is found it is apppended to \n",
        "  an empty list. if there is no match \"none\" is appended to the list. Upon reaching the end of the Dataframe \n",
        "  the list is returned and used to create a new column.\"\"\" \n",
        "  elev_col = []\n",
        "  for i, row in df.iterrows():\n",
        "    s = str(row[\"Bridge Opportunity: Comments\"])\n",
        "    p = re.search('travel\\sto\\snearest\\ssafe\\sbridge\\Sriver\\scrossing\\S{1,2}(\\d-?\\d?)',s)\n",
        "    if p:\n",
        "      elev_col.append(str(p.group()[45:]))\n",
        "    else:\n",
        "      elev_col.append(p)\n",
        "  return elev_col"
      ],
      "execution_count": 215,
      "outputs": []
    },
    {
      "cell_type": "code",
      "metadata": {
        "id": "-lQ7g0XrM5dS",
        "outputId": "1fdcf2b0-dcda-4b86-f0fd-085899ffc9be",
        "colab": {
          "base_uri": "https://localhost:8080/"
        }
      },
      "source": [
        "listus = nearest_safe_bridge(test_df)\n",
        "\n",
        "print(listus)"
      ],
      "execution_count": 216,
      "outputs": [
        {
          "output_type": "stream",
          "text": [
            "[None, None, '>3', '2-3', '>3', '2-3', '2-3', '1-2', '2-3', '2-3', '1-2', '2-3', '2-3', '>3', '2-3']\n"
          ],
          "name": "stdout"
        }
      ]
    },
    {
      "cell_type": "code",
      "metadata": {
        "id": "-iWeWj1KM_Ud",
        "outputId": "9b3877f0-12b5-4bdb-d7af-69f596979b79",
        "colab": {
          "base_uri": "https://localhost:8080/",
          "height": 541
        }
      },
      "source": [
        "test_df['2013_time_to_nearest_safe_crossing_hours'] = nearest_safe_bridge(test_df)\n",
        "\n",
        "test_df.head()"
      ],
      "execution_count": 217,
      "outputs": [
        {
          "output_type": "stream",
          "text": [
            "/usr/local/lib/python3.6/dist-packages/ipykernel_launcher.py:1: SettingWithCopyWarning: \n",
            "A value is trying to be set on a copy of a slice from a DataFrame.\n",
            "Try using .loc[row_indexer,col_indexer] = value instead\n",
            "\n",
            "See the caveats in the documentation: https://pandas.pydata.org/pandas-docs/stable/user_guide/indexing.html#returning-a-view-versus-a-copy\n",
            "  \"\"\"Entry point for launching an IPython kernel.\n"
          ],
          "name": "stderr"
        },
        {
          "output_type": "execute_result",
          "data": {
            "text/html": [
              "<div>\n",
              "<style scoped>\n",
              "    .dataframe tbody tr th:only-of-type {\n",
              "        vertical-align: middle;\n",
              "    }\n",
              "\n",
              "    .dataframe tbody tr th {\n",
              "        vertical-align: top;\n",
              "    }\n",
              "\n",
              "    .dataframe thead th {\n",
              "        text-align: right;\n",
              "    }\n",
              "</style>\n",
              "<table border=\"1\" class=\"dataframe\">\n",
              "  <thead>\n",
              "    <tr style=\"text-align: right;\">\n",
              "      <th></th>\n",
              "      <th>Bridge Opportunity: Project Code</th>\n",
              "      <th>Bridge Opportunity: Comments</th>\n",
              "      <th>2013 Bridge Elevation (Meters)</th>\n",
              "      <th>2013 Cell</th>\n",
              "      <th>2013_bridge_connecting</th>\n",
              "      <th>2013_cross_river_day</th>\n",
              "      <th>2013_nearby_city_centers</th>\n",
              "      <th>2013_dangerous_to_cross_months</th>\n",
              "      <th>2013_current_river_crossing</th>\n",
              "      <th>2013_time_to_nearest_safe_crossing_hours</th>\n",
              "    </tr>\n",
              "  </thead>\n",
              "  <tbody>\n",
              "    <tr>\n",
              "      <th>0</th>\n",
              "      <td>1009317</td>\n",
              "      <td>steep slopes to deal with for anchors</td>\n",
              "      <td>NaN</td>\n",
              "      <td>None</td>\n",
              "      <td>None</td>\n",
              "      <td>None</td>\n",
              "      <td>None</td>\n",
              "      <td>None</td>\n",
              "      <td>None</td>\n",
              "      <td>None</td>\n",
              "    </tr>\n",
              "    <tr>\n",
              "      <th>1</th>\n",
              "      <td>1007325</td>\n",
              "      <td>NaN</td>\n",
              "      <td>NaN</td>\n",
              "      <td>None</td>\n",
              "      <td>None</td>\n",
              "      <td>None</td>\n",
              "      <td>None</td>\n",
              "      <td>None</td>\n",
              "      <td>None</td>\n",
              "      <td>None</td>\n",
              "    </tr>\n",
              "    <tr>\n",
              "      <th>2</th>\n",
              "      <td>1007374</td>\n",
              "      <td>likely piloting steel decking on this bridge. ...</td>\n",
              "      <td>1630.0</td>\n",
              "      <td>karambi-gasumba</td>\n",
              "      <td>None</td>\n",
              "      <td>None</td>\n",
              "      <td>-karambi -nyamagabe</td>\n",
              "      <td>6-9</td>\n",
              "      <td>simple timber bridge</td>\n",
              "      <td>&gt;3</td>\n",
              "    </tr>\n",
              "    <tr>\n",
              "      <th>3</th>\n",
              "      <td>1007466</td>\n",
              "      <td>3000-6000 people directly served, elevation:21...</td>\n",
              "      <td>2101.0</td>\n",
              "      <td>rugogwe</td>\n",
              "      <td>None</td>\n",
              "      <td>300-600</td>\n",
              "      <td>-kizimyamuriro</td>\n",
              "      <td>3-6</td>\n",
              "      <td>simple timber bridge</td>\n",
              "      <td>2-3</td>\n",
              "    </tr>\n",
              "    <tr>\n",
              "      <th>4</th>\n",
              "      <td>1007495</td>\n",
              "      <td>not duplicate 500-1000 people directly served,...</td>\n",
              "      <td>1522.0</td>\n",
              "      <td>gasave</td>\n",
              "      <td>None</td>\n",
              "      <td>50-150</td>\n",
              "      <td>-rwesero -giti -butare</td>\n",
              "      <td>3-6</td>\n",
              "      <td>simple timber bridge</td>\n",
              "      <td>&gt;3</td>\n",
              "    </tr>\n",
              "  </tbody>\n",
              "</table>\n",
              "</div>"
            ],
            "text/plain": [
              "  Bridge Opportunity: Project Code  ... 2013_time_to_nearest_safe_crossing_hours\n",
              "0                          1009317  ...                                     None\n",
              "1                          1007325  ...                                     None\n",
              "2                          1007374  ...                                       >3\n",
              "3                          1007466  ...                                      2-3\n",
              "4                          1007495  ...                                       >3\n",
              "\n",
              "[5 rows x 10 columns]"
            ]
          },
          "metadata": {
            "tags": []
          },
          "execution_count": 217
        }
      ]
    },
    {
      "cell_type": "code",
      "metadata": {
        "id": "BgrsS_o_UJnf",
        "outputId": "ab11c166-84d0-4b27-f6c0-dacd45300d4e",
        "colab": {
          "base_uri": "https://localhost:8080/"
        }
      },
      "source": [
        "test_df['2013_time_to_nearest_safe_crossing_hours'] = test_df['2013_time_to_nearest_safe_crossing_hours'].str.replace('>', ' ')"
      ],
      "execution_count": 218,
      "outputs": [
        {
          "output_type": "stream",
          "text": [
            "/usr/local/lib/python3.6/dist-packages/ipykernel_launcher.py:1: SettingWithCopyWarning: \n",
            "A value is trying to be set on a copy of a slice from a DataFrame.\n",
            "Try using .loc[row_indexer,col_indexer] = value instead\n",
            "\n",
            "See the caveats in the documentation: https://pandas.pydata.org/pandas-docs/stable/user_guide/indexing.html#returning-a-view-versus-a-copy\n",
            "  \"\"\"Entry point for launching an IPython kernel.\n"
          ],
          "name": "stderr"
        }
      ]
    },
    {
      "cell_type": "code",
      "metadata": {
        "id": "GLXEFjsEUW0L",
        "outputId": "82a9157f-2b94-450f-e40d-abec17cbef4e",
        "colab": {
          "base_uri": "https://localhost:8080/"
        }
      },
      "source": [
        "test_df['2013_time_to_nearest_safe_crossing_hours'].value_counts()"
      ],
      "execution_count": 219,
      "outputs": [
        {
          "output_type": "execute_result",
          "data": {
            "text/plain": [
              "2-3    8\n",
              " 3     3\n",
              "1-2    2\n",
              "Name: 2013_time_to_nearest_safe_crossing_hours, dtype: int64"
            ]
          },
          "metadata": {
            "tags": []
          },
          "execution_count": 219
        }
      ]
    },
    {
      "cell_type": "markdown",
      "metadata": {
        "id": "UJqhEjoOUmit"
      },
      "source": [
        "apply to dataframe"
      ]
    },
    {
      "cell_type": "code",
      "metadata": {
        "id": "b9QOE_UbUZ20",
        "outputId": "ff5c2002-fdec-4c6d-c2b9-c407da90b588",
        "colab": {
          "base_uri": "https://localhost:8080/",
          "height": 417
        }
      },
      "source": [
        "comments_df1['2013_time_to_nearest_safe_crossing_hours'] = nearest_safe_bridge(comments_df1)\n",
        "# comments_df1['2013_time_to_nearest_safe_crossing(Hours_walking)'] = comments_df1['2013_time_to_nearest_safe_crossing(Hours_walking)'].str.replace('>', '')\n",
        "comments_df1.head()"
      ],
      "execution_count": 220,
      "outputs": [
        {
          "output_type": "execute_result",
          "data": {
            "text/html": [
              "<div>\n",
              "<style scoped>\n",
              "    .dataframe tbody tr th:only-of-type {\n",
              "        vertical-align: middle;\n",
              "    }\n",
              "\n",
              "    .dataframe tbody tr th {\n",
              "        vertical-align: top;\n",
              "    }\n",
              "\n",
              "    .dataframe thead th {\n",
              "        text-align: right;\n",
              "    }\n",
              "</style>\n",
              "<table border=\"1\" class=\"dataframe\">\n",
              "  <thead>\n",
              "    <tr style=\"text-align: right;\">\n",
              "      <th></th>\n",
              "      <th>Bridge Opportunity: Project Code</th>\n",
              "      <th>Bridge Opportunity: Comments</th>\n",
              "      <th>2013_bridge_elevation_meters</th>\n",
              "      <th>2013_Cell</th>\n",
              "      <th>2013_bridge_connects</th>\n",
              "      <th>2013_cross_river_perday</th>\n",
              "      <th>2013_nearby_city_centers</th>\n",
              "      <th>2013_dangerous_to_cross(months)</th>\n",
              "      <th>2013_current_river_crossing</th>\n",
              "      <th>2013_time_to_nearest_safe_crossing_hours</th>\n",
              "    </tr>\n",
              "  </thead>\n",
              "  <tbody>\n",
              "    <tr>\n",
              "      <th>0</th>\n",
              "      <td>1009317</td>\n",
              "      <td>steep slopes to deal with for anchors</td>\n",
              "      <td>NaN</td>\n",
              "      <td>None</td>\n",
              "      <td>None</td>\n",
              "      <td>None</td>\n",
              "      <td>None</td>\n",
              "      <td>None</td>\n",
              "      <td>None</td>\n",
              "      <td>None</td>\n",
              "    </tr>\n",
              "    <tr>\n",
              "      <th>1</th>\n",
              "      <td>1007325</td>\n",
              "      <td>NaN</td>\n",
              "      <td>NaN</td>\n",
              "      <td>None</td>\n",
              "      <td>None</td>\n",
              "      <td>None</td>\n",
              "      <td>None</td>\n",
              "      <td>None</td>\n",
              "      <td>None</td>\n",
              "      <td>None</td>\n",
              "    </tr>\n",
              "    <tr>\n",
              "      <th>2</th>\n",
              "      <td>1007374</td>\n",
              "      <td>likely piloting steel decking on this bridge. ...</td>\n",
              "      <td>1630.0</td>\n",
              "      <td>karambi-gasumba</td>\n",
              "      <td>None</td>\n",
              "      <td>None</td>\n",
              "      <td>-karambi -nyamagabe</td>\n",
              "      <td>6-9</td>\n",
              "      <td>simple timber bridge</td>\n",
              "      <td>&gt;3</td>\n",
              "    </tr>\n",
              "    <tr>\n",
              "      <th>3</th>\n",
              "      <td>1007466</td>\n",
              "      <td>3000-6000 people directly served, elevation:21...</td>\n",
              "      <td>2101.0</td>\n",
              "      <td>rugogwe</td>\n",
              "      <td>None</td>\n",
              "      <td>300-600</td>\n",
              "      <td>-kizimyamuriro</td>\n",
              "      <td>3-6</td>\n",
              "      <td>simple timber bridge</td>\n",
              "      <td>2-3</td>\n",
              "    </tr>\n",
              "    <tr>\n",
              "      <th>4</th>\n",
              "      <td>1007495</td>\n",
              "      <td>not duplicate 500-1000 people directly served,...</td>\n",
              "      <td>1522.0</td>\n",
              "      <td>gasave</td>\n",
              "      <td>None</td>\n",
              "      <td>50-150</td>\n",
              "      <td>-rwesero -giti -butare</td>\n",
              "      <td>3-6</td>\n",
              "      <td>simple timber bridge</td>\n",
              "      <td>&gt;3</td>\n",
              "    </tr>\n",
              "  </tbody>\n",
              "</table>\n",
              "</div>"
            ],
            "text/plain": [
              "  Bridge Opportunity: Project Code  ... 2013_time_to_nearest_safe_crossing_hours\n",
              "0                          1009317  ...                                     None\n",
              "1                          1007325  ...                                     None\n",
              "2                          1007374  ...                                       >3\n",
              "3                          1007466  ...                                      2-3\n",
              "4                          1007495  ...                                       >3\n",
              "\n",
              "[5 rows x 10 columns]"
            ]
          },
          "metadata": {
            "tags": []
          },
          "execution_count": 220
        }
      ]
    },
    {
      "cell_type": "code",
      "metadata": {
        "id": "yC6HD9U1UvV_"
      },
      "source": [
        ""
      ],
      "execution_count": 220,
      "outputs": []
    },
    {
      "cell_type": "markdown",
      "metadata": {
        "id": "jwgpCEe6VG9Y"
      },
      "source": [
        "## Hours Walking to reach hospital"
      ]
    },
    {
      "cell_type": "code",
      "metadata": {
        "id": "GECvw3eCVOMK"
      },
      "source": [
        "def hours_to_hospital(df):\n",
        "  \"\"\" This function Iterates through every row in the inputed Dataframe. \n",
        "  It will save over the variable s with the contents of the row for \"Bridge Opportunity: Comments\". \n",
        "  It then uses RegEx to identify cases of elevation in the text data. If a match is found it is apppended to \n",
        "  an empty list. if there is no match \"none\" is appended to the list. Upon reaching the end of the Dataframe \n",
        "  the list is returned and used to create a new column. Hours walking to reach the Hospital-0.5-1\"\"\" \n",
        "  new_col = []\n",
        "  for i, row in df.iterrows():\n",
        "    s = str(row[\"Bridge Opportunity: Comments\"])\n",
        "    p = re.search('hours\\swalking\\sto\\sreach\\sthe\\shospital\\S{1,2}(\\d.?\\d?-?\\d?)',s)\n",
        "    if p:\n",
        "      new_col.append(str(p.group()[36:]))\n",
        "    else:\n",
        "      new_col.append(p)\n",
        "  return new_col"
      ],
      "execution_count": 221,
      "outputs": []
    },
    {
      "cell_type": "code",
      "metadata": {
        "id": "4iUBgipRVcQK",
        "outputId": "589454e9-40c1-43eb-bf93-bba1cd91a6c7",
        "colab": {
          "base_uri": "https://localhost:8080/"
        }
      },
      "source": [
        "listus = hours_to_hospital(test_df)\n",
        "\n",
        "print(listus)"
      ],
      "execution_count": 222,
      "outputs": [
        {
          "output_type": "stream",
          "text": [
            "[None, None, '0.5-1', '>6 ', '2-6', '2-6', '>6 ', '0.5', '>6 ', '>6 ', '>6 ', '0.5-1', '2-6', '2-6', '>6 ']\n"
          ],
          "name": "stdout"
        }
      ]
    },
    {
      "cell_type": "code",
      "metadata": {
        "id": "vQ7OX22dV4iK",
        "outputId": "9f2d5267-ef78-4f5d-eace-46f22d06c9fb",
        "colab": {
          "base_uri": "https://localhost:8080/",
          "height": 0
        }
      },
      "source": [
        "test_df['2013_time_to_nearest_hospital(Hours_walking)'] = hours_to_hospital(test_df)\n",
        "\n",
        "test_df.head()"
      ],
      "execution_count": 223,
      "outputs": [
        {
          "output_type": "stream",
          "text": [
            "/usr/local/lib/python3.6/dist-packages/ipykernel_launcher.py:1: SettingWithCopyWarning: \n",
            "A value is trying to be set on a copy of a slice from a DataFrame.\n",
            "Try using .loc[row_indexer,col_indexer] = value instead\n",
            "\n",
            "See the caveats in the documentation: https://pandas.pydata.org/pandas-docs/stable/user_guide/indexing.html#returning-a-view-versus-a-copy\n",
            "  \"\"\"Entry point for launching an IPython kernel.\n"
          ],
          "name": "stderr"
        },
        {
          "output_type": "execute_result",
          "data": {
            "text/html": [
              "<div>\n",
              "<style scoped>\n",
              "    .dataframe tbody tr th:only-of-type {\n",
              "        vertical-align: middle;\n",
              "    }\n",
              "\n",
              "    .dataframe tbody tr th {\n",
              "        vertical-align: top;\n",
              "    }\n",
              "\n",
              "    .dataframe thead th {\n",
              "        text-align: right;\n",
              "    }\n",
              "</style>\n",
              "<table border=\"1\" class=\"dataframe\">\n",
              "  <thead>\n",
              "    <tr style=\"text-align: right;\">\n",
              "      <th></th>\n",
              "      <th>Bridge Opportunity: Project Code</th>\n",
              "      <th>Bridge Opportunity: Comments</th>\n",
              "      <th>2013 Bridge Elevation (Meters)</th>\n",
              "      <th>2013 Cell</th>\n",
              "      <th>2013_bridge_connecting</th>\n",
              "      <th>2013_cross_river_day</th>\n",
              "      <th>2013_nearby_city_centers</th>\n",
              "      <th>2013_dangerous_to_cross_months</th>\n",
              "      <th>2013_current_river_crossing</th>\n",
              "      <th>2013_time_to_nearest_safe_crossing_hours</th>\n",
              "      <th>2013_time_to_nearest_hospital(Hours_walking)</th>\n",
              "    </tr>\n",
              "  </thead>\n",
              "  <tbody>\n",
              "    <tr>\n",
              "      <th>0</th>\n",
              "      <td>1009317</td>\n",
              "      <td>steep slopes to deal with for anchors</td>\n",
              "      <td>NaN</td>\n",
              "      <td>None</td>\n",
              "      <td>None</td>\n",
              "      <td>None</td>\n",
              "      <td>None</td>\n",
              "      <td>None</td>\n",
              "      <td>None</td>\n",
              "      <td>None</td>\n",
              "      <td>None</td>\n",
              "    </tr>\n",
              "    <tr>\n",
              "      <th>1</th>\n",
              "      <td>1007325</td>\n",
              "      <td>NaN</td>\n",
              "      <td>NaN</td>\n",
              "      <td>None</td>\n",
              "      <td>None</td>\n",
              "      <td>None</td>\n",
              "      <td>None</td>\n",
              "      <td>None</td>\n",
              "      <td>None</td>\n",
              "      <td>None</td>\n",
              "      <td>None</td>\n",
              "    </tr>\n",
              "    <tr>\n",
              "      <th>2</th>\n",
              "      <td>1007374</td>\n",
              "      <td>likely piloting steel decking on this bridge. ...</td>\n",
              "      <td>1630.0</td>\n",
              "      <td>karambi-gasumba</td>\n",
              "      <td>None</td>\n",
              "      <td>None</td>\n",
              "      <td>-karambi -nyamagabe</td>\n",
              "      <td>6-9</td>\n",
              "      <td>simple timber bridge</td>\n",
              "      <td>3</td>\n",
              "      <td>0.5-1</td>\n",
              "    </tr>\n",
              "    <tr>\n",
              "      <th>3</th>\n",
              "      <td>1007466</td>\n",
              "      <td>3000-6000 people directly served, elevation:21...</td>\n",
              "      <td>2101.0</td>\n",
              "      <td>rugogwe</td>\n",
              "      <td>None</td>\n",
              "      <td>300-600</td>\n",
              "      <td>-kizimyamuriro</td>\n",
              "      <td>3-6</td>\n",
              "      <td>simple timber bridge</td>\n",
              "      <td>2-3</td>\n",
              "      <td>&gt;6</td>\n",
              "    </tr>\n",
              "    <tr>\n",
              "      <th>4</th>\n",
              "      <td>1007495</td>\n",
              "      <td>not duplicate 500-1000 people directly served,...</td>\n",
              "      <td>1522.0</td>\n",
              "      <td>gasave</td>\n",
              "      <td>None</td>\n",
              "      <td>50-150</td>\n",
              "      <td>-rwesero -giti -butare</td>\n",
              "      <td>3-6</td>\n",
              "      <td>simple timber bridge</td>\n",
              "      <td>3</td>\n",
              "      <td>2-6</td>\n",
              "    </tr>\n",
              "  </tbody>\n",
              "</table>\n",
              "</div>"
            ],
            "text/plain": [
              "  Bridge Opportunity: Project Code  ... 2013_time_to_nearest_hospital(Hours_walking)\n",
              "0                          1009317  ...                                         None\n",
              "1                          1007325  ...                                         None\n",
              "2                          1007374  ...                                        0.5-1\n",
              "3                          1007466  ...                                          >6 \n",
              "4                          1007495  ...                                          2-6\n",
              "\n",
              "[5 rows x 11 columns]"
            ]
          },
          "metadata": {
            "tags": []
          },
          "execution_count": 223
        }
      ]
    },
    {
      "cell_type": "markdown",
      "metadata": {
        "id": "TMqSFXX0afOo"
      },
      "source": [
        "Apply to dataframe"
      ]
    },
    {
      "cell_type": "code",
      "metadata": {
        "id": "QQoi4K96W_5C",
        "outputId": "bd858d69-f4dc-4de9-ef4c-76f80efb217f",
        "colab": {
          "base_uri": "https://localhost:8080/",
          "height": 0
        }
      },
      "source": [
        "comments_df1['2013_time_to_nearest_hospital_hours'] = hours_to_hospital(comments_df1)\n",
        "comments_df1.head()"
      ],
      "execution_count": 224,
      "outputs": [
        {
          "output_type": "execute_result",
          "data": {
            "text/html": [
              "<div>\n",
              "<style scoped>\n",
              "    .dataframe tbody tr th:only-of-type {\n",
              "        vertical-align: middle;\n",
              "    }\n",
              "\n",
              "    .dataframe tbody tr th {\n",
              "        vertical-align: top;\n",
              "    }\n",
              "\n",
              "    .dataframe thead th {\n",
              "        text-align: right;\n",
              "    }\n",
              "</style>\n",
              "<table border=\"1\" class=\"dataframe\">\n",
              "  <thead>\n",
              "    <tr style=\"text-align: right;\">\n",
              "      <th></th>\n",
              "      <th>Bridge Opportunity: Project Code</th>\n",
              "      <th>Bridge Opportunity: Comments</th>\n",
              "      <th>2013_bridge_elevation_meters</th>\n",
              "      <th>2013_Cell</th>\n",
              "      <th>2013_bridge_connects</th>\n",
              "      <th>2013_cross_river_perday</th>\n",
              "      <th>2013_nearby_city_centers</th>\n",
              "      <th>2013_dangerous_to_cross(months)</th>\n",
              "      <th>2013_current_river_crossing</th>\n",
              "      <th>2013_time_to_nearest_safe_crossing_hours</th>\n",
              "      <th>2013_time_to_nearest_hospital_hours</th>\n",
              "    </tr>\n",
              "  </thead>\n",
              "  <tbody>\n",
              "    <tr>\n",
              "      <th>0</th>\n",
              "      <td>1009317</td>\n",
              "      <td>steep slopes to deal with for anchors</td>\n",
              "      <td>NaN</td>\n",
              "      <td>None</td>\n",
              "      <td>None</td>\n",
              "      <td>None</td>\n",
              "      <td>None</td>\n",
              "      <td>None</td>\n",
              "      <td>None</td>\n",
              "      <td>None</td>\n",
              "      <td>None</td>\n",
              "    </tr>\n",
              "    <tr>\n",
              "      <th>1</th>\n",
              "      <td>1007325</td>\n",
              "      <td>NaN</td>\n",
              "      <td>NaN</td>\n",
              "      <td>None</td>\n",
              "      <td>None</td>\n",
              "      <td>None</td>\n",
              "      <td>None</td>\n",
              "      <td>None</td>\n",
              "      <td>None</td>\n",
              "      <td>None</td>\n",
              "      <td>None</td>\n",
              "    </tr>\n",
              "    <tr>\n",
              "      <th>2</th>\n",
              "      <td>1007374</td>\n",
              "      <td>likely piloting steel decking on this bridge. ...</td>\n",
              "      <td>1630.0</td>\n",
              "      <td>karambi-gasumba</td>\n",
              "      <td>None</td>\n",
              "      <td>None</td>\n",
              "      <td>-karambi -nyamagabe</td>\n",
              "      <td>6-9</td>\n",
              "      <td>simple timber bridge</td>\n",
              "      <td>&gt;3</td>\n",
              "      <td>0.5-1</td>\n",
              "    </tr>\n",
              "    <tr>\n",
              "      <th>3</th>\n",
              "      <td>1007466</td>\n",
              "      <td>3000-6000 people directly served, elevation:21...</td>\n",
              "      <td>2101.0</td>\n",
              "      <td>rugogwe</td>\n",
              "      <td>None</td>\n",
              "      <td>300-600</td>\n",
              "      <td>-kizimyamuriro</td>\n",
              "      <td>3-6</td>\n",
              "      <td>simple timber bridge</td>\n",
              "      <td>2-3</td>\n",
              "      <td>&gt;6</td>\n",
              "    </tr>\n",
              "    <tr>\n",
              "      <th>4</th>\n",
              "      <td>1007495</td>\n",
              "      <td>not duplicate 500-1000 people directly served,...</td>\n",
              "      <td>1522.0</td>\n",
              "      <td>gasave</td>\n",
              "      <td>None</td>\n",
              "      <td>50-150</td>\n",
              "      <td>-rwesero -giti -butare</td>\n",
              "      <td>3-6</td>\n",
              "      <td>simple timber bridge</td>\n",
              "      <td>&gt;3</td>\n",
              "      <td>2-6</td>\n",
              "    </tr>\n",
              "  </tbody>\n",
              "</table>\n",
              "</div>"
            ],
            "text/plain": [
              "  Bridge Opportunity: Project Code  ... 2013_time_to_nearest_hospital_hours\n",
              "0                          1009317  ...                                None\n",
              "1                          1007325  ...                                None\n",
              "2                          1007374  ...                               0.5-1\n",
              "3                          1007466  ...                                 >6 \n",
              "4                          1007495  ...                                 2-6\n",
              "\n",
              "[5 rows x 11 columns]"
            ]
          },
          "metadata": {
            "tags": []
          },
          "execution_count": 224
        }
      ]
    },
    {
      "cell_type": "code",
      "metadata": {
        "id": "7L7YXoimaodu"
      },
      "source": [
        ""
      ],
      "execution_count": 224,
      "outputs": []
    },
    {
      "cell_type": "markdown",
      "metadata": {
        "id": "LqRjanqZaufb"
      },
      "source": [
        "## Hours walking to reach the Health Center"
      ]
    },
    {
      "cell_type": "code",
      "metadata": {
        "id": "CKDhjjb3a0wN"
      },
      "source": [
        "def hours_to_healthcenter(df):\n",
        "  \"\"\" This function Iterates through every row in the inputed Dataframe. \n",
        "  It will save over the variable s with the contents of the row for \"Bridge Opportunity: Comments\". \n",
        "  It then uses RegEx to identify cases of elevation in the text data. If a match is found it is apppended to \n",
        "  an empty list. if there is no match \"none\" is appended to the list. Upon reaching the end of the Dataframe \n",
        "  the list is returned and used to create a new column. Hours walking to reach the Hospital-0.5-1\"\"\" \n",
        "  new_col = []\n",
        "  for i, row in df.iterrows():\n",
        "    s = str(row[\"Bridge Opportunity: Comments\"])\n",
        "    p = re.search('hours\\swalking\\sto\\sreach\\sthe\\shealth\\scenter\\S{1,2}(\\d.?\\d?-?\\d?)',s)\n",
        "    if p:\n",
        "      new_col.append(str(p.group()[41:]))\n",
        "    else:\n",
        "      new_col.append(p)\n",
        "  return new_col"
      ],
      "execution_count": 225,
      "outputs": []
    },
    {
      "cell_type": "code",
      "metadata": {
        "id": "UG8AoLIPcIBm",
        "outputId": "86943e87-4dc0-4b5e-c8ca-2f714ac0d92f",
        "colab": {
          "base_uri": "https://localhost:8080/"
        }
      },
      "source": [
        "listus = hours_to_healthcenter(test_df)\n",
        "\n",
        "print(listus)"
      ],
      "execution_count": 226,
      "outputs": [
        {
          "output_type": "stream",
          "text": [
            "[None, None, '0.5', '0.5-1', None, '1-2', '1-2', '0.5', '2-6', '0.5', '1-2', '0.5', '1-2', '0.5-1', '1-2']\n"
          ],
          "name": "stdout"
        }
      ]
    },
    {
      "cell_type": "code",
      "metadata": {
        "id": "axwh9wincLT3",
        "outputId": "faa62a17-57f8-4b2c-d42d-841ff123ab07",
        "colab": {
          "base_uri": "https://localhost:8080/",
          "height": 0
        }
      },
      "source": [
        "test_df['2013_time_to_nearest_health_center(Hours_walking)'] = hours_to_healthcenter(test_df)\n",
        "\n",
        "test_df.head()"
      ],
      "execution_count": 227,
      "outputs": [
        {
          "output_type": "stream",
          "text": [
            "/usr/local/lib/python3.6/dist-packages/ipykernel_launcher.py:1: SettingWithCopyWarning: \n",
            "A value is trying to be set on a copy of a slice from a DataFrame.\n",
            "Try using .loc[row_indexer,col_indexer] = value instead\n",
            "\n",
            "See the caveats in the documentation: https://pandas.pydata.org/pandas-docs/stable/user_guide/indexing.html#returning-a-view-versus-a-copy\n",
            "  \"\"\"Entry point for launching an IPython kernel.\n"
          ],
          "name": "stderr"
        },
        {
          "output_type": "execute_result",
          "data": {
            "text/html": [
              "<div>\n",
              "<style scoped>\n",
              "    .dataframe tbody tr th:only-of-type {\n",
              "        vertical-align: middle;\n",
              "    }\n",
              "\n",
              "    .dataframe tbody tr th {\n",
              "        vertical-align: top;\n",
              "    }\n",
              "\n",
              "    .dataframe thead th {\n",
              "        text-align: right;\n",
              "    }\n",
              "</style>\n",
              "<table border=\"1\" class=\"dataframe\">\n",
              "  <thead>\n",
              "    <tr style=\"text-align: right;\">\n",
              "      <th></th>\n",
              "      <th>Bridge Opportunity: Project Code</th>\n",
              "      <th>Bridge Opportunity: Comments</th>\n",
              "      <th>2013 Bridge Elevation (Meters)</th>\n",
              "      <th>2013 Cell</th>\n",
              "      <th>2013_bridge_connecting</th>\n",
              "      <th>2013_cross_river_day</th>\n",
              "      <th>2013_nearby_city_centers</th>\n",
              "      <th>2013_dangerous_to_cross_months</th>\n",
              "      <th>2013_current_river_crossing</th>\n",
              "      <th>2013_time_to_nearest_safe_crossing_hours</th>\n",
              "      <th>2013_time_to_nearest_hospital(Hours_walking)</th>\n",
              "      <th>2013_time_to_nearest_health_center(Hours_walking)</th>\n",
              "    </tr>\n",
              "  </thead>\n",
              "  <tbody>\n",
              "    <tr>\n",
              "      <th>0</th>\n",
              "      <td>1009317</td>\n",
              "      <td>steep slopes to deal with for anchors</td>\n",
              "      <td>NaN</td>\n",
              "      <td>None</td>\n",
              "      <td>None</td>\n",
              "      <td>None</td>\n",
              "      <td>None</td>\n",
              "      <td>None</td>\n",
              "      <td>None</td>\n",
              "      <td>None</td>\n",
              "      <td>None</td>\n",
              "      <td>None</td>\n",
              "    </tr>\n",
              "    <tr>\n",
              "      <th>1</th>\n",
              "      <td>1007325</td>\n",
              "      <td>NaN</td>\n",
              "      <td>NaN</td>\n",
              "      <td>None</td>\n",
              "      <td>None</td>\n",
              "      <td>None</td>\n",
              "      <td>None</td>\n",
              "      <td>None</td>\n",
              "      <td>None</td>\n",
              "      <td>None</td>\n",
              "      <td>None</td>\n",
              "      <td>None</td>\n",
              "    </tr>\n",
              "    <tr>\n",
              "      <th>2</th>\n",
              "      <td>1007374</td>\n",
              "      <td>likely piloting steel decking on this bridge. ...</td>\n",
              "      <td>1630.0</td>\n",
              "      <td>karambi-gasumba</td>\n",
              "      <td>None</td>\n",
              "      <td>None</td>\n",
              "      <td>-karambi -nyamagabe</td>\n",
              "      <td>6-9</td>\n",
              "      <td>simple timber bridge</td>\n",
              "      <td>3</td>\n",
              "      <td>0.5-1</td>\n",
              "      <td>0.5</td>\n",
              "    </tr>\n",
              "    <tr>\n",
              "      <th>3</th>\n",
              "      <td>1007466</td>\n",
              "      <td>3000-6000 people directly served, elevation:21...</td>\n",
              "      <td>2101.0</td>\n",
              "      <td>rugogwe</td>\n",
              "      <td>None</td>\n",
              "      <td>300-600</td>\n",
              "      <td>-kizimyamuriro</td>\n",
              "      <td>3-6</td>\n",
              "      <td>simple timber bridge</td>\n",
              "      <td>2-3</td>\n",
              "      <td>&gt;6</td>\n",
              "      <td>0.5-1</td>\n",
              "    </tr>\n",
              "    <tr>\n",
              "      <th>4</th>\n",
              "      <td>1007495</td>\n",
              "      <td>not duplicate 500-1000 people directly served,...</td>\n",
              "      <td>1522.0</td>\n",
              "      <td>gasave</td>\n",
              "      <td>None</td>\n",
              "      <td>50-150</td>\n",
              "      <td>-rwesero -giti -butare</td>\n",
              "      <td>3-6</td>\n",
              "      <td>simple timber bridge</td>\n",
              "      <td>3</td>\n",
              "      <td>2-6</td>\n",
              "      <td>None</td>\n",
              "    </tr>\n",
              "  </tbody>\n",
              "</table>\n",
              "</div>"
            ],
            "text/plain": [
              "  Bridge Opportunity: Project Code  ... 2013_time_to_nearest_health_center(Hours_walking)\n",
              "0                          1009317  ...                                              None\n",
              "1                          1007325  ...                                              None\n",
              "2                          1007374  ...                                               0.5\n",
              "3                          1007466  ...                                             0.5-1\n",
              "4                          1007495  ...                                              None\n",
              "\n",
              "[5 rows x 12 columns]"
            ]
          },
          "metadata": {
            "tags": []
          },
          "execution_count": 227
        }
      ]
    },
    {
      "cell_type": "markdown",
      "metadata": {
        "id": "9iMuXXQ0dJ1_"
      },
      "source": [
        "Apply to Dataframe"
      ]
    },
    {
      "cell_type": "code",
      "metadata": {
        "id": "9ifNrZmddF0n",
        "outputId": "fd4466d9-42c6-4be5-ad3c-f348a918ad48",
        "colab": {
          "base_uri": "https://localhost:8080/",
          "height": 0
        }
      },
      "source": [
        "comments_df1['2013_time_health_center_hours'] = hours_to_healthcenter(comments_df1)\n",
        "comments_df1.head()"
      ],
      "execution_count": 228,
      "outputs": [
        {
          "output_type": "execute_result",
          "data": {
            "text/html": [
              "<div>\n",
              "<style scoped>\n",
              "    .dataframe tbody tr th:only-of-type {\n",
              "        vertical-align: middle;\n",
              "    }\n",
              "\n",
              "    .dataframe tbody tr th {\n",
              "        vertical-align: top;\n",
              "    }\n",
              "\n",
              "    .dataframe thead th {\n",
              "        text-align: right;\n",
              "    }\n",
              "</style>\n",
              "<table border=\"1\" class=\"dataframe\">\n",
              "  <thead>\n",
              "    <tr style=\"text-align: right;\">\n",
              "      <th></th>\n",
              "      <th>Bridge Opportunity: Project Code</th>\n",
              "      <th>Bridge Opportunity: Comments</th>\n",
              "      <th>2013_bridge_elevation_meters</th>\n",
              "      <th>2013_Cell</th>\n",
              "      <th>2013_bridge_connects</th>\n",
              "      <th>2013_cross_river_perday</th>\n",
              "      <th>2013_nearby_city_centers</th>\n",
              "      <th>2013_dangerous_to_cross(months)</th>\n",
              "      <th>2013_current_river_crossing</th>\n",
              "      <th>2013_time_to_nearest_safe_crossing_hours</th>\n",
              "      <th>2013_time_to_nearest_hospital_hours</th>\n",
              "      <th>2013_time_health_center_hours</th>\n",
              "    </tr>\n",
              "  </thead>\n",
              "  <tbody>\n",
              "    <tr>\n",
              "      <th>0</th>\n",
              "      <td>1009317</td>\n",
              "      <td>steep slopes to deal with for anchors</td>\n",
              "      <td>NaN</td>\n",
              "      <td>None</td>\n",
              "      <td>None</td>\n",
              "      <td>None</td>\n",
              "      <td>None</td>\n",
              "      <td>None</td>\n",
              "      <td>None</td>\n",
              "      <td>None</td>\n",
              "      <td>None</td>\n",
              "      <td>None</td>\n",
              "    </tr>\n",
              "    <tr>\n",
              "      <th>1</th>\n",
              "      <td>1007325</td>\n",
              "      <td>NaN</td>\n",
              "      <td>NaN</td>\n",
              "      <td>None</td>\n",
              "      <td>None</td>\n",
              "      <td>None</td>\n",
              "      <td>None</td>\n",
              "      <td>None</td>\n",
              "      <td>None</td>\n",
              "      <td>None</td>\n",
              "      <td>None</td>\n",
              "      <td>None</td>\n",
              "    </tr>\n",
              "    <tr>\n",
              "      <th>2</th>\n",
              "      <td>1007374</td>\n",
              "      <td>likely piloting steel decking on this bridge. ...</td>\n",
              "      <td>1630.0</td>\n",
              "      <td>karambi-gasumba</td>\n",
              "      <td>None</td>\n",
              "      <td>None</td>\n",
              "      <td>-karambi -nyamagabe</td>\n",
              "      <td>6-9</td>\n",
              "      <td>simple timber bridge</td>\n",
              "      <td>&gt;3</td>\n",
              "      <td>0.5-1</td>\n",
              "      <td>0.5</td>\n",
              "    </tr>\n",
              "    <tr>\n",
              "      <th>3</th>\n",
              "      <td>1007466</td>\n",
              "      <td>3000-6000 people directly served, elevation:21...</td>\n",
              "      <td>2101.0</td>\n",
              "      <td>rugogwe</td>\n",
              "      <td>None</td>\n",
              "      <td>300-600</td>\n",
              "      <td>-kizimyamuriro</td>\n",
              "      <td>3-6</td>\n",
              "      <td>simple timber bridge</td>\n",
              "      <td>2-3</td>\n",
              "      <td>&gt;6</td>\n",
              "      <td>0.5-1</td>\n",
              "    </tr>\n",
              "    <tr>\n",
              "      <th>4</th>\n",
              "      <td>1007495</td>\n",
              "      <td>not duplicate 500-1000 people directly served,...</td>\n",
              "      <td>1522.0</td>\n",
              "      <td>gasave</td>\n",
              "      <td>None</td>\n",
              "      <td>50-150</td>\n",
              "      <td>-rwesero -giti -butare</td>\n",
              "      <td>3-6</td>\n",
              "      <td>simple timber bridge</td>\n",
              "      <td>&gt;3</td>\n",
              "      <td>2-6</td>\n",
              "      <td>None</td>\n",
              "    </tr>\n",
              "  </tbody>\n",
              "</table>\n",
              "</div>"
            ],
            "text/plain": [
              "  Bridge Opportunity: Project Code  ... 2013_time_health_center_hours\n",
              "0                          1009317  ...                          None\n",
              "1                          1007325  ...                          None\n",
              "2                          1007374  ...                           0.5\n",
              "3                          1007466  ...                         0.5-1\n",
              "4                          1007495  ...                          None\n",
              "\n",
              "[5 rows x 12 columns]"
            ]
          },
          "metadata": {
            "tags": []
          },
          "execution_count": 228
        }
      ]
    },
    {
      "cell_type": "code",
      "metadata": {
        "id": "Up5f2MhRdQYW"
      },
      "source": [
        ""
      ],
      "execution_count": 228,
      "outputs": []
    },
    {
      "cell_type": "markdown",
      "metadata": {
        "id": "Ot3E1kywC-M8"
      },
      "source": [
        "## Hours Walking to reach the market"
      ]
    },
    {
      "cell_type": "code",
      "metadata": {
        "id": "A5kxCpgGDSsZ"
      },
      "source": [
        "def hours_to_market(df):\n",
        "  \"\"\" This function Iterates through every row in the inputed Dataframe. \n",
        "  It will save over the variable s with the contents of the row for \"Bridge Opportunity: Comments\". \n",
        "  It then uses RegEx to identify cases of elevation in the text data. If a match is found it is apppended to \n",
        "  an empty list. if there is no match \"none\" is appended to the list. Upon reaching the end of the Dataframe \n",
        "  the list is returned and used to create a new column. Hours walking to reach the Hospital-0.5-1\"\"\" \n",
        "  new_col = []\n",
        "  for i, row in df.iterrows():\n",
        "    s = str(row[\"Bridge Opportunity: Comments\"])\n",
        "    p = re.search('hours\\swalking\\sto\\sreach\\sthe\\shealth\\scenter\\S{1,2}(\\d.?\\d?-?\\d?)',s)\n",
        "    if p:\n",
        "      new_col.append(str(p.group()[41:]))\n",
        "    else:\n",
        "      new_col.append(p)\n",
        "  return new_col"
      ],
      "execution_count": 229,
      "outputs": []
    },
    {
      "cell_type": "code",
      "metadata": {
        "id": "KP4CpkcaDYGY",
        "outputId": "b6a89a3b-b0bb-470f-a1c7-5c0c9c909b82",
        "colab": {
          "base_uri": "https://localhost:8080/"
        }
      },
      "source": [
        "listus = hours_to_healthcenter(test_df)\n",
        "\n",
        "print(listus)"
      ],
      "execution_count": 230,
      "outputs": [
        {
          "output_type": "stream",
          "text": [
            "[None, None, '0.5', '0.5-1', None, '1-2', '1-2', '0.5', '2-6', '0.5', '1-2', '0.5', '1-2', '0.5-1', '1-2']\n"
          ],
          "name": "stdout"
        }
      ]
    },
    {
      "cell_type": "code",
      "metadata": {
        "id": "zU25e-PADaD-",
        "outputId": "8c35c819-e9f6-42b8-d5e9-849e890200bf",
        "colab": {
          "base_uri": "https://localhost:8080/",
          "height": 0
        }
      },
      "source": [
        "test_df['2013_time_to_market(Hours_walking)'] = hours_to_market(test_df)\n",
        "\n",
        "test_df.head()"
      ],
      "execution_count": 231,
      "outputs": [
        {
          "output_type": "stream",
          "text": [
            "/usr/local/lib/python3.6/dist-packages/ipykernel_launcher.py:1: SettingWithCopyWarning: \n",
            "A value is trying to be set on a copy of a slice from a DataFrame.\n",
            "Try using .loc[row_indexer,col_indexer] = value instead\n",
            "\n",
            "See the caveats in the documentation: https://pandas.pydata.org/pandas-docs/stable/user_guide/indexing.html#returning-a-view-versus-a-copy\n",
            "  \"\"\"Entry point for launching an IPython kernel.\n"
          ],
          "name": "stderr"
        },
        {
          "output_type": "execute_result",
          "data": {
            "text/html": [
              "<div>\n",
              "<style scoped>\n",
              "    .dataframe tbody tr th:only-of-type {\n",
              "        vertical-align: middle;\n",
              "    }\n",
              "\n",
              "    .dataframe tbody tr th {\n",
              "        vertical-align: top;\n",
              "    }\n",
              "\n",
              "    .dataframe thead th {\n",
              "        text-align: right;\n",
              "    }\n",
              "</style>\n",
              "<table border=\"1\" class=\"dataframe\">\n",
              "  <thead>\n",
              "    <tr style=\"text-align: right;\">\n",
              "      <th></th>\n",
              "      <th>Bridge Opportunity: Project Code</th>\n",
              "      <th>Bridge Opportunity: Comments</th>\n",
              "      <th>2013 Bridge Elevation (Meters)</th>\n",
              "      <th>2013 Cell</th>\n",
              "      <th>2013_bridge_connecting</th>\n",
              "      <th>2013_cross_river_day</th>\n",
              "      <th>2013_nearby_city_centers</th>\n",
              "      <th>2013_dangerous_to_cross_months</th>\n",
              "      <th>2013_current_river_crossing</th>\n",
              "      <th>2013_time_to_nearest_safe_crossing_hours</th>\n",
              "      <th>2013_time_to_nearest_hospital(Hours_walking)</th>\n",
              "      <th>2013_time_to_nearest_health_center(Hours_walking)</th>\n",
              "      <th>2013_time_to_market(Hours_walking)</th>\n",
              "    </tr>\n",
              "  </thead>\n",
              "  <tbody>\n",
              "    <tr>\n",
              "      <th>0</th>\n",
              "      <td>1009317</td>\n",
              "      <td>steep slopes to deal with for anchors</td>\n",
              "      <td>NaN</td>\n",
              "      <td>None</td>\n",
              "      <td>None</td>\n",
              "      <td>None</td>\n",
              "      <td>None</td>\n",
              "      <td>None</td>\n",
              "      <td>None</td>\n",
              "      <td>None</td>\n",
              "      <td>None</td>\n",
              "      <td>None</td>\n",
              "      <td>None</td>\n",
              "    </tr>\n",
              "    <tr>\n",
              "      <th>1</th>\n",
              "      <td>1007325</td>\n",
              "      <td>NaN</td>\n",
              "      <td>NaN</td>\n",
              "      <td>None</td>\n",
              "      <td>None</td>\n",
              "      <td>None</td>\n",
              "      <td>None</td>\n",
              "      <td>None</td>\n",
              "      <td>None</td>\n",
              "      <td>None</td>\n",
              "      <td>None</td>\n",
              "      <td>None</td>\n",
              "      <td>None</td>\n",
              "    </tr>\n",
              "    <tr>\n",
              "      <th>2</th>\n",
              "      <td>1007374</td>\n",
              "      <td>likely piloting steel decking on this bridge. ...</td>\n",
              "      <td>1630.0</td>\n",
              "      <td>karambi-gasumba</td>\n",
              "      <td>None</td>\n",
              "      <td>None</td>\n",
              "      <td>-karambi -nyamagabe</td>\n",
              "      <td>6-9</td>\n",
              "      <td>simple timber bridge</td>\n",
              "      <td>3</td>\n",
              "      <td>0.5-1</td>\n",
              "      <td>0.5</td>\n",
              "      <td>0.5</td>\n",
              "    </tr>\n",
              "    <tr>\n",
              "      <th>3</th>\n",
              "      <td>1007466</td>\n",
              "      <td>3000-6000 people directly served, elevation:21...</td>\n",
              "      <td>2101.0</td>\n",
              "      <td>rugogwe</td>\n",
              "      <td>None</td>\n",
              "      <td>300-600</td>\n",
              "      <td>-kizimyamuriro</td>\n",
              "      <td>3-6</td>\n",
              "      <td>simple timber bridge</td>\n",
              "      <td>2-3</td>\n",
              "      <td>&gt;6</td>\n",
              "      <td>0.5-1</td>\n",
              "      <td>0.5-1</td>\n",
              "    </tr>\n",
              "    <tr>\n",
              "      <th>4</th>\n",
              "      <td>1007495</td>\n",
              "      <td>not duplicate 500-1000 people directly served,...</td>\n",
              "      <td>1522.0</td>\n",
              "      <td>gasave</td>\n",
              "      <td>None</td>\n",
              "      <td>50-150</td>\n",
              "      <td>-rwesero -giti -butare</td>\n",
              "      <td>3-6</td>\n",
              "      <td>simple timber bridge</td>\n",
              "      <td>3</td>\n",
              "      <td>2-6</td>\n",
              "      <td>None</td>\n",
              "      <td>None</td>\n",
              "    </tr>\n",
              "  </tbody>\n",
              "</table>\n",
              "</div>"
            ],
            "text/plain": [
              "  Bridge Opportunity: Project Code  ... 2013_time_to_market(Hours_walking)\n",
              "0                          1009317  ...                               None\n",
              "1                          1007325  ...                               None\n",
              "2                          1007374  ...                                0.5\n",
              "3                          1007466  ...                              0.5-1\n",
              "4                          1007495  ...                               None\n",
              "\n",
              "[5 rows x 13 columns]"
            ]
          },
          "metadata": {
            "tags": []
          },
          "execution_count": 231
        }
      ]
    },
    {
      "cell_type": "markdown",
      "metadata": {
        "id": "su2c59P5DkfY"
      },
      "source": [
        "Apply to DataFrame"
      ]
    },
    {
      "cell_type": "code",
      "metadata": {
        "id": "x6cQvd5MDhO-",
        "outputId": "359c28eb-c158-4de9-aba4-e1999cfd29df",
        "colab": {
          "base_uri": "https://localhost:8080/",
          "height": 0
        }
      },
      "source": [
        "comments_df1['2013_time_market_hours'] = hours_to_market(comments_df1)\n",
        "comments_df1.head()"
      ],
      "execution_count": 232,
      "outputs": [
        {
          "output_type": "execute_result",
          "data": {
            "text/html": [
              "<div>\n",
              "<style scoped>\n",
              "    .dataframe tbody tr th:only-of-type {\n",
              "        vertical-align: middle;\n",
              "    }\n",
              "\n",
              "    .dataframe tbody tr th {\n",
              "        vertical-align: top;\n",
              "    }\n",
              "\n",
              "    .dataframe thead th {\n",
              "        text-align: right;\n",
              "    }\n",
              "</style>\n",
              "<table border=\"1\" class=\"dataframe\">\n",
              "  <thead>\n",
              "    <tr style=\"text-align: right;\">\n",
              "      <th></th>\n",
              "      <th>Bridge Opportunity: Project Code</th>\n",
              "      <th>Bridge Opportunity: Comments</th>\n",
              "      <th>2013_bridge_elevation_meters</th>\n",
              "      <th>2013_Cell</th>\n",
              "      <th>2013_bridge_connects</th>\n",
              "      <th>2013_cross_river_perday</th>\n",
              "      <th>2013_nearby_city_centers</th>\n",
              "      <th>2013_dangerous_to_cross(months)</th>\n",
              "      <th>2013_current_river_crossing</th>\n",
              "      <th>2013_time_to_nearest_safe_crossing_hours</th>\n",
              "      <th>2013_time_to_nearest_hospital_hours</th>\n",
              "      <th>2013_time_health_center_hours</th>\n",
              "      <th>2013_time_market_hours</th>\n",
              "    </tr>\n",
              "  </thead>\n",
              "  <tbody>\n",
              "    <tr>\n",
              "      <th>0</th>\n",
              "      <td>1009317</td>\n",
              "      <td>steep slopes to deal with for anchors</td>\n",
              "      <td>NaN</td>\n",
              "      <td>None</td>\n",
              "      <td>None</td>\n",
              "      <td>None</td>\n",
              "      <td>None</td>\n",
              "      <td>None</td>\n",
              "      <td>None</td>\n",
              "      <td>None</td>\n",
              "      <td>None</td>\n",
              "      <td>None</td>\n",
              "      <td>None</td>\n",
              "    </tr>\n",
              "    <tr>\n",
              "      <th>1</th>\n",
              "      <td>1007325</td>\n",
              "      <td>NaN</td>\n",
              "      <td>NaN</td>\n",
              "      <td>None</td>\n",
              "      <td>None</td>\n",
              "      <td>None</td>\n",
              "      <td>None</td>\n",
              "      <td>None</td>\n",
              "      <td>None</td>\n",
              "      <td>None</td>\n",
              "      <td>None</td>\n",
              "      <td>None</td>\n",
              "      <td>None</td>\n",
              "    </tr>\n",
              "    <tr>\n",
              "      <th>2</th>\n",
              "      <td>1007374</td>\n",
              "      <td>likely piloting steel decking on this bridge. ...</td>\n",
              "      <td>1630.0</td>\n",
              "      <td>karambi-gasumba</td>\n",
              "      <td>None</td>\n",
              "      <td>None</td>\n",
              "      <td>-karambi -nyamagabe</td>\n",
              "      <td>6-9</td>\n",
              "      <td>simple timber bridge</td>\n",
              "      <td>&gt;3</td>\n",
              "      <td>0.5-1</td>\n",
              "      <td>0.5</td>\n",
              "      <td>0.5</td>\n",
              "    </tr>\n",
              "    <tr>\n",
              "      <th>3</th>\n",
              "      <td>1007466</td>\n",
              "      <td>3000-6000 people directly served, elevation:21...</td>\n",
              "      <td>2101.0</td>\n",
              "      <td>rugogwe</td>\n",
              "      <td>None</td>\n",
              "      <td>300-600</td>\n",
              "      <td>-kizimyamuriro</td>\n",
              "      <td>3-6</td>\n",
              "      <td>simple timber bridge</td>\n",
              "      <td>2-3</td>\n",
              "      <td>&gt;6</td>\n",
              "      <td>0.5-1</td>\n",
              "      <td>0.5-1</td>\n",
              "    </tr>\n",
              "    <tr>\n",
              "      <th>4</th>\n",
              "      <td>1007495</td>\n",
              "      <td>not duplicate 500-1000 people directly served,...</td>\n",
              "      <td>1522.0</td>\n",
              "      <td>gasave</td>\n",
              "      <td>None</td>\n",
              "      <td>50-150</td>\n",
              "      <td>-rwesero -giti -butare</td>\n",
              "      <td>3-6</td>\n",
              "      <td>simple timber bridge</td>\n",
              "      <td>&gt;3</td>\n",
              "      <td>2-6</td>\n",
              "      <td>None</td>\n",
              "      <td>None</td>\n",
              "    </tr>\n",
              "  </tbody>\n",
              "</table>\n",
              "</div>"
            ],
            "text/plain": [
              "  Bridge Opportunity: Project Code  ... 2013_time_market_hours\n",
              "0                          1009317  ...                   None\n",
              "1                          1007325  ...                   None\n",
              "2                          1007374  ...                    0.5\n",
              "3                          1007466  ...                  0.5-1\n",
              "4                          1007495  ...                   None\n",
              "\n",
              "[5 rows x 13 columns]"
            ]
          },
          "metadata": {
            "tags": []
          },
          "execution_count": 232
        }
      ]
    },
    {
      "cell_type": "code",
      "metadata": {
        "id": "drGwfJ92DsB7",
        "outputId": "58c3e3b3-0035-4237-ba45-1384c240ec38",
        "colab": {
          "base_uri": "https://localhost:8080/"
        }
      },
      "source": [
        "comments_df1['2013_time_market_hours'].value_counts().sum()"
      ],
      "execution_count": 233,
      "outputs": [
        {
          "output_type": "execute_result",
          "data": {
            "text/plain": [
              "249"
            ]
          },
          "metadata": {
            "tags": []
          },
          "execution_count": 233
        }
      ]
    },
    {
      "cell_type": "code",
      "metadata": {
        "id": "Y3EcMTB9DxJN"
      },
      "source": [
        ""
      ],
      "execution_count": 233,
      "outputs": []
    },
    {
      "cell_type": "markdown",
      "metadata": {
        "id": "b-2Ey15ND2ux"
      },
      "source": [
        "## Hours Walking to reach primary school"
      ]
    },
    {
      "cell_type": "code",
      "metadata": {
        "id": "bqXFmA4kEJJw"
      },
      "source": [
        "def hours_to_primary_school(df):\n",
        "  \"\"\" This function Iterates through every row in the inputed Dataframe. \n",
        "  It will save over the variable s with the contents of the row for \"Bridge Opportunity: Comments\". \n",
        "  It then uses RegEx to identify cases of elevation in the text data. If a match is found it is apppended to \n",
        "  an empty list. if there is no match \"none\" is appended to the list. Upon reaching the end of the Dataframe \n",
        "  the list is returned and used to create a new column. Hours walking to reach the Hospital-0.5-1\"\"\" \n",
        "  new_col = []\n",
        "  for i, row in df.iterrows():\n",
        "    s = str(row[\"Bridge Opportunity: Comments\"])\n",
        "    p = re.search('hours\\swalking\\sto\\sreach\\sprimary\\sschool\\S{1,2}(\\d.?\\d?-?\\d?)',s)\n",
        "    if p:\n",
        "      new_col.append(str(p.group()[38:]))\n",
        "    else:\n",
        "      new_col.append(p)\n",
        "  return new_col"
      ],
      "execution_count": 234,
      "outputs": []
    },
    {
      "cell_type": "code",
      "metadata": {
        "id": "xoUUCf-VEUEe",
        "outputId": "1fb57ffd-d5f8-435b-bca9-86076b27080f",
        "colab": {
          "base_uri": "https://localhost:8080/"
        }
      },
      "source": [
        "listus = hours_to_primary_school(test_df)\n",
        "\n",
        "print(listus)"
      ],
      "execution_count": 235,
      "outputs": [
        {
          "output_type": "stream",
          "text": [
            "[None, None, '0.5', '0.5-1', '0.5-1', '0.5-1', '0.5-1', '0.5', '0.5', '0.5', '0.5-1', '0.5', '0.5-1', '0.5-1', '0.5']\n"
          ],
          "name": "stdout"
        }
      ]
    },
    {
      "cell_type": "code",
      "metadata": {
        "id": "udRpJy0OEapl",
        "outputId": "04318d33-5304-43b8-ae5c-f8a0b84b715b",
        "colab": {
          "base_uri": "https://localhost:8080/",
          "height": 0
        }
      },
      "source": [
        "test_df['2013_time_to_primary_school_hours'] = hours_to_primary_school(test_df)\n",
        "\n",
        "test_df.head()"
      ],
      "execution_count": 236,
      "outputs": [
        {
          "output_type": "stream",
          "text": [
            "/usr/local/lib/python3.6/dist-packages/ipykernel_launcher.py:1: SettingWithCopyWarning: \n",
            "A value is trying to be set on a copy of a slice from a DataFrame.\n",
            "Try using .loc[row_indexer,col_indexer] = value instead\n",
            "\n",
            "See the caveats in the documentation: https://pandas.pydata.org/pandas-docs/stable/user_guide/indexing.html#returning-a-view-versus-a-copy\n",
            "  \"\"\"Entry point for launching an IPython kernel.\n"
          ],
          "name": "stderr"
        },
        {
          "output_type": "execute_result",
          "data": {
            "text/html": [
              "<div>\n",
              "<style scoped>\n",
              "    .dataframe tbody tr th:only-of-type {\n",
              "        vertical-align: middle;\n",
              "    }\n",
              "\n",
              "    .dataframe tbody tr th {\n",
              "        vertical-align: top;\n",
              "    }\n",
              "\n",
              "    .dataframe thead th {\n",
              "        text-align: right;\n",
              "    }\n",
              "</style>\n",
              "<table border=\"1\" class=\"dataframe\">\n",
              "  <thead>\n",
              "    <tr style=\"text-align: right;\">\n",
              "      <th></th>\n",
              "      <th>Bridge Opportunity: Project Code</th>\n",
              "      <th>Bridge Opportunity: Comments</th>\n",
              "      <th>2013 Bridge Elevation (Meters)</th>\n",
              "      <th>2013 Cell</th>\n",
              "      <th>2013_bridge_connecting</th>\n",
              "      <th>2013_cross_river_day</th>\n",
              "      <th>2013_nearby_city_centers</th>\n",
              "      <th>2013_dangerous_to_cross_months</th>\n",
              "      <th>2013_current_river_crossing</th>\n",
              "      <th>2013_time_to_nearest_safe_crossing_hours</th>\n",
              "      <th>2013_time_to_nearest_hospital(Hours_walking)</th>\n",
              "      <th>2013_time_to_nearest_health_center(Hours_walking)</th>\n",
              "      <th>2013_time_to_market(Hours_walking)</th>\n",
              "      <th>2013_time_to_primary_school_hours</th>\n",
              "    </tr>\n",
              "  </thead>\n",
              "  <tbody>\n",
              "    <tr>\n",
              "      <th>0</th>\n",
              "      <td>1009317</td>\n",
              "      <td>steep slopes to deal with for anchors</td>\n",
              "      <td>NaN</td>\n",
              "      <td>None</td>\n",
              "      <td>None</td>\n",
              "      <td>None</td>\n",
              "      <td>None</td>\n",
              "      <td>None</td>\n",
              "      <td>None</td>\n",
              "      <td>None</td>\n",
              "      <td>None</td>\n",
              "      <td>None</td>\n",
              "      <td>None</td>\n",
              "      <td>None</td>\n",
              "    </tr>\n",
              "    <tr>\n",
              "      <th>1</th>\n",
              "      <td>1007325</td>\n",
              "      <td>NaN</td>\n",
              "      <td>NaN</td>\n",
              "      <td>None</td>\n",
              "      <td>None</td>\n",
              "      <td>None</td>\n",
              "      <td>None</td>\n",
              "      <td>None</td>\n",
              "      <td>None</td>\n",
              "      <td>None</td>\n",
              "      <td>None</td>\n",
              "      <td>None</td>\n",
              "      <td>None</td>\n",
              "      <td>None</td>\n",
              "    </tr>\n",
              "    <tr>\n",
              "      <th>2</th>\n",
              "      <td>1007374</td>\n",
              "      <td>likely piloting steel decking on this bridge. ...</td>\n",
              "      <td>1630.0</td>\n",
              "      <td>karambi-gasumba</td>\n",
              "      <td>None</td>\n",
              "      <td>None</td>\n",
              "      <td>-karambi -nyamagabe</td>\n",
              "      <td>6-9</td>\n",
              "      <td>simple timber bridge</td>\n",
              "      <td>3</td>\n",
              "      <td>0.5-1</td>\n",
              "      <td>0.5</td>\n",
              "      <td>0.5</td>\n",
              "      <td>0.5</td>\n",
              "    </tr>\n",
              "    <tr>\n",
              "      <th>3</th>\n",
              "      <td>1007466</td>\n",
              "      <td>3000-6000 people directly served, elevation:21...</td>\n",
              "      <td>2101.0</td>\n",
              "      <td>rugogwe</td>\n",
              "      <td>None</td>\n",
              "      <td>300-600</td>\n",
              "      <td>-kizimyamuriro</td>\n",
              "      <td>3-6</td>\n",
              "      <td>simple timber bridge</td>\n",
              "      <td>2-3</td>\n",
              "      <td>&gt;6</td>\n",
              "      <td>0.5-1</td>\n",
              "      <td>0.5-1</td>\n",
              "      <td>0.5-1</td>\n",
              "    </tr>\n",
              "    <tr>\n",
              "      <th>4</th>\n",
              "      <td>1007495</td>\n",
              "      <td>not duplicate 500-1000 people directly served,...</td>\n",
              "      <td>1522.0</td>\n",
              "      <td>gasave</td>\n",
              "      <td>None</td>\n",
              "      <td>50-150</td>\n",
              "      <td>-rwesero -giti -butare</td>\n",
              "      <td>3-6</td>\n",
              "      <td>simple timber bridge</td>\n",
              "      <td>3</td>\n",
              "      <td>2-6</td>\n",
              "      <td>None</td>\n",
              "      <td>None</td>\n",
              "      <td>0.5-1</td>\n",
              "    </tr>\n",
              "  </tbody>\n",
              "</table>\n",
              "</div>"
            ],
            "text/plain": [
              "  Bridge Opportunity: Project Code  ... 2013_time_to_primary_school_hours\n",
              "0                          1009317  ...                              None\n",
              "1                          1007325  ...                              None\n",
              "2                          1007374  ...                               0.5\n",
              "3                          1007466  ...                             0.5-1\n",
              "4                          1007495  ...                             0.5-1\n",
              "\n",
              "[5 rows x 14 columns]"
            ]
          },
          "metadata": {
            "tags": []
          },
          "execution_count": 236
        }
      ]
    },
    {
      "cell_type": "markdown",
      "metadata": {
        "id": "dAkwLXkAEp-D"
      },
      "source": [
        "Apply to DataFrame"
      ]
    },
    {
      "cell_type": "code",
      "metadata": {
        "id": "J0pYgVdsEkvb",
        "outputId": "0f665261-f776-4ce1-f13a-6cccbb7afe61",
        "colab": {
          "base_uri": "https://localhost:8080/",
          "height": 0
        }
      },
      "source": [
        "comments_df1['2013_time_primary_school_hours'] = hours_to_primary_school(comments_df1)\n",
        "comments_df1.head()"
      ],
      "execution_count": 237,
      "outputs": [
        {
          "output_type": "execute_result",
          "data": {
            "text/html": [
              "<div>\n",
              "<style scoped>\n",
              "    .dataframe tbody tr th:only-of-type {\n",
              "        vertical-align: middle;\n",
              "    }\n",
              "\n",
              "    .dataframe tbody tr th {\n",
              "        vertical-align: top;\n",
              "    }\n",
              "\n",
              "    .dataframe thead th {\n",
              "        text-align: right;\n",
              "    }\n",
              "</style>\n",
              "<table border=\"1\" class=\"dataframe\">\n",
              "  <thead>\n",
              "    <tr style=\"text-align: right;\">\n",
              "      <th></th>\n",
              "      <th>Bridge Opportunity: Project Code</th>\n",
              "      <th>Bridge Opportunity: Comments</th>\n",
              "      <th>2013_bridge_elevation_meters</th>\n",
              "      <th>2013_Cell</th>\n",
              "      <th>2013_bridge_connects</th>\n",
              "      <th>2013_cross_river_perday</th>\n",
              "      <th>2013_nearby_city_centers</th>\n",
              "      <th>2013_dangerous_to_cross(months)</th>\n",
              "      <th>2013_current_river_crossing</th>\n",
              "      <th>2013_time_to_nearest_safe_crossing_hours</th>\n",
              "      <th>2013_time_to_nearest_hospital_hours</th>\n",
              "      <th>2013_time_health_center_hours</th>\n",
              "      <th>2013_time_market_hours</th>\n",
              "      <th>2013_time_primary_school_hours</th>\n",
              "    </tr>\n",
              "  </thead>\n",
              "  <tbody>\n",
              "    <tr>\n",
              "      <th>0</th>\n",
              "      <td>1009317</td>\n",
              "      <td>steep slopes to deal with for anchors</td>\n",
              "      <td>NaN</td>\n",
              "      <td>None</td>\n",
              "      <td>None</td>\n",
              "      <td>None</td>\n",
              "      <td>None</td>\n",
              "      <td>None</td>\n",
              "      <td>None</td>\n",
              "      <td>None</td>\n",
              "      <td>None</td>\n",
              "      <td>None</td>\n",
              "      <td>None</td>\n",
              "      <td>None</td>\n",
              "    </tr>\n",
              "    <tr>\n",
              "      <th>1</th>\n",
              "      <td>1007325</td>\n",
              "      <td>NaN</td>\n",
              "      <td>NaN</td>\n",
              "      <td>None</td>\n",
              "      <td>None</td>\n",
              "      <td>None</td>\n",
              "      <td>None</td>\n",
              "      <td>None</td>\n",
              "      <td>None</td>\n",
              "      <td>None</td>\n",
              "      <td>None</td>\n",
              "      <td>None</td>\n",
              "      <td>None</td>\n",
              "      <td>None</td>\n",
              "    </tr>\n",
              "    <tr>\n",
              "      <th>2</th>\n",
              "      <td>1007374</td>\n",
              "      <td>likely piloting steel decking on this bridge. ...</td>\n",
              "      <td>1630.0</td>\n",
              "      <td>karambi-gasumba</td>\n",
              "      <td>None</td>\n",
              "      <td>None</td>\n",
              "      <td>-karambi -nyamagabe</td>\n",
              "      <td>6-9</td>\n",
              "      <td>simple timber bridge</td>\n",
              "      <td>&gt;3</td>\n",
              "      <td>0.5-1</td>\n",
              "      <td>0.5</td>\n",
              "      <td>0.5</td>\n",
              "      <td>0.5</td>\n",
              "    </tr>\n",
              "    <tr>\n",
              "      <th>3</th>\n",
              "      <td>1007466</td>\n",
              "      <td>3000-6000 people directly served, elevation:21...</td>\n",
              "      <td>2101.0</td>\n",
              "      <td>rugogwe</td>\n",
              "      <td>None</td>\n",
              "      <td>300-600</td>\n",
              "      <td>-kizimyamuriro</td>\n",
              "      <td>3-6</td>\n",
              "      <td>simple timber bridge</td>\n",
              "      <td>2-3</td>\n",
              "      <td>&gt;6</td>\n",
              "      <td>0.5-1</td>\n",
              "      <td>0.5-1</td>\n",
              "      <td>0.5-1</td>\n",
              "    </tr>\n",
              "    <tr>\n",
              "      <th>4</th>\n",
              "      <td>1007495</td>\n",
              "      <td>not duplicate 500-1000 people directly served,...</td>\n",
              "      <td>1522.0</td>\n",
              "      <td>gasave</td>\n",
              "      <td>None</td>\n",
              "      <td>50-150</td>\n",
              "      <td>-rwesero -giti -butare</td>\n",
              "      <td>3-6</td>\n",
              "      <td>simple timber bridge</td>\n",
              "      <td>&gt;3</td>\n",
              "      <td>2-6</td>\n",
              "      <td>None</td>\n",
              "      <td>None</td>\n",
              "      <td>0.5-1</td>\n",
              "    </tr>\n",
              "  </tbody>\n",
              "</table>\n",
              "</div>"
            ],
            "text/plain": [
              "  Bridge Opportunity: Project Code  ... 2013_time_primary_school_hours\n",
              "0                          1009317  ...                           None\n",
              "1                          1007325  ...                           None\n",
              "2                          1007374  ...                            0.5\n",
              "3                          1007466  ...                          0.5-1\n",
              "4                          1007495  ...                          0.5-1\n",
              "\n",
              "[5 rows x 14 columns]"
            ]
          },
          "metadata": {
            "tags": []
          },
          "execution_count": 237
        }
      ]
    },
    {
      "cell_type": "markdown",
      "metadata": {
        "id": "xxDhZmtyFCco"
      },
      "source": [
        "## Hours Walking to reach secondary school"
      ]
    },
    {
      "cell_type": "code",
      "metadata": {
        "id": "xc1We6VTEvsA"
      },
      "source": [
        "def hours_to_secondary_school(df):\n",
        "  \"\"\" This function Iterates through every row in the inputed Dataframe. \n",
        "  It will save over the variable s with the contents of the row for \"Bridge Opportunity: Comments\". \n",
        "  It then uses RegEx to identify cases of elevation in the text data. If a match is found it is apppended to \n",
        "  an empty list. if there is no match \"none\" is appended to the list. Upon reaching the end of the Dataframe \n",
        "  the list is returned and used to create a new column. Hours walking to reach the Hospital-0.5-1\"\"\" \n",
        "  new_col = []\n",
        "  for i, row in df.iterrows():\n",
        "    s = str(row[\"Bridge Opportunity: Comments\"])\n",
        "    p = re.search('hours\\swalking\\sto\\sreach\\ssecondary\\sschool\\S{1,2}(\\d.?\\d?-?\\d?)',s)\n",
        "    if p:\n",
        "      new_col.append(str(p.group()[40:]))\n",
        "    else:\n",
        "      new_col.append(p)\n",
        "  return new_col"
      ],
      "execution_count": 238,
      "outputs": []
    },
    {
      "cell_type": "code",
      "metadata": {
        "id": "eeZIAmMmFRuv",
        "outputId": "f8bd0e99-059a-4065-c825-c5b781db72df",
        "colab": {
          "base_uri": "https://localhost:8080/"
        }
      },
      "source": [
        "listus = hours_to_secondary_school(test_df)\n",
        "\n",
        "print(listus)"
      ],
      "execution_count": 239,
      "outputs": [
        {
          "output_type": "stream",
          "text": [
            "[None, None, '0.5', '0.5-1', '1-2', '0.5-1', '1-2', '0.5', '0.5', '0.5', '0.5-1', '0.5', '0.5-1', '0.5-1', '0.5']\n"
          ],
          "name": "stdout"
        }
      ]
    },
    {
      "cell_type": "code",
      "metadata": {
        "id": "Q1jWI-E0FXwv",
        "outputId": "55730b90-9d1e-4df3-98af-114fc73cc521",
        "colab": {
          "base_uri": "https://localhost:8080/",
          "height": 0
        }
      },
      "source": [
        "test_df['2013_time_to_secondary_school_hours'] = hours_to_secondary_school(test_df)\n",
        "\n",
        "test_df.head()"
      ],
      "execution_count": 240,
      "outputs": [
        {
          "output_type": "stream",
          "text": [
            "/usr/local/lib/python3.6/dist-packages/ipykernel_launcher.py:1: SettingWithCopyWarning: \n",
            "A value is trying to be set on a copy of a slice from a DataFrame.\n",
            "Try using .loc[row_indexer,col_indexer] = value instead\n",
            "\n",
            "See the caveats in the documentation: https://pandas.pydata.org/pandas-docs/stable/user_guide/indexing.html#returning-a-view-versus-a-copy\n",
            "  \"\"\"Entry point for launching an IPython kernel.\n"
          ],
          "name": "stderr"
        },
        {
          "output_type": "execute_result",
          "data": {
            "text/html": [
              "<div>\n",
              "<style scoped>\n",
              "    .dataframe tbody tr th:only-of-type {\n",
              "        vertical-align: middle;\n",
              "    }\n",
              "\n",
              "    .dataframe tbody tr th {\n",
              "        vertical-align: top;\n",
              "    }\n",
              "\n",
              "    .dataframe thead th {\n",
              "        text-align: right;\n",
              "    }\n",
              "</style>\n",
              "<table border=\"1\" class=\"dataframe\">\n",
              "  <thead>\n",
              "    <tr style=\"text-align: right;\">\n",
              "      <th></th>\n",
              "      <th>Bridge Opportunity: Project Code</th>\n",
              "      <th>Bridge Opportunity: Comments</th>\n",
              "      <th>2013 Bridge Elevation (Meters)</th>\n",
              "      <th>2013 Cell</th>\n",
              "      <th>2013_bridge_connecting</th>\n",
              "      <th>2013_cross_river_day</th>\n",
              "      <th>2013_nearby_city_centers</th>\n",
              "      <th>2013_dangerous_to_cross_months</th>\n",
              "      <th>2013_current_river_crossing</th>\n",
              "      <th>2013_time_to_nearest_safe_crossing_hours</th>\n",
              "      <th>2013_time_to_nearest_hospital(Hours_walking)</th>\n",
              "      <th>2013_time_to_nearest_health_center(Hours_walking)</th>\n",
              "      <th>2013_time_to_market(Hours_walking)</th>\n",
              "      <th>2013_time_to_primary_school_hours</th>\n",
              "      <th>2013_time_to_secondary_school_hours</th>\n",
              "    </tr>\n",
              "  </thead>\n",
              "  <tbody>\n",
              "    <tr>\n",
              "      <th>0</th>\n",
              "      <td>1009317</td>\n",
              "      <td>steep slopes to deal with for anchors</td>\n",
              "      <td>NaN</td>\n",
              "      <td>None</td>\n",
              "      <td>None</td>\n",
              "      <td>None</td>\n",
              "      <td>None</td>\n",
              "      <td>None</td>\n",
              "      <td>None</td>\n",
              "      <td>None</td>\n",
              "      <td>None</td>\n",
              "      <td>None</td>\n",
              "      <td>None</td>\n",
              "      <td>None</td>\n",
              "      <td>None</td>\n",
              "    </tr>\n",
              "    <tr>\n",
              "      <th>1</th>\n",
              "      <td>1007325</td>\n",
              "      <td>NaN</td>\n",
              "      <td>NaN</td>\n",
              "      <td>None</td>\n",
              "      <td>None</td>\n",
              "      <td>None</td>\n",
              "      <td>None</td>\n",
              "      <td>None</td>\n",
              "      <td>None</td>\n",
              "      <td>None</td>\n",
              "      <td>None</td>\n",
              "      <td>None</td>\n",
              "      <td>None</td>\n",
              "      <td>None</td>\n",
              "      <td>None</td>\n",
              "    </tr>\n",
              "    <tr>\n",
              "      <th>2</th>\n",
              "      <td>1007374</td>\n",
              "      <td>likely piloting steel decking on this bridge. ...</td>\n",
              "      <td>1630.0</td>\n",
              "      <td>karambi-gasumba</td>\n",
              "      <td>None</td>\n",
              "      <td>None</td>\n",
              "      <td>-karambi -nyamagabe</td>\n",
              "      <td>6-9</td>\n",
              "      <td>simple timber bridge</td>\n",
              "      <td>3</td>\n",
              "      <td>0.5-1</td>\n",
              "      <td>0.5</td>\n",
              "      <td>0.5</td>\n",
              "      <td>0.5</td>\n",
              "      <td>0.5</td>\n",
              "    </tr>\n",
              "    <tr>\n",
              "      <th>3</th>\n",
              "      <td>1007466</td>\n",
              "      <td>3000-6000 people directly served, elevation:21...</td>\n",
              "      <td>2101.0</td>\n",
              "      <td>rugogwe</td>\n",
              "      <td>None</td>\n",
              "      <td>300-600</td>\n",
              "      <td>-kizimyamuriro</td>\n",
              "      <td>3-6</td>\n",
              "      <td>simple timber bridge</td>\n",
              "      <td>2-3</td>\n",
              "      <td>&gt;6</td>\n",
              "      <td>0.5-1</td>\n",
              "      <td>0.5-1</td>\n",
              "      <td>0.5-1</td>\n",
              "      <td>0.5-1</td>\n",
              "    </tr>\n",
              "    <tr>\n",
              "      <th>4</th>\n",
              "      <td>1007495</td>\n",
              "      <td>not duplicate 500-1000 people directly served,...</td>\n",
              "      <td>1522.0</td>\n",
              "      <td>gasave</td>\n",
              "      <td>None</td>\n",
              "      <td>50-150</td>\n",
              "      <td>-rwesero -giti -butare</td>\n",
              "      <td>3-6</td>\n",
              "      <td>simple timber bridge</td>\n",
              "      <td>3</td>\n",
              "      <td>2-6</td>\n",
              "      <td>None</td>\n",
              "      <td>None</td>\n",
              "      <td>0.5-1</td>\n",
              "      <td>1-2</td>\n",
              "    </tr>\n",
              "  </tbody>\n",
              "</table>\n",
              "</div>"
            ],
            "text/plain": [
              "  Bridge Opportunity: Project Code  ... 2013_time_to_secondary_school_hours\n",
              "0                          1009317  ...                                None\n",
              "1                          1007325  ...                                None\n",
              "2                          1007374  ...                                 0.5\n",
              "3                          1007466  ...                               0.5-1\n",
              "4                          1007495  ...                                 1-2\n",
              "\n",
              "[5 rows x 15 columns]"
            ]
          },
          "metadata": {
            "tags": []
          },
          "execution_count": 240
        }
      ]
    },
    {
      "cell_type": "markdown",
      "metadata": {
        "id": "3L7GyAQ9FRR_"
      },
      "source": [
        "Apply to DataFrame"
      ]
    },
    {
      "cell_type": "code",
      "metadata": {
        "id": "Kx6LQdcJFjXo",
        "outputId": "7ef02f9b-1933-4639-9f0c-ffdc7f493c75",
        "colab": {
          "base_uri": "https://localhost:8080/",
          "height": 0
        }
      },
      "source": [
        "comments_df1['2013_time_secondary_school_hours'] = hours_to_secondary_school(comments_df1)\n",
        "comments_df1.head()"
      ],
      "execution_count": 241,
      "outputs": [
        {
          "output_type": "execute_result",
          "data": {
            "text/html": [
              "<div>\n",
              "<style scoped>\n",
              "    .dataframe tbody tr th:only-of-type {\n",
              "        vertical-align: middle;\n",
              "    }\n",
              "\n",
              "    .dataframe tbody tr th {\n",
              "        vertical-align: top;\n",
              "    }\n",
              "\n",
              "    .dataframe thead th {\n",
              "        text-align: right;\n",
              "    }\n",
              "</style>\n",
              "<table border=\"1\" class=\"dataframe\">\n",
              "  <thead>\n",
              "    <tr style=\"text-align: right;\">\n",
              "      <th></th>\n",
              "      <th>Bridge Opportunity: Project Code</th>\n",
              "      <th>Bridge Opportunity: Comments</th>\n",
              "      <th>2013_bridge_elevation_meters</th>\n",
              "      <th>2013_Cell</th>\n",
              "      <th>2013_bridge_connects</th>\n",
              "      <th>2013_cross_river_perday</th>\n",
              "      <th>2013_nearby_city_centers</th>\n",
              "      <th>2013_dangerous_to_cross(months)</th>\n",
              "      <th>2013_current_river_crossing</th>\n",
              "      <th>2013_time_to_nearest_safe_crossing_hours</th>\n",
              "      <th>2013_time_to_nearest_hospital_hours</th>\n",
              "      <th>2013_time_health_center_hours</th>\n",
              "      <th>2013_time_market_hours</th>\n",
              "      <th>2013_time_primary_school_hours</th>\n",
              "      <th>2013_time_secondary_school_hours</th>\n",
              "    </tr>\n",
              "  </thead>\n",
              "  <tbody>\n",
              "    <tr>\n",
              "      <th>0</th>\n",
              "      <td>1009317</td>\n",
              "      <td>steep slopes to deal with for anchors</td>\n",
              "      <td>NaN</td>\n",
              "      <td>None</td>\n",
              "      <td>None</td>\n",
              "      <td>None</td>\n",
              "      <td>None</td>\n",
              "      <td>None</td>\n",
              "      <td>None</td>\n",
              "      <td>None</td>\n",
              "      <td>None</td>\n",
              "      <td>None</td>\n",
              "      <td>None</td>\n",
              "      <td>None</td>\n",
              "      <td>None</td>\n",
              "    </tr>\n",
              "    <tr>\n",
              "      <th>1</th>\n",
              "      <td>1007325</td>\n",
              "      <td>NaN</td>\n",
              "      <td>NaN</td>\n",
              "      <td>None</td>\n",
              "      <td>None</td>\n",
              "      <td>None</td>\n",
              "      <td>None</td>\n",
              "      <td>None</td>\n",
              "      <td>None</td>\n",
              "      <td>None</td>\n",
              "      <td>None</td>\n",
              "      <td>None</td>\n",
              "      <td>None</td>\n",
              "      <td>None</td>\n",
              "      <td>None</td>\n",
              "    </tr>\n",
              "    <tr>\n",
              "      <th>2</th>\n",
              "      <td>1007374</td>\n",
              "      <td>likely piloting steel decking on this bridge. ...</td>\n",
              "      <td>1630.0</td>\n",
              "      <td>karambi-gasumba</td>\n",
              "      <td>None</td>\n",
              "      <td>None</td>\n",
              "      <td>-karambi -nyamagabe</td>\n",
              "      <td>6-9</td>\n",
              "      <td>simple timber bridge</td>\n",
              "      <td>&gt;3</td>\n",
              "      <td>0.5-1</td>\n",
              "      <td>0.5</td>\n",
              "      <td>0.5</td>\n",
              "      <td>0.5</td>\n",
              "      <td>0.5</td>\n",
              "    </tr>\n",
              "    <tr>\n",
              "      <th>3</th>\n",
              "      <td>1007466</td>\n",
              "      <td>3000-6000 people directly served, elevation:21...</td>\n",
              "      <td>2101.0</td>\n",
              "      <td>rugogwe</td>\n",
              "      <td>None</td>\n",
              "      <td>300-600</td>\n",
              "      <td>-kizimyamuriro</td>\n",
              "      <td>3-6</td>\n",
              "      <td>simple timber bridge</td>\n",
              "      <td>2-3</td>\n",
              "      <td>&gt;6</td>\n",
              "      <td>0.5-1</td>\n",
              "      <td>0.5-1</td>\n",
              "      <td>0.5-1</td>\n",
              "      <td>0.5-1</td>\n",
              "    </tr>\n",
              "    <tr>\n",
              "      <th>4</th>\n",
              "      <td>1007495</td>\n",
              "      <td>not duplicate 500-1000 people directly served,...</td>\n",
              "      <td>1522.0</td>\n",
              "      <td>gasave</td>\n",
              "      <td>None</td>\n",
              "      <td>50-150</td>\n",
              "      <td>-rwesero -giti -butare</td>\n",
              "      <td>3-6</td>\n",
              "      <td>simple timber bridge</td>\n",
              "      <td>&gt;3</td>\n",
              "      <td>2-6</td>\n",
              "      <td>None</td>\n",
              "      <td>None</td>\n",
              "      <td>0.5-1</td>\n",
              "      <td>1-2</td>\n",
              "    </tr>\n",
              "  </tbody>\n",
              "</table>\n",
              "</div>"
            ],
            "text/plain": [
              "  Bridge Opportunity: Project Code  ... 2013_time_secondary_school_hours\n",
              "0                          1009317  ...                             None\n",
              "1                          1007325  ...                             None\n",
              "2                          1007374  ...                              0.5\n",
              "3                          1007466  ...                            0.5-1\n",
              "4                          1007495  ...                              1-2\n",
              "\n",
              "[5 rows x 15 columns]"
            ]
          },
          "metadata": {
            "tags": []
          },
          "execution_count": 241
        }
      ]
    },
    {
      "cell_type": "code",
      "metadata": {
        "id": "nGVepip_FoSR",
        "outputId": "ba9ffc49-97bd-4a5e-9d05-80deba99a590",
        "colab": {
          "base_uri": "https://localhost:8080/"
        }
      },
      "source": [
        "comments_df1['2013_time_secondary_school_hours'].value_counts().sum()"
      ],
      "execution_count": 242,
      "outputs": [
        {
          "output_type": "execute_result",
          "data": {
            "text/plain": [
              "253"
            ]
          },
          "metadata": {
            "tags": []
          },
          "execution_count": 242
        }
      ]
    },
    {
      "cell_type": "code",
      "metadata": {
        "id": "RXmrUKCnFsoR"
      },
      "source": [
        ""
      ],
      "execution_count": 242,
      "outputs": []
    },
    {
      "cell_type": "markdown",
      "metadata": {
        "id": "x6KlscQ_F96d"
      },
      "source": [
        "## Hours Walking to Reach the Church"
      ]
    },
    {
      "cell_type": "code",
      "metadata": {
        "id": "gqRh0pXeGAgl"
      },
      "source": [
        "\n",
        "def hours_to_church(df):\n",
        "  \"\"\" This function Iterates through every row in the inputed Dataframe. \n",
        "  It will save over the variable s with the contents of the row for \"Bridge Opportunity: Comments\". \n",
        "  It then uses RegEx to identify cases of elevation in the text data. If a match is found it is apppended to \n",
        "  an empty list. if there is no match \"none\" is appended to the list. Upon reaching the end of the Dataframe \n",
        "  the list is returned and used to create a new column. Hours walking to reach the Hospital-0.5-1\"\"\" \n",
        "  new_col = []\n",
        "  for i, row in df.iterrows():\n",
        "    s = str(row[\"Bridge Opportunity: Comments\"])\n",
        "    p = re.search('hours\\swalking\\sto\\sreach\\sthe\\schurch\\S{1,2}(\\d.?\\d?-?\\d?)',s)\n",
        "    if p:\n",
        "      new_col.append(str(p.group()[34:]))\n",
        "    else:\n",
        "      new_col.append(p)\n",
        "  return new_col\n"
      ],
      "execution_count": 243,
      "outputs": []
    },
    {
      "cell_type": "code",
      "metadata": {
        "id": "gnCISWAwGGZ-",
        "outputId": "ee664353-0104-4819-b15d-fcfbf1996d41",
        "colab": {
          "base_uri": "https://localhost:8080/"
        }
      },
      "source": [
        "listus = hours_to_church(test_df)\n",
        "\n",
        "print(listus)"
      ],
      "execution_count": 244,
      "outputs": [
        {
          "output_type": "stream",
          "text": [
            "[None, None, '0.5', '0.5-1', '0.5-1', '0.5-1', '0.5-1', '0.5', '0.5', '0.5', '0.5-1', '0.5', '0.5-1', '0.5', '0.5']\n"
          ],
          "name": "stdout"
        }
      ]
    },
    {
      "cell_type": "code",
      "metadata": {
        "id": "MP_QmH7OGIIj",
        "outputId": "9721fe77-23e2-404a-dddc-3c275975b5db",
        "colab": {
          "base_uri": "https://localhost:8080/",
          "height": 0
        }
      },
      "source": [
        "test_df['2013_time_to_church(Hours_walking)'] = hours_to_church(test_df)\n",
        "\n",
        "test_df.head()"
      ],
      "execution_count": 245,
      "outputs": [
        {
          "output_type": "stream",
          "text": [
            "/usr/local/lib/python3.6/dist-packages/ipykernel_launcher.py:1: SettingWithCopyWarning: \n",
            "A value is trying to be set on a copy of a slice from a DataFrame.\n",
            "Try using .loc[row_indexer,col_indexer] = value instead\n",
            "\n",
            "See the caveats in the documentation: https://pandas.pydata.org/pandas-docs/stable/user_guide/indexing.html#returning-a-view-versus-a-copy\n",
            "  \"\"\"Entry point for launching an IPython kernel.\n"
          ],
          "name": "stderr"
        },
        {
          "output_type": "execute_result",
          "data": {
            "text/html": [
              "<div>\n",
              "<style scoped>\n",
              "    .dataframe tbody tr th:only-of-type {\n",
              "        vertical-align: middle;\n",
              "    }\n",
              "\n",
              "    .dataframe tbody tr th {\n",
              "        vertical-align: top;\n",
              "    }\n",
              "\n",
              "    .dataframe thead th {\n",
              "        text-align: right;\n",
              "    }\n",
              "</style>\n",
              "<table border=\"1\" class=\"dataframe\">\n",
              "  <thead>\n",
              "    <tr style=\"text-align: right;\">\n",
              "      <th></th>\n",
              "      <th>Bridge Opportunity: Project Code</th>\n",
              "      <th>Bridge Opportunity: Comments</th>\n",
              "      <th>2013 Bridge Elevation (Meters)</th>\n",
              "      <th>2013 Cell</th>\n",
              "      <th>2013_bridge_connecting</th>\n",
              "      <th>2013_cross_river_day</th>\n",
              "      <th>2013_nearby_city_centers</th>\n",
              "      <th>2013_dangerous_to_cross_months</th>\n",
              "      <th>2013_current_river_crossing</th>\n",
              "      <th>2013_time_to_nearest_safe_crossing_hours</th>\n",
              "      <th>2013_time_to_nearest_hospital(Hours_walking)</th>\n",
              "      <th>2013_time_to_nearest_health_center(Hours_walking)</th>\n",
              "      <th>2013_time_to_market(Hours_walking)</th>\n",
              "      <th>2013_time_to_primary_school_hours</th>\n",
              "      <th>2013_time_to_secondary_school_hours</th>\n",
              "      <th>2013_time_to_church(Hours_walking)</th>\n",
              "    </tr>\n",
              "  </thead>\n",
              "  <tbody>\n",
              "    <tr>\n",
              "      <th>0</th>\n",
              "      <td>1009317</td>\n",
              "      <td>steep slopes to deal with for anchors</td>\n",
              "      <td>NaN</td>\n",
              "      <td>None</td>\n",
              "      <td>None</td>\n",
              "      <td>None</td>\n",
              "      <td>None</td>\n",
              "      <td>None</td>\n",
              "      <td>None</td>\n",
              "      <td>None</td>\n",
              "      <td>None</td>\n",
              "      <td>None</td>\n",
              "      <td>None</td>\n",
              "      <td>None</td>\n",
              "      <td>None</td>\n",
              "      <td>None</td>\n",
              "    </tr>\n",
              "    <tr>\n",
              "      <th>1</th>\n",
              "      <td>1007325</td>\n",
              "      <td>NaN</td>\n",
              "      <td>NaN</td>\n",
              "      <td>None</td>\n",
              "      <td>None</td>\n",
              "      <td>None</td>\n",
              "      <td>None</td>\n",
              "      <td>None</td>\n",
              "      <td>None</td>\n",
              "      <td>None</td>\n",
              "      <td>None</td>\n",
              "      <td>None</td>\n",
              "      <td>None</td>\n",
              "      <td>None</td>\n",
              "      <td>None</td>\n",
              "      <td>None</td>\n",
              "    </tr>\n",
              "    <tr>\n",
              "      <th>2</th>\n",
              "      <td>1007374</td>\n",
              "      <td>likely piloting steel decking on this bridge. ...</td>\n",
              "      <td>1630.0</td>\n",
              "      <td>karambi-gasumba</td>\n",
              "      <td>None</td>\n",
              "      <td>None</td>\n",
              "      <td>-karambi -nyamagabe</td>\n",
              "      <td>6-9</td>\n",
              "      <td>simple timber bridge</td>\n",
              "      <td>3</td>\n",
              "      <td>0.5-1</td>\n",
              "      <td>0.5</td>\n",
              "      <td>0.5</td>\n",
              "      <td>0.5</td>\n",
              "      <td>0.5</td>\n",
              "      <td>0.5</td>\n",
              "    </tr>\n",
              "    <tr>\n",
              "      <th>3</th>\n",
              "      <td>1007466</td>\n",
              "      <td>3000-6000 people directly served, elevation:21...</td>\n",
              "      <td>2101.0</td>\n",
              "      <td>rugogwe</td>\n",
              "      <td>None</td>\n",
              "      <td>300-600</td>\n",
              "      <td>-kizimyamuriro</td>\n",
              "      <td>3-6</td>\n",
              "      <td>simple timber bridge</td>\n",
              "      <td>2-3</td>\n",
              "      <td>&gt;6</td>\n",
              "      <td>0.5-1</td>\n",
              "      <td>0.5-1</td>\n",
              "      <td>0.5-1</td>\n",
              "      <td>0.5-1</td>\n",
              "      <td>0.5-1</td>\n",
              "    </tr>\n",
              "    <tr>\n",
              "      <th>4</th>\n",
              "      <td>1007495</td>\n",
              "      <td>not duplicate 500-1000 people directly served,...</td>\n",
              "      <td>1522.0</td>\n",
              "      <td>gasave</td>\n",
              "      <td>None</td>\n",
              "      <td>50-150</td>\n",
              "      <td>-rwesero -giti -butare</td>\n",
              "      <td>3-6</td>\n",
              "      <td>simple timber bridge</td>\n",
              "      <td>3</td>\n",
              "      <td>2-6</td>\n",
              "      <td>None</td>\n",
              "      <td>None</td>\n",
              "      <td>0.5-1</td>\n",
              "      <td>1-2</td>\n",
              "      <td>0.5-1</td>\n",
              "    </tr>\n",
              "  </tbody>\n",
              "</table>\n",
              "</div>"
            ],
            "text/plain": [
              "  Bridge Opportunity: Project Code  ... 2013_time_to_church(Hours_walking)\n",
              "0                          1009317  ...                               None\n",
              "1                          1007325  ...                               None\n",
              "2                          1007374  ...                                0.5\n",
              "3                          1007466  ...                              0.5-1\n",
              "4                          1007495  ...                              0.5-1\n",
              "\n",
              "[5 rows x 16 columns]"
            ]
          },
          "metadata": {
            "tags": []
          },
          "execution_count": 245
        }
      ]
    },
    {
      "cell_type": "code",
      "metadata": {
        "id": "DnOp2jvDGWty",
        "outputId": "c8e8cfc0-b9fd-4208-b781-0b2f8defd219",
        "colab": {
          "base_uri": "https://localhost:8080/",
          "height": 0
        }
      },
      "source": [
        "comments_df1['2013_time_to_church_hours'] = hours_to_church(comments_df1)\n",
        "comments_df1.head()"
      ],
      "execution_count": 246,
      "outputs": [
        {
          "output_type": "execute_result",
          "data": {
            "text/html": [
              "<div>\n",
              "<style scoped>\n",
              "    .dataframe tbody tr th:only-of-type {\n",
              "        vertical-align: middle;\n",
              "    }\n",
              "\n",
              "    .dataframe tbody tr th {\n",
              "        vertical-align: top;\n",
              "    }\n",
              "\n",
              "    .dataframe thead th {\n",
              "        text-align: right;\n",
              "    }\n",
              "</style>\n",
              "<table border=\"1\" class=\"dataframe\">\n",
              "  <thead>\n",
              "    <tr style=\"text-align: right;\">\n",
              "      <th></th>\n",
              "      <th>Bridge Opportunity: Project Code</th>\n",
              "      <th>Bridge Opportunity: Comments</th>\n",
              "      <th>2013_bridge_elevation_meters</th>\n",
              "      <th>2013_Cell</th>\n",
              "      <th>2013_bridge_connects</th>\n",
              "      <th>2013_cross_river_perday</th>\n",
              "      <th>2013_nearby_city_centers</th>\n",
              "      <th>2013_dangerous_to_cross(months)</th>\n",
              "      <th>2013_current_river_crossing</th>\n",
              "      <th>2013_time_to_nearest_safe_crossing_hours</th>\n",
              "      <th>2013_time_to_nearest_hospital_hours</th>\n",
              "      <th>2013_time_health_center_hours</th>\n",
              "      <th>2013_time_market_hours</th>\n",
              "      <th>2013_time_primary_school_hours</th>\n",
              "      <th>2013_time_secondary_school_hours</th>\n",
              "      <th>2013_time_to_church_hours</th>\n",
              "    </tr>\n",
              "  </thead>\n",
              "  <tbody>\n",
              "    <tr>\n",
              "      <th>0</th>\n",
              "      <td>1009317</td>\n",
              "      <td>steep slopes to deal with for anchors</td>\n",
              "      <td>NaN</td>\n",
              "      <td>None</td>\n",
              "      <td>None</td>\n",
              "      <td>None</td>\n",
              "      <td>None</td>\n",
              "      <td>None</td>\n",
              "      <td>None</td>\n",
              "      <td>None</td>\n",
              "      <td>None</td>\n",
              "      <td>None</td>\n",
              "      <td>None</td>\n",
              "      <td>None</td>\n",
              "      <td>None</td>\n",
              "      <td>None</td>\n",
              "    </tr>\n",
              "    <tr>\n",
              "      <th>1</th>\n",
              "      <td>1007325</td>\n",
              "      <td>NaN</td>\n",
              "      <td>NaN</td>\n",
              "      <td>None</td>\n",
              "      <td>None</td>\n",
              "      <td>None</td>\n",
              "      <td>None</td>\n",
              "      <td>None</td>\n",
              "      <td>None</td>\n",
              "      <td>None</td>\n",
              "      <td>None</td>\n",
              "      <td>None</td>\n",
              "      <td>None</td>\n",
              "      <td>None</td>\n",
              "      <td>None</td>\n",
              "      <td>None</td>\n",
              "    </tr>\n",
              "    <tr>\n",
              "      <th>2</th>\n",
              "      <td>1007374</td>\n",
              "      <td>likely piloting steel decking on this bridge. ...</td>\n",
              "      <td>1630.0</td>\n",
              "      <td>karambi-gasumba</td>\n",
              "      <td>None</td>\n",
              "      <td>None</td>\n",
              "      <td>-karambi -nyamagabe</td>\n",
              "      <td>6-9</td>\n",
              "      <td>simple timber bridge</td>\n",
              "      <td>&gt;3</td>\n",
              "      <td>0.5-1</td>\n",
              "      <td>0.5</td>\n",
              "      <td>0.5</td>\n",
              "      <td>0.5</td>\n",
              "      <td>0.5</td>\n",
              "      <td>0.5</td>\n",
              "    </tr>\n",
              "    <tr>\n",
              "      <th>3</th>\n",
              "      <td>1007466</td>\n",
              "      <td>3000-6000 people directly served, elevation:21...</td>\n",
              "      <td>2101.0</td>\n",
              "      <td>rugogwe</td>\n",
              "      <td>None</td>\n",
              "      <td>300-600</td>\n",
              "      <td>-kizimyamuriro</td>\n",
              "      <td>3-6</td>\n",
              "      <td>simple timber bridge</td>\n",
              "      <td>2-3</td>\n",
              "      <td>&gt;6</td>\n",
              "      <td>0.5-1</td>\n",
              "      <td>0.5-1</td>\n",
              "      <td>0.5-1</td>\n",
              "      <td>0.5-1</td>\n",
              "      <td>0.5-1</td>\n",
              "    </tr>\n",
              "    <tr>\n",
              "      <th>4</th>\n",
              "      <td>1007495</td>\n",
              "      <td>not duplicate 500-1000 people directly served,...</td>\n",
              "      <td>1522.0</td>\n",
              "      <td>gasave</td>\n",
              "      <td>None</td>\n",
              "      <td>50-150</td>\n",
              "      <td>-rwesero -giti -butare</td>\n",
              "      <td>3-6</td>\n",
              "      <td>simple timber bridge</td>\n",
              "      <td>&gt;3</td>\n",
              "      <td>2-6</td>\n",
              "      <td>None</td>\n",
              "      <td>None</td>\n",
              "      <td>0.5-1</td>\n",
              "      <td>1-2</td>\n",
              "      <td>0.5-1</td>\n",
              "    </tr>\n",
              "  </tbody>\n",
              "</table>\n",
              "</div>"
            ],
            "text/plain": [
              "  Bridge Opportunity: Project Code  ... 2013_time_to_church_hours\n",
              "0                          1009317  ...                      None\n",
              "1                          1007325  ...                      None\n",
              "2                          1007374  ...                       0.5\n",
              "3                          1007466  ...                     0.5-1\n",
              "4                          1007495  ...                     0.5-1\n",
              "\n",
              "[5 rows x 16 columns]"
            ]
          },
          "metadata": {
            "tags": []
          },
          "execution_count": 246
        }
      ]
    },
    {
      "cell_type": "code",
      "metadata": {
        "id": "7RFSOJ0_GjXX",
        "outputId": "58f24a1f-b65f-4229-b3c6-7818f93261dc",
        "colab": {
          "base_uri": "https://localhost:8080/"
        }
      },
      "source": [
        "comments_df1['2013_time_to_church_hours'].value_counts().sum()"
      ],
      "execution_count": 247,
      "outputs": [
        {
          "output_type": "execute_result",
          "data": {
            "text/plain": [
              "253"
            ]
          },
          "metadata": {
            "tags": []
          },
          "execution_count": 247
        }
      ]
    },
    {
      "cell_type": "code",
      "metadata": {
        "id": "wzNmP9txIL2n"
      },
      "source": [
        ""
      ],
      "execution_count": 247,
      "outputs": []
    },
    {
      "cell_type": "markdown",
      "metadata": {
        "id": "Rzpre8Q0DFt4"
      },
      "source": [
        "## Land within 50m of river bank"
      ]
    },
    {
      "cell_type": "code",
      "metadata": {
        "id": "jwr1RvNhDH1r"
      },
      "source": [
        "\n",
        "def land_within_50m(df):\n",
        "  \"\"\" This function Iterates through every row in the inputed Dataframe. \n",
        "  It will save over the variable s with the contents of the row for \"Bridge Opportunity: Comments\". \n",
        "  It then uses RegEx to identify cases of elevation in the text data. If a match is found it is apppended to \n",
        "  an empty list. if there is no match \"none\" is appended to the list. Upon reaching the end of the Dataframe \n",
        "  the list is returned and used to create a new column. Hours walking to reach the Hospital-0.5-1\"\"\" \n",
        "  new_col = []\n",
        "  for i, row in df.iterrows():\n",
        "    s = str(row[\"Bridge Opportunity: Comments\"])\n",
        "    p = re.search('land\\swithin\\s50m\\sof\\sriver\\sbank-(\\w+.?.?\\w+\\s?\\w+.?)',s)\n",
        "    if p:\n",
        "      new_col.append(str(p.group()[30:]))\n",
        "    else:\n",
        "      new_col.append(p)\n",
        "  return new_col\n"
      ],
      "execution_count": 248,
      "outputs": []
    },
    {
      "cell_type": "code",
      "metadata": {
        "id": "u_eaSvcrDSLH",
        "outputId": "a19dd0f5-4deb-4ae9-cba6-5236ffa81888",
        "colab": {
          "base_uri": "https://localhost:8080/"
        }
      },
      "source": [
        "listus = land_within_50m(test_df)\n",
        "\n",
        "print(listus)"
      ],
      "execution_count": 249,
      "outputs": [
        {
          "output_type": "stream",
          "text": [
            "[None, None, 'flat (flood plain)', 'hilly ', 'flat (flood plain)', 'flat (flood plain)', 'flat (flood plain)', 'flat (flood plain)', 'hilly ', 'hilly ', 'flat (flood plain)', 'flat (flood plain)', 'hilly ', 'flat (flood plain)', 'hilly ']\n"
          ],
          "name": "stdout"
        }
      ]
    },
    {
      "cell_type": "code",
      "metadata": {
        "id": "bbEWMR34DimP",
        "outputId": "6d156c30-0a74-47c4-bbc5-54ef0bf816ea",
        "colab": {
          "base_uri": "https://localhost:8080/",
          "height": 0
        }
      },
      "source": [
        "test_df['2013_land_within_50m'] = land_within_50m(test_df)\n",
        "\n",
        "test_df.head()"
      ],
      "execution_count": 250,
      "outputs": [
        {
          "output_type": "stream",
          "text": [
            "/usr/local/lib/python3.6/dist-packages/ipykernel_launcher.py:1: SettingWithCopyWarning: \n",
            "A value is trying to be set on a copy of a slice from a DataFrame.\n",
            "Try using .loc[row_indexer,col_indexer] = value instead\n",
            "\n",
            "See the caveats in the documentation: https://pandas.pydata.org/pandas-docs/stable/user_guide/indexing.html#returning-a-view-versus-a-copy\n",
            "  \"\"\"Entry point for launching an IPython kernel.\n"
          ],
          "name": "stderr"
        },
        {
          "output_type": "execute_result",
          "data": {
            "text/html": [
              "<div>\n",
              "<style scoped>\n",
              "    .dataframe tbody tr th:only-of-type {\n",
              "        vertical-align: middle;\n",
              "    }\n",
              "\n",
              "    .dataframe tbody tr th {\n",
              "        vertical-align: top;\n",
              "    }\n",
              "\n",
              "    .dataframe thead th {\n",
              "        text-align: right;\n",
              "    }\n",
              "</style>\n",
              "<table border=\"1\" class=\"dataframe\">\n",
              "  <thead>\n",
              "    <tr style=\"text-align: right;\">\n",
              "      <th></th>\n",
              "      <th>Bridge Opportunity: Project Code</th>\n",
              "      <th>Bridge Opportunity: Comments</th>\n",
              "      <th>2013 Bridge Elevation (Meters)</th>\n",
              "      <th>2013 Cell</th>\n",
              "      <th>2013_bridge_connecting</th>\n",
              "      <th>2013_cross_river_day</th>\n",
              "      <th>2013_nearby_city_centers</th>\n",
              "      <th>2013_dangerous_to_cross_months</th>\n",
              "      <th>2013_current_river_crossing</th>\n",
              "      <th>2013_time_to_nearest_safe_crossing_hours</th>\n",
              "      <th>2013_time_to_nearest_hospital(Hours_walking)</th>\n",
              "      <th>2013_time_to_nearest_health_center(Hours_walking)</th>\n",
              "      <th>2013_time_to_market(Hours_walking)</th>\n",
              "      <th>2013_time_to_primary_school_hours</th>\n",
              "      <th>2013_time_to_secondary_school_hours</th>\n",
              "      <th>2013_time_to_church(Hours_walking)</th>\n",
              "      <th>2013_land_within_50m</th>\n",
              "    </tr>\n",
              "  </thead>\n",
              "  <tbody>\n",
              "    <tr>\n",
              "      <th>0</th>\n",
              "      <td>1009317</td>\n",
              "      <td>steep slopes to deal with for anchors</td>\n",
              "      <td>NaN</td>\n",
              "      <td>None</td>\n",
              "      <td>None</td>\n",
              "      <td>None</td>\n",
              "      <td>None</td>\n",
              "      <td>None</td>\n",
              "      <td>None</td>\n",
              "      <td>None</td>\n",
              "      <td>None</td>\n",
              "      <td>None</td>\n",
              "      <td>None</td>\n",
              "      <td>None</td>\n",
              "      <td>None</td>\n",
              "      <td>None</td>\n",
              "      <td>None</td>\n",
              "    </tr>\n",
              "    <tr>\n",
              "      <th>1</th>\n",
              "      <td>1007325</td>\n",
              "      <td>NaN</td>\n",
              "      <td>NaN</td>\n",
              "      <td>None</td>\n",
              "      <td>None</td>\n",
              "      <td>None</td>\n",
              "      <td>None</td>\n",
              "      <td>None</td>\n",
              "      <td>None</td>\n",
              "      <td>None</td>\n",
              "      <td>None</td>\n",
              "      <td>None</td>\n",
              "      <td>None</td>\n",
              "      <td>None</td>\n",
              "      <td>None</td>\n",
              "      <td>None</td>\n",
              "      <td>None</td>\n",
              "    </tr>\n",
              "    <tr>\n",
              "      <th>2</th>\n",
              "      <td>1007374</td>\n",
              "      <td>likely piloting steel decking on this bridge. ...</td>\n",
              "      <td>1630.0</td>\n",
              "      <td>karambi-gasumba</td>\n",
              "      <td>None</td>\n",
              "      <td>None</td>\n",
              "      <td>-karambi -nyamagabe</td>\n",
              "      <td>6-9</td>\n",
              "      <td>simple timber bridge</td>\n",
              "      <td>3</td>\n",
              "      <td>0.5-1</td>\n",
              "      <td>0.5</td>\n",
              "      <td>0.5</td>\n",
              "      <td>0.5</td>\n",
              "      <td>0.5</td>\n",
              "      <td>0.5</td>\n",
              "      <td>flat (flood plain)</td>\n",
              "    </tr>\n",
              "    <tr>\n",
              "      <th>3</th>\n",
              "      <td>1007466</td>\n",
              "      <td>3000-6000 people directly served, elevation:21...</td>\n",
              "      <td>2101.0</td>\n",
              "      <td>rugogwe</td>\n",
              "      <td>None</td>\n",
              "      <td>300-600</td>\n",
              "      <td>-kizimyamuriro</td>\n",
              "      <td>3-6</td>\n",
              "      <td>simple timber bridge</td>\n",
              "      <td>2-3</td>\n",
              "      <td>&gt;6</td>\n",
              "      <td>0.5-1</td>\n",
              "      <td>0.5-1</td>\n",
              "      <td>0.5-1</td>\n",
              "      <td>0.5-1</td>\n",
              "      <td>0.5-1</td>\n",
              "      <td>hilly</td>\n",
              "    </tr>\n",
              "    <tr>\n",
              "      <th>4</th>\n",
              "      <td>1007495</td>\n",
              "      <td>not duplicate 500-1000 people directly served,...</td>\n",
              "      <td>1522.0</td>\n",
              "      <td>gasave</td>\n",
              "      <td>None</td>\n",
              "      <td>50-150</td>\n",
              "      <td>-rwesero -giti -butare</td>\n",
              "      <td>3-6</td>\n",
              "      <td>simple timber bridge</td>\n",
              "      <td>3</td>\n",
              "      <td>2-6</td>\n",
              "      <td>None</td>\n",
              "      <td>None</td>\n",
              "      <td>0.5-1</td>\n",
              "      <td>1-2</td>\n",
              "      <td>0.5-1</td>\n",
              "      <td>flat (flood plain)</td>\n",
              "    </tr>\n",
              "  </tbody>\n",
              "</table>\n",
              "</div>"
            ],
            "text/plain": [
              "  Bridge Opportunity: Project Code  ... 2013_land_within_50m\n",
              "0                          1009317  ...                 None\n",
              "1                          1007325  ...                 None\n",
              "2                          1007374  ...   flat (flood plain)\n",
              "3                          1007466  ...               hilly \n",
              "4                          1007495  ...   flat (flood plain)\n",
              "\n",
              "[5 rows x 17 columns]"
            ]
          },
          "metadata": {
            "tags": []
          },
          "execution_count": 250
        }
      ]
    },
    {
      "cell_type": "markdown",
      "metadata": {
        "id": "aogxheI5D4gd"
      },
      "source": [
        "Apply to DataFrame"
      ]
    },
    {
      "cell_type": "code",
      "metadata": {
        "id": "1GuaGmbTDnzf",
        "outputId": "09876658-6654-4bfa-91b9-c1f9932e218b",
        "colab": {
          "base_uri": "https://localhost:8080/",
          "height": 0
        }
      },
      "source": [
        "comments_df1['2013_land_within_50m'] = land_within_50m(comments_df1)\n",
        "comments_df1.head()\n"
      ],
      "execution_count": 251,
      "outputs": [
        {
          "output_type": "execute_result",
          "data": {
            "text/html": [
              "<div>\n",
              "<style scoped>\n",
              "    .dataframe tbody tr th:only-of-type {\n",
              "        vertical-align: middle;\n",
              "    }\n",
              "\n",
              "    .dataframe tbody tr th {\n",
              "        vertical-align: top;\n",
              "    }\n",
              "\n",
              "    .dataframe thead th {\n",
              "        text-align: right;\n",
              "    }\n",
              "</style>\n",
              "<table border=\"1\" class=\"dataframe\">\n",
              "  <thead>\n",
              "    <tr style=\"text-align: right;\">\n",
              "      <th></th>\n",
              "      <th>Bridge Opportunity: Project Code</th>\n",
              "      <th>Bridge Opportunity: Comments</th>\n",
              "      <th>2013_bridge_elevation_meters</th>\n",
              "      <th>2013_Cell</th>\n",
              "      <th>2013_bridge_connects</th>\n",
              "      <th>2013_cross_river_perday</th>\n",
              "      <th>2013_nearby_city_centers</th>\n",
              "      <th>2013_dangerous_to_cross(months)</th>\n",
              "      <th>2013_current_river_crossing</th>\n",
              "      <th>2013_time_to_nearest_safe_crossing_hours</th>\n",
              "      <th>2013_time_to_nearest_hospital_hours</th>\n",
              "      <th>2013_time_health_center_hours</th>\n",
              "      <th>2013_time_market_hours</th>\n",
              "      <th>2013_time_primary_school_hours</th>\n",
              "      <th>2013_time_secondary_school_hours</th>\n",
              "      <th>2013_time_to_church_hours</th>\n",
              "      <th>2013_land_within_50m</th>\n",
              "    </tr>\n",
              "  </thead>\n",
              "  <tbody>\n",
              "    <tr>\n",
              "      <th>0</th>\n",
              "      <td>1009317</td>\n",
              "      <td>steep slopes to deal with for anchors</td>\n",
              "      <td>NaN</td>\n",
              "      <td>None</td>\n",
              "      <td>None</td>\n",
              "      <td>None</td>\n",
              "      <td>None</td>\n",
              "      <td>None</td>\n",
              "      <td>None</td>\n",
              "      <td>None</td>\n",
              "      <td>None</td>\n",
              "      <td>None</td>\n",
              "      <td>None</td>\n",
              "      <td>None</td>\n",
              "      <td>None</td>\n",
              "      <td>None</td>\n",
              "      <td>None</td>\n",
              "    </tr>\n",
              "    <tr>\n",
              "      <th>1</th>\n",
              "      <td>1007325</td>\n",
              "      <td>NaN</td>\n",
              "      <td>NaN</td>\n",
              "      <td>None</td>\n",
              "      <td>None</td>\n",
              "      <td>None</td>\n",
              "      <td>None</td>\n",
              "      <td>None</td>\n",
              "      <td>None</td>\n",
              "      <td>None</td>\n",
              "      <td>None</td>\n",
              "      <td>None</td>\n",
              "      <td>None</td>\n",
              "      <td>None</td>\n",
              "      <td>None</td>\n",
              "      <td>None</td>\n",
              "      <td>None</td>\n",
              "    </tr>\n",
              "    <tr>\n",
              "      <th>2</th>\n",
              "      <td>1007374</td>\n",
              "      <td>likely piloting steel decking on this bridge. ...</td>\n",
              "      <td>1630.0</td>\n",
              "      <td>karambi-gasumba</td>\n",
              "      <td>None</td>\n",
              "      <td>None</td>\n",
              "      <td>-karambi -nyamagabe</td>\n",
              "      <td>6-9</td>\n",
              "      <td>simple timber bridge</td>\n",
              "      <td>&gt;3</td>\n",
              "      <td>0.5-1</td>\n",
              "      <td>0.5</td>\n",
              "      <td>0.5</td>\n",
              "      <td>0.5</td>\n",
              "      <td>0.5</td>\n",
              "      <td>0.5</td>\n",
              "      <td>flat (flood plain)</td>\n",
              "    </tr>\n",
              "    <tr>\n",
              "      <th>3</th>\n",
              "      <td>1007466</td>\n",
              "      <td>3000-6000 people directly served, elevation:21...</td>\n",
              "      <td>2101.0</td>\n",
              "      <td>rugogwe</td>\n",
              "      <td>None</td>\n",
              "      <td>300-600</td>\n",
              "      <td>-kizimyamuriro</td>\n",
              "      <td>3-6</td>\n",
              "      <td>simple timber bridge</td>\n",
              "      <td>2-3</td>\n",
              "      <td>&gt;6</td>\n",
              "      <td>0.5-1</td>\n",
              "      <td>0.5-1</td>\n",
              "      <td>0.5-1</td>\n",
              "      <td>0.5-1</td>\n",
              "      <td>0.5-1</td>\n",
              "      <td>hilly</td>\n",
              "    </tr>\n",
              "    <tr>\n",
              "      <th>4</th>\n",
              "      <td>1007495</td>\n",
              "      <td>not duplicate 500-1000 people directly served,...</td>\n",
              "      <td>1522.0</td>\n",
              "      <td>gasave</td>\n",
              "      <td>None</td>\n",
              "      <td>50-150</td>\n",
              "      <td>-rwesero -giti -butare</td>\n",
              "      <td>3-6</td>\n",
              "      <td>simple timber bridge</td>\n",
              "      <td>&gt;3</td>\n",
              "      <td>2-6</td>\n",
              "      <td>None</td>\n",
              "      <td>None</td>\n",
              "      <td>0.5-1</td>\n",
              "      <td>1-2</td>\n",
              "      <td>0.5-1</td>\n",
              "      <td>flat (flood plain)</td>\n",
              "    </tr>\n",
              "  </tbody>\n",
              "</table>\n",
              "</div>"
            ],
            "text/plain": [
              "  Bridge Opportunity: Project Code  ... 2013_land_within_50m\n",
              "0                          1009317  ...                 None\n",
              "1                          1007325  ...                 None\n",
              "2                          1007374  ...   flat (flood plain)\n",
              "3                          1007466  ...               hilly \n",
              "4                          1007495  ...   flat (flood plain)\n",
              "\n",
              "[5 rows x 17 columns]"
            ]
          },
          "metadata": {
            "tags": []
          },
          "execution_count": 251
        }
      ]
    },
    {
      "cell_type": "code",
      "metadata": {
        "id": "6puKSikEDyut",
        "outputId": "3d13929b-4e32-4f93-dcf0-0268c3f82dee",
        "colab": {
          "base_uri": "https://localhost:8080/"
        }
      },
      "source": [
        "comments_df1['2013_land_within_50m'].value_counts().sum()"
      ],
      "execution_count": 252,
      "outputs": [
        {
          "output_type": "execute_result",
          "data": {
            "text/plain": [
              "253"
            ]
          },
          "metadata": {
            "tags": []
          },
          "execution_count": 252
        }
      ]
    },
    {
      "cell_type": "code",
      "metadata": {
        "id": "bEDSPx6BD28L"
      },
      "source": [
        ""
      ],
      "execution_count": 252,
      "outputs": []
    },
    {
      "cell_type": "markdown",
      "metadata": {
        "id": "xkqgGftsD6wo"
      },
      "source": [
        "## Soil \n",
        "- type of soil at the site"
      ]
    },
    {
      "cell_type": "code",
      "metadata": {
        "id": "_m2XYx_8Eb2-"
      },
      "source": [
        "def soil_type(df):\n",
        "  \"\"\" This function Iterates through every row in the inputed Dataframe. \n",
        "  It will save over the variable s with the contents of the row for \"Bridge Opportunity: Comments\". \n",
        "  It then uses RegEx to identify cases of elevation in the text data. If a match is found it is apppended to \n",
        "  an empty list. if there is no match \"none\" is appended to the list. Upon reaching the end of the Dataframe \n",
        "  the list is returned and used to create a new column. Hours walking to reach the Hospital-0.5-1\"\"\" \n",
        "  new_col = []\n",
        "  for i, row in df.iterrows():\n",
        "    s = str(row[\"Bridge Opportunity: Comments\"])\n",
        "    p = re.search('soil-(\\w+\\s?\\w+.?)',s)\n",
        "    if p:\n",
        "      new_col.append(str(p.group()[5:]))\n",
        "    else:\n",
        "      new_col.append(p)\n",
        "  return new_col"
      ],
      "execution_count": 253,
      "outputs": []
    },
    {
      "cell_type": "code",
      "metadata": {
        "id": "A7HkinXtEjwN",
        "outputId": "9be80c9e-86dc-46b0-daed-7520872f595c",
        "colab": {
          "base_uri": "https://localhost:8080/"
        }
      },
      "source": [
        "listus = soil_type(test_df)\n",
        "print(listus)"
      ],
      "execution_count": 254,
      "outputs": [
        {
          "output_type": "stream",
          "text": [
            "[None, None, 'silt,', 'hard rock/', 'silt,', 'silt,', 'silt,', 'silt,', 'sandy/', 'hard rock/', 'silt,', 'silt,', 'silt,', 'silt,', 'hard rock/']\n"
          ],
          "name": "stdout"
        }
      ]
    },
    {
      "cell_type": "code",
      "metadata": {
        "id": "ta7EmUEWEmKF",
        "outputId": "44f97eec-5ea9-4914-c527-0b106eaef1f2",
        "colab": {
          "base_uri": "https://localhost:8080/",
          "height": 754
        }
      },
      "source": [
        "test_df['soil_type'] = soil_type(test_df)\n",
        "test_df['soil_type'] = test_df['soil_type'].str.replace(',', '')\n",
        "test_df['soil_type'] = test_df['soil_type'].str.replace('/', '')\n",
        "test_df.head()"
      ],
      "execution_count": 255,
      "outputs": [
        {
          "output_type": "stream",
          "text": [
            "/usr/local/lib/python3.6/dist-packages/ipykernel_launcher.py:1: SettingWithCopyWarning: \n",
            "A value is trying to be set on a copy of a slice from a DataFrame.\n",
            "Try using .loc[row_indexer,col_indexer] = value instead\n",
            "\n",
            "See the caveats in the documentation: https://pandas.pydata.org/pandas-docs/stable/user_guide/indexing.html#returning-a-view-versus-a-copy\n",
            "  \"\"\"Entry point for launching an IPython kernel.\n",
            "/usr/local/lib/python3.6/dist-packages/ipykernel_launcher.py:2: SettingWithCopyWarning: \n",
            "A value is trying to be set on a copy of a slice from a DataFrame.\n",
            "Try using .loc[row_indexer,col_indexer] = value instead\n",
            "\n",
            "See the caveats in the documentation: https://pandas.pydata.org/pandas-docs/stable/user_guide/indexing.html#returning-a-view-versus-a-copy\n",
            "  \n",
            "/usr/local/lib/python3.6/dist-packages/ipykernel_launcher.py:3: SettingWithCopyWarning: \n",
            "A value is trying to be set on a copy of a slice from a DataFrame.\n",
            "Try using .loc[row_indexer,col_indexer] = value instead\n",
            "\n",
            "See the caveats in the documentation: https://pandas.pydata.org/pandas-docs/stable/user_guide/indexing.html#returning-a-view-versus-a-copy\n",
            "  This is separate from the ipykernel package so we can avoid doing imports until\n"
          ],
          "name": "stderr"
        },
        {
          "output_type": "execute_result",
          "data": {
            "text/html": [
              "<div>\n",
              "<style scoped>\n",
              "    .dataframe tbody tr th:only-of-type {\n",
              "        vertical-align: middle;\n",
              "    }\n",
              "\n",
              "    .dataframe tbody tr th {\n",
              "        vertical-align: top;\n",
              "    }\n",
              "\n",
              "    .dataframe thead th {\n",
              "        text-align: right;\n",
              "    }\n",
              "</style>\n",
              "<table border=\"1\" class=\"dataframe\">\n",
              "  <thead>\n",
              "    <tr style=\"text-align: right;\">\n",
              "      <th></th>\n",
              "      <th>Bridge Opportunity: Project Code</th>\n",
              "      <th>Bridge Opportunity: Comments</th>\n",
              "      <th>2013 Bridge Elevation (Meters)</th>\n",
              "      <th>2013 Cell</th>\n",
              "      <th>2013_bridge_connecting</th>\n",
              "      <th>2013_cross_river_day</th>\n",
              "      <th>2013_nearby_city_centers</th>\n",
              "      <th>2013_dangerous_to_cross_months</th>\n",
              "      <th>2013_current_river_crossing</th>\n",
              "      <th>2013_time_to_nearest_safe_crossing_hours</th>\n",
              "      <th>2013_time_to_nearest_hospital(Hours_walking)</th>\n",
              "      <th>2013_time_to_nearest_health_center(Hours_walking)</th>\n",
              "      <th>2013_time_to_market(Hours_walking)</th>\n",
              "      <th>2013_time_to_primary_school_hours</th>\n",
              "      <th>2013_time_to_secondary_school_hours</th>\n",
              "      <th>2013_time_to_church(Hours_walking)</th>\n",
              "      <th>2013_land_within_50m</th>\n",
              "      <th>soil_type</th>\n",
              "    </tr>\n",
              "  </thead>\n",
              "  <tbody>\n",
              "    <tr>\n",
              "      <th>0</th>\n",
              "      <td>1009317</td>\n",
              "      <td>steep slopes to deal with for anchors</td>\n",
              "      <td>NaN</td>\n",
              "      <td>None</td>\n",
              "      <td>None</td>\n",
              "      <td>None</td>\n",
              "      <td>None</td>\n",
              "      <td>None</td>\n",
              "      <td>None</td>\n",
              "      <td>None</td>\n",
              "      <td>None</td>\n",
              "      <td>None</td>\n",
              "      <td>None</td>\n",
              "      <td>None</td>\n",
              "      <td>None</td>\n",
              "      <td>None</td>\n",
              "      <td>None</td>\n",
              "      <td>None</td>\n",
              "    </tr>\n",
              "    <tr>\n",
              "      <th>1</th>\n",
              "      <td>1007325</td>\n",
              "      <td>NaN</td>\n",
              "      <td>NaN</td>\n",
              "      <td>None</td>\n",
              "      <td>None</td>\n",
              "      <td>None</td>\n",
              "      <td>None</td>\n",
              "      <td>None</td>\n",
              "      <td>None</td>\n",
              "      <td>None</td>\n",
              "      <td>None</td>\n",
              "      <td>None</td>\n",
              "      <td>None</td>\n",
              "      <td>None</td>\n",
              "      <td>None</td>\n",
              "      <td>None</td>\n",
              "      <td>None</td>\n",
              "      <td>None</td>\n",
              "    </tr>\n",
              "    <tr>\n",
              "      <th>2</th>\n",
              "      <td>1007374</td>\n",
              "      <td>likely piloting steel decking on this bridge. ...</td>\n",
              "      <td>1630.0</td>\n",
              "      <td>karambi-gasumba</td>\n",
              "      <td>None</td>\n",
              "      <td>None</td>\n",
              "      <td>-karambi -nyamagabe</td>\n",
              "      <td>6-9</td>\n",
              "      <td>simple timber bridge</td>\n",
              "      <td>3</td>\n",
              "      <td>0.5-1</td>\n",
              "      <td>0.5</td>\n",
              "      <td>0.5</td>\n",
              "      <td>0.5</td>\n",
              "      <td>0.5</td>\n",
              "      <td>0.5</td>\n",
              "      <td>flat (flood plain)</td>\n",
              "      <td>silt</td>\n",
              "    </tr>\n",
              "    <tr>\n",
              "      <th>3</th>\n",
              "      <td>1007466</td>\n",
              "      <td>3000-6000 people directly served, elevation:21...</td>\n",
              "      <td>2101.0</td>\n",
              "      <td>rugogwe</td>\n",
              "      <td>None</td>\n",
              "      <td>300-600</td>\n",
              "      <td>-kizimyamuriro</td>\n",
              "      <td>3-6</td>\n",
              "      <td>simple timber bridge</td>\n",
              "      <td>2-3</td>\n",
              "      <td>&gt;6</td>\n",
              "      <td>0.5-1</td>\n",
              "      <td>0.5-1</td>\n",
              "      <td>0.5-1</td>\n",
              "      <td>0.5-1</td>\n",
              "      <td>0.5-1</td>\n",
              "      <td>hilly</td>\n",
              "      <td>hard rock</td>\n",
              "    </tr>\n",
              "    <tr>\n",
              "      <th>4</th>\n",
              "      <td>1007495</td>\n",
              "      <td>not duplicate 500-1000 people directly served,...</td>\n",
              "      <td>1522.0</td>\n",
              "      <td>gasave</td>\n",
              "      <td>None</td>\n",
              "      <td>50-150</td>\n",
              "      <td>-rwesero -giti -butare</td>\n",
              "      <td>3-6</td>\n",
              "      <td>simple timber bridge</td>\n",
              "      <td>3</td>\n",
              "      <td>2-6</td>\n",
              "      <td>None</td>\n",
              "      <td>None</td>\n",
              "      <td>0.5-1</td>\n",
              "      <td>1-2</td>\n",
              "      <td>0.5-1</td>\n",
              "      <td>flat (flood plain)</td>\n",
              "      <td>silt</td>\n",
              "    </tr>\n",
              "  </tbody>\n",
              "</table>\n",
              "</div>"
            ],
            "text/plain": [
              "  Bridge Opportunity: Project Code  ...  soil_type\n",
              "0                          1009317  ...       None\n",
              "1                          1007325  ...       None\n",
              "2                          1007374  ...       silt\n",
              "3                          1007466  ...  hard rock\n",
              "4                          1007495  ...       silt\n",
              "\n",
              "[5 rows x 18 columns]"
            ]
          },
          "metadata": {
            "tags": []
          },
          "execution_count": 255
        }
      ]
    },
    {
      "cell_type": "code",
      "metadata": {
        "id": "Jb1Fl-HhF1mp",
        "outputId": "a6bb0518-b1d7-4e78-84a7-0d6ae4d01a3e",
        "colab": {
          "base_uri": "https://localhost:8080/"
        }
      },
      "source": [
        "test_df['soil_type'].value_counts()"
      ],
      "execution_count": 256,
      "outputs": [
        {
          "output_type": "execute_result",
          "data": {
            "text/plain": [
              "silt         9\n",
              "hard rock    3\n",
              "sandy        1\n",
              "Name: soil_type, dtype: int64"
            ]
          },
          "metadata": {
            "tags": []
          },
          "execution_count": 256
        }
      ]
    },
    {
      "cell_type": "code",
      "metadata": {
        "id": "armZUD3eGJrl",
        "outputId": "900ac746-ab9e-4368-80f6-a68cb73a2138",
        "colab": {
          "base_uri": "https://localhost:8080/",
          "height": 417
        }
      },
      "source": [
        "comments_df1['soil_type'] = soil_type(comments_df1)\n",
        "comments_df1['soil_type'] = comments_df1['soil_type'].str.replace(',', '')\n",
        "comments_df1['soil_type'] = comments_df1['soil_type'].str.replace('/', '')\n",
        "comments_df1.head()"
      ],
      "execution_count": 257,
      "outputs": [
        {
          "output_type": "execute_result",
          "data": {
            "text/html": [
              "<div>\n",
              "<style scoped>\n",
              "    .dataframe tbody tr th:only-of-type {\n",
              "        vertical-align: middle;\n",
              "    }\n",
              "\n",
              "    .dataframe tbody tr th {\n",
              "        vertical-align: top;\n",
              "    }\n",
              "\n",
              "    .dataframe thead th {\n",
              "        text-align: right;\n",
              "    }\n",
              "</style>\n",
              "<table border=\"1\" class=\"dataframe\">\n",
              "  <thead>\n",
              "    <tr style=\"text-align: right;\">\n",
              "      <th></th>\n",
              "      <th>Bridge Opportunity: Project Code</th>\n",
              "      <th>Bridge Opportunity: Comments</th>\n",
              "      <th>2013_bridge_elevation_meters</th>\n",
              "      <th>2013_Cell</th>\n",
              "      <th>2013_bridge_connects</th>\n",
              "      <th>2013_cross_river_perday</th>\n",
              "      <th>2013_nearby_city_centers</th>\n",
              "      <th>2013_dangerous_to_cross(months)</th>\n",
              "      <th>2013_current_river_crossing</th>\n",
              "      <th>2013_time_to_nearest_safe_crossing_hours</th>\n",
              "      <th>2013_time_to_nearest_hospital_hours</th>\n",
              "      <th>2013_time_health_center_hours</th>\n",
              "      <th>2013_time_market_hours</th>\n",
              "      <th>2013_time_primary_school_hours</th>\n",
              "      <th>2013_time_secondary_school_hours</th>\n",
              "      <th>2013_time_to_church_hours</th>\n",
              "      <th>2013_land_within_50m</th>\n",
              "      <th>soil_type</th>\n",
              "    </tr>\n",
              "  </thead>\n",
              "  <tbody>\n",
              "    <tr>\n",
              "      <th>0</th>\n",
              "      <td>1009317</td>\n",
              "      <td>steep slopes to deal with for anchors</td>\n",
              "      <td>NaN</td>\n",
              "      <td>None</td>\n",
              "      <td>None</td>\n",
              "      <td>None</td>\n",
              "      <td>None</td>\n",
              "      <td>None</td>\n",
              "      <td>None</td>\n",
              "      <td>None</td>\n",
              "      <td>None</td>\n",
              "      <td>None</td>\n",
              "      <td>None</td>\n",
              "      <td>None</td>\n",
              "      <td>None</td>\n",
              "      <td>None</td>\n",
              "      <td>None</td>\n",
              "      <td>None</td>\n",
              "    </tr>\n",
              "    <tr>\n",
              "      <th>1</th>\n",
              "      <td>1007325</td>\n",
              "      <td>NaN</td>\n",
              "      <td>NaN</td>\n",
              "      <td>None</td>\n",
              "      <td>None</td>\n",
              "      <td>None</td>\n",
              "      <td>None</td>\n",
              "      <td>None</td>\n",
              "      <td>None</td>\n",
              "      <td>None</td>\n",
              "      <td>None</td>\n",
              "      <td>None</td>\n",
              "      <td>None</td>\n",
              "      <td>None</td>\n",
              "      <td>None</td>\n",
              "      <td>None</td>\n",
              "      <td>None</td>\n",
              "      <td>None</td>\n",
              "    </tr>\n",
              "    <tr>\n",
              "      <th>2</th>\n",
              "      <td>1007374</td>\n",
              "      <td>likely piloting steel decking on this bridge. ...</td>\n",
              "      <td>1630.0</td>\n",
              "      <td>karambi-gasumba</td>\n",
              "      <td>None</td>\n",
              "      <td>None</td>\n",
              "      <td>-karambi -nyamagabe</td>\n",
              "      <td>6-9</td>\n",
              "      <td>simple timber bridge</td>\n",
              "      <td>&gt;3</td>\n",
              "      <td>0.5-1</td>\n",
              "      <td>0.5</td>\n",
              "      <td>0.5</td>\n",
              "      <td>0.5</td>\n",
              "      <td>0.5</td>\n",
              "      <td>0.5</td>\n",
              "      <td>flat (flood plain)</td>\n",
              "      <td>silt</td>\n",
              "    </tr>\n",
              "    <tr>\n",
              "      <th>3</th>\n",
              "      <td>1007466</td>\n",
              "      <td>3000-6000 people directly served, elevation:21...</td>\n",
              "      <td>2101.0</td>\n",
              "      <td>rugogwe</td>\n",
              "      <td>None</td>\n",
              "      <td>300-600</td>\n",
              "      <td>-kizimyamuriro</td>\n",
              "      <td>3-6</td>\n",
              "      <td>simple timber bridge</td>\n",
              "      <td>2-3</td>\n",
              "      <td>&gt;6</td>\n",
              "      <td>0.5-1</td>\n",
              "      <td>0.5-1</td>\n",
              "      <td>0.5-1</td>\n",
              "      <td>0.5-1</td>\n",
              "      <td>0.5-1</td>\n",
              "      <td>hilly</td>\n",
              "      <td>hard rock</td>\n",
              "    </tr>\n",
              "    <tr>\n",
              "      <th>4</th>\n",
              "      <td>1007495</td>\n",
              "      <td>not duplicate 500-1000 people directly served,...</td>\n",
              "      <td>1522.0</td>\n",
              "      <td>gasave</td>\n",
              "      <td>None</td>\n",
              "      <td>50-150</td>\n",
              "      <td>-rwesero -giti -butare</td>\n",
              "      <td>3-6</td>\n",
              "      <td>simple timber bridge</td>\n",
              "      <td>&gt;3</td>\n",
              "      <td>2-6</td>\n",
              "      <td>None</td>\n",
              "      <td>None</td>\n",
              "      <td>0.5-1</td>\n",
              "      <td>1-2</td>\n",
              "      <td>0.5-1</td>\n",
              "      <td>flat (flood plain)</td>\n",
              "      <td>silt</td>\n",
              "    </tr>\n",
              "  </tbody>\n",
              "</table>\n",
              "</div>"
            ],
            "text/plain": [
              "  Bridge Opportunity: Project Code  ...  soil_type\n",
              "0                          1009317  ...       None\n",
              "1                          1007325  ...       None\n",
              "2                          1007374  ...       silt\n",
              "3                          1007466  ...  hard rock\n",
              "4                          1007495  ...       silt\n",
              "\n",
              "[5 rows x 18 columns]"
            ]
          },
          "metadata": {
            "tags": []
          },
          "execution_count": 257
        }
      ]
    },
    {
      "cell_type": "code",
      "metadata": {
        "id": "s4p-vIPWGg1S",
        "outputId": "c7147866-6c24-4d70-f0ae-013a77dea935",
        "colab": {
          "base_uri": "https://localhost:8080/"
        }
      },
      "source": [
        "comments_df1['soil_type'].value_counts().sum()"
      ],
      "execution_count": 258,
      "outputs": [
        {
          "output_type": "execute_result",
          "data": {
            "text/plain": [
              "253"
            ]
          },
          "metadata": {
            "tags": []
          },
          "execution_count": 258
        }
      ]
    },
    {
      "cell_type": "markdown",
      "metadata": {
        "id": "FR2QP0JKHFJL"
      },
      "source": [
        "## Sand \n",
        "- type of sand at the site"
      ]
    },
    {
      "cell_type": "code",
      "metadata": {
        "id": "GXENjZEAHGOs"
      },
      "source": [
        "def sand_provided_by(df):\n",
        "  \"\"\" This function Iterates through every row in the inputed Dataframe. \n",
        "  It will save over the variable s with the contents of the row for \"Bridge Opportunity: Comments\". \n",
        "  It then uses RegEx to identify cases of elevation in the text data. If a match is found it is apppended to \n",
        "  an empty list. if there is no match \"none\" is appended to the list. Upon reaching the end of the Dataframe \n",
        "  the list is returned and used to create a new column. Hours walking to reach the Hospital-0.5-1\"\"\" \n",
        "  new_col = []\n",
        "  for i, row in df.iterrows():\n",
        "    s = str(row[\"Bridge Opportunity: Comments\"])\n",
        "    p = re.search('sand\\sprovided\\sby-(\\w+\\s?)*',s)\n",
        "    if p:\n",
        "      new_col.append(str(p.group()[17:]))\n",
        "    else:\n",
        "      new_col.append(p)\n",
        "  return new_col"
      ],
      "execution_count": 259,
      "outputs": []
    },
    {
      "cell_type": "code",
      "metadata": {
        "id": "_VW1Rgo8HaxY",
        "outputId": "b7eb783c-d03f-4a2e-b78c-641d0f5abefd",
        "colab": {
          "base_uri": "https://localhost:8080/"
        }
      },
      "source": [
        "listus = sand_provided_by(test_df)\n",
        "print(listus)"
      ],
      "execution_count": 260,
      "outputs": [
        {
          "output_type": "stream",
          "text": [
            "[None, None, 'sector', 'sector', 'sector', 'sector', 'sector', 'sector', 'sector', 'sector', 'sector', 'sector', 'sector', 'sector', 'sector']\n"
          ],
          "name": "stdout"
        }
      ]
    },
    {
      "cell_type": "code",
      "metadata": {
        "id": "8V-bD4QrHd9h",
        "outputId": "d5b5d719-6e72-437f-b851-75993107184d",
        "colab": {
          "base_uri": "https://localhost:8080/",
          "height": 541
        }
      },
      "source": [
        "test_df['2013_sand_provided_by'] = sand_provided_by(test_df)\n",
        "\n",
        "test_df.head()"
      ],
      "execution_count": 261,
      "outputs": [
        {
          "output_type": "stream",
          "text": [
            "/usr/local/lib/python3.6/dist-packages/ipykernel_launcher.py:1: SettingWithCopyWarning: \n",
            "A value is trying to be set on a copy of a slice from a DataFrame.\n",
            "Try using .loc[row_indexer,col_indexer] = value instead\n",
            "\n",
            "See the caveats in the documentation: https://pandas.pydata.org/pandas-docs/stable/user_guide/indexing.html#returning-a-view-versus-a-copy\n",
            "  \"\"\"Entry point for launching an IPython kernel.\n"
          ],
          "name": "stderr"
        },
        {
          "output_type": "execute_result",
          "data": {
            "text/html": [
              "<div>\n",
              "<style scoped>\n",
              "    .dataframe tbody tr th:only-of-type {\n",
              "        vertical-align: middle;\n",
              "    }\n",
              "\n",
              "    .dataframe tbody tr th {\n",
              "        vertical-align: top;\n",
              "    }\n",
              "\n",
              "    .dataframe thead th {\n",
              "        text-align: right;\n",
              "    }\n",
              "</style>\n",
              "<table border=\"1\" class=\"dataframe\">\n",
              "  <thead>\n",
              "    <tr style=\"text-align: right;\">\n",
              "      <th></th>\n",
              "      <th>Bridge Opportunity: Project Code</th>\n",
              "      <th>Bridge Opportunity: Comments</th>\n",
              "      <th>2013 Bridge Elevation (Meters)</th>\n",
              "      <th>2013 Cell</th>\n",
              "      <th>2013_bridge_connecting</th>\n",
              "      <th>2013_cross_river_day</th>\n",
              "      <th>2013_nearby_city_centers</th>\n",
              "      <th>2013_dangerous_to_cross_months</th>\n",
              "      <th>2013_current_river_crossing</th>\n",
              "      <th>2013_time_to_nearest_safe_crossing_hours</th>\n",
              "      <th>2013_time_to_nearest_hospital(Hours_walking)</th>\n",
              "      <th>2013_time_to_nearest_health_center(Hours_walking)</th>\n",
              "      <th>2013_time_to_market(Hours_walking)</th>\n",
              "      <th>2013_time_to_primary_school_hours</th>\n",
              "      <th>2013_time_to_secondary_school_hours</th>\n",
              "      <th>2013_time_to_church(Hours_walking)</th>\n",
              "      <th>2013_land_within_50m</th>\n",
              "      <th>soil_type</th>\n",
              "      <th>2013_sand_provided_by</th>\n",
              "    </tr>\n",
              "  </thead>\n",
              "  <tbody>\n",
              "    <tr>\n",
              "      <th>0</th>\n",
              "      <td>1009317</td>\n",
              "      <td>steep slopes to deal with for anchors</td>\n",
              "      <td>NaN</td>\n",
              "      <td>None</td>\n",
              "      <td>None</td>\n",
              "      <td>None</td>\n",
              "      <td>None</td>\n",
              "      <td>None</td>\n",
              "      <td>None</td>\n",
              "      <td>None</td>\n",
              "      <td>None</td>\n",
              "      <td>None</td>\n",
              "      <td>None</td>\n",
              "      <td>None</td>\n",
              "      <td>None</td>\n",
              "      <td>None</td>\n",
              "      <td>None</td>\n",
              "      <td>None</td>\n",
              "      <td>None</td>\n",
              "    </tr>\n",
              "    <tr>\n",
              "      <th>1</th>\n",
              "      <td>1007325</td>\n",
              "      <td>NaN</td>\n",
              "      <td>NaN</td>\n",
              "      <td>None</td>\n",
              "      <td>None</td>\n",
              "      <td>None</td>\n",
              "      <td>None</td>\n",
              "      <td>None</td>\n",
              "      <td>None</td>\n",
              "      <td>None</td>\n",
              "      <td>None</td>\n",
              "      <td>None</td>\n",
              "      <td>None</td>\n",
              "      <td>None</td>\n",
              "      <td>None</td>\n",
              "      <td>None</td>\n",
              "      <td>None</td>\n",
              "      <td>None</td>\n",
              "      <td>None</td>\n",
              "    </tr>\n",
              "    <tr>\n",
              "      <th>2</th>\n",
              "      <td>1007374</td>\n",
              "      <td>likely piloting steel decking on this bridge. ...</td>\n",
              "      <td>1630.0</td>\n",
              "      <td>karambi-gasumba</td>\n",
              "      <td>None</td>\n",
              "      <td>None</td>\n",
              "      <td>-karambi -nyamagabe</td>\n",
              "      <td>6-9</td>\n",
              "      <td>simple timber bridge</td>\n",
              "      <td>3</td>\n",
              "      <td>0.5-1</td>\n",
              "      <td>0.5</td>\n",
              "      <td>0.5</td>\n",
              "      <td>0.5</td>\n",
              "      <td>0.5</td>\n",
              "      <td>0.5</td>\n",
              "      <td>flat (flood plain)</td>\n",
              "      <td>silt</td>\n",
              "      <td>sector</td>\n",
              "    </tr>\n",
              "    <tr>\n",
              "      <th>3</th>\n",
              "      <td>1007466</td>\n",
              "      <td>3000-6000 people directly served, elevation:21...</td>\n",
              "      <td>2101.0</td>\n",
              "      <td>rugogwe</td>\n",
              "      <td>None</td>\n",
              "      <td>300-600</td>\n",
              "      <td>-kizimyamuriro</td>\n",
              "      <td>3-6</td>\n",
              "      <td>simple timber bridge</td>\n",
              "      <td>2-3</td>\n",
              "      <td>&gt;6</td>\n",
              "      <td>0.5-1</td>\n",
              "      <td>0.5-1</td>\n",
              "      <td>0.5-1</td>\n",
              "      <td>0.5-1</td>\n",
              "      <td>0.5-1</td>\n",
              "      <td>hilly</td>\n",
              "      <td>hard rock</td>\n",
              "      <td>sector</td>\n",
              "    </tr>\n",
              "    <tr>\n",
              "      <th>4</th>\n",
              "      <td>1007495</td>\n",
              "      <td>not duplicate 500-1000 people directly served,...</td>\n",
              "      <td>1522.0</td>\n",
              "      <td>gasave</td>\n",
              "      <td>None</td>\n",
              "      <td>50-150</td>\n",
              "      <td>-rwesero -giti -butare</td>\n",
              "      <td>3-6</td>\n",
              "      <td>simple timber bridge</td>\n",
              "      <td>3</td>\n",
              "      <td>2-6</td>\n",
              "      <td>None</td>\n",
              "      <td>None</td>\n",
              "      <td>0.5-1</td>\n",
              "      <td>1-2</td>\n",
              "      <td>0.5-1</td>\n",
              "      <td>flat (flood plain)</td>\n",
              "      <td>silt</td>\n",
              "      <td>sector</td>\n",
              "    </tr>\n",
              "  </tbody>\n",
              "</table>\n",
              "</div>"
            ],
            "text/plain": [
              "  Bridge Opportunity: Project Code  ... 2013_sand_provided_by\n",
              "0                          1009317  ...                  None\n",
              "1                          1007325  ...                  None\n",
              "2                          1007374  ...                sector\n",
              "3                          1007466  ...                sector\n",
              "4                          1007495  ...                sector\n",
              "\n",
              "[5 rows x 19 columns]"
            ]
          },
          "metadata": {
            "tags": []
          },
          "execution_count": 261
        }
      ]
    },
    {
      "cell_type": "code",
      "metadata": {
        "id": "NFh77qO7HnhG",
        "outputId": "2509418a-7f29-4baf-a32c-bc356a3954bc",
        "colab": {
          "base_uri": "https://localhost:8080/",
          "height": 417
        }
      },
      "source": [
        "comments_df1['2013_sand_provided_by'] = sand_provided_by(comments_df1)\n",
        "comments_df1.head()"
      ],
      "execution_count": 262,
      "outputs": [
        {
          "output_type": "execute_result",
          "data": {
            "text/html": [
              "<div>\n",
              "<style scoped>\n",
              "    .dataframe tbody tr th:only-of-type {\n",
              "        vertical-align: middle;\n",
              "    }\n",
              "\n",
              "    .dataframe tbody tr th {\n",
              "        vertical-align: top;\n",
              "    }\n",
              "\n",
              "    .dataframe thead th {\n",
              "        text-align: right;\n",
              "    }\n",
              "</style>\n",
              "<table border=\"1\" class=\"dataframe\">\n",
              "  <thead>\n",
              "    <tr style=\"text-align: right;\">\n",
              "      <th></th>\n",
              "      <th>Bridge Opportunity: Project Code</th>\n",
              "      <th>Bridge Opportunity: Comments</th>\n",
              "      <th>2013_bridge_elevation_meters</th>\n",
              "      <th>2013_Cell</th>\n",
              "      <th>2013_bridge_connects</th>\n",
              "      <th>2013_cross_river_perday</th>\n",
              "      <th>2013_nearby_city_centers</th>\n",
              "      <th>2013_dangerous_to_cross(months)</th>\n",
              "      <th>2013_current_river_crossing</th>\n",
              "      <th>2013_time_to_nearest_safe_crossing_hours</th>\n",
              "      <th>2013_time_to_nearest_hospital_hours</th>\n",
              "      <th>2013_time_health_center_hours</th>\n",
              "      <th>2013_time_market_hours</th>\n",
              "      <th>2013_time_primary_school_hours</th>\n",
              "      <th>2013_time_secondary_school_hours</th>\n",
              "      <th>2013_time_to_church_hours</th>\n",
              "      <th>2013_land_within_50m</th>\n",
              "      <th>soil_type</th>\n",
              "      <th>2013_sand_provided_by</th>\n",
              "    </tr>\n",
              "  </thead>\n",
              "  <tbody>\n",
              "    <tr>\n",
              "      <th>0</th>\n",
              "      <td>1009317</td>\n",
              "      <td>steep slopes to deal with for anchors</td>\n",
              "      <td>NaN</td>\n",
              "      <td>None</td>\n",
              "      <td>None</td>\n",
              "      <td>None</td>\n",
              "      <td>None</td>\n",
              "      <td>None</td>\n",
              "      <td>None</td>\n",
              "      <td>None</td>\n",
              "      <td>None</td>\n",
              "      <td>None</td>\n",
              "      <td>None</td>\n",
              "      <td>None</td>\n",
              "      <td>None</td>\n",
              "      <td>None</td>\n",
              "      <td>None</td>\n",
              "      <td>None</td>\n",
              "      <td>None</td>\n",
              "    </tr>\n",
              "    <tr>\n",
              "      <th>1</th>\n",
              "      <td>1007325</td>\n",
              "      <td>NaN</td>\n",
              "      <td>NaN</td>\n",
              "      <td>None</td>\n",
              "      <td>None</td>\n",
              "      <td>None</td>\n",
              "      <td>None</td>\n",
              "      <td>None</td>\n",
              "      <td>None</td>\n",
              "      <td>None</td>\n",
              "      <td>None</td>\n",
              "      <td>None</td>\n",
              "      <td>None</td>\n",
              "      <td>None</td>\n",
              "      <td>None</td>\n",
              "      <td>None</td>\n",
              "      <td>None</td>\n",
              "      <td>None</td>\n",
              "      <td>None</td>\n",
              "    </tr>\n",
              "    <tr>\n",
              "      <th>2</th>\n",
              "      <td>1007374</td>\n",
              "      <td>likely piloting steel decking on this bridge. ...</td>\n",
              "      <td>1630.0</td>\n",
              "      <td>karambi-gasumba</td>\n",
              "      <td>None</td>\n",
              "      <td>None</td>\n",
              "      <td>-karambi -nyamagabe</td>\n",
              "      <td>6-9</td>\n",
              "      <td>simple timber bridge</td>\n",
              "      <td>&gt;3</td>\n",
              "      <td>0.5-1</td>\n",
              "      <td>0.5</td>\n",
              "      <td>0.5</td>\n",
              "      <td>0.5</td>\n",
              "      <td>0.5</td>\n",
              "      <td>0.5</td>\n",
              "      <td>flat (flood plain)</td>\n",
              "      <td>silt</td>\n",
              "      <td>sector</td>\n",
              "    </tr>\n",
              "    <tr>\n",
              "      <th>3</th>\n",
              "      <td>1007466</td>\n",
              "      <td>3000-6000 people directly served, elevation:21...</td>\n",
              "      <td>2101.0</td>\n",
              "      <td>rugogwe</td>\n",
              "      <td>None</td>\n",
              "      <td>300-600</td>\n",
              "      <td>-kizimyamuriro</td>\n",
              "      <td>3-6</td>\n",
              "      <td>simple timber bridge</td>\n",
              "      <td>2-3</td>\n",
              "      <td>&gt;6</td>\n",
              "      <td>0.5-1</td>\n",
              "      <td>0.5-1</td>\n",
              "      <td>0.5-1</td>\n",
              "      <td>0.5-1</td>\n",
              "      <td>0.5-1</td>\n",
              "      <td>hilly</td>\n",
              "      <td>hard rock</td>\n",
              "      <td>sector</td>\n",
              "    </tr>\n",
              "    <tr>\n",
              "      <th>4</th>\n",
              "      <td>1007495</td>\n",
              "      <td>not duplicate 500-1000 people directly served,...</td>\n",
              "      <td>1522.0</td>\n",
              "      <td>gasave</td>\n",
              "      <td>None</td>\n",
              "      <td>50-150</td>\n",
              "      <td>-rwesero -giti -butare</td>\n",
              "      <td>3-6</td>\n",
              "      <td>simple timber bridge</td>\n",
              "      <td>&gt;3</td>\n",
              "      <td>2-6</td>\n",
              "      <td>None</td>\n",
              "      <td>None</td>\n",
              "      <td>0.5-1</td>\n",
              "      <td>1-2</td>\n",
              "      <td>0.5-1</td>\n",
              "      <td>flat (flood plain)</td>\n",
              "      <td>silt</td>\n",
              "      <td>sector</td>\n",
              "    </tr>\n",
              "  </tbody>\n",
              "</table>\n",
              "</div>"
            ],
            "text/plain": [
              "  Bridge Opportunity: Project Code  ... 2013_sand_provided_by\n",
              "0                          1009317  ...                  None\n",
              "1                          1007325  ...                  None\n",
              "2                          1007374  ...                sector\n",
              "3                          1007466  ...                sector\n",
              "4                          1007495  ...                sector\n",
              "\n",
              "[5 rows x 19 columns]"
            ]
          },
          "metadata": {
            "tags": []
          },
          "execution_count": 262
        }
      ]
    },
    {
      "cell_type": "code",
      "metadata": {
        "id": "PUc1H3KxYBUt",
        "outputId": "1c91c9dd-e318-4890-8bb1-c77efeb3e97b",
        "colab": {
          "base_uri": "https://localhost:8080/"
        }
      },
      "source": [
        "comments_df1['2013_sand_provided_by'].value_counts().sum()"
      ],
      "execution_count": 263,
      "outputs": [
        {
          "output_type": "execute_result",
          "data": {
            "text/plain": [
              "254"
            ]
          },
          "metadata": {
            "tags": []
          },
          "execution_count": 263
        }
      ]
    },
    {
      "cell_type": "markdown",
      "metadata": {
        "id": "DbaZuoLhJdVM"
      },
      "source": [
        "## Gravel Provided by"
      ]
    },
    {
      "cell_type": "code",
      "metadata": {
        "id": "wL8W36JZJeNL"
      },
      "source": [
        "def gravel_provided_by(df):\n",
        "  \"\"\" This function Iterates through every row in the inputed Dataframe. \n",
        "  It will save over the variable s with the contents of the row for \"Bridge Opportunity: Comments\". \n",
        "  It then uses RegEx to identify cases of elevation in the text data. If a match is found it is apppended to \n",
        "  an empty list. if there is no match \"none\" is appended to the list. Upon reaching the end of the Dataframe \n",
        "  the list is returned and used to create a new column. Hours walking to reach the Hospital-0.5-1\"\"\" \n",
        "  new_col = []\n",
        "  for i, row in df.iterrows():\n",
        "    s = str(row[\"Bridge Opportunity: Comments\"])\n",
        "    p = re.search('gravel\\sprovided\\sby-(\\w+\\s?)*',s)\n",
        "    if p:\n",
        "      new_col.append(str(p.group()[19:]))\n",
        "    else:\n",
        "      new_col.append(p)\n",
        "  return new_col"
      ],
      "execution_count": 264,
      "outputs": []
    },
    {
      "cell_type": "code",
      "metadata": {
        "id": "b7fdRaFaJ8KB",
        "outputId": "f5d9258a-837c-446e-c0d4-92fa7b25ef77",
        "colab": {
          "base_uri": "https://localhost:8080/"
        }
      },
      "source": [
        "listus = gravel_provided_by(test_df)\n",
        "print(listus)"
      ],
      "execution_count": 265,
      "outputs": [
        {
          "output_type": "stream",
          "text": [
            "[None, None, 'district', 'district', 'district', 'district', 'district', 'district', 'district', 'district', 'district', 'district', 'district', 'district', 'district']\n"
          ],
          "name": "stdout"
        }
      ]
    },
    {
      "cell_type": "code",
      "metadata": {
        "id": "WTj54-o0J_9Q",
        "outputId": "c74b69b5-c1ed-4f18-e9a4-97b1daf183e7",
        "colab": {
          "base_uri": "https://localhost:8080/",
          "height": 0
        }
      },
      "source": [
        "test_df['2013_gravel_provided_by'] = gravel_provided_by(test_df)\n",
        "\n",
        "test_df.head()"
      ],
      "execution_count": 266,
      "outputs": [
        {
          "output_type": "stream",
          "text": [
            "/usr/local/lib/python3.6/dist-packages/ipykernel_launcher.py:1: SettingWithCopyWarning: \n",
            "A value is trying to be set on a copy of a slice from a DataFrame.\n",
            "Try using .loc[row_indexer,col_indexer] = value instead\n",
            "\n",
            "See the caveats in the documentation: https://pandas.pydata.org/pandas-docs/stable/user_guide/indexing.html#returning-a-view-versus-a-copy\n",
            "  \"\"\"Entry point for launching an IPython kernel.\n"
          ],
          "name": "stderr"
        },
        {
          "output_type": "execute_result",
          "data": {
            "text/html": [
              "<div>\n",
              "<style scoped>\n",
              "    .dataframe tbody tr th:only-of-type {\n",
              "        vertical-align: middle;\n",
              "    }\n",
              "\n",
              "    .dataframe tbody tr th {\n",
              "        vertical-align: top;\n",
              "    }\n",
              "\n",
              "    .dataframe thead th {\n",
              "        text-align: right;\n",
              "    }\n",
              "</style>\n",
              "<table border=\"1\" class=\"dataframe\">\n",
              "  <thead>\n",
              "    <tr style=\"text-align: right;\">\n",
              "      <th></th>\n",
              "      <th>Bridge Opportunity: Project Code</th>\n",
              "      <th>Bridge Opportunity: Comments</th>\n",
              "      <th>2013 Bridge Elevation (Meters)</th>\n",
              "      <th>2013 Cell</th>\n",
              "      <th>2013_bridge_connecting</th>\n",
              "      <th>2013_cross_river_day</th>\n",
              "      <th>2013_nearby_city_centers</th>\n",
              "      <th>2013_dangerous_to_cross_months</th>\n",
              "      <th>2013_current_river_crossing</th>\n",
              "      <th>2013_time_to_nearest_safe_crossing_hours</th>\n",
              "      <th>2013_time_to_nearest_hospital(Hours_walking)</th>\n",
              "      <th>2013_time_to_nearest_health_center(Hours_walking)</th>\n",
              "      <th>2013_time_to_market(Hours_walking)</th>\n",
              "      <th>2013_time_to_primary_school_hours</th>\n",
              "      <th>2013_time_to_secondary_school_hours</th>\n",
              "      <th>2013_time_to_church(Hours_walking)</th>\n",
              "      <th>2013_land_within_50m</th>\n",
              "      <th>soil_type</th>\n",
              "      <th>2013_sand_provided_by</th>\n",
              "      <th>2013_gravel_provided_by</th>\n",
              "    </tr>\n",
              "  </thead>\n",
              "  <tbody>\n",
              "    <tr>\n",
              "      <th>0</th>\n",
              "      <td>1009317</td>\n",
              "      <td>steep slopes to deal with for anchors</td>\n",
              "      <td>NaN</td>\n",
              "      <td>None</td>\n",
              "      <td>None</td>\n",
              "      <td>None</td>\n",
              "      <td>None</td>\n",
              "      <td>None</td>\n",
              "      <td>None</td>\n",
              "      <td>None</td>\n",
              "      <td>None</td>\n",
              "      <td>None</td>\n",
              "      <td>None</td>\n",
              "      <td>None</td>\n",
              "      <td>None</td>\n",
              "      <td>None</td>\n",
              "      <td>None</td>\n",
              "      <td>None</td>\n",
              "      <td>None</td>\n",
              "      <td>None</td>\n",
              "    </tr>\n",
              "    <tr>\n",
              "      <th>1</th>\n",
              "      <td>1007325</td>\n",
              "      <td>NaN</td>\n",
              "      <td>NaN</td>\n",
              "      <td>None</td>\n",
              "      <td>None</td>\n",
              "      <td>None</td>\n",
              "      <td>None</td>\n",
              "      <td>None</td>\n",
              "      <td>None</td>\n",
              "      <td>None</td>\n",
              "      <td>None</td>\n",
              "      <td>None</td>\n",
              "      <td>None</td>\n",
              "      <td>None</td>\n",
              "      <td>None</td>\n",
              "      <td>None</td>\n",
              "      <td>None</td>\n",
              "      <td>None</td>\n",
              "      <td>None</td>\n",
              "      <td>None</td>\n",
              "    </tr>\n",
              "    <tr>\n",
              "      <th>2</th>\n",
              "      <td>1007374</td>\n",
              "      <td>likely piloting steel decking on this bridge. ...</td>\n",
              "      <td>1630.0</td>\n",
              "      <td>karambi-gasumba</td>\n",
              "      <td>None</td>\n",
              "      <td>None</td>\n",
              "      <td>-karambi -nyamagabe</td>\n",
              "      <td>6-9</td>\n",
              "      <td>simple timber bridge</td>\n",
              "      <td>3</td>\n",
              "      <td>0.5-1</td>\n",
              "      <td>0.5</td>\n",
              "      <td>0.5</td>\n",
              "      <td>0.5</td>\n",
              "      <td>0.5</td>\n",
              "      <td>0.5</td>\n",
              "      <td>flat (flood plain)</td>\n",
              "      <td>silt</td>\n",
              "      <td>sector</td>\n",
              "      <td>district</td>\n",
              "    </tr>\n",
              "    <tr>\n",
              "      <th>3</th>\n",
              "      <td>1007466</td>\n",
              "      <td>3000-6000 people directly served, elevation:21...</td>\n",
              "      <td>2101.0</td>\n",
              "      <td>rugogwe</td>\n",
              "      <td>None</td>\n",
              "      <td>300-600</td>\n",
              "      <td>-kizimyamuriro</td>\n",
              "      <td>3-6</td>\n",
              "      <td>simple timber bridge</td>\n",
              "      <td>2-3</td>\n",
              "      <td>&gt;6</td>\n",
              "      <td>0.5-1</td>\n",
              "      <td>0.5-1</td>\n",
              "      <td>0.5-1</td>\n",
              "      <td>0.5-1</td>\n",
              "      <td>0.5-1</td>\n",
              "      <td>hilly</td>\n",
              "      <td>hard rock</td>\n",
              "      <td>sector</td>\n",
              "      <td>district</td>\n",
              "    </tr>\n",
              "    <tr>\n",
              "      <th>4</th>\n",
              "      <td>1007495</td>\n",
              "      <td>not duplicate 500-1000 people directly served,...</td>\n",
              "      <td>1522.0</td>\n",
              "      <td>gasave</td>\n",
              "      <td>None</td>\n",
              "      <td>50-150</td>\n",
              "      <td>-rwesero -giti -butare</td>\n",
              "      <td>3-6</td>\n",
              "      <td>simple timber bridge</td>\n",
              "      <td>3</td>\n",
              "      <td>2-6</td>\n",
              "      <td>None</td>\n",
              "      <td>None</td>\n",
              "      <td>0.5-1</td>\n",
              "      <td>1-2</td>\n",
              "      <td>0.5-1</td>\n",
              "      <td>flat (flood plain)</td>\n",
              "      <td>silt</td>\n",
              "      <td>sector</td>\n",
              "      <td>district</td>\n",
              "    </tr>\n",
              "  </tbody>\n",
              "</table>\n",
              "</div>"
            ],
            "text/plain": [
              "  Bridge Opportunity: Project Code  ... 2013_gravel_provided_by\n",
              "0                          1009317  ...                    None\n",
              "1                          1007325  ...                    None\n",
              "2                          1007374  ...                district\n",
              "3                          1007466  ...                district\n",
              "4                          1007495  ...                district\n",
              "\n",
              "[5 rows x 20 columns]"
            ]
          },
          "metadata": {
            "tags": []
          },
          "execution_count": 266
        }
      ]
    },
    {
      "cell_type": "code",
      "metadata": {
        "id": "ekTygUBcKWW7",
        "outputId": "2b66542e-9536-4e72-c22c-c77ad3323877",
        "colab": {
          "base_uri": "https://localhost:8080/",
          "height": 0
        }
      },
      "source": [
        "comments_df1['2013_gravel_provided_by'] = gravel_provided_by(comments_df1)\n",
        "comments_df1.head()"
      ],
      "execution_count": 267,
      "outputs": [
        {
          "output_type": "execute_result",
          "data": {
            "text/html": [
              "<div>\n",
              "<style scoped>\n",
              "    .dataframe tbody tr th:only-of-type {\n",
              "        vertical-align: middle;\n",
              "    }\n",
              "\n",
              "    .dataframe tbody tr th {\n",
              "        vertical-align: top;\n",
              "    }\n",
              "\n",
              "    .dataframe thead th {\n",
              "        text-align: right;\n",
              "    }\n",
              "</style>\n",
              "<table border=\"1\" class=\"dataframe\">\n",
              "  <thead>\n",
              "    <tr style=\"text-align: right;\">\n",
              "      <th></th>\n",
              "      <th>Bridge Opportunity: Project Code</th>\n",
              "      <th>Bridge Opportunity: Comments</th>\n",
              "      <th>2013_bridge_elevation_meters</th>\n",
              "      <th>2013_Cell</th>\n",
              "      <th>2013_bridge_connects</th>\n",
              "      <th>2013_cross_river_perday</th>\n",
              "      <th>2013_nearby_city_centers</th>\n",
              "      <th>2013_dangerous_to_cross(months)</th>\n",
              "      <th>2013_current_river_crossing</th>\n",
              "      <th>2013_time_to_nearest_safe_crossing_hours</th>\n",
              "      <th>2013_time_to_nearest_hospital_hours</th>\n",
              "      <th>2013_time_health_center_hours</th>\n",
              "      <th>2013_time_market_hours</th>\n",
              "      <th>2013_time_primary_school_hours</th>\n",
              "      <th>2013_time_secondary_school_hours</th>\n",
              "      <th>2013_time_to_church_hours</th>\n",
              "      <th>2013_land_within_50m</th>\n",
              "      <th>soil_type</th>\n",
              "      <th>2013_sand_provided_by</th>\n",
              "      <th>2013_gravel_provided_by</th>\n",
              "    </tr>\n",
              "  </thead>\n",
              "  <tbody>\n",
              "    <tr>\n",
              "      <th>0</th>\n",
              "      <td>1009317</td>\n",
              "      <td>steep slopes to deal with for anchors</td>\n",
              "      <td>NaN</td>\n",
              "      <td>None</td>\n",
              "      <td>None</td>\n",
              "      <td>None</td>\n",
              "      <td>None</td>\n",
              "      <td>None</td>\n",
              "      <td>None</td>\n",
              "      <td>None</td>\n",
              "      <td>None</td>\n",
              "      <td>None</td>\n",
              "      <td>None</td>\n",
              "      <td>None</td>\n",
              "      <td>None</td>\n",
              "      <td>None</td>\n",
              "      <td>None</td>\n",
              "      <td>None</td>\n",
              "      <td>None</td>\n",
              "      <td>None</td>\n",
              "    </tr>\n",
              "    <tr>\n",
              "      <th>1</th>\n",
              "      <td>1007325</td>\n",
              "      <td>NaN</td>\n",
              "      <td>NaN</td>\n",
              "      <td>None</td>\n",
              "      <td>None</td>\n",
              "      <td>None</td>\n",
              "      <td>None</td>\n",
              "      <td>None</td>\n",
              "      <td>None</td>\n",
              "      <td>None</td>\n",
              "      <td>None</td>\n",
              "      <td>None</td>\n",
              "      <td>None</td>\n",
              "      <td>None</td>\n",
              "      <td>None</td>\n",
              "      <td>None</td>\n",
              "      <td>None</td>\n",
              "      <td>None</td>\n",
              "      <td>None</td>\n",
              "      <td>None</td>\n",
              "    </tr>\n",
              "    <tr>\n",
              "      <th>2</th>\n",
              "      <td>1007374</td>\n",
              "      <td>likely piloting steel decking on this bridge. ...</td>\n",
              "      <td>1630.0</td>\n",
              "      <td>karambi-gasumba</td>\n",
              "      <td>None</td>\n",
              "      <td>None</td>\n",
              "      <td>-karambi -nyamagabe</td>\n",
              "      <td>6-9</td>\n",
              "      <td>simple timber bridge</td>\n",
              "      <td>&gt;3</td>\n",
              "      <td>0.5-1</td>\n",
              "      <td>0.5</td>\n",
              "      <td>0.5</td>\n",
              "      <td>0.5</td>\n",
              "      <td>0.5</td>\n",
              "      <td>0.5</td>\n",
              "      <td>flat (flood plain)</td>\n",
              "      <td>silt</td>\n",
              "      <td>sector</td>\n",
              "      <td>district</td>\n",
              "    </tr>\n",
              "    <tr>\n",
              "      <th>3</th>\n",
              "      <td>1007466</td>\n",
              "      <td>3000-6000 people directly served, elevation:21...</td>\n",
              "      <td>2101.0</td>\n",
              "      <td>rugogwe</td>\n",
              "      <td>None</td>\n",
              "      <td>300-600</td>\n",
              "      <td>-kizimyamuriro</td>\n",
              "      <td>3-6</td>\n",
              "      <td>simple timber bridge</td>\n",
              "      <td>2-3</td>\n",
              "      <td>&gt;6</td>\n",
              "      <td>0.5-1</td>\n",
              "      <td>0.5-1</td>\n",
              "      <td>0.5-1</td>\n",
              "      <td>0.5-1</td>\n",
              "      <td>0.5-1</td>\n",
              "      <td>hilly</td>\n",
              "      <td>hard rock</td>\n",
              "      <td>sector</td>\n",
              "      <td>district</td>\n",
              "    </tr>\n",
              "    <tr>\n",
              "      <th>4</th>\n",
              "      <td>1007495</td>\n",
              "      <td>not duplicate 500-1000 people directly served,...</td>\n",
              "      <td>1522.0</td>\n",
              "      <td>gasave</td>\n",
              "      <td>None</td>\n",
              "      <td>50-150</td>\n",
              "      <td>-rwesero -giti -butare</td>\n",
              "      <td>3-6</td>\n",
              "      <td>simple timber bridge</td>\n",
              "      <td>&gt;3</td>\n",
              "      <td>2-6</td>\n",
              "      <td>None</td>\n",
              "      <td>None</td>\n",
              "      <td>0.5-1</td>\n",
              "      <td>1-2</td>\n",
              "      <td>0.5-1</td>\n",
              "      <td>flat (flood plain)</td>\n",
              "      <td>silt</td>\n",
              "      <td>sector</td>\n",
              "      <td>district</td>\n",
              "    </tr>\n",
              "  </tbody>\n",
              "</table>\n",
              "</div>"
            ],
            "text/plain": [
              "  Bridge Opportunity: Project Code  ... 2013_gravel_provided_by\n",
              "0                          1009317  ...                    None\n",
              "1                          1007325  ...                    None\n",
              "2                          1007374  ...                district\n",
              "3                          1007466  ...                district\n",
              "4                          1007495  ...                district\n",
              "\n",
              "[5 rows x 20 columns]"
            ]
          },
          "metadata": {
            "tags": []
          },
          "execution_count": 267
        }
      ]
    },
    {
      "cell_type": "code",
      "metadata": {
        "id": "aTpPXoRAKcsb",
        "outputId": "b0b7c4af-bcb5-475f-de20-15edf473b4ed",
        "colab": {
          "base_uri": "https://localhost:8080/"
        }
      },
      "source": [
        "comments_df1['2013_gravel_provided_by'].value_counts()"
      ],
      "execution_count": 268,
      "outputs": [
        {
          "output_type": "execute_result",
          "data": {
            "text/plain": [
              "district                            191\n",
              "sector                               49\n",
              "                                     12\n",
              "can not be provided at the time       2\n",
              "Name: 2013_gravel_provided_by, dtype: int64"
            ]
          },
          "metadata": {
            "tags": []
          },
          "execution_count": 268
        }
      ]
    },
    {
      "cell_type": "code",
      "metadata": {
        "id": "Qm7HgV2aKf0T"
      },
      "source": [
        ""
      ],
      "execution_count": 268,
      "outputs": []
    },
    {
      "cell_type": "markdown",
      "metadata": {
        "id": "7kbo6ZOYRy6W"
      },
      "source": [
        "## Timber Provided by"
      ]
    },
    {
      "cell_type": "code",
      "metadata": {
        "id": "6U-GHVTnR0pO"
      },
      "source": [
        "def timber_provided_by(df):\n",
        "  \"\"\" This function Iterates through every row in the inputed Dataframe. \n",
        "  It will save over the variable s with the contents of the row for \"Bridge Opportunity: Comments\". \n",
        "  It then uses RegEx to identify cases of elevation in the text data. If a match is found it is apppended to \n",
        "  an empty list. if there is no match \"none\" is appended to the list. Upon reaching the end of the Dataframe \n",
        "  the list is returned and used to create a new column. Hours walking to reach the Hospital-0.5-1\"\"\" \n",
        "  new_col = []\n",
        "  for i, row in df.iterrows():\n",
        "    s = str(row[\"Bridge Opportunity: Comments\"])\n",
        "    p = re.search('timber\\sprovided\\sby-(\\w+\\s?)*',s)\n",
        "    if p:\n",
        "      new_col.append(str(p.group()[19:]))\n",
        "    else:\n",
        "      new_col.append(p)\n",
        "  return new_col"
      ],
      "execution_count": 269,
      "outputs": []
    },
    {
      "cell_type": "code",
      "metadata": {
        "id": "KO6_HZQ3R33R",
        "outputId": "a7d9686c-465f-461b-cab1-77bd0bfa0930",
        "colab": {
          "base_uri": "https://localhost:8080/"
        }
      },
      "source": [
        "listus = timber_provided_by(test_df)\n",
        "print(listus)"
      ],
      "execution_count": 270,
      "outputs": [
        {
          "output_type": "stream",
          "text": [
            "[None, None, 'district', 'district', 'district', 'district', 'district', 'district', 'district', 'district', 'district', 'district', 'district', 'district', 'district']\n"
          ],
          "name": "stdout"
        }
      ]
    },
    {
      "cell_type": "code",
      "metadata": {
        "id": "AC3CgrwWR65g",
        "outputId": "6668eee3-e26c-4c12-cebf-116e764c104a",
        "colab": {
          "base_uri": "https://localhost:8080/",
          "height": 0
        }
      },
      "source": [
        "test_df['2013_timber_provided_by'] = gravel_provided_by(test_df)\n",
        "\n",
        "test_df.head()"
      ],
      "execution_count": 271,
      "outputs": [
        {
          "output_type": "stream",
          "text": [
            "/usr/local/lib/python3.6/dist-packages/ipykernel_launcher.py:1: SettingWithCopyWarning: \n",
            "A value is trying to be set on a copy of a slice from a DataFrame.\n",
            "Try using .loc[row_indexer,col_indexer] = value instead\n",
            "\n",
            "See the caveats in the documentation: https://pandas.pydata.org/pandas-docs/stable/user_guide/indexing.html#returning-a-view-versus-a-copy\n",
            "  \"\"\"Entry point for launching an IPython kernel.\n"
          ],
          "name": "stderr"
        },
        {
          "output_type": "execute_result",
          "data": {
            "text/html": [
              "<div>\n",
              "<style scoped>\n",
              "    .dataframe tbody tr th:only-of-type {\n",
              "        vertical-align: middle;\n",
              "    }\n",
              "\n",
              "    .dataframe tbody tr th {\n",
              "        vertical-align: top;\n",
              "    }\n",
              "\n",
              "    .dataframe thead th {\n",
              "        text-align: right;\n",
              "    }\n",
              "</style>\n",
              "<table border=\"1\" class=\"dataframe\">\n",
              "  <thead>\n",
              "    <tr style=\"text-align: right;\">\n",
              "      <th></th>\n",
              "      <th>Bridge Opportunity: Project Code</th>\n",
              "      <th>Bridge Opportunity: Comments</th>\n",
              "      <th>2013 Bridge Elevation (Meters)</th>\n",
              "      <th>2013 Cell</th>\n",
              "      <th>2013_bridge_connecting</th>\n",
              "      <th>2013_cross_river_day</th>\n",
              "      <th>2013_nearby_city_centers</th>\n",
              "      <th>2013_dangerous_to_cross_months</th>\n",
              "      <th>2013_current_river_crossing</th>\n",
              "      <th>2013_time_to_nearest_safe_crossing_hours</th>\n",
              "      <th>2013_time_to_nearest_hospital(Hours_walking)</th>\n",
              "      <th>2013_time_to_nearest_health_center(Hours_walking)</th>\n",
              "      <th>2013_time_to_market(Hours_walking)</th>\n",
              "      <th>2013_time_to_primary_school_hours</th>\n",
              "      <th>2013_time_to_secondary_school_hours</th>\n",
              "      <th>2013_time_to_church(Hours_walking)</th>\n",
              "      <th>2013_land_within_50m</th>\n",
              "      <th>soil_type</th>\n",
              "      <th>2013_sand_provided_by</th>\n",
              "      <th>2013_gravel_provided_by</th>\n",
              "      <th>2013_timber_provided_by</th>\n",
              "    </tr>\n",
              "  </thead>\n",
              "  <tbody>\n",
              "    <tr>\n",
              "      <th>0</th>\n",
              "      <td>1009317</td>\n",
              "      <td>steep slopes to deal with for anchors</td>\n",
              "      <td>NaN</td>\n",
              "      <td>None</td>\n",
              "      <td>None</td>\n",
              "      <td>None</td>\n",
              "      <td>None</td>\n",
              "      <td>None</td>\n",
              "      <td>None</td>\n",
              "      <td>None</td>\n",
              "      <td>None</td>\n",
              "      <td>None</td>\n",
              "      <td>None</td>\n",
              "      <td>None</td>\n",
              "      <td>None</td>\n",
              "      <td>None</td>\n",
              "      <td>None</td>\n",
              "      <td>None</td>\n",
              "      <td>None</td>\n",
              "      <td>None</td>\n",
              "      <td>None</td>\n",
              "    </tr>\n",
              "    <tr>\n",
              "      <th>1</th>\n",
              "      <td>1007325</td>\n",
              "      <td>NaN</td>\n",
              "      <td>NaN</td>\n",
              "      <td>None</td>\n",
              "      <td>None</td>\n",
              "      <td>None</td>\n",
              "      <td>None</td>\n",
              "      <td>None</td>\n",
              "      <td>None</td>\n",
              "      <td>None</td>\n",
              "      <td>None</td>\n",
              "      <td>None</td>\n",
              "      <td>None</td>\n",
              "      <td>None</td>\n",
              "      <td>None</td>\n",
              "      <td>None</td>\n",
              "      <td>None</td>\n",
              "      <td>None</td>\n",
              "      <td>None</td>\n",
              "      <td>None</td>\n",
              "      <td>None</td>\n",
              "    </tr>\n",
              "    <tr>\n",
              "      <th>2</th>\n",
              "      <td>1007374</td>\n",
              "      <td>likely piloting steel decking on this bridge. ...</td>\n",
              "      <td>1630.0</td>\n",
              "      <td>karambi-gasumba</td>\n",
              "      <td>None</td>\n",
              "      <td>None</td>\n",
              "      <td>-karambi -nyamagabe</td>\n",
              "      <td>6-9</td>\n",
              "      <td>simple timber bridge</td>\n",
              "      <td>3</td>\n",
              "      <td>0.5-1</td>\n",
              "      <td>0.5</td>\n",
              "      <td>0.5</td>\n",
              "      <td>0.5</td>\n",
              "      <td>0.5</td>\n",
              "      <td>0.5</td>\n",
              "      <td>flat (flood plain)</td>\n",
              "      <td>silt</td>\n",
              "      <td>sector</td>\n",
              "      <td>district</td>\n",
              "      <td>district</td>\n",
              "    </tr>\n",
              "    <tr>\n",
              "      <th>3</th>\n",
              "      <td>1007466</td>\n",
              "      <td>3000-6000 people directly served, elevation:21...</td>\n",
              "      <td>2101.0</td>\n",
              "      <td>rugogwe</td>\n",
              "      <td>None</td>\n",
              "      <td>300-600</td>\n",
              "      <td>-kizimyamuriro</td>\n",
              "      <td>3-6</td>\n",
              "      <td>simple timber bridge</td>\n",
              "      <td>2-3</td>\n",
              "      <td>&gt;6</td>\n",
              "      <td>0.5-1</td>\n",
              "      <td>0.5-1</td>\n",
              "      <td>0.5-1</td>\n",
              "      <td>0.5-1</td>\n",
              "      <td>0.5-1</td>\n",
              "      <td>hilly</td>\n",
              "      <td>hard rock</td>\n",
              "      <td>sector</td>\n",
              "      <td>district</td>\n",
              "      <td>district</td>\n",
              "    </tr>\n",
              "    <tr>\n",
              "      <th>4</th>\n",
              "      <td>1007495</td>\n",
              "      <td>not duplicate 500-1000 people directly served,...</td>\n",
              "      <td>1522.0</td>\n",
              "      <td>gasave</td>\n",
              "      <td>None</td>\n",
              "      <td>50-150</td>\n",
              "      <td>-rwesero -giti -butare</td>\n",
              "      <td>3-6</td>\n",
              "      <td>simple timber bridge</td>\n",
              "      <td>3</td>\n",
              "      <td>2-6</td>\n",
              "      <td>None</td>\n",
              "      <td>None</td>\n",
              "      <td>0.5-1</td>\n",
              "      <td>1-2</td>\n",
              "      <td>0.5-1</td>\n",
              "      <td>flat (flood plain)</td>\n",
              "      <td>silt</td>\n",
              "      <td>sector</td>\n",
              "      <td>district</td>\n",
              "      <td>district</td>\n",
              "    </tr>\n",
              "  </tbody>\n",
              "</table>\n",
              "</div>"
            ],
            "text/plain": [
              "  Bridge Opportunity: Project Code  ... 2013_timber_provided_by\n",
              "0                          1009317  ...                    None\n",
              "1                          1007325  ...                    None\n",
              "2                          1007374  ...                district\n",
              "3                          1007466  ...                district\n",
              "4                          1007495  ...                district\n",
              "\n",
              "[5 rows x 21 columns]"
            ]
          },
          "metadata": {
            "tags": []
          },
          "execution_count": 271
        }
      ]
    },
    {
      "cell_type": "code",
      "metadata": {
        "id": "WhTa4iqcSBFg",
        "outputId": "204ddfea-1e8d-49ee-8953-9cee4979623a",
        "colab": {
          "base_uri": "https://localhost:8080/",
          "height": 0
        }
      },
      "source": [
        "comments_df1['2013_timber_provided_by'] = timber_provided_by(comments_df1)\n",
        "comments_df1.head()"
      ],
      "execution_count": 272,
      "outputs": [
        {
          "output_type": "execute_result",
          "data": {
            "text/html": [
              "<div>\n",
              "<style scoped>\n",
              "    .dataframe tbody tr th:only-of-type {\n",
              "        vertical-align: middle;\n",
              "    }\n",
              "\n",
              "    .dataframe tbody tr th {\n",
              "        vertical-align: top;\n",
              "    }\n",
              "\n",
              "    .dataframe thead th {\n",
              "        text-align: right;\n",
              "    }\n",
              "</style>\n",
              "<table border=\"1\" class=\"dataframe\">\n",
              "  <thead>\n",
              "    <tr style=\"text-align: right;\">\n",
              "      <th></th>\n",
              "      <th>Bridge Opportunity: Project Code</th>\n",
              "      <th>Bridge Opportunity: Comments</th>\n",
              "      <th>2013_bridge_elevation_meters</th>\n",
              "      <th>2013_Cell</th>\n",
              "      <th>2013_bridge_connects</th>\n",
              "      <th>2013_cross_river_perday</th>\n",
              "      <th>2013_nearby_city_centers</th>\n",
              "      <th>2013_dangerous_to_cross(months)</th>\n",
              "      <th>2013_current_river_crossing</th>\n",
              "      <th>2013_time_to_nearest_safe_crossing_hours</th>\n",
              "      <th>2013_time_to_nearest_hospital_hours</th>\n",
              "      <th>2013_time_health_center_hours</th>\n",
              "      <th>2013_time_market_hours</th>\n",
              "      <th>2013_time_primary_school_hours</th>\n",
              "      <th>2013_time_secondary_school_hours</th>\n",
              "      <th>2013_time_to_church_hours</th>\n",
              "      <th>2013_land_within_50m</th>\n",
              "      <th>soil_type</th>\n",
              "      <th>2013_sand_provided_by</th>\n",
              "      <th>2013_gravel_provided_by</th>\n",
              "      <th>2013_timber_provided_by</th>\n",
              "    </tr>\n",
              "  </thead>\n",
              "  <tbody>\n",
              "    <tr>\n",
              "      <th>0</th>\n",
              "      <td>1009317</td>\n",
              "      <td>steep slopes to deal with for anchors</td>\n",
              "      <td>NaN</td>\n",
              "      <td>None</td>\n",
              "      <td>None</td>\n",
              "      <td>None</td>\n",
              "      <td>None</td>\n",
              "      <td>None</td>\n",
              "      <td>None</td>\n",
              "      <td>None</td>\n",
              "      <td>None</td>\n",
              "      <td>None</td>\n",
              "      <td>None</td>\n",
              "      <td>None</td>\n",
              "      <td>None</td>\n",
              "      <td>None</td>\n",
              "      <td>None</td>\n",
              "      <td>None</td>\n",
              "      <td>None</td>\n",
              "      <td>None</td>\n",
              "      <td>None</td>\n",
              "    </tr>\n",
              "    <tr>\n",
              "      <th>1</th>\n",
              "      <td>1007325</td>\n",
              "      <td>NaN</td>\n",
              "      <td>NaN</td>\n",
              "      <td>None</td>\n",
              "      <td>None</td>\n",
              "      <td>None</td>\n",
              "      <td>None</td>\n",
              "      <td>None</td>\n",
              "      <td>None</td>\n",
              "      <td>None</td>\n",
              "      <td>None</td>\n",
              "      <td>None</td>\n",
              "      <td>None</td>\n",
              "      <td>None</td>\n",
              "      <td>None</td>\n",
              "      <td>None</td>\n",
              "      <td>None</td>\n",
              "      <td>None</td>\n",
              "      <td>None</td>\n",
              "      <td>None</td>\n",
              "      <td>None</td>\n",
              "    </tr>\n",
              "    <tr>\n",
              "      <th>2</th>\n",
              "      <td>1007374</td>\n",
              "      <td>likely piloting steel decking on this bridge. ...</td>\n",
              "      <td>1630.0</td>\n",
              "      <td>karambi-gasumba</td>\n",
              "      <td>None</td>\n",
              "      <td>None</td>\n",
              "      <td>-karambi -nyamagabe</td>\n",
              "      <td>6-9</td>\n",
              "      <td>simple timber bridge</td>\n",
              "      <td>&gt;3</td>\n",
              "      <td>0.5-1</td>\n",
              "      <td>0.5</td>\n",
              "      <td>0.5</td>\n",
              "      <td>0.5</td>\n",
              "      <td>0.5</td>\n",
              "      <td>0.5</td>\n",
              "      <td>flat (flood plain)</td>\n",
              "      <td>silt</td>\n",
              "      <td>sector</td>\n",
              "      <td>district</td>\n",
              "      <td>district</td>\n",
              "    </tr>\n",
              "    <tr>\n",
              "      <th>3</th>\n",
              "      <td>1007466</td>\n",
              "      <td>3000-6000 people directly served, elevation:21...</td>\n",
              "      <td>2101.0</td>\n",
              "      <td>rugogwe</td>\n",
              "      <td>None</td>\n",
              "      <td>300-600</td>\n",
              "      <td>-kizimyamuriro</td>\n",
              "      <td>3-6</td>\n",
              "      <td>simple timber bridge</td>\n",
              "      <td>2-3</td>\n",
              "      <td>&gt;6</td>\n",
              "      <td>0.5-1</td>\n",
              "      <td>0.5-1</td>\n",
              "      <td>0.5-1</td>\n",
              "      <td>0.5-1</td>\n",
              "      <td>0.5-1</td>\n",
              "      <td>hilly</td>\n",
              "      <td>hard rock</td>\n",
              "      <td>sector</td>\n",
              "      <td>district</td>\n",
              "      <td>district</td>\n",
              "    </tr>\n",
              "    <tr>\n",
              "      <th>4</th>\n",
              "      <td>1007495</td>\n",
              "      <td>not duplicate 500-1000 people directly served,...</td>\n",
              "      <td>1522.0</td>\n",
              "      <td>gasave</td>\n",
              "      <td>None</td>\n",
              "      <td>50-150</td>\n",
              "      <td>-rwesero -giti -butare</td>\n",
              "      <td>3-6</td>\n",
              "      <td>simple timber bridge</td>\n",
              "      <td>&gt;3</td>\n",
              "      <td>2-6</td>\n",
              "      <td>None</td>\n",
              "      <td>None</td>\n",
              "      <td>0.5-1</td>\n",
              "      <td>1-2</td>\n",
              "      <td>0.5-1</td>\n",
              "      <td>flat (flood plain)</td>\n",
              "      <td>silt</td>\n",
              "      <td>sector</td>\n",
              "      <td>district</td>\n",
              "      <td>district</td>\n",
              "    </tr>\n",
              "  </tbody>\n",
              "</table>\n",
              "</div>"
            ],
            "text/plain": [
              "  Bridge Opportunity: Project Code  ... 2013_timber_provided_by\n",
              "0                          1009317  ...                    None\n",
              "1                          1007325  ...                    None\n",
              "2                          1007374  ...                district\n",
              "3                          1007466  ...                district\n",
              "4                          1007495  ...                district\n",
              "\n",
              "[5 rows x 21 columns]"
            ]
          },
          "metadata": {
            "tags": []
          },
          "execution_count": 272
        }
      ]
    },
    {
      "cell_type": "code",
      "metadata": {
        "id": "CUg3f8tsSFL_",
        "outputId": "22a125b2-3e0c-4e23-e6a9-bd29ff0e0fab",
        "colab": {
          "base_uri": "https://localhost:8080/"
        }
      },
      "source": [
        "comments_df1['2013_timber_provided_by'].value_counts()"
      ],
      "execution_count": 273,
      "outputs": [
        {
          "output_type": "execute_result",
          "data": {
            "text/plain": [
              "district                            171\n",
              "sector                               78\n",
              "can not be provided at the time       3\n",
              "                                      2\n",
              "Name: 2013_timber_provided_by, dtype: int64"
            ]
          },
          "metadata": {
            "tags": []
          },
          "execution_count": 273
        }
      ]
    },
    {
      "cell_type": "code",
      "metadata": {
        "id": "Rz0LJRLKSJuC"
      },
      "source": [
        ""
      ],
      "execution_count": 273,
      "outputs": []
    },
    {
      "cell_type": "markdown",
      "metadata": {
        "id": "voXdN2vGTAAI"
      },
      "source": [
        "## Cement provided by"
      ]
    },
    {
      "cell_type": "code",
      "metadata": {
        "id": "LJYUc3x8TFIE"
      },
      "source": [
        "\n",
        "def cement_provided_by(df):\n",
        "  \"\"\" This function Iterates through every row in the inputed Dataframe. \n",
        "  It will save over the variable s with the contents of the row for \"Bridge Opportunity: Comments\". \n",
        "  It then uses RegEx to identify cases of elevation in the text data. If a match is found it is apppended to \n",
        "  an empty list. if there is no match \"none\" is appended to the list. Upon reaching the end of the Dataframe \n",
        "  the list is returned and used to create a new column. Hours walking to reach the Hospital-0.5-1\"\"\" \n",
        "  new_col = []\n",
        "  for i, row in df.iterrows():\n",
        "    s = str(row[\"Bridge Opportunity: Comments\"])\n",
        "    p = re.search('cement\\sprovided\\sby-(\\w+\\s?)*',s)\n",
        "    if p:\n",
        "      new_col.append(str(p.group()[19:]))\n",
        "    else:\n",
        "      new_col.append(p)\n",
        "  return new_col"
      ],
      "execution_count": 274,
      "outputs": []
    },
    {
      "cell_type": "code",
      "metadata": {
        "id": "YshxsfapTRph",
        "outputId": "cff621a3-ccf3-4f4e-c157-07a8a1d47858",
        "colab": {
          "base_uri": "https://localhost:8080/"
        }
      },
      "source": [
        "listus = cement_provided_by(test_df)\n",
        "print(listus)"
      ],
      "execution_count": 275,
      "outputs": [
        {
          "output_type": "stream",
          "text": [
            "[None, None, 'can not be provided at the time ', 'can not be provided at the time ', 'can not be provided at the time ', 'can not be provided at the time ', 'can not be provided at the time ', 'can not be provided at the time ', 'can not be provided at the time ', 'can not be provided at the time ', 'can not be provided at the time ', 'can not be provided at the time ', 'can not be provided at the time ', 'can not be provided at the time ', 'can not be provided at the time ']\n"
          ],
          "name": "stdout"
        }
      ]
    },
    {
      "cell_type": "code",
      "metadata": {
        "id": "QQaxk3amTThr",
        "outputId": "104fa5eb-8259-41aa-87dd-bba084e468c0",
        "colab": {
          "base_uri": "https://localhost:8080/",
          "height": 417
        }
      },
      "source": [
        "comments_df1['2013_cement_provided_by'] = cement_provided_by(comments_df1)\n",
        "comments_df1.head()"
      ],
      "execution_count": 276,
      "outputs": [
        {
          "output_type": "execute_result",
          "data": {
            "text/html": [
              "<div>\n",
              "<style scoped>\n",
              "    .dataframe tbody tr th:only-of-type {\n",
              "        vertical-align: middle;\n",
              "    }\n",
              "\n",
              "    .dataframe tbody tr th {\n",
              "        vertical-align: top;\n",
              "    }\n",
              "\n",
              "    .dataframe thead th {\n",
              "        text-align: right;\n",
              "    }\n",
              "</style>\n",
              "<table border=\"1\" class=\"dataframe\">\n",
              "  <thead>\n",
              "    <tr style=\"text-align: right;\">\n",
              "      <th></th>\n",
              "      <th>Bridge Opportunity: Project Code</th>\n",
              "      <th>Bridge Opportunity: Comments</th>\n",
              "      <th>2013_bridge_elevation_meters</th>\n",
              "      <th>2013_Cell</th>\n",
              "      <th>2013_bridge_connects</th>\n",
              "      <th>2013_cross_river_perday</th>\n",
              "      <th>2013_nearby_city_centers</th>\n",
              "      <th>2013_dangerous_to_cross(months)</th>\n",
              "      <th>2013_current_river_crossing</th>\n",
              "      <th>2013_time_to_nearest_safe_crossing_hours</th>\n",
              "      <th>2013_time_to_nearest_hospital_hours</th>\n",
              "      <th>2013_time_health_center_hours</th>\n",
              "      <th>2013_time_market_hours</th>\n",
              "      <th>2013_time_primary_school_hours</th>\n",
              "      <th>2013_time_secondary_school_hours</th>\n",
              "      <th>2013_time_to_church_hours</th>\n",
              "      <th>2013_land_within_50m</th>\n",
              "      <th>soil_type</th>\n",
              "      <th>2013_sand_provided_by</th>\n",
              "      <th>2013_gravel_provided_by</th>\n",
              "      <th>2013_timber_provided_by</th>\n",
              "      <th>2013_cement_provided_by</th>\n",
              "    </tr>\n",
              "  </thead>\n",
              "  <tbody>\n",
              "    <tr>\n",
              "      <th>0</th>\n",
              "      <td>1009317</td>\n",
              "      <td>steep slopes to deal with for anchors</td>\n",
              "      <td>NaN</td>\n",
              "      <td>None</td>\n",
              "      <td>None</td>\n",
              "      <td>None</td>\n",
              "      <td>None</td>\n",
              "      <td>None</td>\n",
              "      <td>None</td>\n",
              "      <td>None</td>\n",
              "      <td>None</td>\n",
              "      <td>None</td>\n",
              "      <td>None</td>\n",
              "      <td>None</td>\n",
              "      <td>None</td>\n",
              "      <td>None</td>\n",
              "      <td>None</td>\n",
              "      <td>None</td>\n",
              "      <td>None</td>\n",
              "      <td>None</td>\n",
              "      <td>None</td>\n",
              "      <td>None</td>\n",
              "    </tr>\n",
              "    <tr>\n",
              "      <th>1</th>\n",
              "      <td>1007325</td>\n",
              "      <td>NaN</td>\n",
              "      <td>NaN</td>\n",
              "      <td>None</td>\n",
              "      <td>None</td>\n",
              "      <td>None</td>\n",
              "      <td>None</td>\n",
              "      <td>None</td>\n",
              "      <td>None</td>\n",
              "      <td>None</td>\n",
              "      <td>None</td>\n",
              "      <td>None</td>\n",
              "      <td>None</td>\n",
              "      <td>None</td>\n",
              "      <td>None</td>\n",
              "      <td>None</td>\n",
              "      <td>None</td>\n",
              "      <td>None</td>\n",
              "      <td>None</td>\n",
              "      <td>None</td>\n",
              "      <td>None</td>\n",
              "      <td>None</td>\n",
              "    </tr>\n",
              "    <tr>\n",
              "      <th>2</th>\n",
              "      <td>1007374</td>\n",
              "      <td>likely piloting steel decking on this bridge. ...</td>\n",
              "      <td>1630.0</td>\n",
              "      <td>karambi-gasumba</td>\n",
              "      <td>None</td>\n",
              "      <td>None</td>\n",
              "      <td>-karambi -nyamagabe</td>\n",
              "      <td>6-9</td>\n",
              "      <td>simple timber bridge</td>\n",
              "      <td>&gt;3</td>\n",
              "      <td>0.5-1</td>\n",
              "      <td>0.5</td>\n",
              "      <td>0.5</td>\n",
              "      <td>0.5</td>\n",
              "      <td>0.5</td>\n",
              "      <td>0.5</td>\n",
              "      <td>flat (flood plain)</td>\n",
              "      <td>silt</td>\n",
              "      <td>sector</td>\n",
              "      <td>district</td>\n",
              "      <td>district</td>\n",
              "      <td>can not be provided at the time</td>\n",
              "    </tr>\n",
              "    <tr>\n",
              "      <th>3</th>\n",
              "      <td>1007466</td>\n",
              "      <td>3000-6000 people directly served, elevation:21...</td>\n",
              "      <td>2101.0</td>\n",
              "      <td>rugogwe</td>\n",
              "      <td>None</td>\n",
              "      <td>300-600</td>\n",
              "      <td>-kizimyamuriro</td>\n",
              "      <td>3-6</td>\n",
              "      <td>simple timber bridge</td>\n",
              "      <td>2-3</td>\n",
              "      <td>&gt;6</td>\n",
              "      <td>0.5-1</td>\n",
              "      <td>0.5-1</td>\n",
              "      <td>0.5-1</td>\n",
              "      <td>0.5-1</td>\n",
              "      <td>0.5-1</td>\n",
              "      <td>hilly</td>\n",
              "      <td>hard rock</td>\n",
              "      <td>sector</td>\n",
              "      <td>district</td>\n",
              "      <td>district</td>\n",
              "      <td>can not be provided at the time</td>\n",
              "    </tr>\n",
              "    <tr>\n",
              "      <th>4</th>\n",
              "      <td>1007495</td>\n",
              "      <td>not duplicate 500-1000 people directly served,...</td>\n",
              "      <td>1522.0</td>\n",
              "      <td>gasave</td>\n",
              "      <td>None</td>\n",
              "      <td>50-150</td>\n",
              "      <td>-rwesero -giti -butare</td>\n",
              "      <td>3-6</td>\n",
              "      <td>simple timber bridge</td>\n",
              "      <td>&gt;3</td>\n",
              "      <td>2-6</td>\n",
              "      <td>None</td>\n",
              "      <td>None</td>\n",
              "      <td>0.5-1</td>\n",
              "      <td>1-2</td>\n",
              "      <td>0.5-1</td>\n",
              "      <td>flat (flood plain)</td>\n",
              "      <td>silt</td>\n",
              "      <td>sector</td>\n",
              "      <td>district</td>\n",
              "      <td>district</td>\n",
              "      <td>can not be provided at the time</td>\n",
              "    </tr>\n",
              "  </tbody>\n",
              "</table>\n",
              "</div>"
            ],
            "text/plain": [
              "  Bridge Opportunity: Project Code  ...           2013_cement_provided_by\n",
              "0                          1009317  ...                              None\n",
              "1                          1007325  ...                              None\n",
              "2                          1007374  ...  can not be provided at the time \n",
              "3                          1007466  ...  can not be provided at the time \n",
              "4                          1007495  ...  can not be provided at the time \n",
              "\n",
              "[5 rows x 22 columns]"
            ]
          },
          "metadata": {
            "tags": []
          },
          "execution_count": 276
        }
      ]
    },
    {
      "cell_type": "code",
      "metadata": {
        "id": "lZs5JWNaTeGB",
        "outputId": "6200bc79-ca2f-4308-9523-afe4dc25ebba",
        "colab": {
          "base_uri": "https://localhost:8080/"
        }
      },
      "source": [
        "comments_df1['2013_cement_provided_by'].value_counts()"
      ],
      "execution_count": 277,
      "outputs": [
        {
          "output_type": "execute_result",
          "data": {
            "text/plain": [
              "can not be provided at the time     249\n",
              "district                              3\n",
              "                                      2\n",
              "Name: 2013_cement_provided_by, dtype: int64"
            ]
          },
          "metadata": {
            "tags": []
          },
          "execution_count": 277
        }
      ]
    },
    {
      "cell_type": "code",
      "metadata": {
        "id": "o5qsvMFHTh3Y"
      },
      "source": [
        ""
      ],
      "execution_count": 277,
      "outputs": []
    },
    {
      "cell_type": "markdown",
      "metadata": {
        "id": "o0zf85n9TkUI"
      },
      "source": [
        "## Reinforcement Steel provided by"
      ]
    },
    {
      "cell_type": "code",
      "metadata": {
        "id": "L-9WscmHTv6V"
      },
      "source": [
        "\n",
        "\n",
        "def reinforcement_steel_provided_by(df):\n",
        "  \"\"\" This function Iterates through every row in the inputed Dataframe. \n",
        "  It will save over the variable s with the contents of the row for \"Bridge Opportunity: Comments\". \n",
        "  It then uses RegEx to identify cases of elevation in the text data. If a match is found it is apppended to \n",
        "  an empty list. if there is no match \"none\" is appended to the list. Upon reaching the end of the Dataframe \n",
        "  the list is returned and used to create a new column. Hours walking to reach the Hospital-0.5-1\"\"\" \n",
        "  new_col = []\n",
        "  for i, row in df.iterrows():\n",
        "    s = str(row[\"Bridge Opportunity: Comments\"])\n",
        "    p = re.search('reinforcement\\ssteel\\sprovided\\sby-(\\w+\\s?)*',s)\n",
        "    if p:\n",
        "      new_col.append(str(p.group()[32:]))\n",
        "    else:\n",
        "      new_col.append(p)\n",
        "  return new_col"
      ],
      "execution_count": 278,
      "outputs": []
    },
    {
      "cell_type": "code",
      "metadata": {
        "id": "y0sfwUZjT3fc",
        "outputId": "c4dc735e-361e-4506-9227-161c82d03b96",
        "colab": {
          "base_uri": "https://localhost:8080/"
        }
      },
      "source": [
        "listus = reinforcement_steel_provided_by(test_df)\n",
        "print(listus)"
      ],
      "execution_count": 279,
      "outputs": [
        {
          "output_type": "stream",
          "text": [
            "[None, None, 'can not be provided at the time ', 'can not be provided at the time ', 'can not be provided at the time ', 'can not be provided at the time ', 'can not be provided at the time ', 'can not be provided at the time ', 'can not be provided at the time ', 'can not be provided at the time ', 'can not be provided at the time ', 'can not be provided at the time ', 'can not be provided at the time ', 'can not be provided at the time ', 'can not be provided at the time ']\n"
          ],
          "name": "stdout"
        }
      ]
    },
    {
      "cell_type": "code",
      "metadata": {
        "id": "fYTTUCf5T8wt",
        "outputId": "2294103a-2cc6-41a4-bc0f-d9ea78e0fb4a",
        "colab": {
          "base_uri": "https://localhost:8080/",
          "height": 0
        }
      },
      "source": [
        "comments_df1['2013_reinforcement_steel_provided_by'] = reinforcement_steel_provided_by(comments_df1)\n",
        "comments_df1.head()"
      ],
      "execution_count": 280,
      "outputs": [
        {
          "output_type": "execute_result",
          "data": {
            "text/html": [
              "<div>\n",
              "<style scoped>\n",
              "    .dataframe tbody tr th:only-of-type {\n",
              "        vertical-align: middle;\n",
              "    }\n",
              "\n",
              "    .dataframe tbody tr th {\n",
              "        vertical-align: top;\n",
              "    }\n",
              "\n",
              "    .dataframe thead th {\n",
              "        text-align: right;\n",
              "    }\n",
              "</style>\n",
              "<table border=\"1\" class=\"dataframe\">\n",
              "  <thead>\n",
              "    <tr style=\"text-align: right;\">\n",
              "      <th></th>\n",
              "      <th>Bridge Opportunity: Project Code</th>\n",
              "      <th>Bridge Opportunity: Comments</th>\n",
              "      <th>2013_bridge_elevation_meters</th>\n",
              "      <th>2013_Cell</th>\n",
              "      <th>2013_bridge_connects</th>\n",
              "      <th>2013_cross_river_perday</th>\n",
              "      <th>2013_nearby_city_centers</th>\n",
              "      <th>2013_dangerous_to_cross(months)</th>\n",
              "      <th>2013_current_river_crossing</th>\n",
              "      <th>2013_time_to_nearest_safe_crossing_hours</th>\n",
              "      <th>2013_time_to_nearest_hospital_hours</th>\n",
              "      <th>2013_time_health_center_hours</th>\n",
              "      <th>2013_time_market_hours</th>\n",
              "      <th>2013_time_primary_school_hours</th>\n",
              "      <th>2013_time_secondary_school_hours</th>\n",
              "      <th>2013_time_to_church_hours</th>\n",
              "      <th>2013_land_within_50m</th>\n",
              "      <th>soil_type</th>\n",
              "      <th>2013_sand_provided_by</th>\n",
              "      <th>2013_gravel_provided_by</th>\n",
              "      <th>2013_timber_provided_by</th>\n",
              "      <th>2013_cement_provided_by</th>\n",
              "      <th>2013_reinforcement_steel_provided_by</th>\n",
              "    </tr>\n",
              "  </thead>\n",
              "  <tbody>\n",
              "    <tr>\n",
              "      <th>0</th>\n",
              "      <td>1009317</td>\n",
              "      <td>steep slopes to deal with for anchors</td>\n",
              "      <td>NaN</td>\n",
              "      <td>None</td>\n",
              "      <td>None</td>\n",
              "      <td>None</td>\n",
              "      <td>None</td>\n",
              "      <td>None</td>\n",
              "      <td>None</td>\n",
              "      <td>None</td>\n",
              "      <td>None</td>\n",
              "      <td>None</td>\n",
              "      <td>None</td>\n",
              "      <td>None</td>\n",
              "      <td>None</td>\n",
              "      <td>None</td>\n",
              "      <td>None</td>\n",
              "      <td>None</td>\n",
              "      <td>None</td>\n",
              "      <td>None</td>\n",
              "      <td>None</td>\n",
              "      <td>None</td>\n",
              "      <td>None</td>\n",
              "    </tr>\n",
              "    <tr>\n",
              "      <th>1</th>\n",
              "      <td>1007325</td>\n",
              "      <td>NaN</td>\n",
              "      <td>NaN</td>\n",
              "      <td>None</td>\n",
              "      <td>None</td>\n",
              "      <td>None</td>\n",
              "      <td>None</td>\n",
              "      <td>None</td>\n",
              "      <td>None</td>\n",
              "      <td>None</td>\n",
              "      <td>None</td>\n",
              "      <td>None</td>\n",
              "      <td>None</td>\n",
              "      <td>None</td>\n",
              "      <td>None</td>\n",
              "      <td>None</td>\n",
              "      <td>None</td>\n",
              "      <td>None</td>\n",
              "      <td>None</td>\n",
              "      <td>None</td>\n",
              "      <td>None</td>\n",
              "      <td>None</td>\n",
              "      <td>None</td>\n",
              "    </tr>\n",
              "    <tr>\n",
              "      <th>2</th>\n",
              "      <td>1007374</td>\n",
              "      <td>likely piloting steel decking on this bridge. ...</td>\n",
              "      <td>1630.0</td>\n",
              "      <td>karambi-gasumba</td>\n",
              "      <td>None</td>\n",
              "      <td>None</td>\n",
              "      <td>-karambi -nyamagabe</td>\n",
              "      <td>6-9</td>\n",
              "      <td>simple timber bridge</td>\n",
              "      <td>&gt;3</td>\n",
              "      <td>0.5-1</td>\n",
              "      <td>0.5</td>\n",
              "      <td>0.5</td>\n",
              "      <td>0.5</td>\n",
              "      <td>0.5</td>\n",
              "      <td>0.5</td>\n",
              "      <td>flat (flood plain)</td>\n",
              "      <td>silt</td>\n",
              "      <td>sector</td>\n",
              "      <td>district</td>\n",
              "      <td>district</td>\n",
              "      <td>can not be provided at the time</td>\n",
              "      <td>can not be provided at the time</td>\n",
              "    </tr>\n",
              "    <tr>\n",
              "      <th>3</th>\n",
              "      <td>1007466</td>\n",
              "      <td>3000-6000 people directly served, elevation:21...</td>\n",
              "      <td>2101.0</td>\n",
              "      <td>rugogwe</td>\n",
              "      <td>None</td>\n",
              "      <td>300-600</td>\n",
              "      <td>-kizimyamuriro</td>\n",
              "      <td>3-6</td>\n",
              "      <td>simple timber bridge</td>\n",
              "      <td>2-3</td>\n",
              "      <td>&gt;6</td>\n",
              "      <td>0.5-1</td>\n",
              "      <td>0.5-1</td>\n",
              "      <td>0.5-1</td>\n",
              "      <td>0.5-1</td>\n",
              "      <td>0.5-1</td>\n",
              "      <td>hilly</td>\n",
              "      <td>hard rock</td>\n",
              "      <td>sector</td>\n",
              "      <td>district</td>\n",
              "      <td>district</td>\n",
              "      <td>can not be provided at the time</td>\n",
              "      <td>can not be provided at the time</td>\n",
              "    </tr>\n",
              "    <tr>\n",
              "      <th>4</th>\n",
              "      <td>1007495</td>\n",
              "      <td>not duplicate 500-1000 people directly served,...</td>\n",
              "      <td>1522.0</td>\n",
              "      <td>gasave</td>\n",
              "      <td>None</td>\n",
              "      <td>50-150</td>\n",
              "      <td>-rwesero -giti -butare</td>\n",
              "      <td>3-6</td>\n",
              "      <td>simple timber bridge</td>\n",
              "      <td>&gt;3</td>\n",
              "      <td>2-6</td>\n",
              "      <td>None</td>\n",
              "      <td>None</td>\n",
              "      <td>0.5-1</td>\n",
              "      <td>1-2</td>\n",
              "      <td>0.5-1</td>\n",
              "      <td>flat (flood plain)</td>\n",
              "      <td>silt</td>\n",
              "      <td>sector</td>\n",
              "      <td>district</td>\n",
              "      <td>district</td>\n",
              "      <td>can not be provided at the time</td>\n",
              "      <td>can not be provided at the time</td>\n",
              "    </tr>\n",
              "  </tbody>\n",
              "</table>\n",
              "</div>"
            ],
            "text/plain": [
              "  Bridge Opportunity: Project Code  ... 2013_reinforcement_steel_provided_by\n",
              "0                          1009317  ...                                 None\n",
              "1                          1007325  ...                                 None\n",
              "2                          1007374  ...     can not be provided at the time \n",
              "3                          1007466  ...     can not be provided at the time \n",
              "4                          1007495  ...     can not be provided at the time \n",
              "\n",
              "[5 rows x 23 columns]"
            ]
          },
          "metadata": {
            "tags": []
          },
          "execution_count": 280
        }
      ]
    },
    {
      "cell_type": "code",
      "metadata": {
        "id": "KdDf8v_ZUKWr",
        "outputId": "2b5ff156-9019-4299-c113-78c875cba107",
        "colab": {
          "base_uri": "https://localhost:8080/"
        }
      },
      "source": [
        "comments_df1['2013_reinforcement_steel_provided_by'].value_counts()"
      ],
      "execution_count": 281,
      "outputs": [
        {
          "output_type": "execute_result",
          "data": {
            "text/plain": [
              "can not be provided at the time     249\n",
              "district                              3\n",
              "                                      2\n",
              "Name: 2013_reinforcement_steel_provided_by, dtype: int64"
            ]
          },
          "metadata": {
            "tags": []
          },
          "execution_count": 281
        }
      ]
    },
    {
      "cell_type": "code",
      "metadata": {
        "id": "6Y4ZRBLKUOLq"
      },
      "source": [
        ""
      ],
      "execution_count": 281,
      "outputs": []
    },
    {
      "cell_type": "markdown",
      "metadata": {
        "id": "JRJkTkEDUbPm"
      },
      "source": [
        "## Land Ownership"
      ]
    },
    {
      "cell_type": "code",
      "metadata": {
        "id": "J1kqjwTiUcwo"
      },
      "source": [
        "\n",
        "def land_ownership(df):\n",
        "  \"\"\" This function Iterates through every row in the inputed Dataframe. \n",
        "  It will save over the variable s with the contents of the row for \"Bridge Opportunity: Comments\". \n",
        "  It then uses RegEx to identify cases of elevation in the text data. If a match is found it is apppended to \n",
        "  an empty list. if there is no match \"none\" is appended to the list. Upon reaching the end of the Dataframe \n",
        "  the list is returned and used to create a new column. Hours walking to reach the Hospital-0.5-1\"\"\" \n",
        "  new_col = []\n",
        "  for i, row in df.iterrows():\n",
        "    s = str(row[\"Bridge Opportunity: Comments\"])\n",
        "    p = re.search('land\\sownership-(\\w+\\s?)*',s)\n",
        "    if p:\n",
        "      new_col.append(str(p.group()[15:]))\n",
        "    else:\n",
        "      new_col.append(p)\n",
        "  return new_col"
      ],
      "execution_count": 282,
      "outputs": []
    },
    {
      "cell_type": "code",
      "metadata": {
        "id": "XIIPcl3SUnh2",
        "outputId": "ecc4ce2c-66e7-4764-b48f-fa6e4dd3c590",
        "colab": {
          "base_uri": "https://localhost:8080/"
        }
      },
      "source": [
        "listus = land_ownership(test_df)\n",
        "print(listus)"
      ],
      "execution_count": 283,
      "outputs": [
        {
          "output_type": "stream",
          "text": [
            "[None, None, 'private landowner', 'government of rwanda ', 'private landowner', 'government of rwanda ', 'private landowner', 'government of rwanda ', 'government of rwanda ', 'government of rwanda ', 'government of rwanda ', 'government of rwanda ', 'private landowner', 'private landowner', 'private landowner']\n"
          ],
          "name": "stdout"
        }
      ]
    },
    {
      "cell_type": "code",
      "metadata": {
        "id": "Q9VfYDZgUrPM",
        "outputId": "2ff356b6-de8c-4c00-a56d-565332fbf02a",
        "colab": {
          "base_uri": "https://localhost:8080/",
          "height": 0
        }
      },
      "source": [
        "comments_df1['2013_land_ownership'] = land_ownership(comments_df1)\n",
        "comments_df1.head()"
      ],
      "execution_count": 284,
      "outputs": [
        {
          "output_type": "execute_result",
          "data": {
            "text/html": [
              "<div>\n",
              "<style scoped>\n",
              "    .dataframe tbody tr th:only-of-type {\n",
              "        vertical-align: middle;\n",
              "    }\n",
              "\n",
              "    .dataframe tbody tr th {\n",
              "        vertical-align: top;\n",
              "    }\n",
              "\n",
              "    .dataframe thead th {\n",
              "        text-align: right;\n",
              "    }\n",
              "</style>\n",
              "<table border=\"1\" class=\"dataframe\">\n",
              "  <thead>\n",
              "    <tr style=\"text-align: right;\">\n",
              "      <th></th>\n",
              "      <th>Bridge Opportunity: Project Code</th>\n",
              "      <th>Bridge Opportunity: Comments</th>\n",
              "      <th>2013_bridge_elevation_meters</th>\n",
              "      <th>2013_Cell</th>\n",
              "      <th>2013_bridge_connects</th>\n",
              "      <th>2013_cross_river_perday</th>\n",
              "      <th>2013_nearby_city_centers</th>\n",
              "      <th>2013_dangerous_to_cross(months)</th>\n",
              "      <th>2013_current_river_crossing</th>\n",
              "      <th>2013_time_to_nearest_safe_crossing_hours</th>\n",
              "      <th>2013_time_to_nearest_hospital_hours</th>\n",
              "      <th>2013_time_health_center_hours</th>\n",
              "      <th>2013_time_market_hours</th>\n",
              "      <th>2013_time_primary_school_hours</th>\n",
              "      <th>2013_time_secondary_school_hours</th>\n",
              "      <th>2013_time_to_church_hours</th>\n",
              "      <th>2013_land_within_50m</th>\n",
              "      <th>soil_type</th>\n",
              "      <th>2013_sand_provided_by</th>\n",
              "      <th>2013_gravel_provided_by</th>\n",
              "      <th>2013_timber_provided_by</th>\n",
              "      <th>2013_cement_provided_by</th>\n",
              "      <th>2013_reinforcement_steel_provided_by</th>\n",
              "      <th>2013_land_ownership</th>\n",
              "    </tr>\n",
              "  </thead>\n",
              "  <tbody>\n",
              "    <tr>\n",
              "      <th>0</th>\n",
              "      <td>1009317</td>\n",
              "      <td>steep slopes to deal with for anchors</td>\n",
              "      <td>NaN</td>\n",
              "      <td>None</td>\n",
              "      <td>None</td>\n",
              "      <td>None</td>\n",
              "      <td>None</td>\n",
              "      <td>None</td>\n",
              "      <td>None</td>\n",
              "      <td>None</td>\n",
              "      <td>None</td>\n",
              "      <td>None</td>\n",
              "      <td>None</td>\n",
              "      <td>None</td>\n",
              "      <td>None</td>\n",
              "      <td>None</td>\n",
              "      <td>None</td>\n",
              "      <td>None</td>\n",
              "      <td>None</td>\n",
              "      <td>None</td>\n",
              "      <td>None</td>\n",
              "      <td>None</td>\n",
              "      <td>None</td>\n",
              "      <td>None</td>\n",
              "    </tr>\n",
              "    <tr>\n",
              "      <th>1</th>\n",
              "      <td>1007325</td>\n",
              "      <td>NaN</td>\n",
              "      <td>NaN</td>\n",
              "      <td>None</td>\n",
              "      <td>None</td>\n",
              "      <td>None</td>\n",
              "      <td>None</td>\n",
              "      <td>None</td>\n",
              "      <td>None</td>\n",
              "      <td>None</td>\n",
              "      <td>None</td>\n",
              "      <td>None</td>\n",
              "      <td>None</td>\n",
              "      <td>None</td>\n",
              "      <td>None</td>\n",
              "      <td>None</td>\n",
              "      <td>None</td>\n",
              "      <td>None</td>\n",
              "      <td>None</td>\n",
              "      <td>None</td>\n",
              "      <td>None</td>\n",
              "      <td>None</td>\n",
              "      <td>None</td>\n",
              "      <td>None</td>\n",
              "    </tr>\n",
              "    <tr>\n",
              "      <th>2</th>\n",
              "      <td>1007374</td>\n",
              "      <td>likely piloting steel decking on this bridge. ...</td>\n",
              "      <td>1630.0</td>\n",
              "      <td>karambi-gasumba</td>\n",
              "      <td>None</td>\n",
              "      <td>None</td>\n",
              "      <td>-karambi -nyamagabe</td>\n",
              "      <td>6-9</td>\n",
              "      <td>simple timber bridge</td>\n",
              "      <td>&gt;3</td>\n",
              "      <td>0.5-1</td>\n",
              "      <td>0.5</td>\n",
              "      <td>0.5</td>\n",
              "      <td>0.5</td>\n",
              "      <td>0.5</td>\n",
              "      <td>0.5</td>\n",
              "      <td>flat (flood plain)</td>\n",
              "      <td>silt</td>\n",
              "      <td>sector</td>\n",
              "      <td>district</td>\n",
              "      <td>district</td>\n",
              "      <td>can not be provided at the time</td>\n",
              "      <td>can not be provided at the time</td>\n",
              "      <td>private landowner</td>\n",
              "    </tr>\n",
              "    <tr>\n",
              "      <th>3</th>\n",
              "      <td>1007466</td>\n",
              "      <td>3000-6000 people directly served, elevation:21...</td>\n",
              "      <td>2101.0</td>\n",
              "      <td>rugogwe</td>\n",
              "      <td>None</td>\n",
              "      <td>300-600</td>\n",
              "      <td>-kizimyamuriro</td>\n",
              "      <td>3-6</td>\n",
              "      <td>simple timber bridge</td>\n",
              "      <td>2-3</td>\n",
              "      <td>&gt;6</td>\n",
              "      <td>0.5-1</td>\n",
              "      <td>0.5-1</td>\n",
              "      <td>0.5-1</td>\n",
              "      <td>0.5-1</td>\n",
              "      <td>0.5-1</td>\n",
              "      <td>hilly</td>\n",
              "      <td>hard rock</td>\n",
              "      <td>sector</td>\n",
              "      <td>district</td>\n",
              "      <td>district</td>\n",
              "      <td>can not be provided at the time</td>\n",
              "      <td>can not be provided at the time</td>\n",
              "      <td>government of rwanda</td>\n",
              "    </tr>\n",
              "    <tr>\n",
              "      <th>4</th>\n",
              "      <td>1007495</td>\n",
              "      <td>not duplicate 500-1000 people directly served,...</td>\n",
              "      <td>1522.0</td>\n",
              "      <td>gasave</td>\n",
              "      <td>None</td>\n",
              "      <td>50-150</td>\n",
              "      <td>-rwesero -giti -butare</td>\n",
              "      <td>3-6</td>\n",
              "      <td>simple timber bridge</td>\n",
              "      <td>&gt;3</td>\n",
              "      <td>2-6</td>\n",
              "      <td>None</td>\n",
              "      <td>None</td>\n",
              "      <td>0.5-1</td>\n",
              "      <td>1-2</td>\n",
              "      <td>0.5-1</td>\n",
              "      <td>flat (flood plain)</td>\n",
              "      <td>silt</td>\n",
              "      <td>sector</td>\n",
              "      <td>district</td>\n",
              "      <td>district</td>\n",
              "      <td>can not be provided at the time</td>\n",
              "      <td>can not be provided at the time</td>\n",
              "      <td>private landowner</td>\n",
              "    </tr>\n",
              "  </tbody>\n",
              "</table>\n",
              "</div>"
            ],
            "text/plain": [
              "  Bridge Opportunity: Project Code  ...    2013_land_ownership\n",
              "0                          1009317  ...                   None\n",
              "1                          1007325  ...                   None\n",
              "2                          1007374  ...      private landowner\n",
              "3                          1007466  ...  government of rwanda \n",
              "4                          1007495  ...      private landowner\n",
              "\n",
              "[5 rows x 24 columns]"
            ]
          },
          "metadata": {
            "tags": []
          },
          "execution_count": 284
        }
      ]
    },
    {
      "cell_type": "code",
      "metadata": {
        "id": "zuX87cZZUx-N",
        "outputId": "d678c59f-2a28-4463-fdac-2690bc38c04c",
        "colab": {
          "base_uri": "https://localhost:8080/"
        }
      },
      "source": [
        "comments_df1['2013_land_ownership'].value_counts()"
      ],
      "execution_count": 285,
      "outputs": [
        {
          "output_type": "execute_result",
          "data": {
            "text/plain": [
              "government of rwanda     201\n",
              "private landowner         51\n",
              "                           2\n",
              "Name: 2013_land_ownership, dtype: int64"
            ]
          },
          "metadata": {
            "tags": []
          },
          "execution_count": 285
        }
      ]
    },
    {
      "cell_type": "code",
      "metadata": {
        "id": "vgUi9bu4U0ns"
      },
      "source": [
        ""
      ],
      "execution_count": 285,
      "outputs": []
    },
    {
      "cell_type": "markdown",
      "metadata": {
        "id": "FhtJxNFCU54v"
      },
      "source": [
        "## Land Ownership Permission"
      ]
    },
    {
      "cell_type": "code",
      "metadata": {
        "id": "IxqQF2ZlU8mR"
      },
      "source": [
        "\n",
        "def land_ownership_permission(df):\n",
        "  \"\"\" This function Iterates through every row in the inputed Dataframe. \n",
        "  It will save over the variable s with the contents of the row for \"Bridge Opportunity: Comments\". \n",
        "  It then uses RegEx to identify cases of elevation in the text data. If a match is found it is apppended to \n",
        "  an empty list. if there is no match \"none\" is appended to the list. Upon reaching the end of the Dataframe \n",
        "  the list is returned and used to create a new column. Hours walking to reach the Hospital-0.5-1\"\"\" \n",
        "  new_col = []\n",
        "  for i, row in df.iterrows():\n",
        "    s = str(row[\"Bridge Opportunity: Comments\"])\n",
        "    p = re.search('land\\sownership\\spermission-(\\w+?)*',s)\n",
        "    if p:\n",
        "      new_col.append(str(p.group()[26:]))\n",
        "    else:\n",
        "      new_col.append(p)\n",
        "  return new_col"
      ],
      "execution_count": 286,
      "outputs": []
    },
    {
      "cell_type": "code",
      "metadata": {
        "id": "Rg5cEK4wVE3U",
        "outputId": "f8912617-db63-49bb-e0e6-f0be53884f67",
        "colab": {
          "base_uri": "https://localhost:8080/"
        }
      },
      "source": [
        "listus = land_ownership_permission(test_df)\n",
        "print(listus)"
      ],
      "execution_count": 287,
      "outputs": [
        {
          "output_type": "stream",
          "text": [
            "[None, None, 'yes', 'yes', 'yes', 'yes', 'yes', 'yes', 'yes', 'yes', 'yes', 'yes', 'yes', 'yes', 'yes']\n"
          ],
          "name": "stdout"
        }
      ]
    },
    {
      "cell_type": "code",
      "metadata": {
        "id": "9QP-p0zRVHEB",
        "outputId": "5ed85f0c-7c96-46f1-a839-ef8ca8f613e6",
        "colab": {
          "base_uri": "https://localhost:8080/",
          "height": 0
        }
      },
      "source": [
        "comments_df1['2013_land_ownership_permission'] = land_ownership_permission(comments_df1)\n",
        "comments_df1.head()"
      ],
      "execution_count": 288,
      "outputs": [
        {
          "output_type": "execute_result",
          "data": {
            "text/html": [
              "<div>\n",
              "<style scoped>\n",
              "    .dataframe tbody tr th:only-of-type {\n",
              "        vertical-align: middle;\n",
              "    }\n",
              "\n",
              "    .dataframe tbody tr th {\n",
              "        vertical-align: top;\n",
              "    }\n",
              "\n",
              "    .dataframe thead th {\n",
              "        text-align: right;\n",
              "    }\n",
              "</style>\n",
              "<table border=\"1\" class=\"dataframe\">\n",
              "  <thead>\n",
              "    <tr style=\"text-align: right;\">\n",
              "      <th></th>\n",
              "      <th>Bridge Opportunity: Project Code</th>\n",
              "      <th>Bridge Opportunity: Comments</th>\n",
              "      <th>2013_bridge_elevation_meters</th>\n",
              "      <th>2013_Cell</th>\n",
              "      <th>2013_bridge_connects</th>\n",
              "      <th>2013_cross_river_perday</th>\n",
              "      <th>2013_nearby_city_centers</th>\n",
              "      <th>2013_dangerous_to_cross(months)</th>\n",
              "      <th>2013_current_river_crossing</th>\n",
              "      <th>2013_time_to_nearest_safe_crossing_hours</th>\n",
              "      <th>2013_time_to_nearest_hospital_hours</th>\n",
              "      <th>2013_time_health_center_hours</th>\n",
              "      <th>2013_time_market_hours</th>\n",
              "      <th>2013_time_primary_school_hours</th>\n",
              "      <th>2013_time_secondary_school_hours</th>\n",
              "      <th>2013_time_to_church_hours</th>\n",
              "      <th>2013_land_within_50m</th>\n",
              "      <th>soil_type</th>\n",
              "      <th>2013_sand_provided_by</th>\n",
              "      <th>2013_gravel_provided_by</th>\n",
              "      <th>2013_timber_provided_by</th>\n",
              "      <th>2013_cement_provided_by</th>\n",
              "      <th>2013_reinforcement_steel_provided_by</th>\n",
              "      <th>2013_land_ownership</th>\n",
              "      <th>2013_land_ownership_permission</th>\n",
              "    </tr>\n",
              "  </thead>\n",
              "  <tbody>\n",
              "    <tr>\n",
              "      <th>0</th>\n",
              "      <td>1009317</td>\n",
              "      <td>steep slopes to deal with for anchors</td>\n",
              "      <td>NaN</td>\n",
              "      <td>None</td>\n",
              "      <td>None</td>\n",
              "      <td>None</td>\n",
              "      <td>None</td>\n",
              "      <td>None</td>\n",
              "      <td>None</td>\n",
              "      <td>None</td>\n",
              "      <td>None</td>\n",
              "      <td>None</td>\n",
              "      <td>None</td>\n",
              "      <td>None</td>\n",
              "      <td>None</td>\n",
              "      <td>None</td>\n",
              "      <td>None</td>\n",
              "      <td>None</td>\n",
              "      <td>None</td>\n",
              "      <td>None</td>\n",
              "      <td>None</td>\n",
              "      <td>None</td>\n",
              "      <td>None</td>\n",
              "      <td>None</td>\n",
              "      <td>None</td>\n",
              "    </tr>\n",
              "    <tr>\n",
              "      <th>1</th>\n",
              "      <td>1007325</td>\n",
              "      <td>NaN</td>\n",
              "      <td>NaN</td>\n",
              "      <td>None</td>\n",
              "      <td>None</td>\n",
              "      <td>None</td>\n",
              "      <td>None</td>\n",
              "      <td>None</td>\n",
              "      <td>None</td>\n",
              "      <td>None</td>\n",
              "      <td>None</td>\n",
              "      <td>None</td>\n",
              "      <td>None</td>\n",
              "      <td>None</td>\n",
              "      <td>None</td>\n",
              "      <td>None</td>\n",
              "      <td>None</td>\n",
              "      <td>None</td>\n",
              "      <td>None</td>\n",
              "      <td>None</td>\n",
              "      <td>None</td>\n",
              "      <td>None</td>\n",
              "      <td>None</td>\n",
              "      <td>None</td>\n",
              "      <td>None</td>\n",
              "    </tr>\n",
              "    <tr>\n",
              "      <th>2</th>\n",
              "      <td>1007374</td>\n",
              "      <td>likely piloting steel decking on this bridge. ...</td>\n",
              "      <td>1630.0</td>\n",
              "      <td>karambi-gasumba</td>\n",
              "      <td>None</td>\n",
              "      <td>None</td>\n",
              "      <td>-karambi -nyamagabe</td>\n",
              "      <td>6-9</td>\n",
              "      <td>simple timber bridge</td>\n",
              "      <td>&gt;3</td>\n",
              "      <td>0.5-1</td>\n",
              "      <td>0.5</td>\n",
              "      <td>0.5</td>\n",
              "      <td>0.5</td>\n",
              "      <td>0.5</td>\n",
              "      <td>0.5</td>\n",
              "      <td>flat (flood plain)</td>\n",
              "      <td>silt</td>\n",
              "      <td>sector</td>\n",
              "      <td>district</td>\n",
              "      <td>district</td>\n",
              "      <td>can not be provided at the time</td>\n",
              "      <td>can not be provided at the time</td>\n",
              "      <td>private landowner</td>\n",
              "      <td>yes</td>\n",
              "    </tr>\n",
              "    <tr>\n",
              "      <th>3</th>\n",
              "      <td>1007466</td>\n",
              "      <td>3000-6000 people directly served, elevation:21...</td>\n",
              "      <td>2101.0</td>\n",
              "      <td>rugogwe</td>\n",
              "      <td>None</td>\n",
              "      <td>300-600</td>\n",
              "      <td>-kizimyamuriro</td>\n",
              "      <td>3-6</td>\n",
              "      <td>simple timber bridge</td>\n",
              "      <td>2-3</td>\n",
              "      <td>&gt;6</td>\n",
              "      <td>0.5-1</td>\n",
              "      <td>0.5-1</td>\n",
              "      <td>0.5-1</td>\n",
              "      <td>0.5-1</td>\n",
              "      <td>0.5-1</td>\n",
              "      <td>hilly</td>\n",
              "      <td>hard rock</td>\n",
              "      <td>sector</td>\n",
              "      <td>district</td>\n",
              "      <td>district</td>\n",
              "      <td>can not be provided at the time</td>\n",
              "      <td>can not be provided at the time</td>\n",
              "      <td>government of rwanda</td>\n",
              "      <td>yes</td>\n",
              "    </tr>\n",
              "    <tr>\n",
              "      <th>4</th>\n",
              "      <td>1007495</td>\n",
              "      <td>not duplicate 500-1000 people directly served,...</td>\n",
              "      <td>1522.0</td>\n",
              "      <td>gasave</td>\n",
              "      <td>None</td>\n",
              "      <td>50-150</td>\n",
              "      <td>-rwesero -giti -butare</td>\n",
              "      <td>3-6</td>\n",
              "      <td>simple timber bridge</td>\n",
              "      <td>&gt;3</td>\n",
              "      <td>2-6</td>\n",
              "      <td>None</td>\n",
              "      <td>None</td>\n",
              "      <td>0.5-1</td>\n",
              "      <td>1-2</td>\n",
              "      <td>0.5-1</td>\n",
              "      <td>flat (flood plain)</td>\n",
              "      <td>silt</td>\n",
              "      <td>sector</td>\n",
              "      <td>district</td>\n",
              "      <td>district</td>\n",
              "      <td>can not be provided at the time</td>\n",
              "      <td>can not be provided at the time</td>\n",
              "      <td>private landowner</td>\n",
              "      <td>yes</td>\n",
              "    </tr>\n",
              "  </tbody>\n",
              "</table>\n",
              "</div>"
            ],
            "text/plain": [
              "  Bridge Opportunity: Project Code  ... 2013_land_ownership_permission\n",
              "0                          1009317  ...                           None\n",
              "1                          1007325  ...                           None\n",
              "2                          1007374  ...                            yes\n",
              "3                          1007466  ...                            yes\n",
              "4                          1007495  ...                            yes\n",
              "\n",
              "[5 rows x 25 columns]"
            ]
          },
          "metadata": {
            "tags": []
          },
          "execution_count": 288
        }
      ]
    },
    {
      "cell_type": "code",
      "metadata": {
        "id": "1QDvl0mmWXrb",
        "outputId": "d36f3e94-e430-49c1-b336-40db55231d11",
        "colab": {
          "base_uri": "https://localhost:8080/"
        }
      },
      "source": [
        "comments_df1['2013_land_ownership_permission'].value_counts()"
      ],
      "execution_count": 289,
      "outputs": [
        {
          "output_type": "execute_result",
          "data": {
            "text/plain": [
              "yes    252\n",
              "         2\n",
              "Name: 2013_land_ownership_permission, dtype: int64"
            ]
          },
          "metadata": {
            "tags": []
          },
          "execution_count": 289
        }
      ]
    },
    {
      "cell_type": "markdown",
      "metadata": {
        "id": "zsiRReBUfVOs"
      },
      "source": [
        "## General Comments \n",
        "\n",
        "- This one could use refactoring in the future, need to move on to other things. For now the General comments will stay in one block of text. "
      ]
    },
    {
      "cell_type": "code",
      "metadata": {
        "id": "LNccaZtAfUmd"
      },
      "source": [
        "\n",
        "def general_comments(df):\n",
        "  \"\"\" This function Iterates through every row in the inputed Dataframe. \n",
        "  It will save over the variable s with the contents of the row for \"Bridge Opportunity: Comments\". \n",
        "  It then uses RegEx to identify cases of elevation in the text data. If a match is found it is apppended to \n",
        "  an empty list. if there is no match \"none\" is appended to the list. Upon reaching the end of the Dataframe \n",
        "  the list is returned and used to create a new column. Hours walking to reach the Hospital-0.5-1\"\"\" \n",
        "  new_col = []\n",
        "  for i, row in df.iterrows():\n",
        "    s = str(row[\"Bridge Opportunity: Comments\"])\n",
        "    p = s.partition('general comments-')[-1]\n",
        "    if p:\n",
        "      new_col.append(p)\n",
        "    else:\n",
        "      new_col.append(None)\n",
        "  return new_col"
      ],
      "execution_count": 290,
      "outputs": []
    },
    {
      "cell_type": "code",
      "metadata": {
        "id": "kxG6z1kyfsva",
        "outputId": "bf93e7ab-21a7-4041-d84f-fa8ebb93c707",
        "colab": {
          "base_uri": "https://localhost:8080/"
        }
      },
      "source": [
        "listus = general_comments(test_df)\n",
        "print(listus)"
      ],
      "execution_count": 291,
      "outputs": [
        {
          "output_type": "stream",
          "text": [
            "[None, None, 'the proposed bridge location is near the traditional crossing point at a distance of approximately 10m.-the proposed bridge span is approximately 70m.-the level difference between two banks is 0.06m.-the space for foundation is sufficient-the free board between the lowest point of the proposed bridge and the highest flood level is sufficient-there is no confluence area near the place.-the river bed at the site is stable, there is no possibility of erosion.-the river bank of the site is not showing any sign of erosion and it is located between flat areas.-the soil from the site is silt for both sides.', 'the proposed bridge location is near the traditional crossing point at a distance of approximately 1m.-the proposed bridge span is approximately 55m.-the level difference between two banks is 0.2m.-the space for foundation is sufficient-the free board between the lowest point of the proposed bridge and the highest flood level is sufficient-there is no confluence area near the place.-the river bed at the site is stable, there is no possibility of erosion.-the river bank of the site is not showing any sign of erosion and it is located between elevated areas.-the soil from the site is hard rock for one side and silt for the other side.', 'the proposed bridge location is near the traditional crossing point at a distance of approximately 3m.-the proposed bridge span is approximately 30m.-the level difference between two banks is 0.02m.-the space for foundation is sufficient-the free board between the lowest point of the proposed bridge and the highest flood level is not sufficient-there is confluence area near the place.-the river bed at the site is stable, there is no possibility of erosion.-the river bank of the site is showing a sign of erosion and it is located between flat areas.-the soil from the site is silt for both sides.', 'the proposed bridge location is near the traditional crossing point at a distance of approximately 20m.-the proposed bridge span is approximately 100m.-the level difference between two banks is 0.1m.-the space for foundation is sufficient-the free board between the lowest point of the proposed bridge and the highest flood level is sufficient-there is no confluence area near the place.-the river bed at the site is stable, there is no possibility of erosion.-the river bank of the site is showing a sign of erosion and it is located between two flat areas.-the soil from the site is silt for both sides. <<on 25th march, 2019 _in the beginning of scaling, this site was rejected by the assessor thinking that it will be a very long span bridge out of b2p standard but having the plan to survey nyakabuye - nkomane over a joining river\"nkomane\", this nyakabuye - mwogo site over mwogo river was surveyed and found to be technically feasible. >>>', 'the proposed bridge location is near the traditional crossing point at a distance of approximately 2m.-the proposed bridge span is approximately 20m.-the level difference between two banks is 0.2m.-the space for foundation is sufficient -the free board between the lowest point of the proposed bridge and the highest flood level is not sufficient-there is no confluence area near the place.-the river bed at the site is stable, there is no possibility of erosion.-the river bank of the site is showing a sign of erosion and it is located between elevated areas.-the soil from the site is silt for both sides.', 'the proposed bridge location is near the traditional crossing point at a distance of approximately 8m.-the proposed bridge span is approximately 32m.-the level difference between two banks is 0.04m.-the space for foundation is sufficient-the free board between the lowest point of the proposed bridge and the highest flood level is not sufficient-there is confluence area near the place.-the river bed at the site is stable, there is no possibility of erosion.-the river bank of the site is showing a sign of erosion and it is located between flat areas.-the soil from the site is silt for both sides.-the bridge site was formerly called yanza.', 'the proposed bridge location is near the traditional crossing point at a distance of approximately 30m.-the proposed bridge span is approximately 70m.-the level difference between two banks is 0.05m.-the space for foundation is sufficient-the free board between the lowest point of the proposed bridge and the highest flood level is sufficient-there is no confluence area near the place.-the river bed at the site is stable, there is no possibility of erosion.-the river bank of the site is showing a sign of erosion.-the soil from the site is silt for one side and hard rock for other side', 'the proposed bridge location is near the traditional crossing point at a distance of approximately 1m.-the proposed bridge span is approximately 28m.-the level difference between two banks is 2m.-the space for foundation is sufficient-the free board between the lowest point of the proposed bridge and the highest flood level is sufficient-there is no confluence area near the place.-the river bed at the site is stable, there is no possibility of erosion.-the river bank of the site is not showing any sign of erosion and it is located between hills.-the soil from the site is hard rock for both sides.', 'the proposed bridge location is near the traditional crossing point at a distance of approximately 5m.-the proposed bridge span is approximately 40m.-the level difference between two banks is 0.02m.-the space for foundation is sufficient-the free board between the lowest point of the proposed bridge and the highest flood level is not sufficient-there is no confluence area near the place.-the river bed at the site is stable, there is no possibility of erosion.-the river bank of the site is showing a sign of erosion and it is located between flat areas.-the soil from the site is silt for both sides.', 'the proposed bridge location is near the traditional crossing point at a distance of approximately 25m.-the proposed bridge span is approximately 100m.-the level difference between two banks is 1.2m.-the space for foundation is sufficient-the free board between the lowest point of the proposed bridge and the highest flood level is sufficient-there is no confluence area near the place.-the river bed at the site is stable, there is no possibility of erosion.-the river bank of the site is showing a sign of erosion.-the soil from the site is silt for both sides.', 'the proposed bridge location is near the traditional crossing point at a distance of approximately 4m.-the proposed bridge span is approximately 55m.-the level difference between two banks is 0.5m.-the space for foundation is sufficient-the free board between the lowest point of the proposed bridge and the highest flood level is sufficient-there is no confluence area near the place.-the river bed at the site is stable, there is no possibility of erosion.-the river bank of the site is not showing any sign of erosion and it is located between elevated areas.-the soil from the site is silt for both sides.', 'the proposed bridge location is near the traditional crossing point at a distance of approximately 1m.-the proposed bridge span is approximately 30m.-the level difference between two banks is 0.01m.-the space for foundation is sufficient-the free board between the lowest point of the proposed bridge and the highest flood level is sufficient-there is no confluence area near the place.-the river bed at the site is stable, there is no possibility of erosion.-the river bank of the site is showing a sign of erosion and it is located between flat areas-the soil from the site is silt for both sides.', 'the proposed bridge location is near the traditional crossing point at a distance of approximately 4m.-the proposed bridge span is approximately 55m.-the level difference between two banks is 0.05m.-the space for foundation is sufficient-the free board between the lowest point of the proposed bridge and the highest flood level is sufficient-there is no confluence area near the place.-the river bed at the site is stable, there is no possibility of erosion.-the river bank of the site is not showing any sign of erosion and it is located between hills.-the soil from the site is hard rock for both sides.']\n"
          ],
          "name": "stdout"
        }
      ]
    },
    {
      "cell_type": "code",
      "metadata": {
        "id": "j8ICib1JhfXB",
        "outputId": "e98692cb-7af5-4524-95bf-30871754bb9b",
        "colab": {
          "base_uri": "https://localhost:8080/",
          "height": 0
        }
      },
      "source": [
        "comments_df1['2013_general_comments'] = general_comments(comments_df1)\n",
        "comments_df1.head()"
      ],
      "execution_count": 292,
      "outputs": [
        {
          "output_type": "execute_result",
          "data": {
            "text/html": [
              "<div>\n",
              "<style scoped>\n",
              "    .dataframe tbody tr th:only-of-type {\n",
              "        vertical-align: middle;\n",
              "    }\n",
              "\n",
              "    .dataframe tbody tr th {\n",
              "        vertical-align: top;\n",
              "    }\n",
              "\n",
              "    .dataframe thead th {\n",
              "        text-align: right;\n",
              "    }\n",
              "</style>\n",
              "<table border=\"1\" class=\"dataframe\">\n",
              "  <thead>\n",
              "    <tr style=\"text-align: right;\">\n",
              "      <th></th>\n",
              "      <th>Bridge Opportunity: Project Code</th>\n",
              "      <th>Bridge Opportunity: Comments</th>\n",
              "      <th>2013_bridge_elevation_meters</th>\n",
              "      <th>2013_Cell</th>\n",
              "      <th>2013_bridge_connects</th>\n",
              "      <th>2013_cross_river_perday</th>\n",
              "      <th>2013_nearby_city_centers</th>\n",
              "      <th>2013_dangerous_to_cross(months)</th>\n",
              "      <th>2013_current_river_crossing</th>\n",
              "      <th>2013_time_to_nearest_safe_crossing_hours</th>\n",
              "      <th>2013_time_to_nearest_hospital_hours</th>\n",
              "      <th>2013_time_health_center_hours</th>\n",
              "      <th>2013_time_market_hours</th>\n",
              "      <th>2013_time_primary_school_hours</th>\n",
              "      <th>2013_time_secondary_school_hours</th>\n",
              "      <th>2013_time_to_church_hours</th>\n",
              "      <th>2013_land_within_50m</th>\n",
              "      <th>soil_type</th>\n",
              "      <th>2013_sand_provided_by</th>\n",
              "      <th>2013_gravel_provided_by</th>\n",
              "      <th>2013_timber_provided_by</th>\n",
              "      <th>2013_cement_provided_by</th>\n",
              "      <th>2013_reinforcement_steel_provided_by</th>\n",
              "      <th>2013_land_ownership</th>\n",
              "      <th>2013_land_ownership_permission</th>\n",
              "      <th>2013_general_comments</th>\n",
              "    </tr>\n",
              "  </thead>\n",
              "  <tbody>\n",
              "    <tr>\n",
              "      <th>0</th>\n",
              "      <td>1009317</td>\n",
              "      <td>steep slopes to deal with for anchors</td>\n",
              "      <td>NaN</td>\n",
              "      <td>None</td>\n",
              "      <td>None</td>\n",
              "      <td>None</td>\n",
              "      <td>None</td>\n",
              "      <td>None</td>\n",
              "      <td>None</td>\n",
              "      <td>None</td>\n",
              "      <td>None</td>\n",
              "      <td>None</td>\n",
              "      <td>None</td>\n",
              "      <td>None</td>\n",
              "      <td>None</td>\n",
              "      <td>None</td>\n",
              "      <td>None</td>\n",
              "      <td>None</td>\n",
              "      <td>None</td>\n",
              "      <td>None</td>\n",
              "      <td>None</td>\n",
              "      <td>None</td>\n",
              "      <td>None</td>\n",
              "      <td>None</td>\n",
              "      <td>None</td>\n",
              "      <td>None</td>\n",
              "    </tr>\n",
              "    <tr>\n",
              "      <th>1</th>\n",
              "      <td>1007325</td>\n",
              "      <td>NaN</td>\n",
              "      <td>NaN</td>\n",
              "      <td>None</td>\n",
              "      <td>None</td>\n",
              "      <td>None</td>\n",
              "      <td>None</td>\n",
              "      <td>None</td>\n",
              "      <td>None</td>\n",
              "      <td>None</td>\n",
              "      <td>None</td>\n",
              "      <td>None</td>\n",
              "      <td>None</td>\n",
              "      <td>None</td>\n",
              "      <td>None</td>\n",
              "      <td>None</td>\n",
              "      <td>None</td>\n",
              "      <td>None</td>\n",
              "      <td>None</td>\n",
              "      <td>None</td>\n",
              "      <td>None</td>\n",
              "      <td>None</td>\n",
              "      <td>None</td>\n",
              "      <td>None</td>\n",
              "      <td>None</td>\n",
              "      <td>None</td>\n",
              "    </tr>\n",
              "    <tr>\n",
              "      <th>2</th>\n",
              "      <td>1007374</td>\n",
              "      <td>likely piloting steel decking on this bridge. ...</td>\n",
              "      <td>1630.0</td>\n",
              "      <td>karambi-gasumba</td>\n",
              "      <td>None</td>\n",
              "      <td>None</td>\n",
              "      <td>-karambi -nyamagabe</td>\n",
              "      <td>6-9</td>\n",
              "      <td>simple timber bridge</td>\n",
              "      <td>&gt;3</td>\n",
              "      <td>0.5-1</td>\n",
              "      <td>0.5</td>\n",
              "      <td>0.5</td>\n",
              "      <td>0.5</td>\n",
              "      <td>0.5</td>\n",
              "      <td>0.5</td>\n",
              "      <td>flat (flood plain)</td>\n",
              "      <td>silt</td>\n",
              "      <td>sector</td>\n",
              "      <td>district</td>\n",
              "      <td>district</td>\n",
              "      <td>can not be provided at the time</td>\n",
              "      <td>can not be provided at the time</td>\n",
              "      <td>private landowner</td>\n",
              "      <td>yes</td>\n",
              "      <td>the proposed bridge location is near the tradi...</td>\n",
              "    </tr>\n",
              "    <tr>\n",
              "      <th>3</th>\n",
              "      <td>1007466</td>\n",
              "      <td>3000-6000 people directly served, elevation:21...</td>\n",
              "      <td>2101.0</td>\n",
              "      <td>rugogwe</td>\n",
              "      <td>None</td>\n",
              "      <td>300-600</td>\n",
              "      <td>-kizimyamuriro</td>\n",
              "      <td>3-6</td>\n",
              "      <td>simple timber bridge</td>\n",
              "      <td>2-3</td>\n",
              "      <td>&gt;6</td>\n",
              "      <td>0.5-1</td>\n",
              "      <td>0.5-1</td>\n",
              "      <td>0.5-1</td>\n",
              "      <td>0.5-1</td>\n",
              "      <td>0.5-1</td>\n",
              "      <td>hilly</td>\n",
              "      <td>hard rock</td>\n",
              "      <td>sector</td>\n",
              "      <td>district</td>\n",
              "      <td>district</td>\n",
              "      <td>can not be provided at the time</td>\n",
              "      <td>can not be provided at the time</td>\n",
              "      <td>government of rwanda</td>\n",
              "      <td>yes</td>\n",
              "      <td>the proposed bridge location is near the tradi...</td>\n",
              "    </tr>\n",
              "    <tr>\n",
              "      <th>4</th>\n",
              "      <td>1007495</td>\n",
              "      <td>not duplicate 500-1000 people directly served,...</td>\n",
              "      <td>1522.0</td>\n",
              "      <td>gasave</td>\n",
              "      <td>None</td>\n",
              "      <td>50-150</td>\n",
              "      <td>-rwesero -giti -butare</td>\n",
              "      <td>3-6</td>\n",
              "      <td>simple timber bridge</td>\n",
              "      <td>&gt;3</td>\n",
              "      <td>2-6</td>\n",
              "      <td>None</td>\n",
              "      <td>None</td>\n",
              "      <td>0.5-1</td>\n",
              "      <td>1-2</td>\n",
              "      <td>0.5-1</td>\n",
              "      <td>flat (flood plain)</td>\n",
              "      <td>silt</td>\n",
              "      <td>sector</td>\n",
              "      <td>district</td>\n",
              "      <td>district</td>\n",
              "      <td>can not be provided at the time</td>\n",
              "      <td>can not be provided at the time</td>\n",
              "      <td>private landowner</td>\n",
              "      <td>yes</td>\n",
              "      <td>the proposed bridge location is near the tradi...</td>\n",
              "    </tr>\n",
              "  </tbody>\n",
              "</table>\n",
              "</div>"
            ],
            "text/plain": [
              "  Bridge Opportunity: Project Code  ...                              2013_general_comments\n",
              "0                          1009317  ...                                               None\n",
              "1                          1007325  ...                                               None\n",
              "2                          1007374  ...  the proposed bridge location is near the tradi...\n",
              "3                          1007466  ...  the proposed bridge location is near the tradi...\n",
              "4                          1007495  ...  the proposed bridge location is near the tradi...\n",
              "\n",
              "[5 rows x 26 columns]"
            ]
          },
          "metadata": {
            "tags": []
          },
          "execution_count": 292
        }
      ]
    },
    {
      "cell_type": "code",
      "metadata": {
        "id": "UAVIVetThjU-",
        "outputId": "b8569f24-754b-47e0-e5a4-98e7fe908f8e",
        "colab": {
          "base_uri": "https://localhost:8080/"
        }
      },
      "source": [
        "comments_df1['2013_general_comments'].value_counts().sum()"
      ],
      "execution_count": 293,
      "outputs": [
        {
          "output_type": "execute_result",
          "data": {
            "text/plain": [
              "243"
            ]
          },
          "metadata": {
            "tags": []
          },
          "execution_count": 293
        }
      ]
    },
    {
      "cell_type": "markdown",
      "metadata": {
        "id": "B-dp4cyziHL8"
      },
      "source": [
        "# Merge Dataset\n",
        "- Here we put together the newly pulled out features from the \"Bridge Opportunity: Comments\" column and merge it with the original Dataset. This will be a \"aesthetic\" dataset used for better understanding of the bridge site and persisting the original data. "
      ]
    },
    {
      "cell_type": "code",
      "metadata": {
        "id": "MEvam59JZqHf",
        "outputId": "1e2f1092-b492-49df-fdeb-2e65847c91a6",
        "colab": {
          "base_uri": "https://localhost:8080/"
        }
      },
      "source": [
        "# original shape of dataframe created by the feature engineering of new columns\n",
        "comments_df1.shape"
      ],
      "execution_count": 331,
      "outputs": [
        {
          "output_type": "execute_result",
          "data": {
            "text/plain": [
              "(1472, 26)"
            ]
          },
          "metadata": {
            "tags": []
          },
          "execution_count": 331
        }
      ]
    },
    {
      "cell_type": "code",
      "metadata": {
        "id": "ARda6BT8PocH",
        "outputId": "ca5f5570-c94d-433a-b5c7-aa8488e99418",
        "colab": {
          "base_uri": "https://localhost:8080/",
          "height": 114
        }
      },
      "source": [
        "# renaming the columns in the comments_dataframe to properly merge with previous data\n",
        "comments_df1.rename({'Bridge Opportunity: Project Code': 'bridge_opportunity_project_code', 'Bridge Opportunity: Comments': 'bridge_opportunity_comments'}, axis=1, inplace=True)\n",
        "comments_df1.head(1)"
      ],
      "execution_count": 319,
      "outputs": [
        {
          "output_type": "execute_result",
          "data": {
            "text/html": [
              "<div>\n",
              "<style scoped>\n",
              "    .dataframe tbody tr th:only-of-type {\n",
              "        vertical-align: middle;\n",
              "    }\n",
              "\n",
              "    .dataframe tbody tr th {\n",
              "        vertical-align: top;\n",
              "    }\n",
              "\n",
              "    .dataframe thead th {\n",
              "        text-align: right;\n",
              "    }\n",
              "</style>\n",
              "<table border=\"1\" class=\"dataframe\">\n",
              "  <thead>\n",
              "    <tr style=\"text-align: right;\">\n",
              "      <th></th>\n",
              "      <th>bridge_opportunity_project_code</th>\n",
              "      <th>bridge_opportunity_comments</th>\n",
              "      <th>2013_bridge_elevation_meters</th>\n",
              "      <th>2013_Cell</th>\n",
              "      <th>2013_bridge_connects</th>\n",
              "      <th>2013_cross_river_perday</th>\n",
              "      <th>2013_nearby_city_centers</th>\n",
              "      <th>2013_dangerous_to_cross(months)</th>\n",
              "      <th>2013_current_river_crossing</th>\n",
              "      <th>2013_time_to_nearest_safe_crossing_hours</th>\n",
              "      <th>2013_time_to_nearest_hospital_hours</th>\n",
              "      <th>2013_time_health_center_hours</th>\n",
              "      <th>2013_time_market_hours</th>\n",
              "      <th>2013_time_primary_school_hours</th>\n",
              "      <th>2013_time_secondary_school_hours</th>\n",
              "      <th>2013_time_to_church_hours</th>\n",
              "      <th>2013_land_within_50m</th>\n",
              "      <th>soil_type</th>\n",
              "      <th>2013_sand_provided_by</th>\n",
              "      <th>2013_gravel_provided_by</th>\n",
              "      <th>2013_timber_provided_by</th>\n",
              "      <th>2013_cement_provided_by</th>\n",
              "      <th>2013_reinforcement_steel_provided_by</th>\n",
              "      <th>2013_land_ownership</th>\n",
              "      <th>2013_land_ownership_permission</th>\n",
              "      <th>2013_general_comments</th>\n",
              "    </tr>\n",
              "  </thead>\n",
              "  <tbody>\n",
              "    <tr>\n",
              "      <th>0</th>\n",
              "      <td>1009317</td>\n",
              "      <td>steep slopes to deal with for anchors</td>\n",
              "      <td>NaN</td>\n",
              "      <td>None</td>\n",
              "      <td>None</td>\n",
              "      <td>None</td>\n",
              "      <td>None</td>\n",
              "      <td>None</td>\n",
              "      <td>None</td>\n",
              "      <td>None</td>\n",
              "      <td>None</td>\n",
              "      <td>None</td>\n",
              "      <td>None</td>\n",
              "      <td>None</td>\n",
              "      <td>None</td>\n",
              "      <td>None</td>\n",
              "      <td>None</td>\n",
              "      <td>None</td>\n",
              "      <td>None</td>\n",
              "      <td>None</td>\n",
              "      <td>None</td>\n",
              "      <td>None</td>\n",
              "      <td>None</td>\n",
              "      <td>None</td>\n",
              "      <td>None</td>\n",
              "      <td>None</td>\n",
              "    </tr>\n",
              "  </tbody>\n",
              "</table>\n",
              "</div>"
            ],
            "text/plain": [
              "  bridge_opportunity_project_code  ... 2013_general_comments\n",
              "0                         1009317  ...                  None\n",
              "\n",
              "[1 rows x 26 columns]"
            ]
          },
          "metadata": {
            "tags": []
          },
          "execution_count": 319
        }
      ]
    },
    {
      "cell_type": "code",
      "metadata": {
        "id": "D7NpdUpLM6ER",
        "outputId": "b8932051-1caf-4987-a632-5002ee117298",
        "colab": {
          "base_uri": "https://localhost:8080/",
          "height": 147
        }
      },
      "source": [
        "# importing the cleaned csv file from teammate that has columns according to\n",
        "# proper storage conventions with columns\n",
        "df_cleaned = pd.read_csv('https://raw.githubusercontent.com/Lambda-School-Labs/bridges-to-prosperity-ds-d/main/Data/cleaned_dataset.csv')\n",
        "\n",
        "df_cleaned.shape\n",
        "df_cleaned.head(1)"
      ],
      "execution_count": 318,
      "outputs": [
        {
          "output_type": "execute_result",
          "data": {
            "text/html": [
              "<div>\n",
              "<style scoped>\n",
              "    .dataframe tbody tr th:only-of-type {\n",
              "        vertical-align: middle;\n",
              "    }\n",
              "\n",
              "    .dataframe tbody tr th {\n",
              "        vertical-align: top;\n",
              "    }\n",
              "\n",
              "    .dataframe thead th {\n",
              "        text-align: right;\n",
              "    }\n",
              "</style>\n",
              "<table border=\"1\" class=\"dataframe\">\n",
              "  <thead>\n",
              "    <tr style=\"text-align: right;\">\n",
              "      <th></th>\n",
              "      <th>bridge_name</th>\n",
              "      <th>bridge_opportunity_project_code</th>\n",
              "      <th>bridge_opportunity_needs_assessment</th>\n",
              "      <th>bridge_opportunity_level1_government</th>\n",
              "      <th>bridge_opportunity_level2_government</th>\n",
              "      <th>bridge_opportunity_stage</th>\n",
              "      <th>bridge_opportunity_gps_latitude</th>\n",
              "      <th>bridge_opportunity_gps_longitude</th>\n",
              "      <th>bridge_opportunity_bridge_type</th>\n",
              "      <th>bridge_opportunity_span_m</th>\n",
              "      <th>bridge_opportunity_individuals_directly_served</th>\n",
              "      <th>bridge_opportunity_comments</th>\n",
              "      <th>form_form_name</th>\n",
              "      <th>form_created_by</th>\n",
              "      <th>proposed_bridge_location_gps_latitude</th>\n",
              "      <th>proposed_bridge_location_gps_longitude</th>\n",
              "      <th>current_crossing_method</th>\n",
              "      <th>nearest_all_weather_crossing_point</th>\n",
              "      <th>days_per_year_river_is_flooded</th>\n",
              "      <th>flood_duration_during_rainy_season</th>\n",
              "      <th>market_access_blocked_by_river</th>\n",
              "      <th>education_access_blocked_by_river</th>\n",
              "      <th>health_access_blocked_by_river</th>\n",
              "      <th>other_access_blocked_by_river</th>\n",
              "      <th>primary_occupations</th>\n",
              "      <th>primary_crops_grown</th>\n",
              "      <th>river_crossing_deaths_in_last_3_years</th>\n",
              "      <th>river_crossing_injuries_in_last_3_years</th>\n",
              "      <th>incident_descriptions</th>\n",
              "      <th>notes_on_social_information</th>\n",
              "      <th>cell_service_quality</th>\n",
              "      <th>four_wd _accessibility</th>\n",
              "      <th>name_of_nearest_city</th>\n",
              "      <th>name_of_nearest_paved_or_sealed_road</th>\n",
              "      <th>bridge_classification</th>\n",
              "      <th>flag_for_rejection</th>\n",
              "      <th>rejection_reason</th>\n",
              "      <th>bridge_type</th>\n",
              "      <th>estimated_span_m</th>\n",
              "      <th>height_differential_between_banks</th>\n",
              "      <th>bridge_opportunity_general_project_photos</th>\n",
              "      <th>bridge_opportunity_casesafeid</th>\n",
              "      <th>senior_engineering_review_conducted</th>\n",
              "      <th>country</th>\n",
              "    </tr>\n",
              "  </thead>\n",
              "  <tbody>\n",
              "    <tr>\n",
              "      <th>0</th>\n",
              "      <td>Bukinga</td>\n",
              "      <td>1009317</td>\n",
              "      <td>Rwanda Needs Assessment 2018</td>\n",
              "      <td>Southern Province</td>\n",
              "      <td>Nyaruguru</td>\n",
              "      <td>Cancelled</td>\n",
              "      <td>-2.760833</td>\n",
              "      <td>29.488056</td>\n",
              "      <td>Suspended Bridge</td>\n",
              "      <td>NaN</td>\n",
              "      <td>NaN</td>\n",
              "      <td>Steep slopes to deal with for anchors</td>\n",
              "      <td>Project Assessment - 2018.10.10</td>\n",
              "      <td>aimablengirabakunzi taroworks</td>\n",
              "      <td>-2.760833</td>\n",
              "      <td>29.488056</td>\n",
              "      <td>NaN</td>\n",
              "      <td>NaN</td>\n",
              "      <td>NaN</td>\n",
              "      <td>NaN</td>\n",
              "      <td>NaN</td>\n",
              "      <td>NaN</td>\n",
              "      <td>NaN</td>\n",
              "      <td>NaN</td>\n",
              "      <td>NaN</td>\n",
              "      <td>NaN</td>\n",
              "      <td>NaN</td>\n",
              "      <td>NaN</td>\n",
              "      <td>NaN</td>\n",
              "      <td>NaN</td>\n",
              "      <td>NaN</td>\n",
              "      <td>NaN</td>\n",
              "      <td>Huye</td>\n",
              "      <td>NaN</td>\n",
              "      <td>NaN</td>\n",
              "      <td>Yes</td>\n",
              "      <td>There is a planned vehicular road with a vehic...</td>\n",
              "      <td>NaN</td>\n",
              "      <td>NaN</td>\n",
              "      <td>NaN</td>\n",
              "      <td>NaN</td>\n",
              "      <td>006f100000asFErAAM</td>\n",
              "      <td>Yes</td>\n",
              "      <td>Rwanda</td>\n",
              "    </tr>\n",
              "  </tbody>\n",
              "</table>\n",
              "</div>"
            ],
            "text/plain": [
              "  bridge_name  ... country\n",
              "0     Bukinga  ...  Rwanda\n",
              "\n",
              "[1 rows x 44 columns]"
            ]
          },
          "metadata": {
            "tags": []
          },
          "execution_count": 318
        }
      ]
    },
    {
      "cell_type": "code",
      "metadata": {
        "id": "-H0CmEi6kFNV"
      },
      "source": [
        "# new columns merged with previous data\n",
        "df_cleaned_merge = df_cleaned.merge(comments_df1, how='inner', on='bridge_opportunity_project_code')"
      ],
      "execution_count": 320,
      "outputs": []
    },
    {
      "cell_type": "code",
      "metadata": {
        "id": "1BTRlNV3VrI1",
        "outputId": "73851a26-343a-43f1-c475-e18a710bcae7",
        "colab": {
          "base_uri": "https://localhost:8080/"
        }
      },
      "source": [
        "# making sure all columns are accounted for\n",
        "df_cleaned_merge.columns"
      ],
      "execution_count": 321,
      "outputs": [
        {
          "output_type": "execute_result",
          "data": {
            "text/plain": [
              "Index(['bridge_name', 'bridge_opportunity_project_code',\n",
              "       'bridge_opportunity_needs_assessment',\n",
              "       'bridge_opportunity_level1_government',\n",
              "       'bridge_opportunity_level2_government', 'bridge_opportunity_stage',\n",
              "       'bridge_opportunity_gps_latitude', 'bridge_opportunity_gps_longitude',\n",
              "       'bridge_opportunity_bridge_type', 'bridge_opportunity_span_m',\n",
              "       'bridge_opportunity_individuals_directly_served',\n",
              "       'bridge_opportunity_comments_x', 'form_form_name', 'form_created_by',\n",
              "       'proposed_bridge_location_gps_latitude',\n",
              "       'proposed_bridge_location_gps_longitude', 'current_crossing_method',\n",
              "       'nearest_all_weather_crossing_point', 'days_per_year_river_is_flooded',\n",
              "       'flood_duration_during_rainy_season', 'market_access_blocked_by_river',\n",
              "       'education_access_blocked_by_river', 'health_access_blocked_by_river',\n",
              "       'other_access_blocked_by_river', 'primary_occupations',\n",
              "       'primary_crops_grown', 'river_crossing_deaths_in_last_3_years',\n",
              "       'river_crossing_injuries_in_last_3_years', 'incident_descriptions',\n",
              "       'notes_on_social_information', 'cell_service_quality',\n",
              "       'four_wd _accessibility', 'name_of_nearest_city',\n",
              "       'name_of_nearest_paved_or_sealed_road', 'bridge_classification',\n",
              "       'flag_for_rejection', 'rejection_reason', 'bridge_type',\n",
              "       'estimated_span_m', 'height_differential_between_banks',\n",
              "       'bridge_opportunity_general_project_photos',\n",
              "       'bridge_opportunity_casesafeid', 'senior_engineering_review_conducted',\n",
              "       'country', 'bridge_opportunity_comments_y',\n",
              "       '2013_bridge_elevation_meters', '2013_Cell', '2013_bridge_connects',\n",
              "       '2013_cross_river_perday', '2013_nearby_city_centers',\n",
              "       '2013_dangerous_to_cross(months)', '2013_current_river_crossing',\n",
              "       '2013_time_to_nearest_safe_crossing_hours',\n",
              "       '2013_time_to_nearest_hospital_hours', '2013_time_health_center_hours',\n",
              "       '2013_time_market_hours', '2013_time_primary_school_hours',\n",
              "       '2013_time_secondary_school_hours', '2013_time_to_church_hours',\n",
              "       '2013_land_within_50m', 'soil_type', '2013_sand_provided_by',\n",
              "       '2013_gravel_provided_by', '2013_timber_provided_by',\n",
              "       '2013_cement_provided_by', '2013_reinforcement_steel_provided_by',\n",
              "       '2013_land_ownership', '2013_land_ownership_permission',\n",
              "       '2013_general_comments'],\n",
              "      dtype='object')"
            ]
          },
          "metadata": {
            "tags": []
          },
          "execution_count": 321
        }
      ]
    },
    {
      "cell_type": "code",
      "metadata": {
        "id": "NYdTE8wenLwV"
      },
      "source": [
        "# columns to drop: extra column created by merge\n",
        "\n",
        "df_cleaned_merge = df_cleaned_merge.drop(columns = 'bridge_opportunity_comments_y')"
      ],
      "execution_count": null,
      "outputs": []
    },
    {
      "cell_type": "code",
      "metadata": {
        "id": "cF7onYH1nO4G",
        "outputId": "b7631b52-70a8-4deb-f328-324665fce8b6",
        "colab": {
          "base_uri": "https://localhost:8080/",
          "height": 147
        }
      },
      "source": [
        "# rename column in original dataset that has a x added during the merge duplication\n",
        "df_cleaned_merge.rename({'bridge_opportunity_comments_x': 'bridge_opportunity_comments'}, axis=1, inplace=True)\n",
        "df_cleaned_merge.head(1)"
      ],
      "execution_count": 327,
      "outputs": [
        {
          "output_type": "execute_result",
          "data": {
            "text/html": [
              "<div>\n",
              "<style scoped>\n",
              "    .dataframe tbody tr th:only-of-type {\n",
              "        vertical-align: middle;\n",
              "    }\n",
              "\n",
              "    .dataframe tbody tr th {\n",
              "        vertical-align: top;\n",
              "    }\n",
              "\n",
              "    .dataframe thead th {\n",
              "        text-align: right;\n",
              "    }\n",
              "</style>\n",
              "<table border=\"1\" class=\"dataframe\">\n",
              "  <thead>\n",
              "    <tr style=\"text-align: right;\">\n",
              "      <th></th>\n",
              "      <th>bridge_name</th>\n",
              "      <th>bridge_opportunity_project_code</th>\n",
              "      <th>bridge_opportunity_needs_assessment</th>\n",
              "      <th>bridge_opportunity_level1_government</th>\n",
              "      <th>bridge_opportunity_level2_government</th>\n",
              "      <th>bridge_opportunity_stage</th>\n",
              "      <th>bridge_opportunity_gps_latitude</th>\n",
              "      <th>bridge_opportunity_gps_longitude</th>\n",
              "      <th>bridge_opportunity_bridge_type</th>\n",
              "      <th>bridge_opportunity_span_m</th>\n",
              "      <th>bridge_opportunity_individuals_directly_served</th>\n",
              "      <th>bridge_opportunity_comments</th>\n",
              "      <th>form_form_name</th>\n",
              "      <th>form_created_by</th>\n",
              "      <th>proposed_bridge_location_gps_latitude</th>\n",
              "      <th>proposed_bridge_location_gps_longitude</th>\n",
              "      <th>current_crossing_method</th>\n",
              "      <th>nearest_all_weather_crossing_point</th>\n",
              "      <th>days_per_year_river_is_flooded</th>\n",
              "      <th>flood_duration_during_rainy_season</th>\n",
              "      <th>market_access_blocked_by_river</th>\n",
              "      <th>education_access_blocked_by_river</th>\n",
              "      <th>health_access_blocked_by_river</th>\n",
              "      <th>other_access_blocked_by_river</th>\n",
              "      <th>primary_occupations</th>\n",
              "      <th>primary_crops_grown</th>\n",
              "      <th>river_crossing_deaths_in_last_3_years</th>\n",
              "      <th>river_crossing_injuries_in_last_3_years</th>\n",
              "      <th>incident_descriptions</th>\n",
              "      <th>notes_on_social_information</th>\n",
              "      <th>cell_service_quality</th>\n",
              "      <th>four_wd _accessibility</th>\n",
              "      <th>name_of_nearest_city</th>\n",
              "      <th>name_of_nearest_paved_or_sealed_road</th>\n",
              "      <th>bridge_classification</th>\n",
              "      <th>flag_for_rejection</th>\n",
              "      <th>rejection_reason</th>\n",
              "      <th>bridge_type</th>\n",
              "      <th>estimated_span_m</th>\n",
              "      <th>height_differential_between_banks</th>\n",
              "      <th>bridge_opportunity_general_project_photos</th>\n",
              "      <th>bridge_opportunity_casesafeid</th>\n",
              "      <th>senior_engineering_review_conducted</th>\n",
              "      <th>country</th>\n",
              "      <th>2013_bridge_elevation_meters</th>\n",
              "      <th>2013_Cell</th>\n",
              "      <th>2013_bridge_connects</th>\n",
              "      <th>2013_cross_river_perday</th>\n",
              "      <th>2013_nearby_city_centers</th>\n",
              "      <th>2013_dangerous_to_cross(months)</th>\n",
              "      <th>2013_current_river_crossing</th>\n",
              "      <th>2013_time_to_nearest_safe_crossing_hours</th>\n",
              "      <th>2013_time_to_nearest_hospital_hours</th>\n",
              "      <th>2013_time_health_center_hours</th>\n",
              "      <th>2013_time_market_hours</th>\n",
              "      <th>2013_time_primary_school_hours</th>\n",
              "      <th>2013_time_secondary_school_hours</th>\n",
              "      <th>2013_time_to_church_hours</th>\n",
              "      <th>2013_land_within_50m</th>\n",
              "      <th>soil_type</th>\n",
              "      <th>2013_sand_provided_by</th>\n",
              "      <th>2013_gravel_provided_by</th>\n",
              "      <th>2013_timber_provided_by</th>\n",
              "      <th>2013_cement_provided_by</th>\n",
              "      <th>2013_reinforcement_steel_provided_by</th>\n",
              "      <th>2013_land_ownership</th>\n",
              "      <th>2013_land_ownership_permission</th>\n",
              "      <th>2013_general_comments</th>\n",
              "    </tr>\n",
              "  </thead>\n",
              "  <tbody>\n",
              "    <tr>\n",
              "      <th>0</th>\n",
              "      <td>Bukinga</td>\n",
              "      <td>1009317</td>\n",
              "      <td>Rwanda Needs Assessment 2018</td>\n",
              "      <td>Southern Province</td>\n",
              "      <td>Nyaruguru</td>\n",
              "      <td>Cancelled</td>\n",
              "      <td>-2.760833</td>\n",
              "      <td>29.488056</td>\n",
              "      <td>Suspended Bridge</td>\n",
              "      <td>NaN</td>\n",
              "      <td>NaN</td>\n",
              "      <td>Steep slopes to deal with for anchors</td>\n",
              "      <td>Project Assessment - 2018.10.10</td>\n",
              "      <td>aimablengirabakunzi taroworks</td>\n",
              "      <td>-2.760833</td>\n",
              "      <td>29.488056</td>\n",
              "      <td>NaN</td>\n",
              "      <td>NaN</td>\n",
              "      <td>NaN</td>\n",
              "      <td>NaN</td>\n",
              "      <td>NaN</td>\n",
              "      <td>NaN</td>\n",
              "      <td>NaN</td>\n",
              "      <td>NaN</td>\n",
              "      <td>NaN</td>\n",
              "      <td>NaN</td>\n",
              "      <td>NaN</td>\n",
              "      <td>NaN</td>\n",
              "      <td>NaN</td>\n",
              "      <td>NaN</td>\n",
              "      <td>NaN</td>\n",
              "      <td>NaN</td>\n",
              "      <td>Huye</td>\n",
              "      <td>NaN</td>\n",
              "      <td>NaN</td>\n",
              "      <td>Yes</td>\n",
              "      <td>There is a planned vehicular road with a vehic...</td>\n",
              "      <td>NaN</td>\n",
              "      <td>NaN</td>\n",
              "      <td>NaN</td>\n",
              "      <td>NaN</td>\n",
              "      <td>006f100000asFErAAM</td>\n",
              "      <td>Yes</td>\n",
              "      <td>Rwanda</td>\n",
              "      <td>NaN</td>\n",
              "      <td>None</td>\n",
              "      <td>None</td>\n",
              "      <td>None</td>\n",
              "      <td>None</td>\n",
              "      <td>None</td>\n",
              "      <td>None</td>\n",
              "      <td>None</td>\n",
              "      <td>None</td>\n",
              "      <td>None</td>\n",
              "      <td>None</td>\n",
              "      <td>None</td>\n",
              "      <td>None</td>\n",
              "      <td>None</td>\n",
              "      <td>None</td>\n",
              "      <td>None</td>\n",
              "      <td>None</td>\n",
              "      <td>None</td>\n",
              "      <td>None</td>\n",
              "      <td>None</td>\n",
              "      <td>None</td>\n",
              "      <td>None</td>\n",
              "      <td>None</td>\n",
              "      <td>None</td>\n",
              "    </tr>\n",
              "  </tbody>\n",
              "</table>\n",
              "</div>"
            ],
            "text/plain": [
              "  bridge_name  ... 2013_general_comments\n",
              "0     Bukinga  ...                  None\n",
              "\n",
              "[1 rows x 68 columns]"
            ]
          },
          "metadata": {
            "tags": []
          },
          "execution_count": 327
        }
      ]
    },
    {
      "cell_type": "code",
      "metadata": {
        "id": "s4niGFgUROD0"
      },
      "source": [
        "# Export final dataset to csv - uploaded to github repo\n",
        "df_cleaned.to_csv('cleaned_merged_dataset_final_revised.csv')"
      ],
      "execution_count": 328,
      "outputs": []
    },
    {
      "cell_type": "code",
      "metadata": {
        "id": "kDmuDcIlRxBN"
      },
      "source": [
        "# export dataset to Excel file to recreate new file including changes \n",
        "df_cleaned.to_excel('cleaned_merges_dataset_noextra_revised.xlsx', sheet_name='data')"
      ],
      "execution_count": 330,
      "outputs": []
    }
  ]
}