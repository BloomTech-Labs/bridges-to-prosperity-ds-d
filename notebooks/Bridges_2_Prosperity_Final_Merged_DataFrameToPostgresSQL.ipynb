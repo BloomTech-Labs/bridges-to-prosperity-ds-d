{
 "cells": [
  {
   "cell_type": "code",
   "execution_count": 3,
   "metadata": {},
   "outputs": [],
   "source": [
    "import psycopg2\n",
    "import pandas as pd\n",
    "import json\n",
    "import os\n",
    "from dotenv import load_dotenv"
   ]
  },
  {
   "cell_type": "markdown",
   "metadata": {},
   "source": [
    "# Convert CSV into DataFrame format"
   ]
  },
  {
   "cell_type": "code",
   "execution_count": 4,
   "metadata": {},
   "outputs": [],
   "source": [
    "#Convert CSV File W/ Data into dataframe, make sure you have the correct file and in the proper csv format\n",
    "df = pd.read_csv(\"https://raw.githubusercontent.com/JonRivera/Bridges_Prosperity_Labs28_Project/main/Data/cleaned_merged_dataset_final_revised.csv\")"
   ]
  },
  {
   "cell_type": "code",
   "execution_count": 5,
   "metadata": {},
   "outputs": [],
   "source": [
    "#Data frame, had a duplicated index column so I removed it\n",
    "df = df.iloc[:, 1:]"
   ]
  },
  {
   "cell_type": "code",
   "execution_count": 6,
   "metadata": {},
   "outputs": [
    {
     "data": {
      "text/html": [
       "<div>\n",
       "<style scoped>\n",
       "    .dataframe tbody tr th:only-of-type {\n",
       "        vertical-align: middle;\n",
       "    }\n",
       "\n",
       "    .dataframe tbody tr th {\n",
       "        vertical-align: top;\n",
       "    }\n",
       "\n",
       "    .dataframe thead th {\n",
       "        text-align: right;\n",
       "    }\n",
       "</style>\n",
       "<table border=\"1\" class=\"dataframe\">\n",
       "  <thead>\n",
       "    <tr style=\"text-align: right;\">\n",
       "      <th></th>\n",
       "      <th>bridge_name</th>\n",
       "      <th>bridge_opportunity_project_code</th>\n",
       "      <th>bridge_opportunity_needs_assessment</th>\n",
       "      <th>bridge_opportunity_level1_government</th>\n",
       "      <th>bridge_opportunity_level2_government</th>\n",
       "      <th>bridge_opportunity_stage</th>\n",
       "      <th>bridge_opportunity_gps_latitude</th>\n",
       "      <th>bridge_opportunity_gps_longitude</th>\n",
       "      <th>bridge_opportunity_bridge_type</th>\n",
       "      <th>bridge_opportunity_span_m</th>\n",
       "      <th>...</th>\n",
       "      <th>bridge_classification</th>\n",
       "      <th>flag_for_rejection</th>\n",
       "      <th>rejection_reason</th>\n",
       "      <th>bridge_type</th>\n",
       "      <th>estimated_span_m</th>\n",
       "      <th>height_differential_between_banks</th>\n",
       "      <th>bridge_opportunity_general_project_photos</th>\n",
       "      <th>bridge_opportunity_casesafeid</th>\n",
       "      <th>senior_engineering_review_conducted</th>\n",
       "      <th>country</th>\n",
       "    </tr>\n",
       "  </thead>\n",
       "  <tbody>\n",
       "    <tr>\n",
       "      <th>0</th>\n",
       "      <td>Bukinga</td>\n",
       "      <td>1009317</td>\n",
       "      <td>Rwanda Needs Assessment 2018</td>\n",
       "      <td>Southern Province</td>\n",
       "      <td>Nyaruguru</td>\n",
       "      <td>Cancelled</td>\n",
       "      <td>-2.760833</td>\n",
       "      <td>29.488056</td>\n",
       "      <td>Suspended Bridge</td>\n",
       "      <td>NaN</td>\n",
       "      <td>...</td>\n",
       "      <td>NaN</td>\n",
       "      <td>Yes</td>\n",
       "      <td>There is a planned vehicular road with a vehic...</td>\n",
       "      <td>NaN</td>\n",
       "      <td>NaN</td>\n",
       "      <td>NaN</td>\n",
       "      <td>NaN</td>\n",
       "      <td>006f100000asFErAAM</td>\n",
       "      <td>Yes</td>\n",
       "      <td>Rwanda</td>\n",
       "    </tr>\n",
       "    <tr>\n",
       "      <th>1</th>\n",
       "      <td>Kagarama</td>\n",
       "      <td>1007325</td>\n",
       "      <td>NaN</td>\n",
       "      <td>Western Province</td>\n",
       "      <td>Nyamasheke</td>\n",
       "      <td>Complete</td>\n",
       "      <td>-2.322534</td>\n",
       "      <td>29.141944</td>\n",
       "      <td>Suspension Bridge</td>\n",
       "      <td>48.0</td>\n",
       "      <td>...</td>\n",
       "      <td>NaN</td>\n",
       "      <td>NaN</td>\n",
       "      <td>NaN</td>\n",
       "      <td>NaN</td>\n",
       "      <td>10.0</td>\n",
       "      <td>0.7</td>\n",
       "      <td>https://flic.kr/s/aHskvedfPB</td>\n",
       "      <td>006f100000a82QzAAI</td>\n",
       "      <td>Yes</td>\n",
       "      <td>Rwanda</td>\n",
       "    </tr>\n",
       "    <tr>\n",
       "      <th>2</th>\n",
       "      <td>Karambi</td>\n",
       "      <td>1007374</td>\n",
       "      <td>NaN</td>\n",
       "      <td>Southern Province</td>\n",
       "      <td>Huye</td>\n",
       "      <td>Complete</td>\n",
       "      <td>-2.513333</td>\n",
       "      <td>29.612778</td>\n",
       "      <td>Suspension Bridge</td>\n",
       "      <td>50.0</td>\n",
       "      <td>...</td>\n",
       "      <td>Standard</td>\n",
       "      <td>NaN</td>\n",
       "      <td>NaN</td>\n",
       "      <td>Suspension</td>\n",
       "      <td>45.0</td>\n",
       "      <td>1.0</td>\n",
       "      <td>https://flic.kr/s/aHskbMF1Kr</td>\n",
       "      <td>006f100000a86DaAAI</td>\n",
       "      <td>Yes</td>\n",
       "      <td>Rwanda</td>\n",
       "    </tr>\n",
       "    <tr>\n",
       "      <th>3</th>\n",
       "      <td>Rugeti</td>\n",
       "      <td>1007466</td>\n",
       "      <td>Rwanda Needs Assessment 2018</td>\n",
       "      <td>Southern Province</td>\n",
       "      <td>Nyamagabe</td>\n",
       "      <td>Complete</td>\n",
       "      <td>-2.476407</td>\n",
       "      <td>29.420800</td>\n",
       "      <td>Suspension Bridge</td>\n",
       "      <td>68.0</td>\n",
       "      <td>...</td>\n",
       "      <td>Standard</td>\n",
       "      <td>No</td>\n",
       "      <td>NaN</td>\n",
       "      <td>Suspended</td>\n",
       "      <td>47.4</td>\n",
       "      <td>1.1</td>\n",
       "      <td>https://www.flickr.com/photos/bridgestoprosper...</td>\n",
       "      <td>006f100000a86F4AAI</td>\n",
       "      <td>Yes</td>\n",
       "      <td>Rwanda</td>\n",
       "    </tr>\n",
       "    <tr>\n",
       "      <th>4</th>\n",
       "      <td>Nyakabuye - Nkomane</td>\n",
       "      <td>1007495</td>\n",
       "      <td>Rwanda Needs Assessment 2018</td>\n",
       "      <td>Southern Province</td>\n",
       "      <td>Nyamagabe</td>\n",
       "      <td>Complete</td>\n",
       "      <td>-2.233022</td>\n",
       "      <td>29.575130</td>\n",
       "      <td>Suspension Bridge</td>\n",
       "      <td>78.0</td>\n",
       "      <td>...</td>\n",
       "      <td>Standard</td>\n",
       "      <td>No</td>\n",
       "      <td>NaN</td>\n",
       "      <td>Suspended</td>\n",
       "      <td>90.0</td>\n",
       "      <td>1.1</td>\n",
       "      <td>https://www.flickr.com/photos/bridgestoprosper...</td>\n",
       "      <td>006f100000a86FXAAY</td>\n",
       "      <td>Yes</td>\n",
       "      <td>Rwanda</td>\n",
       "    </tr>\n",
       "  </tbody>\n",
       "</table>\n",
       "<p>5 rows × 44 columns</p>\n",
       "</div>"
      ],
      "text/plain": [
       "           bridge_name bridge_opportunity_project_code  \\\n",
       "0              Bukinga                         1009317   \n",
       "1             Kagarama                         1007325   \n",
       "2              Karambi                         1007374   \n",
       "3               Rugeti                         1007466   \n",
       "4  Nyakabuye - Nkomane                         1007495   \n",
       "\n",
       "  bridge_opportunity_needs_assessment bridge_opportunity_level1_government  \\\n",
       "0        Rwanda Needs Assessment 2018                    Southern Province   \n",
       "1                                 NaN                     Western Province   \n",
       "2                                 NaN                    Southern Province   \n",
       "3        Rwanda Needs Assessment 2018                    Southern Province   \n",
       "4        Rwanda Needs Assessment 2018                    Southern Province   \n",
       "\n",
       "  bridge_opportunity_level2_government bridge_opportunity_stage  \\\n",
       "0                            Nyaruguru                Cancelled   \n",
       "1                           Nyamasheke                 Complete   \n",
       "2                                 Huye                 Complete   \n",
       "3                            Nyamagabe                 Complete   \n",
       "4                            Nyamagabe                 Complete   \n",
       "\n",
       "   bridge_opportunity_gps_latitude  bridge_opportunity_gps_longitude  \\\n",
       "0                        -2.760833                         29.488056   \n",
       "1                        -2.322534                         29.141944   \n",
       "2                        -2.513333                         29.612778   \n",
       "3                        -2.476407                         29.420800   \n",
       "4                        -2.233022                         29.575130   \n",
       "\n",
       "  bridge_opportunity_bridge_type  bridge_opportunity_span_m  ...  \\\n",
       "0               Suspended Bridge                        NaN  ...   \n",
       "1              Suspension Bridge                       48.0  ...   \n",
       "2              Suspension Bridge                       50.0  ...   \n",
       "3              Suspension Bridge                       68.0  ...   \n",
       "4              Suspension Bridge                       78.0  ...   \n",
       "\n",
       "   bridge_classification flag_for_rejection  \\\n",
       "0                    NaN                Yes   \n",
       "1                    NaN                NaN   \n",
       "2               Standard                NaN   \n",
       "3               Standard                 No   \n",
       "4               Standard                 No   \n",
       "\n",
       "                                    rejection_reason bridge_type  \\\n",
       "0  There is a planned vehicular road with a vehic...         NaN   \n",
       "1                                                NaN         NaN   \n",
       "2                                                NaN  Suspension   \n",
       "3                                                NaN   Suspended   \n",
       "4                                                NaN   Suspended   \n",
       "\n",
       "   estimated_span_m  height_differential_between_banks  \\\n",
       "0               NaN                                NaN   \n",
       "1              10.0                                0.7   \n",
       "2              45.0                                1.0   \n",
       "3              47.4                                1.1   \n",
       "4              90.0                                1.1   \n",
       "\n",
       "           bridge_opportunity_general_project_photos  \\\n",
       "0                                                NaN   \n",
       "1                       https://flic.kr/s/aHskvedfPB   \n",
       "2                       https://flic.kr/s/aHskbMF1Kr   \n",
       "3  https://www.flickr.com/photos/bridgestoprosper...   \n",
       "4  https://www.flickr.com/photos/bridgestoprosper...   \n",
       "\n",
       "  bridge_opportunity_casesafeid  senior_engineering_review_conducted country  \n",
       "0            006f100000asFErAAM                                  Yes  Rwanda  \n",
       "1            006f100000a82QzAAI                                  Yes  Rwanda  \n",
       "2            006f100000a86DaAAI                                  Yes  Rwanda  \n",
       "3            006f100000a86F4AAI                                  Yes  Rwanda  \n",
       "4            006f100000a86FXAAY                                  Yes  Rwanda  \n",
       "\n",
       "[5 rows x 44 columns]"
      ]
     },
     "execution_count": 6,
     "metadata": {},
     "output_type": "execute_result"
    }
   ],
   "source": [
    "#Data frame looks good to go\n",
    "df.head()"
   ]
  },
  {
   "cell_type": "markdown",
   "metadata": {},
   "source": [
    "# Clean Columns If Necessary"
   ]
  },
  {
   "cell_type": "code",
   "execution_count": 7,
   "metadata": {},
   "outputs": [],
   "source": [
    "#Get column names, having clean column names are important to have to make consisten and repoducible queries\n",
    "#Specifically make sure you don't have white spaces, numbers at the start, or () brackets within the column name\n",
    "#May encounter errors when running queries on postgres sql database, or also may run into errors into convertin data frame\n",
    "#Into SQL Table\n",
    "columns = list(df.columns)"
   ]
  },
  {
   "cell_type": "code",
   "execution_count": 12,
   "metadata": {},
   "outputs": [
    {
     "data": {
      "text/plain": [
       "['bridge_name',\n",
       " 'bridge_opportunity_project_code',\n",
       " 'bridge_opportunity_needs_assessment',\n",
       " 'bridge_opportunity_level1_government',\n",
       " 'bridge_opportunity_level2_government',\n",
       " 'bridge_opportunity_stage',\n",
       " 'bridge_opportunity_gps_latitude',\n",
       " 'bridge_opportunity_gps_longitude',\n",
       " 'bridge_opportunity_bridge_type',\n",
       " 'bridge_opportunity_span_m',\n",
       " 'bridge_opportunity_individuals_directly_served',\n",
       " 'bridge_opportunity_comments',\n",
       " 'form_form_name',\n",
       " 'form_created_by',\n",
       " 'proposed_bridge_location_gps_latitude',\n",
       " 'proposed_bridge_location_gps_longitude',\n",
       " 'current_crossing_method',\n",
       " 'nearest_all_weather_crossing_point',\n",
       " 'days_per_year_river_is_flooded',\n",
       " 'flood_duration_during_rainy_season',\n",
       " 'market_access_blocked_by_river',\n",
       " 'education_access_blocked_by_river',\n",
       " 'health_access_blocked_by_river',\n",
       " 'other_access_blocked_by_river',\n",
       " 'primary_occupations',\n",
       " 'primary_crops_grown',\n",
       " 'river_crossing_deaths_in_last_3_years',\n",
       " 'river_crossing_injuries_in_last_3_years',\n",
       " 'incident_descriptions',\n",
       " 'notes_on_social_information',\n",
       " 'cell_service_quality',\n",
       " 'four_wd _accessibility',\n",
       " 'name_of_nearest_city',\n",
       " 'name_of_nearest_paved_or_sealed_road',\n",
       " 'bridge_classification',\n",
       " 'flag_for_rejection',\n",
       " 'rejection_reason',\n",
       " 'bridge_type',\n",
       " 'estimated_span_m',\n",
       " 'height_differential_between_banks',\n",
       " 'bridge_opportunity_general_project_photos',\n",
       " 'bridge_opportunity_casesafeid',\n",
       " 'senior_engineering_review_conducted',\n",
       " 'country']"
      ]
     },
     "execution_count": 12,
     "metadata": {},
     "output_type": "execute_result"
    }
   ],
   "source": [
    "columns"
   ]
  },
  {
   "cell_type": "markdown",
   "metadata": {},
   "source": [
    "# Check Secrets"
   ]
  },
  {
   "cell_type": "code",
   "execution_count": 8,
   "metadata": {},
   "outputs": [],
   "source": [
    "#Secrets are contained in a .envfile\n",
    "load_dotenv()\n",
    "db_name = os.getenv(\"DB_NAME\")\n",
    "db_user = os.getenv(\"DB_USER\")\n",
    "db_password = os.getenv(\"DB_PASSWORD\")\n",
    "db_host = os.getenv(\"DB_HOST\")\n",
    "db_port = os.getenv(\"DB_PORT\")\n",
    "\n",
    "# print(db_name)\n",
    "# print(db_user)\n",
    "# print(db_password)\n",
    "# print(db_host)\n",
    "# print(db_port)"
   ]
  },
  {
   "cell_type": "markdown",
   "metadata": {},
   "source": [
    "# Verify which tables exist in DataBase"
   ]
  },
  {
   "cell_type": "code",
   "execution_count": 10,
   "metadata": {},
   "outputs": [
    {
     "name": "stdout",
     "output_type": "stream",
     "text": [
      "['B2P_Oct_2018', 'B2P_OCT_2018_Merged', 'B2P_oct_2018']\n"
     ]
    }
   ],
   "source": [
    "import sqlalchemy  # Package for accessing SQL databases via Python\n",
    "# Connect to database (Note: The package psychopg2 is required for Postgres to work with SQLAlchemy)\n",
    "engine = sqlalchemy.create_engine(f\"postgresql://{db_user}:{db_password}@{db_host}:5432/bridges_to_prosperity_oct2018\")\n",
    "con = engine.connect()\n",
    "# Verify that there are no existing tables\n",
    "print(engine.table_names())\n",
    "engine.dispose()"
   ]
  },
  {
   "cell_type": "markdown",
   "metadata": {},
   "source": [
    "# Upload DataFrame as SWL Table to DataBase"
   ]
  },
  {
   "cell_type": "code",
   "execution_count": 11,
   "metadata": {},
   "outputs": [],
   "source": [
    "# table_name = 'B2P_Merged_Final'\n",
    "# df.to_sql(table_name, con)"
   ]
  },
  {
   "cell_type": "code",
   "execution_count": 13,
   "metadata": {},
   "outputs": [],
   "source": [
    "def conn_curs():\n",
    "    \"\"\"\n",
    "    makes a connection to the database\n",
    "    \"\"\"\n",
    "    global db_name\n",
    "    global db_user\n",
    "    global db_password\n",
    "    global db_host\n",
    "    global db_port\n",
    "    \n",
    "    connection = psycopg2.connect(dbname=db_name, user= db_user,\n",
    "                                  password=db_password, host= db_host,port=db_port)\n",
    "    cursor = connection.cursor()\n",
    "    return connection, cursor"
   ]
  },
  {
   "cell_type": "code",
   "execution_count": 16,
   "metadata": {},
   "outputs": [],
   "source": [
    "def fetch_query_records(query):\n",
    "    global conn_curs\n",
    "    conn, cursor = conn_curs()\n",
    "    cursor.execute(query)\n",
    "    result = cursor.fetchall()\n",
    "    cursor.close()\n",
    "    conn.close()\n",
    "    return result"
   ]
  },
  {
   "cell_type": "code",
   "execution_count": 17,
   "metadata": {},
   "outputs": [
    {
     "data": {
      "text/plain": [
       "[('Bukinga',)]"
      ]
     },
     "execution_count": 17,
     "metadata": {},
     "output_type": "execute_result"
    }
   ],
   "source": [
    "fetch_query_records(\"\"\"SELECT \"bridge_name\" from public.\"B2P_Merged_Final\" LIMIT 1;\"\"\")"
   ]
  },
  {
   "cell_type": "code",
   "execution_count": 20,
   "metadata": {},
   "outputs": [
    {
     "name": "stdout",
     "output_type": "stream",
     "text": [
      "[('Bukinga',)]\n"
     ]
    }
   ],
   "source": [
    "# Testing Querie to get Records based on Bridge Name\n",
    "conn, cursor = conn_curs()\n",
    "query  = \"\"\"SELECT \"bridge_name\" from public.\"B2P_Merged_Final\" where \"bridge_name\" = 'Bukinga' LIMIT 1;\"\"\"\n",
    "cursor.execute(query)\n",
    "result = cursor.fetchall()\n",
    "cursor.close()\n",
    "conn.close\n",
    "print(result)"
   ]
  },
  {
   "cell_type": "code",
   "execution_count": 27,
   "metadata": {},
   "outputs": [],
   "source": [
    "def fetch_all_records():\n",
    "    global conn_curs\n",
    "    conn,cursor = conn_curs()\n",
    "    query = \"\"\" SELECT * from public.\"B2P_Merged_Final\" LIMIT 1\"\"\";\n",
    "    cursor.execute(query)\n",
    "    result = cursor.fetchall() #when it fetches it adds an extra column (indexes), make sure to remove it\n",
    "    conn.close()\n",
    "    df2 = pd.DataFrame(result, columns= ['index']+columns)\n",
    "    df2 = df2.iloc[:,1:] # This code removes extra copied indexed column\n",
    "    df_json = df.to_json(orient='records')\n",
    "    parsed = json.loads(df_json)\n",
    "    return df2\n"
   ]
  },
  {
   "cell_type": "code",
   "execution_count": 28,
   "metadata": {},
   "outputs": [
    {
     "data": {
      "text/html": [
       "<div>\n",
       "<style scoped>\n",
       "    .dataframe tbody tr th:only-of-type {\n",
       "        vertical-align: middle;\n",
       "    }\n",
       "\n",
       "    .dataframe tbody tr th {\n",
       "        vertical-align: top;\n",
       "    }\n",
       "\n",
       "    .dataframe thead th {\n",
       "        text-align: right;\n",
       "    }\n",
       "</style>\n",
       "<table border=\"1\" class=\"dataframe\">\n",
       "  <thead>\n",
       "    <tr style=\"text-align: right;\">\n",
       "      <th></th>\n",
       "      <th>bridge_name</th>\n",
       "      <th>bridge_opportunity_project_code</th>\n",
       "      <th>bridge_opportunity_needs_assessment</th>\n",
       "      <th>bridge_opportunity_level1_government</th>\n",
       "      <th>bridge_opportunity_level2_government</th>\n",
       "      <th>bridge_opportunity_stage</th>\n",
       "      <th>bridge_opportunity_gps_latitude</th>\n",
       "      <th>bridge_opportunity_gps_longitude</th>\n",
       "      <th>bridge_opportunity_bridge_type</th>\n",
       "      <th>bridge_opportunity_span_m</th>\n",
       "      <th>...</th>\n",
       "      <th>bridge_classification</th>\n",
       "      <th>flag_for_rejection</th>\n",
       "      <th>rejection_reason</th>\n",
       "      <th>bridge_type</th>\n",
       "      <th>estimated_span_m</th>\n",
       "      <th>height_differential_between_banks</th>\n",
       "      <th>bridge_opportunity_general_project_photos</th>\n",
       "      <th>bridge_opportunity_casesafeid</th>\n",
       "      <th>senior_engineering_review_conducted</th>\n",
       "      <th>country</th>\n",
       "    </tr>\n",
       "  </thead>\n",
       "  <tbody>\n",
       "    <tr>\n",
       "      <th>0</th>\n",
       "      <td>Bukinga</td>\n",
       "      <td>1009317</td>\n",
       "      <td>Rwanda Needs Assessment 2018</td>\n",
       "      <td>Southern Province</td>\n",
       "      <td>Nyaruguru</td>\n",
       "      <td>Cancelled</td>\n",
       "      <td>-2.760833</td>\n",
       "      <td>29.488056</td>\n",
       "      <td>Suspended Bridge</td>\n",
       "      <td>None</td>\n",
       "      <td>...</td>\n",
       "      <td>None</td>\n",
       "      <td>Yes</td>\n",
       "      <td>There is a planned vehicular road with a vehic...</td>\n",
       "      <td>None</td>\n",
       "      <td>None</td>\n",
       "      <td>None</td>\n",
       "      <td>None</td>\n",
       "      <td>006f100000asFErAAM</td>\n",
       "      <td>Yes</td>\n",
       "      <td>Rwanda</td>\n",
       "    </tr>\n",
       "  </tbody>\n",
       "</table>\n",
       "<p>1 rows × 44 columns</p>\n",
       "</div>"
      ],
      "text/plain": [
       "  bridge_name bridge_opportunity_project_code  \\\n",
       "0     Bukinga                         1009317   \n",
       "\n",
       "  bridge_opportunity_needs_assessment bridge_opportunity_level1_government  \\\n",
       "0        Rwanda Needs Assessment 2018                    Southern Province   \n",
       "\n",
       "  bridge_opportunity_level2_government bridge_opportunity_stage  \\\n",
       "0                            Nyaruguru                Cancelled   \n",
       "\n",
       "   bridge_opportunity_gps_latitude  bridge_opportunity_gps_longitude  \\\n",
       "0                        -2.760833                         29.488056   \n",
       "\n",
       "  bridge_opportunity_bridge_type bridge_opportunity_span_m  ...  \\\n",
       "0               Suspended Bridge                      None  ...   \n",
       "\n",
       "  bridge_classification flag_for_rejection  \\\n",
       "0                  None                Yes   \n",
       "\n",
       "                                    rejection_reason bridge_type  \\\n",
       "0  There is a planned vehicular road with a vehic...        None   \n",
       "\n",
       "   estimated_span_m  height_differential_between_banks  \\\n",
       "0              None                               None   \n",
       "\n",
       "  bridge_opportunity_general_project_photos bridge_opportunity_casesafeid  \\\n",
       "0                                      None            006f100000asFErAAM   \n",
       "\n",
       "  senior_engineering_review_conducted country  \n",
       "0                                 Yes  Rwanda  \n",
       "\n",
       "[1 rows x 44 columns]"
      ]
     },
     "execution_count": 28,
     "metadata": {},
     "output_type": "execute_result"
    }
   ],
   "source": [
    "#Testing fetch_all_records function\n",
    "fetch_all_records()"
   ]
  }
 ],
 "metadata": {
  "kernelspec": {
   "display_name": "Python 3",
   "language": "python",
   "name": "python3"
  },
  "language_info": {
   "codemirror_mode": {
    "name": "ipython",
    "version": 3
   },
   "file_extension": ".py",
   "mimetype": "text/x-python",
   "name": "python",
   "nbconvert_exporter": "python",
   "pygments_lexer": "ipython3",
   "version": "3.7.3"
  }
 },
 "nbformat": 4,
 "nbformat_minor": 4
}
