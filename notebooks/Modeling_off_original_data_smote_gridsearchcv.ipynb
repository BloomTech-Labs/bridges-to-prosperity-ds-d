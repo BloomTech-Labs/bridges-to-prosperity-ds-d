{
  "nbformat": 4,
  "nbformat_minor": 0,
  "metadata": {
    "colab": {
      "name": "Modeling_off_original_data_smote_gridsearchcv",
      "provenance": [],
      "collapsed_sections": [],
      "include_colab_link": true
    },
    "kernelspec": {
      "name": "python3",
      "display_name": "Python 3"
    }
  },
  "cells": [
    {
      "cell_type": "markdown",
      "metadata": {
        "id": "view-in-github",
        "colab_type": "text"
      },
      "source": [
        "<a href=\"https://colab.research.google.com/github/Lambda-School-Labs/bridges-to-prosperity-ds-d/blob/SMOTE_model_building%2Ftrevor/notebooks/Modeling_off_original_data_smote_gridsearchcv.ipynb\" target=\"_parent\"><img src=\"https://colab.research.google.com/assets/colab-badge.svg\" alt=\"Open In Colab\"/></a>"
      ]
    },
    {
      "cell_type": "markdown",
      "metadata": {
        "id": "IKmbQM7rj_s2"
      },
      "source": [
        "This notebook is for problem 2 as described in `B2P Dataset_2020.10.xlsx` Contextual Summary tab:\n",
        "\n",
        "## Problem 2: Predicting which sites will be technically rejected in future engineering reviews\n",
        "\n",
        "> Any sites with a \"Yes\" in the column AQ (`Senior Engineering Review Conducted`) have undergone a full technical review, and of those, the Stage (column L) can be considered to be correct. (`Bridge Opportunity: Stage`)\n",
        "\n",
        "> Any sites without a \"Yes\" in Column AQ (`Senior Engineering Review Conducted`) have not undergone a full technical review, and the Stage is based on the assessor's initial estimate as to whether the site was technically feasible or not. \n",
        "\n",
        "> We want to know if we can use the sites that have been reviewed to understand which of the sites that haven't yet been reviewed are likely to be rejected by the senior engineering team. \n",
        "\n",
        "> Any of the data can be used, but our guess is that Estimated Span, Height Differential Between Banks, Created By, and Flag for Rejection are likely to be the most reliable predictors.\n"
      ]
    },
    {
      "cell_type": "markdown",
      "metadata": {
        "id": "nBi6VERoJIcf"
      },
      "source": [
        "### Load the data"
      ]
    },
    {
      "cell_type": "code",
      "metadata": {
        "id": "W9S_XTGn-7F9"
      },
      "source": [
        "import pandas as pd\n",
        "url = 'https://github.com/Lambda-School-Labs/bridges-to-prosperity-ds-d/blob/main/Data/B2P%20Dataset_2020.10.xlsx?raw=true'\n",
        "df = pd.read_excel(url, sheet_name='Data')"
      ],
      "execution_count": 2,
      "outputs": []
    },
    {
      "cell_type": "markdown",
      "metadata": {
        "id": "UWTCN35GJUkB"
      },
      "source": [
        "### Define the target"
      ]
    },
    {
      "cell_type": "code",
      "metadata": {
        "id": "ocxM5yOQHWw1"
      },
      "source": [
        "# Any sites with a \"Yes\" in the column \"Senior Engineering Review Conducted\"\n",
        "# have undergone a full technical review, and of those, the \n",
        "# \"Bridge Opportunity: Stage\" column can be considered to be correct.\n",
        "positive = (\n",
        "    (df['Senior Engineering Review Conducted']=='Yes') & \n",
        "    (df['Bridge Opportunity: Stage'].isin(['Complete', 'Prospecting', 'Confirmed']))\n",
        ")\n",
        "\n",
        "negative = (\n",
        "    (df['Senior Engineering Review Conducted']=='Yes') & \n",
        "    (df['Bridge Opportunity: Stage'].isin(['Rejected', 'Cancelled']))\n",
        ")\n",
        "\n",
        "# Any sites without a \"Yes\" in column Senior Engineering Review Conducted\" \n",
        "# have not undergone a full technical review ...\n",
        "# So these sites are unknown and unlabeled\n",
        "unknown = df['Senior Engineering Review Conducted'].isna()\n",
        "\n",
        "# Create a new column named \"Good Site.\" This is the target to predict.\n",
        "# Assign a 1 for the positive class and 0 for the negative class.\n",
        "df.loc[positive, 'Good Site'] = 1\n",
        "df.loc[negative, 'Good Site'] = 0\n",
        "\n",
        "# Assign -1 for unknown/unlabled observations. \n",
        "# Scikit-learn's documentation for \"Semi-Supervised Learning\" says, \n",
        "# \"It is important to assign an identifier to unlabeled points ...\n",
        "# The identifier that this implementation uses is the integer value -1.\"\n",
        "# We'll explain this soon!\n",
        "df.loc[unknown, 'Good Site'] = -1"
      ],
      "execution_count": 3,
      "outputs": []
    },
    {
      "cell_type": "markdown",
      "metadata": {
        "id": "uIz_xQaXJWAC"
      },
      "source": [
        "### Drop columns used to derive the target"
      ]
    },
    {
      "cell_type": "code",
      "metadata": {
        "id": "G9iDGMdgIe0k"
      },
      "source": [
        "# Because these columns were used to derive the target, \n",
        "# We can't use them as features, or it would be leakage.\n",
        "df = df.drop(columns=['Senior Engineering Review Conducted', 'Bridge Opportunity: Stage'])"
      ],
      "execution_count": 4,
      "outputs": []
    },
    {
      "cell_type": "markdown",
      "metadata": {
        "id": "t9_82DO0Jbos"
      },
      "source": [
        "### Look at target's distribution"
      ]
    },
    {
      "cell_type": "code",
      "metadata": {
        "id": "LySRowl8H7Nf",
        "outputId": "edbb5c99-b834-4cfe-800d-c6233d14c660",
        "colab": {
          "base_uri": "https://localhost:8080/"
        }
      },
      "source": [
        "df['Good Site'].value_counts()"
      ],
      "execution_count": 5,
      "outputs": [
        {
          "output_type": "execute_result",
          "data": {
            "text/plain": [
              "-1.0    1383\n",
              " 1.0      65\n",
              " 0.0      24\n",
              "Name: Good Site, dtype: int64"
            ]
          },
          "metadata": {
            "tags": []
          },
          "execution_count": 5
        }
      ]
    },
    {
      "cell_type": "markdown",
      "metadata": {
        "id": "xcWTaNsImQB6"
      },
      "source": [
        "So we have 65 labeled observations for the positive class, 24 labeled observations for the negative class, and almost 1,400 unlabeled observations."
      ]
    },
    {
      "cell_type": "markdown",
      "metadata": {
        "id": "OnaloI5RKfnI"
      },
      "source": [
        "### 4 recommendations:\n",
        "\n",
        "- Use **semi-supervised learning**, which \"combines a small amount of labeled data with a large amount of unlabeled data\". See Wikipedia notes below. Python implementations are available in [scikit-learn](https://scikit-learn.org/stable/modules/label_propagation.html) and [pomegranate](https://pomegranate.readthedocs.io/en/latest/semisupervised.html). Another way to get started: feature engineering + feature selection + K-Means Clustering + PCA in 2 dimensions. Then visualize the clusters on a scatterplot, with colors for the labels.\n",
        "- Use [**leave-one-out cross-validation**](https://en.wikipedia.org/wiki/Cross-validation_(statistics)#Leave-one-out_cross-validation), without an independent test set, because we have so few labeled observations. It's implemented in [scikit-learn](https://scikit-learn.org/stable/modules/generated/sklearn.model_selection.LeaveOneOut.html). Or maybe 10-fold cross-validation with stratified sampling (and no independent test set).\n",
        "- Consider **\"over-sampling\"** techniques for imbalanced classification. Python implementations are available in [imbalanced-learn](https://github.com/scikit-learn-contrib/imbalanced-learn).\n",
        "- Consider using [**Snorkel**](https://www.snorkel.org/) to write \"labeling functions\" for \"weakly supervised learning.\" The site has many [tutorials](https://www.snorkel.org/use-cases/). \n",
        "\n"
      ]
    },
    {
      "cell_type": "markdown",
      "metadata": {
        "id": "0-N-wF0fJ2CR"
      },
      "source": [
        "### [Semi-supervised learning - Wikipedia](https://en.wikipedia.org/wiki/Semi-supervised_learning)\n",
        "\n",
        "> Semi-supervised learning is an approach to machine learning that combines a small amount of labeled data with a large amount of unlabeled data during training. Semi-supervised learning falls between unsupervised learning (with no labeled training data) and supervised learning (with only labeled training data).\n",
        "\n",
        "> Unlabeled data, when used in conjunction with a small amount of labeled data, can produce considerable improvement in learning accuracy. The acquisition of labeled data for a learning problem often requires a skilled human agent ... The cost associated with the labeling process thus may render large, fully labeled training sets infeasible, whereas acquisition of unlabeled data is relatively inexpensive. In such situations, semi-supervised learning can be of great practical value."
      ]
    },
    {
      "cell_type": "markdown",
      "metadata": {
        "id": "yk8-HRCPJ0nH"
      },
      "source": [
        "![image.png](data:image/png;base64,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)"
      ]
    },
    {
      "cell_type": "markdown",
      "metadata": {
        "id": "8V1xXpXaJ9dP"
      },
      "source": [
        "> An example of the influence of unlabeled data in semi-supervised learning. The top panel shows a decision boundary we might adopt after seeing only one positive (white circle) and one negative (black circle) example. The bottom panel shows a decision boundary we might adopt if, in addition to the two labeled examples, we were given a collection of unlabeled data (gray circles). This could be viewed as performing clustering and then labeling the clusters with the labeled data, pushing the decision boundary away from high-density regions ..."
      ]
    },
    {
      "cell_type": "markdown",
      "metadata": {
        "id": "W6zLqETCSfOs"
      },
      "source": [
        "See also:\n",
        "\n",
        "- “Positive-Unlabeled Learning”\n",
        "- https://en.wikipedia.org/wiki/One-class_classification"
      ]
    },
    {
      "cell_type": "markdown",
      "metadata": {
        "id": "ln7HobzSIQQr"
      },
      "source": [
        "# Model attempt - Smaller Dataset Not utilizing world data\n",
        "\n",
        "- Here I am attempting to build a model using less \"created\" data than we did in previous attempts using the world data set. This had more successful bridge builds but those bridge builds did not include pertainant feature for building a predictive model. "
      ]
    },
    {
      "cell_type": "code",
      "metadata": {
        "id": "BctYEQWq5hXv"
      },
      "source": [
        "df.info()"
      ],
      "execution_count": null,
      "outputs": []
    },
    {
      "cell_type": "code",
      "metadata": {
        "id": "2LKmH_eH5j8b"
      },
      "source": [
        "# Columns suggeested bt stakeholder to utilize while model building\n",
        "keep_list = ['Bridge Opportunity: Span (m)',\n",
        "             'Bridge Opportunity: Individuals Directly Served', \n",
        "             'Form: Created By',\n",
        "             'Height differential between banks', 'Flag for Rejection',\n",
        "             'Good Site']\n"
      ],
      "execution_count": 11,
      "outputs": []
    },
    {
      "cell_type": "code",
      "metadata": {
        "id": "MgFvaliY6Bcv",
        "outputId": "bf118443-5e36-4f35-a57e-9297d94e5756",
        "colab": {
          "base_uri": "https://localhost:8080/",
          "height": 198
        }
      },
      "source": [
        "# isolating the dataset to just the modelset\n",
        "modelset = df[keep_list]\n",
        "\n",
        "modelset.head()"
      ],
      "execution_count": 12,
      "outputs": [
        {
          "output_type": "execute_result",
          "data": {
            "text/html": [
              "<div>\n",
              "<style scoped>\n",
              "    .dataframe tbody tr th:only-of-type {\n",
              "        vertical-align: middle;\n",
              "    }\n",
              "\n",
              "    .dataframe tbody tr th {\n",
              "        vertical-align: top;\n",
              "    }\n",
              "\n",
              "    .dataframe thead th {\n",
              "        text-align: right;\n",
              "    }\n",
              "</style>\n",
              "<table border=\"1\" class=\"dataframe\">\n",
              "  <thead>\n",
              "    <tr style=\"text-align: right;\">\n",
              "      <th></th>\n",
              "      <th>Bridge Opportunity: Span (m)</th>\n",
              "      <th>Bridge Opportunity: Individuals Directly Served</th>\n",
              "      <th>Form: Created By</th>\n",
              "      <th>Height differential between banks</th>\n",
              "      <th>Flag for Rejection</th>\n",
              "      <th>Good Site</th>\n",
              "    </tr>\n",
              "  </thead>\n",
              "  <tbody>\n",
              "    <tr>\n",
              "      <th>0</th>\n",
              "      <td>NaN</td>\n",
              "      <td>NaN</td>\n",
              "      <td>aimablengirabakunzi taroworks</td>\n",
              "      <td>NaN</td>\n",
              "      <td>Yes</td>\n",
              "      <td>0.0</td>\n",
              "    </tr>\n",
              "    <tr>\n",
              "      <th>1</th>\n",
              "      <td>48.0</td>\n",
              "      <td>4000.0</td>\n",
              "      <td>Stephanie May</td>\n",
              "      <td>0.7</td>\n",
              "      <td>NaN</td>\n",
              "      <td>1.0</td>\n",
              "    </tr>\n",
              "    <tr>\n",
              "      <th>2</th>\n",
              "      <td>50.0</td>\n",
              "      <td>12500.0</td>\n",
              "      <td>etiennemutebutsi taroworks</td>\n",
              "      <td>1.0</td>\n",
              "      <td>NaN</td>\n",
              "      <td>1.0</td>\n",
              "    </tr>\n",
              "    <tr>\n",
              "      <th>3</th>\n",
              "      <td>68.0</td>\n",
              "      <td>4363.0</td>\n",
              "      <td>aimablengirabakunzi taroworks</td>\n",
              "      <td>1.1</td>\n",
              "      <td>No</td>\n",
              "      <td>1.0</td>\n",
              "    </tr>\n",
              "    <tr>\n",
              "      <th>4</th>\n",
              "      <td>78.0</td>\n",
              "      <td>2790.0</td>\n",
              "      <td>dominiquehabimana taroworks</td>\n",
              "      <td>1.1</td>\n",
              "      <td>No</td>\n",
              "      <td>1.0</td>\n",
              "    </tr>\n",
              "  </tbody>\n",
              "</table>\n",
              "</div>"
            ],
            "text/plain": [
              "   Bridge Opportunity: Span (m)  ...  Good Site\n",
              "0                           NaN  ...        0.0\n",
              "1                          48.0  ...        1.0\n",
              "2                          50.0  ...        1.0\n",
              "3                          68.0  ...        1.0\n",
              "4                          78.0  ...        1.0\n",
              "\n",
              "[5 rows x 6 columns]"
            ]
          },
          "metadata": {
            "tags": []
          },
          "execution_count": 12
        }
      ]
    },
    {
      "cell_type": "code",
      "metadata": {
        "id": "qISOAuaq6F4R",
        "outputId": "66240c53-9fbd-4f35-e3c1-4f81268924a9",
        "colab": {
          "base_uri": "https://localhost:8080/"
        }
      },
      "source": [
        "# built modelset based off of original dataset - not much cleaning here.\n",
        "# further cleaning could be an area for improvement.  \n",
        "modelset['Good Site'].value_counts()"
      ],
      "execution_count": 13,
      "outputs": [
        {
          "output_type": "execute_result",
          "data": {
            "text/plain": [
              "-1.0    1383\n",
              " 1.0      65\n",
              " 0.0      24\n",
              "Name: Good Site, dtype: int64"
            ]
          },
          "metadata": {
            "tags": []
          },
          "execution_count": 13
        }
      ]
    },
    {
      "cell_type": "code",
      "metadata": {
        "id": "XdgAgG266Siv",
        "outputId": "135a838d-1d48-441e-bea9-28113a05c8e5",
        "colab": {
          "base_uri": "https://localhost:8080/"
        }
      },
      "source": [
        "!pip install category_encoders"
      ],
      "execution_count": 14,
      "outputs": [
        {
          "output_type": "stream",
          "text": [
            "Collecting category_encoders\n",
            "\u001b[?25l  Downloading https://files.pythonhosted.org/packages/44/57/fcef41c248701ee62e8325026b90c432adea35555cbc870aff9cfba23727/category_encoders-2.2.2-py2.py3-none-any.whl (80kB)\n",
            "\r\u001b[K     |████                            | 10kB 16.3MB/s eta 0:00:01\r\u001b[K     |████████▏                       | 20kB 20.6MB/s eta 0:00:01\r\u001b[K     |████████████▏                   | 30kB 25.0MB/s eta 0:00:01\r\u001b[K     |████████████████▎               | 40kB 25.4MB/s eta 0:00:01\r\u001b[K     |████████████████████▎           | 51kB 17.4MB/s eta 0:00:01\r\u001b[K     |████████████████████████▍       | 61kB 19.2MB/s eta 0:00:01\r\u001b[K     |████████████████████████████▍   | 71kB 15.3MB/s eta 0:00:01\r\u001b[K     |████████████████████████████████| 81kB 6.7MB/s \n",
            "\u001b[?25hRequirement already satisfied: scipy>=1.0.0 in /usr/local/lib/python3.6/dist-packages (from category_encoders) (1.4.1)\n",
            "Requirement already satisfied: pandas>=0.21.1 in /usr/local/lib/python3.6/dist-packages (from category_encoders) (1.1.4)\n",
            "Requirement already satisfied: numpy>=1.14.0 in /usr/local/lib/python3.6/dist-packages (from category_encoders) (1.18.5)\n",
            "Requirement already satisfied: patsy>=0.5.1 in /usr/local/lib/python3.6/dist-packages (from category_encoders) (0.5.1)\n",
            "Requirement already satisfied: scikit-learn>=0.20.0 in /usr/local/lib/python3.6/dist-packages (from category_encoders) (0.22.2.post1)\n",
            "Requirement already satisfied: statsmodels>=0.9.0 in /usr/local/lib/python3.6/dist-packages (from category_encoders) (0.10.2)\n",
            "Requirement already satisfied: pytz>=2017.2 in /usr/local/lib/python3.6/dist-packages (from pandas>=0.21.1->category_encoders) (2018.9)\n",
            "Requirement already satisfied: python-dateutil>=2.7.3 in /usr/local/lib/python3.6/dist-packages (from pandas>=0.21.1->category_encoders) (2.8.1)\n",
            "Requirement already satisfied: six in /usr/local/lib/python3.6/dist-packages (from patsy>=0.5.1->category_encoders) (1.15.0)\n",
            "Requirement already satisfied: joblib>=0.11 in /usr/local/lib/python3.6/dist-packages (from scikit-learn>=0.20.0->category_encoders) (0.17.0)\n",
            "Installing collected packages: category-encoders\n",
            "Successfully installed category-encoders-2.2.2\n"
          ],
          "name": "stdout"
        }
      ]
    },
    {
      "cell_type": "code",
      "metadata": {
        "id": "ZcG02b5R6Zbj",
        "outputId": "c5cae188-e858-4730-da59-525a5ccfc1be",
        "colab": {
          "base_uri": "https://localhost:8080/"
        }
      },
      "source": [
        "# Imports:\n",
        "from collections import Counter\n",
        "from sklearn.pipeline import make_pipeline\n",
        "from imblearn.pipeline import make_pipeline as make_pipeline_imb\n",
        "from imblearn.over_sampling import SMOTE\n",
        "from imblearn.metrics import classification_report_imbalanced\n",
        "from sklearn.model_selection import train_test_split, GridSearchCV\n",
        "from sklearn.ensemble import RandomForestClassifier\n",
        "import category_encoders as ce\n",
        "from sklearn.impute import SimpleImputer\n",
        "from sklearn.metrics import precision_score, recall_score, f1_score, roc_auc_score, accuracy_score, classification_report"
      ],
      "execution_count": 15,
      "outputs": [
        {
          "output_type": "stream",
          "text": [
            "/usr/local/lib/python3.6/dist-packages/sklearn/externals/six.py:31: FutureWarning: The module is deprecated in version 0.21 and will be removed in version 0.23 since we've dropped support for Python 2.7. Please rely on the official version of six (https://pypi.org/project/six/).\n",
            "  \"(https://pypi.org/project/six/).\", FutureWarning)\n",
            "/usr/local/lib/python3.6/dist-packages/sklearn/utils/deprecation.py:144: FutureWarning: The sklearn.neighbors.base module is  deprecated in version 0.22 and will be removed in version 0.24. The corresponding classes / functions should instead be imported from sklearn.neighbors. Anything that cannot be imported from sklearn.neighbors is now part of the private API.\n",
            "  warnings.warn(message, FutureWarning)\n",
            "/usr/local/lib/python3.6/dist-packages/sklearn/utils/deprecation.py:144: FutureWarning: The sklearn.metrics.classification module is  deprecated in version 0.22 and will be removed in version 0.24. The corresponding classes / functions should instead be imported from sklearn.metrics. Anything that cannot be imported from sklearn.metrics is now part of the private API.\n",
            "  warnings.warn(message, FutureWarning)\n",
            "/usr/local/lib/python3.6/dist-packages/statsmodels/tools/_testing.py:19: FutureWarning: pandas.util.testing is deprecated. Use the functions in the public API at pandas.testing instead.\n",
            "  import pandas.util.testing as tm\n"
          ],
          "name": "stderr"
        }
      ]
    },
    {
      "cell_type": "code",
      "metadata": {
        "id": "wOwC7hdl60VT"
      },
      "source": [
        "# split data - intial split eliminated all of the \"unlabeled\" sites \n",
        "data = modelset[(modelset['Good Site']== 0) | (modelset['Good Site']== 1)]\n",
        "test = modelset[modelset['Good Site']== -1]\n",
        "\n",
        "train, val = train_test_split(data, test_size=.2, random_state=42)\n"
      ],
      "execution_count": 21,
      "outputs": []
    },
    {
      "cell_type": "code",
      "metadata": {
        "id": "pdq8TZXK7Y4B",
        "outputId": "4ae8b19c-929f-4e2e-ba02-961c82f5dbbb",
        "colab": {
          "base_uri": "https://localhost:8080/"
        }
      },
      "source": [
        "# splitting our labeled sites into a train and validation set for model building\n",
        "\n",
        "X_train = train.drop('Good Site', axis=1)\n",
        "y_train = train['Good Site']\n",
        "X_val = val.drop('Good Site', axis=1)\n",
        "y_val = val['Good Site']\n",
        "\n",
        "X_train.shape, y_train.shape, X_val.shape, y_val.shape"
      ],
      "execution_count": 22,
      "outputs": [
        {
          "output_type": "execute_result",
          "data": {
            "text/plain": [
              "((71, 5), (71,), (18, 5), (18,))"
            ]
          },
          "metadata": {
            "tags": []
          },
          "execution_count": 22
        }
      ]
    },
    {
      "cell_type": "code",
      "metadata": {
        "id": "HV0ezhQX6gSa",
        "outputId": "24356d25-b9b8-458d-f303-f540c05d677b",
        "colab": {
          "base_uri": "https://localhost:8080/"
        }
      },
      "source": [
        "# Building a base model without SMOTE\n",
        "\n",
        "from sklearn.model_selection import KFold\n",
        "from sklearn.model_selection import cross_val_score\n",
        "\n",
        "kf = KFold(n_splits=5, shuffle=False)\n",
        "\n",
        "base_pipe = make_pipeline(ce.OrdinalEncoder(),\n",
        "                        SimpleImputer(strategy = 'mean'),\n",
        "                        RandomForestClassifier(n_estimators=100, random_state=42))\n",
        "cross_val_score(base_pipe, X_train, y_train, cv=kf, scoring='precision')\n"
      ],
      "execution_count": 30,
      "outputs": [
        {
          "output_type": "execute_result",
          "data": {
            "text/plain": [
              "array([0.75      , 0.91666667, 0.9       , 0.75      , 0.83333333])"
            ]
          },
          "metadata": {
            "tags": []
          },
          "execution_count": 30
        }
      ]
    },
    {
      "cell_type": "markdown",
      "metadata": {
        "id": "5kcaXM3JJF4P"
      },
      "source": [
        "From the results above we can see the variety of the precision scores, looks like we have some overfit values when it comes to different cross validations"
      ]
    },
    {
      "cell_type": "code",
      "metadata": {
        "id": "Qo6SurZoC7cv",
        "outputId": "6a900d1d-76fc-42ae-b1a2-a1e501612fee",
        "colab": {
          "base_uri": "https://localhost:8080/"
        }
      },
      "source": [
        "# use of imb_learn pipeline\n",
        "imba_pipe = make_pipeline_imb(ce.OrdinalEncoder(),\n",
        "                              SimpleImputer(strategy = 'mean'),\n",
        "                              SMOTE(random_state=42),\n",
        "                              RandomForestClassifier(n_estimators=100, random_state=42))\n",
        "\n",
        "cross_val_score(imba_pipe, X_train, y_train, cv=kf, scoring='precision')\n"
      ],
      "execution_count": 42,
      "outputs": [
        {
          "output_type": "stream",
          "text": [
            "/usr/local/lib/python3.6/dist-packages/sklearn/utils/deprecation.py:87: FutureWarning: Function safe_indexing is deprecated; safe_indexing is deprecated in version 0.22 and will be removed in version 0.24.\n",
            "  warnings.warn(msg, category=FutureWarning)\n",
            "/usr/local/lib/python3.6/dist-packages/sklearn/utils/deprecation.py:87: FutureWarning: Function safe_indexing is deprecated; safe_indexing is deprecated in version 0.22 and will be removed in version 0.24.\n",
            "  warnings.warn(msg, category=FutureWarning)\n",
            "/usr/local/lib/python3.6/dist-packages/sklearn/utils/deprecation.py:87: FutureWarning: Function safe_indexing is deprecated; safe_indexing is deprecated in version 0.22 and will be removed in version 0.24.\n",
            "  warnings.warn(msg, category=FutureWarning)\n",
            "/usr/local/lib/python3.6/dist-packages/sklearn/utils/deprecation.py:87: FutureWarning: Function safe_indexing is deprecated; safe_indexing is deprecated in version 0.22 and will be removed in version 0.24.\n",
            "  warnings.warn(msg, category=FutureWarning)\n",
            "/usr/local/lib/python3.6/dist-packages/sklearn/utils/deprecation.py:87: FutureWarning: Function safe_indexing is deprecated; safe_indexing is deprecated in version 0.22 and will be removed in version 0.24.\n",
            "  warnings.warn(msg, category=FutureWarning)\n"
          ],
          "name": "stderr"
        },
        {
          "output_type": "execute_result",
          "data": {
            "text/plain": [
              "array([0.75      , 1.        , 0.875     , 0.625     , 0.88888889])"
            ]
          },
          "metadata": {
            "tags": []
          },
          "execution_count": 42
        }
      ]
    },
    {
      "cell_type": "markdown",
      "metadata": {
        "id": "IXzO76s9JWTJ"
      },
      "source": [
        "Using an imbalanced Pipeline with SMOTE we still see the large variety in precision 1.0 as a high and .625 as a low. \n"
      ]
    },
    {
      "cell_type": "code",
      "metadata": {
        "id": "t9l1hRHE6juC"
      },
      "source": [
        "# using grid search to attempt to further validate the model to use on predicitions\n",
        "\n",
        "new_params = {'randomforestclassifier__n_estimators': [100, 200, 50],\n",
        "              'randomforestclassifier__max_depth': [4, 6, 10, 12], \n",
        "              'simpleimputer__strategy': ['mean', 'median']\n",
        "}\n",
        "\n",
        "imba_grid_1 = GridSearchCV(imba_pipe, param_grid=new_params, cv=kf, \n",
        "                        scoring='precision',\n",
        "                        return_train_score=True)\n",
        "imba_grid_1.fit(X_train, y_train);\n"
      ],
      "execution_count": null,
      "outputs": []
    },
    {
      "cell_type": "code",
      "metadata": {
        "id": "OAzmlBkEGKV4",
        "outputId": "5457eead-5891-43bb-a0ee-a7a7f50a04df",
        "colab": {
          "base_uri": "https://localhost:8080/"
        }
      },
      "source": [
        "# Params used and best score on a basis of precision\n",
        "\n",
        "print(imba_grid_1.best_params_, imba_grid_1.best_score_)\n"
      ],
      "execution_count": 48,
      "outputs": [
        {
          "output_type": "stream",
          "text": [
            "{'randomforestclassifier__max_depth': 4, 'randomforestclassifier__n_estimators': 100, 'simpleimputer__strategy': 'median'} 0.8527777777777779\n"
          ],
          "name": "stdout"
        }
      ]
    },
    {
      "cell_type": "code",
      "metadata": {
        "id": "J9ZJDfKRGt4W",
        "outputId": "fc259130-9e50-44f5-dfac-b8af087bae73",
        "colab": {
          "base_uri": "https://localhost:8080/"
        }
      },
      "source": [
        "# Working with more folds for validation\n",
        "\n",
        "more_kf = KFold(n_splits=15)\n",
        "\n",
        "imba_grid_2 = GridSearchCV(imba_pipe, param_grid=new_params, cv=more_kf, \n",
        "                        scoring='precision',\n",
        "                        return_train_score=True)\n",
        "imba_grid_2.fit(X_train, y_train);"
      ],
      "execution_count": 55,
      "outputs": [
        {
          "output_type": "stream",
          "text": [
            "/usr/local/lib/python3.6/dist-packages/sklearn/utils/deprecation.py:87: FutureWarning: Function safe_indexing is deprecated; safe_indexing is deprecated in version 0.22 and will be removed in version 0.24.\n",
            "  warnings.warn(msg, category=FutureWarning)\n",
            "/usr/local/lib/python3.6/dist-packages/sklearn/utils/deprecation.py:87: FutureWarning: Function safe_indexing is deprecated; safe_indexing is deprecated in version 0.22 and will be removed in version 0.24.\n",
            "  warnings.warn(msg, category=FutureWarning)\n",
            "/usr/local/lib/python3.6/dist-packages/sklearn/utils/deprecation.py:87: FutureWarning: Function safe_indexing is deprecated; safe_indexing is deprecated in version 0.22 and will be removed in version 0.24.\n",
            "  warnings.warn(msg, category=FutureWarning)\n",
            "/usr/local/lib/python3.6/dist-packages/sklearn/utils/deprecation.py:87: FutureWarning: Function safe_indexing is deprecated; safe_indexing is deprecated in version 0.22 and will be removed in version 0.24.\n",
            "  warnings.warn(msg, category=FutureWarning)\n",
            "/usr/local/lib/python3.6/dist-packages/sklearn/utils/deprecation.py:87: FutureWarning: Function safe_indexing is deprecated; safe_indexing is deprecated in version 0.22 and will be removed in version 0.24.\n",
            "  warnings.warn(msg, category=FutureWarning)\n",
            "/usr/local/lib/python3.6/dist-packages/sklearn/utils/deprecation.py:87: FutureWarning: Function safe_indexing is deprecated; safe_indexing is deprecated in version 0.22 and will be removed in version 0.24.\n",
            "  warnings.warn(msg, category=FutureWarning)\n",
            "/usr/local/lib/python3.6/dist-packages/sklearn/utils/deprecation.py:87: FutureWarning: Function safe_indexing is deprecated; safe_indexing is deprecated in version 0.22 and will be removed in version 0.24.\n",
            "  warnings.warn(msg, category=FutureWarning)\n",
            "/usr/local/lib/python3.6/dist-packages/sklearn/utils/deprecation.py:87: FutureWarning: Function safe_indexing is deprecated; safe_indexing is deprecated in version 0.22 and will be removed in version 0.24.\n",
            "  warnings.warn(msg, category=FutureWarning)\n",
            "/usr/local/lib/python3.6/dist-packages/sklearn/utils/deprecation.py:87: FutureWarning: Function safe_indexing is deprecated; safe_indexing is deprecated in version 0.22 and will be removed in version 0.24.\n",
            "  warnings.warn(msg, category=FutureWarning)\n",
            "/usr/local/lib/python3.6/dist-packages/sklearn/utils/deprecation.py:87: FutureWarning: Function safe_indexing is deprecated; safe_indexing is deprecated in version 0.22 and will be removed in version 0.24.\n",
            "  warnings.warn(msg, category=FutureWarning)\n",
            "/usr/local/lib/python3.6/dist-packages/sklearn/utils/deprecation.py:87: FutureWarning: Function safe_indexing is deprecated; safe_indexing is deprecated in version 0.22 and will be removed in version 0.24.\n",
            "  warnings.warn(msg, category=FutureWarning)\n",
            "/usr/local/lib/python3.6/dist-packages/sklearn/utils/deprecation.py:87: FutureWarning: Function safe_indexing is deprecated; safe_indexing is deprecated in version 0.22 and will be removed in version 0.24.\n",
            "  warnings.warn(msg, category=FutureWarning)\n",
            "/usr/local/lib/python3.6/dist-packages/sklearn/utils/deprecation.py:87: FutureWarning: Function safe_indexing is deprecated; safe_indexing is deprecated in version 0.22 and will be removed in version 0.24.\n",
            "  warnings.warn(msg, category=FutureWarning)\n",
            "/usr/local/lib/python3.6/dist-packages/sklearn/utils/deprecation.py:87: FutureWarning: Function safe_indexing is deprecated; safe_indexing is deprecated in version 0.22 and will be removed in version 0.24.\n",
            "  warnings.warn(msg, category=FutureWarning)\n",
            "/usr/local/lib/python3.6/dist-packages/sklearn/utils/deprecation.py:87: FutureWarning: Function safe_indexing is deprecated; safe_indexing is deprecated in version 0.22 and will be removed in version 0.24.\n",
            "  warnings.warn(msg, category=FutureWarning)\n",
            "/usr/local/lib/python3.6/dist-packages/sklearn/utils/deprecation.py:87: FutureWarning: Function safe_indexing is deprecated; safe_indexing is deprecated in version 0.22 and will be removed in version 0.24.\n",
            "  warnings.warn(msg, category=FutureWarning)\n",
            "/usr/local/lib/python3.6/dist-packages/sklearn/utils/deprecation.py:87: FutureWarning: Function safe_indexing is deprecated; safe_indexing is deprecated in version 0.22 and will be removed in version 0.24.\n",
            "  warnings.warn(msg, category=FutureWarning)\n",
            "/usr/local/lib/python3.6/dist-packages/sklearn/utils/deprecation.py:87: FutureWarning: Function safe_indexing is deprecated; safe_indexing is deprecated in version 0.22 and will be removed in version 0.24.\n",
            "  warnings.warn(msg, category=FutureWarning)\n",
            "/usr/local/lib/python3.6/dist-packages/sklearn/utils/deprecation.py:87: FutureWarning: Function safe_indexing is deprecated; safe_indexing is deprecated in version 0.22 and will be removed in version 0.24.\n",
            "  warnings.warn(msg, category=FutureWarning)\n",
            "/usr/local/lib/python3.6/dist-packages/sklearn/utils/deprecation.py:87: FutureWarning: Function safe_indexing is deprecated; safe_indexing is deprecated in version 0.22 and will be removed in version 0.24.\n",
            "  warnings.warn(msg, category=FutureWarning)\n",
            "/usr/local/lib/python3.6/dist-packages/sklearn/utils/deprecation.py:87: FutureWarning: Function safe_indexing is deprecated; safe_indexing is deprecated in version 0.22 and will be removed in version 0.24.\n",
            "  warnings.warn(msg, category=FutureWarning)\n",
            "/usr/local/lib/python3.6/dist-packages/sklearn/utils/deprecation.py:87: FutureWarning: Function safe_indexing is deprecated; safe_indexing is deprecated in version 0.22 and will be removed in version 0.24.\n",
            "  warnings.warn(msg, category=FutureWarning)\n",
            "/usr/local/lib/python3.6/dist-packages/sklearn/utils/deprecation.py:87: FutureWarning: Function safe_indexing is deprecated; safe_indexing is deprecated in version 0.22 and will be removed in version 0.24.\n",
            "  warnings.warn(msg, category=FutureWarning)\n",
            "/usr/local/lib/python3.6/dist-packages/sklearn/utils/deprecation.py:87: FutureWarning: Function safe_indexing is deprecated; safe_indexing is deprecated in version 0.22 and will be removed in version 0.24.\n",
            "  warnings.warn(msg, category=FutureWarning)\n",
            "/usr/local/lib/python3.6/dist-packages/sklearn/utils/deprecation.py:87: FutureWarning: Function safe_indexing is deprecated; safe_indexing is deprecated in version 0.22 and will be removed in version 0.24.\n",
            "  warnings.warn(msg, category=FutureWarning)\n",
            "/usr/local/lib/python3.6/dist-packages/sklearn/utils/deprecation.py:87: FutureWarning: Function safe_indexing is deprecated; safe_indexing is deprecated in version 0.22 and will be removed in version 0.24.\n",
            "  warnings.warn(msg, category=FutureWarning)\n",
            "/usr/local/lib/python3.6/dist-packages/sklearn/utils/deprecation.py:87: FutureWarning: Function safe_indexing is deprecated; safe_indexing is deprecated in version 0.22 and will be removed in version 0.24.\n",
            "  warnings.warn(msg, category=FutureWarning)\n",
            "/usr/local/lib/python3.6/dist-packages/sklearn/utils/deprecation.py:87: FutureWarning: Function safe_indexing is deprecated; safe_indexing is deprecated in version 0.22 and will be removed in version 0.24.\n",
            "  warnings.warn(msg, category=FutureWarning)\n",
            "/usr/local/lib/python3.6/dist-packages/sklearn/utils/deprecation.py:87: FutureWarning: Function safe_indexing is deprecated; safe_indexing is deprecated in version 0.22 and will be removed in version 0.24.\n",
            "  warnings.warn(msg, category=FutureWarning)\n",
            "/usr/local/lib/python3.6/dist-packages/sklearn/utils/deprecation.py:87: FutureWarning: Function safe_indexing is deprecated; safe_indexing is deprecated in version 0.22 and will be removed in version 0.24.\n",
            "  warnings.warn(msg, category=FutureWarning)\n",
            "/usr/local/lib/python3.6/dist-packages/sklearn/utils/deprecation.py:87: FutureWarning: Function safe_indexing is deprecated; safe_indexing is deprecated in version 0.22 and will be removed in version 0.24.\n",
            "  warnings.warn(msg, category=FutureWarning)\n",
            "/usr/local/lib/python3.6/dist-packages/sklearn/utils/deprecation.py:87: FutureWarning: Function safe_indexing is deprecated; safe_indexing is deprecated in version 0.22 and will be removed in version 0.24.\n",
            "  warnings.warn(msg, category=FutureWarning)\n",
            "/usr/local/lib/python3.6/dist-packages/sklearn/utils/deprecation.py:87: FutureWarning: Function safe_indexing is deprecated; safe_indexing is deprecated in version 0.22 and will be removed in version 0.24.\n",
            "  warnings.warn(msg, category=FutureWarning)\n",
            "/usr/local/lib/python3.6/dist-packages/sklearn/utils/deprecation.py:87: FutureWarning: Function safe_indexing is deprecated; safe_indexing is deprecated in version 0.22 and will be removed in version 0.24.\n",
            "  warnings.warn(msg, category=FutureWarning)\n",
            "/usr/local/lib/python3.6/dist-packages/sklearn/utils/deprecation.py:87: FutureWarning: Function safe_indexing is deprecated; safe_indexing is deprecated in version 0.22 and will be removed in version 0.24.\n",
            "  warnings.warn(msg, category=FutureWarning)\n",
            "/usr/local/lib/python3.6/dist-packages/sklearn/utils/deprecation.py:87: FutureWarning: Function safe_indexing is deprecated; safe_indexing is deprecated in version 0.22 and will be removed in version 0.24.\n",
            "  warnings.warn(msg, category=FutureWarning)\n",
            "/usr/local/lib/python3.6/dist-packages/sklearn/utils/deprecation.py:87: FutureWarning: Function safe_indexing is deprecated; safe_indexing is deprecated in version 0.22 and will be removed in version 0.24.\n",
            "  warnings.warn(msg, category=FutureWarning)\n",
            "/usr/local/lib/python3.6/dist-packages/sklearn/utils/deprecation.py:87: FutureWarning: Function safe_indexing is deprecated; safe_indexing is deprecated in version 0.22 and will be removed in version 0.24.\n",
            "  warnings.warn(msg, category=FutureWarning)\n",
            "/usr/local/lib/python3.6/dist-packages/sklearn/utils/deprecation.py:87: FutureWarning: Function safe_indexing is deprecated; safe_indexing is deprecated in version 0.22 and will be removed in version 0.24.\n",
            "  warnings.warn(msg, category=FutureWarning)\n",
            "/usr/local/lib/python3.6/dist-packages/sklearn/utils/deprecation.py:87: FutureWarning: Function safe_indexing is deprecated; safe_indexing is deprecated in version 0.22 and will be removed in version 0.24.\n",
            "  warnings.warn(msg, category=FutureWarning)\n",
            "/usr/local/lib/python3.6/dist-packages/sklearn/utils/deprecation.py:87: FutureWarning: Function safe_indexing is deprecated; safe_indexing is deprecated in version 0.22 and will be removed in version 0.24.\n",
            "  warnings.warn(msg, category=FutureWarning)\n",
            "/usr/local/lib/python3.6/dist-packages/sklearn/utils/deprecation.py:87: FutureWarning: Function safe_indexing is deprecated; safe_indexing is deprecated in version 0.22 and will be removed in version 0.24.\n",
            "  warnings.warn(msg, category=FutureWarning)\n",
            "/usr/local/lib/python3.6/dist-packages/sklearn/utils/deprecation.py:87: FutureWarning: Function safe_indexing is deprecated; safe_indexing is deprecated in version 0.22 and will be removed in version 0.24.\n",
            "  warnings.warn(msg, category=FutureWarning)\n",
            "/usr/local/lib/python3.6/dist-packages/sklearn/utils/deprecation.py:87: FutureWarning: Function safe_indexing is deprecated; safe_indexing is deprecated in version 0.22 and will be removed in version 0.24.\n",
            "  warnings.warn(msg, category=FutureWarning)\n",
            "/usr/local/lib/python3.6/dist-packages/sklearn/utils/deprecation.py:87: FutureWarning: Function safe_indexing is deprecated; safe_indexing is deprecated in version 0.22 and will be removed in version 0.24.\n",
            "  warnings.warn(msg, category=FutureWarning)\n",
            "/usr/local/lib/python3.6/dist-packages/sklearn/utils/deprecation.py:87: FutureWarning: Function safe_indexing is deprecated; safe_indexing is deprecated in version 0.22 and will be removed in version 0.24.\n",
            "  warnings.warn(msg, category=FutureWarning)\n",
            "/usr/local/lib/python3.6/dist-packages/sklearn/utils/deprecation.py:87: FutureWarning: Function safe_indexing is deprecated; safe_indexing is deprecated in version 0.22 and will be removed in version 0.24.\n",
            "  warnings.warn(msg, category=FutureWarning)\n",
            "/usr/local/lib/python3.6/dist-packages/sklearn/utils/deprecation.py:87: FutureWarning: Function safe_indexing is deprecated; safe_indexing is deprecated in version 0.22 and will be removed in version 0.24.\n",
            "  warnings.warn(msg, category=FutureWarning)\n",
            "/usr/local/lib/python3.6/dist-packages/sklearn/utils/deprecation.py:87: FutureWarning: Function safe_indexing is deprecated; safe_indexing is deprecated in version 0.22 and will be removed in version 0.24.\n",
            "  warnings.warn(msg, category=FutureWarning)\n",
            "/usr/local/lib/python3.6/dist-packages/sklearn/utils/deprecation.py:87: FutureWarning: Function safe_indexing is deprecated; safe_indexing is deprecated in version 0.22 and will be removed in version 0.24.\n",
            "  warnings.warn(msg, category=FutureWarning)\n",
            "/usr/local/lib/python3.6/dist-packages/sklearn/utils/deprecation.py:87: FutureWarning: Function safe_indexing is deprecated; safe_indexing is deprecated in version 0.22 and will be removed in version 0.24.\n",
            "  warnings.warn(msg, category=FutureWarning)\n",
            "/usr/local/lib/python3.6/dist-packages/sklearn/utils/deprecation.py:87: FutureWarning: Function safe_indexing is deprecated; safe_indexing is deprecated in version 0.22 and will be removed in version 0.24.\n",
            "  warnings.warn(msg, category=FutureWarning)\n",
            "/usr/local/lib/python3.6/dist-packages/sklearn/utils/deprecation.py:87: FutureWarning: Function safe_indexing is deprecated; safe_indexing is deprecated in version 0.22 and will be removed in version 0.24.\n",
            "  warnings.warn(msg, category=FutureWarning)\n",
            "/usr/local/lib/python3.6/dist-packages/sklearn/utils/deprecation.py:87: FutureWarning: Function safe_indexing is deprecated; safe_indexing is deprecated in version 0.22 and will be removed in version 0.24.\n",
            "  warnings.warn(msg, category=FutureWarning)\n",
            "/usr/local/lib/python3.6/dist-packages/sklearn/utils/deprecation.py:87: FutureWarning: Function safe_indexing is deprecated; safe_indexing is deprecated in version 0.22 and will be removed in version 0.24.\n",
            "  warnings.warn(msg, category=FutureWarning)\n",
            "/usr/local/lib/python3.6/dist-packages/sklearn/utils/deprecation.py:87: FutureWarning: Function safe_indexing is deprecated; safe_indexing is deprecated in version 0.22 and will be removed in version 0.24.\n",
            "  warnings.warn(msg, category=FutureWarning)\n",
            "/usr/local/lib/python3.6/dist-packages/sklearn/utils/deprecation.py:87: FutureWarning: Function safe_indexing is deprecated; safe_indexing is deprecated in version 0.22 and will be removed in version 0.24.\n",
            "  warnings.warn(msg, category=FutureWarning)\n",
            "/usr/local/lib/python3.6/dist-packages/sklearn/utils/deprecation.py:87: FutureWarning: Function safe_indexing is deprecated; safe_indexing is deprecated in version 0.22 and will be removed in version 0.24.\n",
            "  warnings.warn(msg, category=FutureWarning)\n",
            "/usr/local/lib/python3.6/dist-packages/sklearn/utils/deprecation.py:87: FutureWarning: Function safe_indexing is deprecated; safe_indexing is deprecated in version 0.22 and will be removed in version 0.24.\n",
            "  warnings.warn(msg, category=FutureWarning)\n",
            "/usr/local/lib/python3.6/dist-packages/sklearn/utils/deprecation.py:87: FutureWarning: Function safe_indexing is deprecated; safe_indexing is deprecated in version 0.22 and will be removed in version 0.24.\n",
            "  warnings.warn(msg, category=FutureWarning)\n",
            "/usr/local/lib/python3.6/dist-packages/sklearn/utils/deprecation.py:87: FutureWarning: Function safe_indexing is deprecated; safe_indexing is deprecated in version 0.22 and will be removed in version 0.24.\n",
            "  warnings.warn(msg, category=FutureWarning)\n",
            "/usr/local/lib/python3.6/dist-packages/sklearn/utils/deprecation.py:87: FutureWarning: Function safe_indexing is deprecated; safe_indexing is deprecated in version 0.22 and will be removed in version 0.24.\n",
            "  warnings.warn(msg, category=FutureWarning)\n",
            "/usr/local/lib/python3.6/dist-packages/sklearn/utils/deprecation.py:87: FutureWarning: Function safe_indexing is deprecated; safe_indexing is deprecated in version 0.22 and will be removed in version 0.24.\n",
            "  warnings.warn(msg, category=FutureWarning)\n",
            "/usr/local/lib/python3.6/dist-packages/sklearn/utils/deprecation.py:87: FutureWarning: Function safe_indexing is deprecated; safe_indexing is deprecated in version 0.22 and will be removed in version 0.24.\n",
            "  warnings.warn(msg, category=FutureWarning)\n",
            "/usr/local/lib/python3.6/dist-packages/sklearn/utils/deprecation.py:87: FutureWarning: Function safe_indexing is deprecated; safe_indexing is deprecated in version 0.22 and will be removed in version 0.24.\n",
            "  warnings.warn(msg, category=FutureWarning)\n",
            "/usr/local/lib/python3.6/dist-packages/sklearn/utils/deprecation.py:87: FutureWarning: Function safe_indexing is deprecated; safe_indexing is deprecated in version 0.22 and will be removed in version 0.24.\n",
            "  warnings.warn(msg, category=FutureWarning)\n",
            "/usr/local/lib/python3.6/dist-packages/sklearn/utils/deprecation.py:87: FutureWarning: Function safe_indexing is deprecated; safe_indexing is deprecated in version 0.22 and will be removed in version 0.24.\n",
            "  warnings.warn(msg, category=FutureWarning)\n",
            "/usr/local/lib/python3.6/dist-packages/sklearn/utils/deprecation.py:87: FutureWarning: Function safe_indexing is deprecated; safe_indexing is deprecated in version 0.22 and will be removed in version 0.24.\n",
            "  warnings.warn(msg, category=FutureWarning)\n",
            "/usr/local/lib/python3.6/dist-packages/sklearn/utils/deprecation.py:87: FutureWarning: Function safe_indexing is deprecated; safe_indexing is deprecated in version 0.22 and will be removed in version 0.24.\n",
            "  warnings.warn(msg, category=FutureWarning)\n",
            "/usr/local/lib/python3.6/dist-packages/sklearn/utils/deprecation.py:87: FutureWarning: Function safe_indexing is deprecated; safe_indexing is deprecated in version 0.22 and will be removed in version 0.24.\n",
            "  warnings.warn(msg, category=FutureWarning)\n",
            "/usr/local/lib/python3.6/dist-packages/sklearn/utils/deprecation.py:87: FutureWarning: Function safe_indexing is deprecated; safe_indexing is deprecated in version 0.22 and will be removed in version 0.24.\n",
            "  warnings.warn(msg, category=FutureWarning)\n",
            "/usr/local/lib/python3.6/dist-packages/sklearn/utils/deprecation.py:87: FutureWarning: Function safe_indexing is deprecated; safe_indexing is deprecated in version 0.22 and will be removed in version 0.24.\n",
            "  warnings.warn(msg, category=FutureWarning)\n",
            "/usr/local/lib/python3.6/dist-packages/sklearn/utils/deprecation.py:87: FutureWarning: Function safe_indexing is deprecated; safe_indexing is deprecated in version 0.22 and will be removed in version 0.24.\n",
            "  warnings.warn(msg, category=FutureWarning)\n",
            "/usr/local/lib/python3.6/dist-packages/sklearn/utils/deprecation.py:87: FutureWarning: Function safe_indexing is deprecated; safe_indexing is deprecated in version 0.22 and will be removed in version 0.24.\n",
            "  warnings.warn(msg, category=FutureWarning)\n",
            "/usr/local/lib/python3.6/dist-packages/sklearn/utils/deprecation.py:87: FutureWarning: Function safe_indexing is deprecated; safe_indexing is deprecated in version 0.22 and will be removed in version 0.24.\n",
            "  warnings.warn(msg, category=FutureWarning)\n",
            "/usr/local/lib/python3.6/dist-packages/sklearn/utils/deprecation.py:87: FutureWarning: Function safe_indexing is deprecated; safe_indexing is deprecated in version 0.22 and will be removed in version 0.24.\n",
            "  warnings.warn(msg, category=FutureWarning)\n",
            "/usr/local/lib/python3.6/dist-packages/sklearn/utils/deprecation.py:87: FutureWarning: Function safe_indexing is deprecated; safe_indexing is deprecated in version 0.22 and will be removed in version 0.24.\n",
            "  warnings.warn(msg, category=FutureWarning)\n",
            "/usr/local/lib/python3.6/dist-packages/sklearn/utils/deprecation.py:87: FutureWarning: Function safe_indexing is deprecated; safe_indexing is deprecated in version 0.22 and will be removed in version 0.24.\n",
            "  warnings.warn(msg, category=FutureWarning)\n",
            "/usr/local/lib/python3.6/dist-packages/sklearn/utils/deprecation.py:87: FutureWarning: Function safe_indexing is deprecated; safe_indexing is deprecated in version 0.22 and will be removed in version 0.24.\n",
            "  warnings.warn(msg, category=FutureWarning)\n",
            "/usr/local/lib/python3.6/dist-packages/sklearn/utils/deprecation.py:87: FutureWarning: Function safe_indexing is deprecated; safe_indexing is deprecated in version 0.22 and will be removed in version 0.24.\n",
            "  warnings.warn(msg, category=FutureWarning)\n",
            "/usr/local/lib/python3.6/dist-packages/sklearn/utils/deprecation.py:87: FutureWarning: Function safe_indexing is deprecated; safe_indexing is deprecated in version 0.22 and will be removed in version 0.24.\n",
            "  warnings.warn(msg, category=FutureWarning)\n",
            "/usr/local/lib/python3.6/dist-packages/sklearn/utils/deprecation.py:87: FutureWarning: Function safe_indexing is deprecated; safe_indexing is deprecated in version 0.22 and will be removed in version 0.24.\n",
            "  warnings.warn(msg, category=FutureWarning)\n",
            "/usr/local/lib/python3.6/dist-packages/sklearn/utils/deprecation.py:87: FutureWarning: Function safe_indexing is deprecated; safe_indexing is deprecated in version 0.22 and will be removed in version 0.24.\n",
            "  warnings.warn(msg, category=FutureWarning)\n",
            "/usr/local/lib/python3.6/dist-packages/sklearn/utils/deprecation.py:87: FutureWarning: Function safe_indexing is deprecated; safe_indexing is deprecated in version 0.22 and will be removed in version 0.24.\n",
            "  warnings.warn(msg, category=FutureWarning)\n",
            "/usr/local/lib/python3.6/dist-packages/sklearn/utils/deprecation.py:87: FutureWarning: Function safe_indexing is deprecated; safe_indexing is deprecated in version 0.22 and will be removed in version 0.24.\n",
            "  warnings.warn(msg, category=FutureWarning)\n",
            "/usr/local/lib/python3.6/dist-packages/sklearn/utils/deprecation.py:87: FutureWarning: Function safe_indexing is deprecated; safe_indexing is deprecated in version 0.22 and will be removed in version 0.24.\n",
            "  warnings.warn(msg, category=FutureWarning)\n",
            "/usr/local/lib/python3.6/dist-packages/sklearn/utils/deprecation.py:87: FutureWarning: Function safe_indexing is deprecated; safe_indexing is deprecated in version 0.22 and will be removed in version 0.24.\n",
            "  warnings.warn(msg, category=FutureWarning)\n",
            "/usr/local/lib/python3.6/dist-packages/sklearn/utils/deprecation.py:87: FutureWarning: Function safe_indexing is deprecated; safe_indexing is deprecated in version 0.22 and will be removed in version 0.24.\n",
            "  warnings.warn(msg, category=FutureWarning)\n",
            "/usr/local/lib/python3.6/dist-packages/sklearn/utils/deprecation.py:87: FutureWarning: Function safe_indexing is deprecated; safe_indexing is deprecated in version 0.22 and will be removed in version 0.24.\n",
            "  warnings.warn(msg, category=FutureWarning)\n",
            "/usr/local/lib/python3.6/dist-packages/sklearn/utils/deprecation.py:87: FutureWarning: Function safe_indexing is deprecated; safe_indexing is deprecated in version 0.22 and will be removed in version 0.24.\n",
            "  warnings.warn(msg, category=FutureWarning)\n",
            "/usr/local/lib/python3.6/dist-packages/sklearn/utils/deprecation.py:87: FutureWarning: Function safe_indexing is deprecated; safe_indexing is deprecated in version 0.22 and will be removed in version 0.24.\n",
            "  warnings.warn(msg, category=FutureWarning)\n",
            "/usr/local/lib/python3.6/dist-packages/sklearn/utils/deprecation.py:87: FutureWarning: Function safe_indexing is deprecated; safe_indexing is deprecated in version 0.22 and will be removed in version 0.24.\n",
            "  warnings.warn(msg, category=FutureWarning)\n",
            "/usr/local/lib/python3.6/dist-packages/sklearn/utils/deprecation.py:87: FutureWarning: Function safe_indexing is deprecated; safe_indexing is deprecated in version 0.22 and will be removed in version 0.24.\n",
            "  warnings.warn(msg, category=FutureWarning)\n",
            "/usr/local/lib/python3.6/dist-packages/sklearn/utils/deprecation.py:87: FutureWarning: Function safe_indexing is deprecated; safe_indexing is deprecated in version 0.22 and will be removed in version 0.24.\n",
            "  warnings.warn(msg, category=FutureWarning)\n",
            "/usr/local/lib/python3.6/dist-packages/sklearn/utils/deprecation.py:87: FutureWarning: Function safe_indexing is deprecated; safe_indexing is deprecated in version 0.22 and will be removed in version 0.24.\n",
            "  warnings.warn(msg, category=FutureWarning)\n",
            "/usr/local/lib/python3.6/dist-packages/sklearn/utils/deprecation.py:87: FutureWarning: Function safe_indexing is deprecated; safe_indexing is deprecated in version 0.22 and will be removed in version 0.24.\n",
            "  warnings.warn(msg, category=FutureWarning)\n",
            "/usr/local/lib/python3.6/dist-packages/sklearn/utils/deprecation.py:87: FutureWarning: Function safe_indexing is deprecated; safe_indexing is deprecated in version 0.22 and will be removed in version 0.24.\n",
            "  warnings.warn(msg, category=FutureWarning)\n",
            "/usr/local/lib/python3.6/dist-packages/sklearn/utils/deprecation.py:87: FutureWarning: Function safe_indexing is deprecated; safe_indexing is deprecated in version 0.22 and will be removed in version 0.24.\n",
            "  warnings.warn(msg, category=FutureWarning)\n",
            "/usr/local/lib/python3.6/dist-packages/sklearn/utils/deprecation.py:87: FutureWarning: Function safe_indexing is deprecated; safe_indexing is deprecated in version 0.22 and will be removed in version 0.24.\n",
            "  warnings.warn(msg, category=FutureWarning)\n",
            "/usr/local/lib/python3.6/dist-packages/sklearn/utils/deprecation.py:87: FutureWarning: Function safe_indexing is deprecated; safe_indexing is deprecated in version 0.22 and will be removed in version 0.24.\n",
            "  warnings.warn(msg, category=FutureWarning)\n",
            "/usr/local/lib/python3.6/dist-packages/sklearn/utils/deprecation.py:87: FutureWarning: Function safe_indexing is deprecated; safe_indexing is deprecated in version 0.22 and will be removed in version 0.24.\n",
            "  warnings.warn(msg, category=FutureWarning)\n",
            "/usr/local/lib/python3.6/dist-packages/sklearn/utils/deprecation.py:87: FutureWarning: Function safe_indexing is deprecated; safe_indexing is deprecated in version 0.22 and will be removed in version 0.24.\n",
            "  warnings.warn(msg, category=FutureWarning)\n",
            "/usr/local/lib/python3.6/dist-packages/sklearn/utils/deprecation.py:87: FutureWarning: Function safe_indexing is deprecated; safe_indexing is deprecated in version 0.22 and will be removed in version 0.24.\n",
            "  warnings.warn(msg, category=FutureWarning)\n",
            "/usr/local/lib/python3.6/dist-packages/sklearn/utils/deprecation.py:87: FutureWarning: Function safe_indexing is deprecated; safe_indexing is deprecated in version 0.22 and will be removed in version 0.24.\n",
            "  warnings.warn(msg, category=FutureWarning)\n",
            "/usr/local/lib/python3.6/dist-packages/sklearn/utils/deprecation.py:87: FutureWarning: Function safe_indexing is deprecated; safe_indexing is deprecated in version 0.22 and will be removed in version 0.24.\n",
            "  warnings.warn(msg, category=FutureWarning)\n",
            "/usr/local/lib/python3.6/dist-packages/sklearn/utils/deprecation.py:87: FutureWarning: Function safe_indexing is deprecated; safe_indexing is deprecated in version 0.22 and will be removed in version 0.24.\n",
            "  warnings.warn(msg, category=FutureWarning)\n",
            "/usr/local/lib/python3.6/dist-packages/sklearn/utils/deprecation.py:87: FutureWarning: Function safe_indexing is deprecated; safe_indexing is deprecated in version 0.22 and will be removed in version 0.24.\n",
            "  warnings.warn(msg, category=FutureWarning)\n",
            "/usr/local/lib/python3.6/dist-packages/sklearn/utils/deprecation.py:87: FutureWarning: Function safe_indexing is deprecated; safe_indexing is deprecated in version 0.22 and will be removed in version 0.24.\n",
            "  warnings.warn(msg, category=FutureWarning)\n",
            "/usr/local/lib/python3.6/dist-packages/sklearn/utils/deprecation.py:87: FutureWarning: Function safe_indexing is deprecated; safe_indexing is deprecated in version 0.22 and will be removed in version 0.24.\n",
            "  warnings.warn(msg, category=FutureWarning)\n",
            "/usr/local/lib/python3.6/dist-packages/sklearn/utils/deprecation.py:87: FutureWarning: Function safe_indexing is deprecated; safe_indexing is deprecated in version 0.22 and will be removed in version 0.24.\n",
            "  warnings.warn(msg, category=FutureWarning)\n",
            "/usr/local/lib/python3.6/dist-packages/sklearn/utils/deprecation.py:87: FutureWarning: Function safe_indexing is deprecated; safe_indexing is deprecated in version 0.22 and will be removed in version 0.24.\n",
            "  warnings.warn(msg, category=FutureWarning)\n",
            "/usr/local/lib/python3.6/dist-packages/sklearn/utils/deprecation.py:87: FutureWarning: Function safe_indexing is deprecated; safe_indexing is deprecated in version 0.22 and will be removed in version 0.24.\n",
            "  warnings.warn(msg, category=FutureWarning)\n",
            "/usr/local/lib/python3.6/dist-packages/sklearn/utils/deprecation.py:87: FutureWarning: Function safe_indexing is deprecated; safe_indexing is deprecated in version 0.22 and will be removed in version 0.24.\n",
            "  warnings.warn(msg, category=FutureWarning)\n",
            "/usr/local/lib/python3.6/dist-packages/sklearn/utils/deprecation.py:87: FutureWarning: Function safe_indexing is deprecated; safe_indexing is deprecated in version 0.22 and will be removed in version 0.24.\n",
            "  warnings.warn(msg, category=FutureWarning)\n",
            "/usr/local/lib/python3.6/dist-packages/sklearn/utils/deprecation.py:87: FutureWarning: Function safe_indexing is deprecated; safe_indexing is deprecated in version 0.22 and will be removed in version 0.24.\n",
            "  warnings.warn(msg, category=FutureWarning)\n",
            "/usr/local/lib/python3.6/dist-packages/sklearn/utils/deprecation.py:87: FutureWarning: Function safe_indexing is deprecated; safe_indexing is deprecated in version 0.22 and will be removed in version 0.24.\n",
            "  warnings.warn(msg, category=FutureWarning)\n",
            "/usr/local/lib/python3.6/dist-packages/sklearn/utils/deprecation.py:87: FutureWarning: Function safe_indexing is deprecated; safe_indexing is deprecated in version 0.22 and will be removed in version 0.24.\n",
            "  warnings.warn(msg, category=FutureWarning)\n",
            "/usr/local/lib/python3.6/dist-packages/sklearn/utils/deprecation.py:87: FutureWarning: Function safe_indexing is deprecated; safe_indexing is deprecated in version 0.22 and will be removed in version 0.24.\n",
            "  warnings.warn(msg, category=FutureWarning)\n",
            "/usr/local/lib/python3.6/dist-packages/sklearn/utils/deprecation.py:87: FutureWarning: Function safe_indexing is deprecated; safe_indexing is deprecated in version 0.22 and will be removed in version 0.24.\n",
            "  warnings.warn(msg, category=FutureWarning)\n",
            "/usr/local/lib/python3.6/dist-packages/sklearn/utils/deprecation.py:87: FutureWarning: Function safe_indexing is deprecated; safe_indexing is deprecated in version 0.22 and will be removed in version 0.24.\n",
            "  warnings.warn(msg, category=FutureWarning)\n",
            "/usr/local/lib/python3.6/dist-packages/sklearn/utils/deprecation.py:87: FutureWarning: Function safe_indexing is deprecated; safe_indexing is deprecated in version 0.22 and will be removed in version 0.24.\n",
            "  warnings.warn(msg, category=FutureWarning)\n",
            "/usr/local/lib/python3.6/dist-packages/sklearn/utils/deprecation.py:87: FutureWarning: Function safe_indexing is deprecated; safe_indexing is deprecated in version 0.22 and will be removed in version 0.24.\n",
            "  warnings.warn(msg, category=FutureWarning)\n",
            "/usr/local/lib/python3.6/dist-packages/sklearn/utils/deprecation.py:87: FutureWarning: Function safe_indexing is deprecated; safe_indexing is deprecated in version 0.22 and will be removed in version 0.24.\n",
            "  warnings.warn(msg, category=FutureWarning)\n",
            "/usr/local/lib/python3.6/dist-packages/sklearn/utils/deprecation.py:87: FutureWarning: Function safe_indexing is deprecated; safe_indexing is deprecated in version 0.22 and will be removed in version 0.24.\n",
            "  warnings.warn(msg, category=FutureWarning)\n",
            "/usr/local/lib/python3.6/dist-packages/sklearn/utils/deprecation.py:87: FutureWarning: Function safe_indexing is deprecated; safe_indexing is deprecated in version 0.22 and will be removed in version 0.24.\n",
            "  warnings.warn(msg, category=FutureWarning)\n",
            "/usr/local/lib/python3.6/dist-packages/sklearn/utils/deprecation.py:87: FutureWarning: Function safe_indexing is deprecated; safe_indexing is deprecated in version 0.22 and will be removed in version 0.24.\n",
            "  warnings.warn(msg, category=FutureWarning)\n",
            "/usr/local/lib/python3.6/dist-packages/sklearn/utils/deprecation.py:87: FutureWarning: Function safe_indexing is deprecated; safe_indexing is deprecated in version 0.22 and will be removed in version 0.24.\n",
            "  warnings.warn(msg, category=FutureWarning)\n",
            "/usr/local/lib/python3.6/dist-packages/sklearn/utils/deprecation.py:87: FutureWarning: Function safe_indexing is deprecated; safe_indexing is deprecated in version 0.22 and will be removed in version 0.24.\n",
            "  warnings.warn(msg, category=FutureWarning)\n",
            "/usr/local/lib/python3.6/dist-packages/sklearn/utils/deprecation.py:87: FutureWarning: Function safe_indexing is deprecated; safe_indexing is deprecated in version 0.22 and will be removed in version 0.24.\n",
            "  warnings.warn(msg, category=FutureWarning)\n",
            "/usr/local/lib/python3.6/dist-packages/sklearn/utils/deprecation.py:87: FutureWarning: Function safe_indexing is deprecated; safe_indexing is deprecated in version 0.22 and will be removed in version 0.24.\n",
            "  warnings.warn(msg, category=FutureWarning)\n",
            "/usr/local/lib/python3.6/dist-packages/sklearn/utils/deprecation.py:87: FutureWarning: Function safe_indexing is deprecated; safe_indexing is deprecated in version 0.22 and will be removed in version 0.24.\n",
            "  warnings.warn(msg, category=FutureWarning)\n",
            "/usr/local/lib/python3.6/dist-packages/sklearn/utils/deprecation.py:87: FutureWarning: Function safe_indexing is deprecated; safe_indexing is deprecated in version 0.22 and will be removed in version 0.24.\n",
            "  warnings.warn(msg, category=FutureWarning)\n",
            "/usr/local/lib/python3.6/dist-packages/sklearn/utils/deprecation.py:87: FutureWarning: Function safe_indexing is deprecated; safe_indexing is deprecated in version 0.22 and will be removed in version 0.24.\n",
            "  warnings.warn(msg, category=FutureWarning)\n",
            "/usr/local/lib/python3.6/dist-packages/sklearn/utils/deprecation.py:87: FutureWarning: Function safe_indexing is deprecated; safe_indexing is deprecated in version 0.22 and will be removed in version 0.24.\n",
            "  warnings.warn(msg, category=FutureWarning)\n",
            "/usr/local/lib/python3.6/dist-packages/sklearn/utils/deprecation.py:87: FutureWarning: Function safe_indexing is deprecated; safe_indexing is deprecated in version 0.22 and will be removed in version 0.24.\n",
            "  warnings.warn(msg, category=FutureWarning)\n",
            "/usr/local/lib/python3.6/dist-packages/sklearn/utils/deprecation.py:87: FutureWarning: Function safe_indexing is deprecated; safe_indexing is deprecated in version 0.22 and will be removed in version 0.24.\n",
            "  warnings.warn(msg, category=FutureWarning)\n",
            "/usr/local/lib/python3.6/dist-packages/sklearn/utils/deprecation.py:87: FutureWarning: Function safe_indexing is deprecated; safe_indexing is deprecated in version 0.22 and will be removed in version 0.24.\n",
            "  warnings.warn(msg, category=FutureWarning)\n",
            "/usr/local/lib/python3.6/dist-packages/sklearn/utils/deprecation.py:87: FutureWarning: Function safe_indexing is deprecated; safe_indexing is deprecated in version 0.22 and will be removed in version 0.24.\n",
            "  warnings.warn(msg, category=FutureWarning)\n",
            "/usr/local/lib/python3.6/dist-packages/sklearn/utils/deprecation.py:87: FutureWarning: Function safe_indexing is deprecated; safe_indexing is deprecated in version 0.22 and will be removed in version 0.24.\n",
            "  warnings.warn(msg, category=FutureWarning)\n",
            "/usr/local/lib/python3.6/dist-packages/sklearn/utils/deprecation.py:87: FutureWarning: Function safe_indexing is deprecated; safe_indexing is deprecated in version 0.22 and will be removed in version 0.24.\n",
            "  warnings.warn(msg, category=FutureWarning)\n",
            "/usr/local/lib/python3.6/dist-packages/sklearn/utils/deprecation.py:87: FutureWarning: Function safe_indexing is deprecated; safe_indexing is deprecated in version 0.22 and will be removed in version 0.24.\n",
            "  warnings.warn(msg, category=FutureWarning)\n",
            "/usr/local/lib/python3.6/dist-packages/sklearn/utils/deprecation.py:87: FutureWarning: Function safe_indexing is deprecated; safe_indexing is deprecated in version 0.22 and will be removed in version 0.24.\n",
            "  warnings.warn(msg, category=FutureWarning)\n",
            "/usr/local/lib/python3.6/dist-packages/sklearn/utils/deprecation.py:87: FutureWarning: Function safe_indexing is deprecated; safe_indexing is deprecated in version 0.22 and will be removed in version 0.24.\n",
            "  warnings.warn(msg, category=FutureWarning)\n",
            "/usr/local/lib/python3.6/dist-packages/sklearn/utils/deprecation.py:87: FutureWarning: Function safe_indexing is deprecated; safe_indexing is deprecated in version 0.22 and will be removed in version 0.24.\n",
            "  warnings.warn(msg, category=FutureWarning)\n",
            "/usr/local/lib/python3.6/dist-packages/sklearn/utils/deprecation.py:87: FutureWarning: Function safe_indexing is deprecated; safe_indexing is deprecated in version 0.22 and will be removed in version 0.24.\n",
            "  warnings.warn(msg, category=FutureWarning)\n",
            "/usr/local/lib/python3.6/dist-packages/sklearn/utils/deprecation.py:87: FutureWarning: Function safe_indexing is deprecated; safe_indexing is deprecated in version 0.22 and will be removed in version 0.24.\n",
            "  warnings.warn(msg, category=FutureWarning)\n",
            "/usr/local/lib/python3.6/dist-packages/sklearn/utils/deprecation.py:87: FutureWarning: Function safe_indexing is deprecated; safe_indexing is deprecated in version 0.22 and will be removed in version 0.24.\n",
            "  warnings.warn(msg, category=FutureWarning)\n",
            "/usr/local/lib/python3.6/dist-packages/sklearn/utils/deprecation.py:87: FutureWarning: Function safe_indexing is deprecated; safe_indexing is deprecated in version 0.22 and will be removed in version 0.24.\n",
            "  warnings.warn(msg, category=FutureWarning)\n",
            "/usr/local/lib/python3.6/dist-packages/sklearn/utils/deprecation.py:87: FutureWarning: Function safe_indexing is deprecated; safe_indexing is deprecated in version 0.22 and will be removed in version 0.24.\n",
            "  warnings.warn(msg, category=FutureWarning)\n",
            "/usr/local/lib/python3.6/dist-packages/sklearn/utils/deprecation.py:87: FutureWarning: Function safe_indexing is deprecated; safe_indexing is deprecated in version 0.22 and will be removed in version 0.24.\n",
            "  warnings.warn(msg, category=FutureWarning)\n",
            "/usr/local/lib/python3.6/dist-packages/sklearn/utils/deprecation.py:87: FutureWarning: Function safe_indexing is deprecated; safe_indexing is deprecated in version 0.22 and will be removed in version 0.24.\n",
            "  warnings.warn(msg, category=FutureWarning)\n",
            "/usr/local/lib/python3.6/dist-packages/sklearn/utils/deprecation.py:87: FutureWarning: Function safe_indexing is deprecated; safe_indexing is deprecated in version 0.22 and will be removed in version 0.24.\n",
            "  warnings.warn(msg, category=FutureWarning)\n",
            "/usr/local/lib/python3.6/dist-packages/sklearn/utils/deprecation.py:87: FutureWarning: Function safe_indexing is deprecated; safe_indexing is deprecated in version 0.22 and will be removed in version 0.24.\n",
            "  warnings.warn(msg, category=FutureWarning)\n",
            "/usr/local/lib/python3.6/dist-packages/sklearn/utils/deprecation.py:87: FutureWarning: Function safe_indexing is deprecated; safe_indexing is deprecated in version 0.22 and will be removed in version 0.24.\n",
            "  warnings.warn(msg, category=FutureWarning)\n",
            "/usr/local/lib/python3.6/dist-packages/sklearn/utils/deprecation.py:87: FutureWarning: Function safe_indexing is deprecated; safe_indexing is deprecated in version 0.22 and will be removed in version 0.24.\n",
            "  warnings.warn(msg, category=FutureWarning)\n",
            "/usr/local/lib/python3.6/dist-packages/sklearn/utils/deprecation.py:87: FutureWarning: Function safe_indexing is deprecated; safe_indexing is deprecated in version 0.22 and will be removed in version 0.24.\n",
            "  warnings.warn(msg, category=FutureWarning)\n",
            "/usr/local/lib/python3.6/dist-packages/sklearn/utils/deprecation.py:87: FutureWarning: Function safe_indexing is deprecated; safe_indexing is deprecated in version 0.22 and will be removed in version 0.24.\n",
            "  warnings.warn(msg, category=FutureWarning)\n",
            "/usr/local/lib/python3.6/dist-packages/sklearn/utils/deprecation.py:87: FutureWarning: Function safe_indexing is deprecated; safe_indexing is deprecated in version 0.22 and will be removed in version 0.24.\n",
            "  warnings.warn(msg, category=FutureWarning)\n",
            "/usr/local/lib/python3.6/dist-packages/sklearn/utils/deprecation.py:87: FutureWarning: Function safe_indexing is deprecated; safe_indexing is deprecated in version 0.22 and will be removed in version 0.24.\n",
            "  warnings.warn(msg, category=FutureWarning)\n",
            "/usr/local/lib/python3.6/dist-packages/sklearn/utils/deprecation.py:87: FutureWarning: Function safe_indexing is deprecated; safe_indexing is deprecated in version 0.22 and will be removed in version 0.24.\n",
            "  warnings.warn(msg, category=FutureWarning)\n",
            "/usr/local/lib/python3.6/dist-packages/sklearn/utils/deprecation.py:87: FutureWarning: Function safe_indexing is deprecated; safe_indexing is deprecated in version 0.22 and will be removed in version 0.24.\n",
            "  warnings.warn(msg, category=FutureWarning)\n",
            "/usr/local/lib/python3.6/dist-packages/sklearn/utils/deprecation.py:87: FutureWarning: Function safe_indexing is deprecated; safe_indexing is deprecated in version 0.22 and will be removed in version 0.24.\n",
            "  warnings.warn(msg, category=FutureWarning)\n",
            "/usr/local/lib/python3.6/dist-packages/sklearn/utils/deprecation.py:87: FutureWarning: Function safe_indexing is deprecated; safe_indexing is deprecated in version 0.22 and will be removed in version 0.24.\n",
            "  warnings.warn(msg, category=FutureWarning)\n",
            "/usr/local/lib/python3.6/dist-packages/sklearn/utils/deprecation.py:87: FutureWarning: Function safe_indexing is deprecated; safe_indexing is deprecated in version 0.22 and will be removed in version 0.24.\n",
            "  warnings.warn(msg, category=FutureWarning)\n",
            "/usr/local/lib/python3.6/dist-packages/sklearn/utils/deprecation.py:87: FutureWarning: Function safe_indexing is deprecated; safe_indexing is deprecated in version 0.22 and will be removed in version 0.24.\n",
            "  warnings.warn(msg, category=FutureWarning)\n",
            "/usr/local/lib/python3.6/dist-packages/sklearn/utils/deprecation.py:87: FutureWarning: Function safe_indexing is deprecated; safe_indexing is deprecated in version 0.22 and will be removed in version 0.24.\n",
            "  warnings.warn(msg, category=FutureWarning)\n",
            "/usr/local/lib/python3.6/dist-packages/sklearn/utils/deprecation.py:87: FutureWarning: Function safe_indexing is deprecated; safe_indexing is deprecated in version 0.22 and will be removed in version 0.24.\n",
            "  warnings.warn(msg, category=FutureWarning)\n",
            "/usr/local/lib/python3.6/dist-packages/sklearn/utils/deprecation.py:87: FutureWarning: Function safe_indexing is deprecated; safe_indexing is deprecated in version 0.22 and will be removed in version 0.24.\n",
            "  warnings.warn(msg, category=FutureWarning)\n",
            "/usr/local/lib/python3.6/dist-packages/sklearn/utils/deprecation.py:87: FutureWarning: Function safe_indexing is deprecated; safe_indexing is deprecated in version 0.22 and will be removed in version 0.24.\n",
            "  warnings.warn(msg, category=FutureWarning)\n",
            "/usr/local/lib/python3.6/dist-packages/sklearn/utils/deprecation.py:87: FutureWarning: Function safe_indexing is deprecated; safe_indexing is deprecated in version 0.22 and will be removed in version 0.24.\n",
            "  warnings.warn(msg, category=FutureWarning)\n",
            "/usr/local/lib/python3.6/dist-packages/sklearn/utils/deprecation.py:87: FutureWarning: Function safe_indexing is deprecated; safe_indexing is deprecated in version 0.22 and will be removed in version 0.24.\n",
            "  warnings.warn(msg, category=FutureWarning)\n",
            "/usr/local/lib/python3.6/dist-packages/sklearn/utils/deprecation.py:87: FutureWarning: Function safe_indexing is deprecated; safe_indexing is deprecated in version 0.22 and will be removed in version 0.24.\n",
            "  warnings.warn(msg, category=FutureWarning)\n",
            "/usr/local/lib/python3.6/dist-packages/sklearn/utils/deprecation.py:87: FutureWarning: Function safe_indexing is deprecated; safe_indexing is deprecated in version 0.22 and will be removed in version 0.24.\n",
            "  warnings.warn(msg, category=FutureWarning)\n",
            "/usr/local/lib/python3.6/dist-packages/sklearn/utils/deprecation.py:87: FutureWarning: Function safe_indexing is deprecated; safe_indexing is deprecated in version 0.22 and will be removed in version 0.24.\n",
            "  warnings.warn(msg, category=FutureWarning)\n",
            "/usr/local/lib/python3.6/dist-packages/sklearn/utils/deprecation.py:87: FutureWarning: Function safe_indexing is deprecated; safe_indexing is deprecated in version 0.22 and will be removed in version 0.24.\n",
            "  warnings.warn(msg, category=FutureWarning)\n",
            "/usr/local/lib/python3.6/dist-packages/sklearn/utils/deprecation.py:87: FutureWarning: Function safe_indexing is deprecated; safe_indexing is deprecated in version 0.22 and will be removed in version 0.24.\n",
            "  warnings.warn(msg, category=FutureWarning)\n",
            "/usr/local/lib/python3.6/dist-packages/sklearn/utils/deprecation.py:87: FutureWarning: Function safe_indexing is deprecated; safe_indexing is deprecated in version 0.22 and will be removed in version 0.24.\n",
            "  warnings.warn(msg, category=FutureWarning)\n",
            "/usr/local/lib/python3.6/dist-packages/sklearn/utils/deprecation.py:87: FutureWarning: Function safe_indexing is deprecated; safe_indexing is deprecated in version 0.22 and will be removed in version 0.24.\n",
            "  warnings.warn(msg, category=FutureWarning)\n",
            "/usr/local/lib/python3.6/dist-packages/sklearn/utils/deprecation.py:87: FutureWarning: Function safe_indexing is deprecated; safe_indexing is deprecated in version 0.22 and will be removed in version 0.24.\n",
            "  warnings.warn(msg, category=FutureWarning)\n",
            "/usr/local/lib/python3.6/dist-packages/sklearn/utils/deprecation.py:87: FutureWarning: Function safe_indexing is deprecated; safe_indexing is deprecated in version 0.22 and will be removed in version 0.24.\n",
            "  warnings.warn(msg, category=FutureWarning)\n",
            "/usr/local/lib/python3.6/dist-packages/sklearn/utils/deprecation.py:87: FutureWarning: Function safe_indexing is deprecated; safe_indexing is deprecated in version 0.22 and will be removed in version 0.24.\n",
            "  warnings.warn(msg, category=FutureWarning)\n",
            "/usr/local/lib/python3.6/dist-packages/sklearn/utils/deprecation.py:87: FutureWarning: Function safe_indexing is deprecated; safe_indexing is deprecated in version 0.22 and will be removed in version 0.24.\n",
            "  warnings.warn(msg, category=FutureWarning)\n",
            "/usr/local/lib/python3.6/dist-packages/sklearn/utils/deprecation.py:87: FutureWarning: Function safe_indexing is deprecated; safe_indexing is deprecated in version 0.22 and will be removed in version 0.24.\n",
            "  warnings.warn(msg, category=FutureWarning)\n",
            "/usr/local/lib/python3.6/dist-packages/sklearn/utils/deprecation.py:87: FutureWarning: Function safe_indexing is deprecated; safe_indexing is deprecated in version 0.22 and will be removed in version 0.24.\n",
            "  warnings.warn(msg, category=FutureWarning)\n",
            "/usr/local/lib/python3.6/dist-packages/sklearn/utils/deprecation.py:87: FutureWarning: Function safe_indexing is deprecated; safe_indexing is deprecated in version 0.22 and will be removed in version 0.24.\n",
            "  warnings.warn(msg, category=FutureWarning)\n",
            "/usr/local/lib/python3.6/dist-packages/sklearn/utils/deprecation.py:87: FutureWarning: Function safe_indexing is deprecated; safe_indexing is deprecated in version 0.22 and will be removed in version 0.24.\n",
            "  warnings.warn(msg, category=FutureWarning)\n",
            "/usr/local/lib/python3.6/dist-packages/sklearn/utils/deprecation.py:87: FutureWarning: Function safe_indexing is deprecated; safe_indexing is deprecated in version 0.22 and will be removed in version 0.24.\n",
            "  warnings.warn(msg, category=FutureWarning)\n",
            "/usr/local/lib/python3.6/dist-packages/sklearn/utils/deprecation.py:87: FutureWarning: Function safe_indexing is deprecated; safe_indexing is deprecated in version 0.22 and will be removed in version 0.24.\n",
            "  warnings.warn(msg, category=FutureWarning)\n",
            "/usr/local/lib/python3.6/dist-packages/sklearn/utils/deprecation.py:87: FutureWarning: Function safe_indexing is deprecated; safe_indexing is deprecated in version 0.22 and will be removed in version 0.24.\n",
            "  warnings.warn(msg, category=FutureWarning)\n",
            "/usr/local/lib/python3.6/dist-packages/sklearn/utils/deprecation.py:87: FutureWarning: Function safe_indexing is deprecated; safe_indexing is deprecated in version 0.22 and will be removed in version 0.24.\n",
            "  warnings.warn(msg, category=FutureWarning)\n",
            "/usr/local/lib/python3.6/dist-packages/sklearn/utils/deprecation.py:87: FutureWarning: Function safe_indexing is deprecated; safe_indexing is deprecated in version 0.22 and will be removed in version 0.24.\n",
            "  warnings.warn(msg, category=FutureWarning)\n",
            "/usr/local/lib/python3.6/dist-packages/sklearn/utils/deprecation.py:87: FutureWarning: Function safe_indexing is deprecated; safe_indexing is deprecated in version 0.22 and will be removed in version 0.24.\n",
            "  warnings.warn(msg, category=FutureWarning)\n",
            "/usr/local/lib/python3.6/dist-packages/sklearn/utils/deprecation.py:87: FutureWarning: Function safe_indexing is deprecated; safe_indexing is deprecated in version 0.22 and will be removed in version 0.24.\n",
            "  warnings.warn(msg, category=FutureWarning)\n",
            "/usr/local/lib/python3.6/dist-packages/sklearn/utils/deprecation.py:87: FutureWarning: Function safe_indexing is deprecated; safe_indexing is deprecated in version 0.22 and will be removed in version 0.24.\n",
            "  warnings.warn(msg, category=FutureWarning)\n",
            "/usr/local/lib/python3.6/dist-packages/sklearn/utils/deprecation.py:87: FutureWarning: Function safe_indexing is deprecated; safe_indexing is deprecated in version 0.22 and will be removed in version 0.24.\n",
            "  warnings.warn(msg, category=FutureWarning)\n",
            "/usr/local/lib/python3.6/dist-packages/sklearn/utils/deprecation.py:87: FutureWarning: Function safe_indexing is deprecated; safe_indexing is deprecated in version 0.22 and will be removed in version 0.24.\n",
            "  warnings.warn(msg, category=FutureWarning)\n",
            "/usr/local/lib/python3.6/dist-packages/sklearn/utils/deprecation.py:87: FutureWarning: Function safe_indexing is deprecated; safe_indexing is deprecated in version 0.22 and will be removed in version 0.24.\n",
            "  warnings.warn(msg, category=FutureWarning)\n",
            "/usr/local/lib/python3.6/dist-packages/sklearn/utils/deprecation.py:87: FutureWarning: Function safe_indexing is deprecated; safe_indexing is deprecated in version 0.22 and will be removed in version 0.24.\n",
            "  warnings.warn(msg, category=FutureWarning)\n",
            "/usr/local/lib/python3.6/dist-packages/sklearn/utils/deprecation.py:87: FutureWarning: Function safe_indexing is deprecated; safe_indexing is deprecated in version 0.22 and will be removed in version 0.24.\n",
            "  warnings.warn(msg, category=FutureWarning)\n",
            "/usr/local/lib/python3.6/dist-packages/sklearn/utils/deprecation.py:87: FutureWarning: Function safe_indexing is deprecated; safe_indexing is deprecated in version 0.22 and will be removed in version 0.24.\n",
            "  warnings.warn(msg, category=FutureWarning)\n",
            "/usr/local/lib/python3.6/dist-packages/sklearn/utils/deprecation.py:87: FutureWarning: Function safe_indexing is deprecated; safe_indexing is deprecated in version 0.22 and will be removed in version 0.24.\n",
            "  warnings.warn(msg, category=FutureWarning)\n",
            "/usr/local/lib/python3.6/dist-packages/sklearn/utils/deprecation.py:87: FutureWarning: Function safe_indexing is deprecated; safe_indexing is deprecated in version 0.22 and will be removed in version 0.24.\n",
            "  warnings.warn(msg, category=FutureWarning)\n",
            "/usr/local/lib/python3.6/dist-packages/sklearn/utils/deprecation.py:87: FutureWarning: Function safe_indexing is deprecated; safe_indexing is deprecated in version 0.22 and will be removed in version 0.24.\n",
            "  warnings.warn(msg, category=FutureWarning)\n",
            "/usr/local/lib/python3.6/dist-packages/sklearn/utils/deprecation.py:87: FutureWarning: Function safe_indexing is deprecated; safe_indexing is deprecated in version 0.22 and will be removed in version 0.24.\n",
            "  warnings.warn(msg, category=FutureWarning)\n",
            "/usr/local/lib/python3.6/dist-packages/sklearn/utils/deprecation.py:87: FutureWarning: Function safe_indexing is deprecated; safe_indexing is deprecated in version 0.22 and will be removed in version 0.24.\n",
            "  warnings.warn(msg, category=FutureWarning)\n",
            "/usr/local/lib/python3.6/dist-packages/sklearn/utils/deprecation.py:87: FutureWarning: Function safe_indexing is deprecated; safe_indexing is deprecated in version 0.22 and will be removed in version 0.24.\n",
            "  warnings.warn(msg, category=FutureWarning)\n",
            "/usr/local/lib/python3.6/dist-packages/sklearn/utils/deprecation.py:87: FutureWarning: Function safe_indexing is deprecated; safe_indexing is deprecated in version 0.22 and will be removed in version 0.24.\n",
            "  warnings.warn(msg, category=FutureWarning)\n",
            "/usr/local/lib/python3.6/dist-packages/sklearn/utils/deprecation.py:87: FutureWarning: Function safe_indexing is deprecated; safe_indexing is deprecated in version 0.22 and will be removed in version 0.24.\n",
            "  warnings.warn(msg, category=FutureWarning)\n",
            "/usr/local/lib/python3.6/dist-packages/sklearn/utils/deprecation.py:87: FutureWarning: Function safe_indexing is deprecated; safe_indexing is deprecated in version 0.22 and will be removed in version 0.24.\n",
            "  warnings.warn(msg, category=FutureWarning)\n",
            "/usr/local/lib/python3.6/dist-packages/sklearn/utils/deprecation.py:87: FutureWarning: Function safe_indexing is deprecated; safe_indexing is deprecated in version 0.22 and will be removed in version 0.24.\n",
            "  warnings.warn(msg, category=FutureWarning)\n",
            "/usr/local/lib/python3.6/dist-packages/sklearn/utils/deprecation.py:87: FutureWarning: Function safe_indexing is deprecated; safe_indexing is deprecated in version 0.22 and will be removed in version 0.24.\n",
            "  warnings.warn(msg, category=FutureWarning)\n",
            "/usr/local/lib/python3.6/dist-packages/sklearn/utils/deprecation.py:87: FutureWarning: Function safe_indexing is deprecated; safe_indexing is deprecated in version 0.22 and will be removed in version 0.24.\n",
            "  warnings.warn(msg, category=FutureWarning)\n",
            "/usr/local/lib/python3.6/dist-packages/sklearn/utils/deprecation.py:87: FutureWarning: Function safe_indexing is deprecated; safe_indexing is deprecated in version 0.22 and will be removed in version 0.24.\n",
            "  warnings.warn(msg, category=FutureWarning)\n",
            "/usr/local/lib/python3.6/dist-packages/sklearn/utils/deprecation.py:87: FutureWarning: Function safe_indexing is deprecated; safe_indexing is deprecated in version 0.22 and will be removed in version 0.24.\n",
            "  warnings.warn(msg, category=FutureWarning)\n",
            "/usr/local/lib/python3.6/dist-packages/sklearn/utils/deprecation.py:87: FutureWarning: Function safe_indexing is deprecated; safe_indexing is deprecated in version 0.22 and will be removed in version 0.24.\n",
            "  warnings.warn(msg, category=FutureWarning)\n",
            "/usr/local/lib/python3.6/dist-packages/sklearn/utils/deprecation.py:87: FutureWarning: Function safe_indexing is deprecated; safe_indexing is deprecated in version 0.22 and will be removed in version 0.24.\n",
            "  warnings.warn(msg, category=FutureWarning)\n",
            "/usr/local/lib/python3.6/dist-packages/sklearn/utils/deprecation.py:87: FutureWarning: Function safe_indexing is deprecated; safe_indexing is deprecated in version 0.22 and will be removed in version 0.24.\n",
            "  warnings.warn(msg, category=FutureWarning)\n",
            "/usr/local/lib/python3.6/dist-packages/sklearn/utils/deprecation.py:87: FutureWarning: Function safe_indexing is deprecated; safe_indexing is deprecated in version 0.22 and will be removed in version 0.24.\n",
            "  warnings.warn(msg, category=FutureWarning)\n",
            "/usr/local/lib/python3.6/dist-packages/sklearn/utils/deprecation.py:87: FutureWarning: Function safe_indexing is deprecated; safe_indexing is deprecated in version 0.22 and will be removed in version 0.24.\n",
            "  warnings.warn(msg, category=FutureWarning)\n",
            "/usr/local/lib/python3.6/dist-packages/sklearn/utils/deprecation.py:87: FutureWarning: Function safe_indexing is deprecated; safe_indexing is deprecated in version 0.22 and will be removed in version 0.24.\n",
            "  warnings.warn(msg, category=FutureWarning)\n",
            "/usr/local/lib/python3.6/dist-packages/sklearn/utils/deprecation.py:87: FutureWarning: Function safe_indexing is deprecated; safe_indexing is deprecated in version 0.22 and will be removed in version 0.24.\n",
            "  warnings.warn(msg, category=FutureWarning)\n",
            "/usr/local/lib/python3.6/dist-packages/sklearn/utils/deprecation.py:87: FutureWarning: Function safe_indexing is deprecated; safe_indexing is deprecated in version 0.22 and will be removed in version 0.24.\n",
            "  warnings.warn(msg, category=FutureWarning)\n",
            "/usr/local/lib/python3.6/dist-packages/sklearn/utils/deprecation.py:87: FutureWarning: Function safe_indexing is deprecated; safe_indexing is deprecated in version 0.22 and will be removed in version 0.24.\n",
            "  warnings.warn(msg, category=FutureWarning)\n",
            "/usr/local/lib/python3.6/dist-packages/sklearn/utils/deprecation.py:87: FutureWarning: Function safe_indexing is deprecated; safe_indexing is deprecated in version 0.22 and will be removed in version 0.24.\n",
            "  warnings.warn(msg, category=FutureWarning)\n",
            "/usr/local/lib/python3.6/dist-packages/sklearn/utils/deprecation.py:87: FutureWarning: Function safe_indexing is deprecated; safe_indexing is deprecated in version 0.22 and will be removed in version 0.24.\n",
            "  warnings.warn(msg, category=FutureWarning)\n",
            "/usr/local/lib/python3.6/dist-packages/sklearn/utils/deprecation.py:87: FutureWarning: Function safe_indexing is deprecated; safe_indexing is deprecated in version 0.22 and will be removed in version 0.24.\n",
            "  warnings.warn(msg, category=FutureWarning)\n",
            "/usr/local/lib/python3.6/dist-packages/sklearn/utils/deprecation.py:87: FutureWarning: Function safe_indexing is deprecated; safe_indexing is deprecated in version 0.22 and will be removed in version 0.24.\n",
            "  warnings.warn(msg, category=FutureWarning)\n",
            "/usr/local/lib/python3.6/dist-packages/sklearn/utils/deprecation.py:87: FutureWarning: Function safe_indexing is deprecated; safe_indexing is deprecated in version 0.22 and will be removed in version 0.24.\n",
            "  warnings.warn(msg, category=FutureWarning)\n",
            "/usr/local/lib/python3.6/dist-packages/sklearn/utils/deprecation.py:87: FutureWarning: Function safe_indexing is deprecated; safe_indexing is deprecated in version 0.22 and will be removed in version 0.24.\n",
            "  warnings.warn(msg, category=FutureWarning)\n",
            "/usr/local/lib/python3.6/dist-packages/sklearn/utils/deprecation.py:87: FutureWarning: Function safe_indexing is deprecated; safe_indexing is deprecated in version 0.22 and will be removed in version 0.24.\n",
            "  warnings.warn(msg, category=FutureWarning)\n",
            "/usr/local/lib/python3.6/dist-packages/sklearn/utils/deprecation.py:87: FutureWarning: Function safe_indexing is deprecated; safe_indexing is deprecated in version 0.22 and will be removed in version 0.24.\n",
            "  warnings.warn(msg, category=FutureWarning)\n",
            "/usr/local/lib/python3.6/dist-packages/sklearn/utils/deprecation.py:87: FutureWarning: Function safe_indexing is deprecated; safe_indexing is deprecated in version 0.22 and will be removed in version 0.24.\n",
            "  warnings.warn(msg, category=FutureWarning)\n",
            "/usr/local/lib/python3.6/dist-packages/sklearn/utils/deprecation.py:87: FutureWarning: Function safe_indexing is deprecated; safe_indexing is deprecated in version 0.22 and will be removed in version 0.24.\n",
            "  warnings.warn(msg, category=FutureWarning)\n",
            "/usr/local/lib/python3.6/dist-packages/sklearn/utils/deprecation.py:87: FutureWarning: Function safe_indexing is deprecated; safe_indexing is deprecated in version 0.22 and will be removed in version 0.24.\n",
            "  warnings.warn(msg, category=FutureWarning)\n",
            "/usr/local/lib/python3.6/dist-packages/sklearn/utils/deprecation.py:87: FutureWarning: Function safe_indexing is deprecated; safe_indexing is deprecated in version 0.22 and will be removed in version 0.24.\n",
            "  warnings.warn(msg, category=FutureWarning)\n",
            "/usr/local/lib/python3.6/dist-packages/sklearn/utils/deprecation.py:87: FutureWarning: Function safe_indexing is deprecated; safe_indexing is deprecated in version 0.22 and will be removed in version 0.24.\n",
            "  warnings.warn(msg, category=FutureWarning)\n",
            "/usr/local/lib/python3.6/dist-packages/sklearn/utils/deprecation.py:87: FutureWarning: Function safe_indexing is deprecated; safe_indexing is deprecated in version 0.22 and will be removed in version 0.24.\n",
            "  warnings.warn(msg, category=FutureWarning)\n",
            "/usr/local/lib/python3.6/dist-packages/sklearn/utils/deprecation.py:87: FutureWarning: Function safe_indexing is deprecated; safe_indexing is deprecated in version 0.22 and will be removed in version 0.24.\n",
            "  warnings.warn(msg, category=FutureWarning)\n",
            "/usr/local/lib/python3.6/dist-packages/sklearn/utils/deprecation.py:87: FutureWarning: Function safe_indexing is deprecated; safe_indexing is deprecated in version 0.22 and will be removed in version 0.24.\n",
            "  warnings.warn(msg, category=FutureWarning)\n",
            "/usr/local/lib/python3.6/dist-packages/sklearn/utils/deprecation.py:87: FutureWarning: Function safe_indexing is deprecated; safe_indexing is deprecated in version 0.22 and will be removed in version 0.24.\n",
            "  warnings.warn(msg, category=FutureWarning)\n",
            "/usr/local/lib/python3.6/dist-packages/sklearn/utils/deprecation.py:87: FutureWarning: Function safe_indexing is deprecated; safe_indexing is deprecated in version 0.22 and will be removed in version 0.24.\n",
            "  warnings.warn(msg, category=FutureWarning)\n",
            "/usr/local/lib/python3.6/dist-packages/sklearn/utils/deprecation.py:87: FutureWarning: Function safe_indexing is deprecated; safe_indexing is deprecated in version 0.22 and will be removed in version 0.24.\n",
            "  warnings.warn(msg, category=FutureWarning)\n",
            "/usr/local/lib/python3.6/dist-packages/sklearn/utils/deprecation.py:87: FutureWarning: Function safe_indexing is deprecated; safe_indexing is deprecated in version 0.22 and will be removed in version 0.24.\n",
            "  warnings.warn(msg, category=FutureWarning)\n",
            "/usr/local/lib/python3.6/dist-packages/sklearn/utils/deprecation.py:87: FutureWarning: Function safe_indexing is deprecated; safe_indexing is deprecated in version 0.22 and will be removed in version 0.24.\n",
            "  warnings.warn(msg, category=FutureWarning)\n",
            "/usr/local/lib/python3.6/dist-packages/sklearn/utils/deprecation.py:87: FutureWarning: Function safe_indexing is deprecated; safe_indexing is deprecated in version 0.22 and will be removed in version 0.24.\n",
            "  warnings.warn(msg, category=FutureWarning)\n",
            "/usr/local/lib/python3.6/dist-packages/sklearn/utils/deprecation.py:87: FutureWarning: Function safe_indexing is deprecated; safe_indexing is deprecated in version 0.22 and will be removed in version 0.24.\n",
            "  warnings.warn(msg, category=FutureWarning)\n",
            "/usr/local/lib/python3.6/dist-packages/sklearn/utils/deprecation.py:87: FutureWarning: Function safe_indexing is deprecated; safe_indexing is deprecated in version 0.22 and will be removed in version 0.24.\n",
            "  warnings.warn(msg, category=FutureWarning)\n",
            "/usr/local/lib/python3.6/dist-packages/sklearn/utils/deprecation.py:87: FutureWarning: Function safe_indexing is deprecated; safe_indexing is deprecated in version 0.22 and will be removed in version 0.24.\n",
            "  warnings.warn(msg, category=FutureWarning)\n",
            "/usr/local/lib/python3.6/dist-packages/sklearn/utils/deprecation.py:87: FutureWarning: Function safe_indexing is deprecated; safe_indexing is deprecated in version 0.22 and will be removed in version 0.24.\n",
            "  warnings.warn(msg, category=FutureWarning)\n",
            "/usr/local/lib/python3.6/dist-packages/sklearn/utils/deprecation.py:87: FutureWarning: Function safe_indexing is deprecated; safe_indexing is deprecated in version 0.22 and will be removed in version 0.24.\n",
            "  warnings.warn(msg, category=FutureWarning)\n",
            "/usr/local/lib/python3.6/dist-packages/sklearn/utils/deprecation.py:87: FutureWarning: Function safe_indexing is deprecated; safe_indexing is deprecated in version 0.22 and will be removed in version 0.24.\n",
            "  warnings.warn(msg, category=FutureWarning)\n",
            "/usr/local/lib/python3.6/dist-packages/sklearn/utils/deprecation.py:87: FutureWarning: Function safe_indexing is deprecated; safe_indexing is deprecated in version 0.22 and will be removed in version 0.24.\n",
            "  warnings.warn(msg, category=FutureWarning)\n",
            "/usr/local/lib/python3.6/dist-packages/sklearn/utils/deprecation.py:87: FutureWarning: Function safe_indexing is deprecated; safe_indexing is deprecated in version 0.22 and will be removed in version 0.24.\n",
            "  warnings.warn(msg, category=FutureWarning)\n",
            "/usr/local/lib/python3.6/dist-packages/sklearn/utils/deprecation.py:87: FutureWarning: Function safe_indexing is deprecated; safe_indexing is deprecated in version 0.22 and will be removed in version 0.24.\n",
            "  warnings.warn(msg, category=FutureWarning)\n",
            "/usr/local/lib/python3.6/dist-packages/sklearn/utils/deprecation.py:87: FutureWarning: Function safe_indexing is deprecated; safe_indexing is deprecated in version 0.22 and will be removed in version 0.24.\n",
            "  warnings.warn(msg, category=FutureWarning)\n",
            "/usr/local/lib/python3.6/dist-packages/sklearn/utils/deprecation.py:87: FutureWarning: Function safe_indexing is deprecated; safe_indexing is deprecated in version 0.22 and will be removed in version 0.24.\n",
            "  warnings.warn(msg, category=FutureWarning)\n",
            "/usr/local/lib/python3.6/dist-packages/sklearn/utils/deprecation.py:87: FutureWarning: Function safe_indexing is deprecated; safe_indexing is deprecated in version 0.22 and will be removed in version 0.24.\n",
            "  warnings.warn(msg, category=FutureWarning)\n",
            "/usr/local/lib/python3.6/dist-packages/sklearn/utils/deprecation.py:87: FutureWarning: Function safe_indexing is deprecated; safe_indexing is deprecated in version 0.22 and will be removed in version 0.24.\n",
            "  warnings.warn(msg, category=FutureWarning)\n",
            "/usr/local/lib/python3.6/dist-packages/sklearn/utils/deprecation.py:87: FutureWarning: Function safe_indexing is deprecated; safe_indexing is deprecated in version 0.22 and will be removed in version 0.24.\n",
            "  warnings.warn(msg, category=FutureWarning)\n",
            "/usr/local/lib/python3.6/dist-packages/sklearn/utils/deprecation.py:87: FutureWarning: Function safe_indexing is deprecated; safe_indexing is deprecated in version 0.22 and will be removed in version 0.24.\n",
            "  warnings.warn(msg, category=FutureWarning)\n",
            "/usr/local/lib/python3.6/dist-packages/sklearn/utils/deprecation.py:87: FutureWarning: Function safe_indexing is deprecated; safe_indexing is deprecated in version 0.22 and will be removed in version 0.24.\n",
            "  warnings.warn(msg, category=FutureWarning)\n",
            "/usr/local/lib/python3.6/dist-packages/sklearn/utils/deprecation.py:87: FutureWarning: Function safe_indexing is deprecated; safe_indexing is deprecated in version 0.22 and will be removed in version 0.24.\n",
            "  warnings.warn(msg, category=FutureWarning)\n",
            "/usr/local/lib/python3.6/dist-packages/sklearn/utils/deprecation.py:87: FutureWarning: Function safe_indexing is deprecated; safe_indexing is deprecated in version 0.22 and will be removed in version 0.24.\n",
            "  warnings.warn(msg, category=FutureWarning)\n",
            "/usr/local/lib/python3.6/dist-packages/sklearn/utils/deprecation.py:87: FutureWarning: Function safe_indexing is deprecated; safe_indexing is deprecated in version 0.22 and will be removed in version 0.24.\n",
            "  warnings.warn(msg, category=FutureWarning)\n",
            "/usr/local/lib/python3.6/dist-packages/sklearn/utils/deprecation.py:87: FutureWarning: Function safe_indexing is deprecated; safe_indexing is deprecated in version 0.22 and will be removed in version 0.24.\n",
            "  warnings.warn(msg, category=FutureWarning)\n",
            "/usr/local/lib/python3.6/dist-packages/sklearn/utils/deprecation.py:87: FutureWarning: Function safe_indexing is deprecated; safe_indexing is deprecated in version 0.22 and will be removed in version 0.24.\n",
            "  warnings.warn(msg, category=FutureWarning)\n",
            "/usr/local/lib/python3.6/dist-packages/sklearn/utils/deprecation.py:87: FutureWarning: Function safe_indexing is deprecated; safe_indexing is deprecated in version 0.22 and will be removed in version 0.24.\n",
            "  warnings.warn(msg, category=FutureWarning)\n",
            "/usr/local/lib/python3.6/dist-packages/sklearn/utils/deprecation.py:87: FutureWarning: Function safe_indexing is deprecated; safe_indexing is deprecated in version 0.22 and will be removed in version 0.24.\n",
            "  warnings.warn(msg, category=FutureWarning)\n",
            "/usr/local/lib/python3.6/dist-packages/sklearn/utils/deprecation.py:87: FutureWarning: Function safe_indexing is deprecated; safe_indexing is deprecated in version 0.22 and will be removed in version 0.24.\n",
            "  warnings.warn(msg, category=FutureWarning)\n",
            "/usr/local/lib/python3.6/dist-packages/sklearn/utils/deprecation.py:87: FutureWarning: Function safe_indexing is deprecated; safe_indexing is deprecated in version 0.22 and will be removed in version 0.24.\n",
            "  warnings.warn(msg, category=FutureWarning)\n",
            "/usr/local/lib/python3.6/dist-packages/sklearn/utils/deprecation.py:87: FutureWarning: Function safe_indexing is deprecated; safe_indexing is deprecated in version 0.22 and will be removed in version 0.24.\n",
            "  warnings.warn(msg, category=FutureWarning)\n",
            "/usr/local/lib/python3.6/dist-packages/sklearn/utils/deprecation.py:87: FutureWarning: Function safe_indexing is deprecated; safe_indexing is deprecated in version 0.22 and will be removed in version 0.24.\n",
            "  warnings.warn(msg, category=FutureWarning)\n",
            "/usr/local/lib/python3.6/dist-packages/sklearn/utils/deprecation.py:87: FutureWarning: Function safe_indexing is deprecated; safe_indexing is deprecated in version 0.22 and will be removed in version 0.24.\n",
            "  warnings.warn(msg, category=FutureWarning)\n",
            "/usr/local/lib/python3.6/dist-packages/sklearn/utils/deprecation.py:87: FutureWarning: Function safe_indexing is deprecated; safe_indexing is deprecated in version 0.22 and will be removed in version 0.24.\n",
            "  warnings.warn(msg, category=FutureWarning)\n",
            "/usr/local/lib/python3.6/dist-packages/sklearn/utils/deprecation.py:87: FutureWarning: Function safe_indexing is deprecated; safe_indexing is deprecated in version 0.22 and will be removed in version 0.24.\n",
            "  warnings.warn(msg, category=FutureWarning)\n",
            "/usr/local/lib/python3.6/dist-packages/sklearn/utils/deprecation.py:87: FutureWarning: Function safe_indexing is deprecated; safe_indexing is deprecated in version 0.22 and will be removed in version 0.24.\n",
            "  warnings.warn(msg, category=FutureWarning)\n",
            "/usr/local/lib/python3.6/dist-packages/sklearn/utils/deprecation.py:87: FutureWarning: Function safe_indexing is deprecated; safe_indexing is deprecated in version 0.22 and will be removed in version 0.24.\n",
            "  warnings.warn(msg, category=FutureWarning)\n",
            "/usr/local/lib/python3.6/dist-packages/sklearn/utils/deprecation.py:87: FutureWarning: Function safe_indexing is deprecated; safe_indexing is deprecated in version 0.22 and will be removed in version 0.24.\n",
            "  warnings.warn(msg, category=FutureWarning)\n",
            "/usr/local/lib/python3.6/dist-packages/sklearn/utils/deprecation.py:87: FutureWarning: Function safe_indexing is deprecated; safe_indexing is deprecated in version 0.22 and will be removed in version 0.24.\n",
            "  warnings.warn(msg, category=FutureWarning)\n",
            "/usr/local/lib/python3.6/dist-packages/sklearn/utils/deprecation.py:87: FutureWarning: Function safe_indexing is deprecated; safe_indexing is deprecated in version 0.22 and will be removed in version 0.24.\n",
            "  warnings.warn(msg, category=FutureWarning)\n",
            "/usr/local/lib/python3.6/dist-packages/sklearn/utils/deprecation.py:87: FutureWarning: Function safe_indexing is deprecated; safe_indexing is deprecated in version 0.22 and will be removed in version 0.24.\n",
            "  warnings.warn(msg, category=FutureWarning)\n",
            "/usr/local/lib/python3.6/dist-packages/sklearn/utils/deprecation.py:87: FutureWarning: Function safe_indexing is deprecated; safe_indexing is deprecated in version 0.22 and will be removed in version 0.24.\n",
            "  warnings.warn(msg, category=FutureWarning)\n",
            "/usr/local/lib/python3.6/dist-packages/sklearn/utils/deprecation.py:87: FutureWarning: Function safe_indexing is deprecated; safe_indexing is deprecated in version 0.22 and will be removed in version 0.24.\n",
            "  warnings.warn(msg, category=FutureWarning)\n",
            "/usr/local/lib/python3.6/dist-packages/sklearn/utils/deprecation.py:87: FutureWarning: Function safe_indexing is deprecated; safe_indexing is deprecated in version 0.22 and will be removed in version 0.24.\n",
            "  warnings.warn(msg, category=FutureWarning)\n",
            "/usr/local/lib/python3.6/dist-packages/sklearn/utils/deprecation.py:87: FutureWarning: Function safe_indexing is deprecated; safe_indexing is deprecated in version 0.22 and will be removed in version 0.24.\n",
            "  warnings.warn(msg, category=FutureWarning)\n",
            "/usr/local/lib/python3.6/dist-packages/sklearn/utils/deprecation.py:87: FutureWarning: Function safe_indexing is deprecated; safe_indexing is deprecated in version 0.22 and will be removed in version 0.24.\n",
            "  warnings.warn(msg, category=FutureWarning)\n",
            "/usr/local/lib/python3.6/dist-packages/sklearn/utils/deprecation.py:87: FutureWarning: Function safe_indexing is deprecated; safe_indexing is deprecated in version 0.22 and will be removed in version 0.24.\n",
            "  warnings.warn(msg, category=FutureWarning)\n",
            "/usr/local/lib/python3.6/dist-packages/sklearn/utils/deprecation.py:87: FutureWarning: Function safe_indexing is deprecated; safe_indexing is deprecated in version 0.22 and will be removed in version 0.24.\n",
            "  warnings.warn(msg, category=FutureWarning)\n",
            "/usr/local/lib/python3.6/dist-packages/sklearn/utils/deprecation.py:87: FutureWarning: Function safe_indexing is deprecated; safe_indexing is deprecated in version 0.22 and will be removed in version 0.24.\n",
            "  warnings.warn(msg, category=FutureWarning)\n",
            "/usr/local/lib/python3.6/dist-packages/sklearn/utils/deprecation.py:87: FutureWarning: Function safe_indexing is deprecated; safe_indexing is deprecated in version 0.22 and will be removed in version 0.24.\n",
            "  warnings.warn(msg, category=FutureWarning)\n",
            "/usr/local/lib/python3.6/dist-packages/sklearn/utils/deprecation.py:87: FutureWarning: Function safe_indexing is deprecated; safe_indexing is deprecated in version 0.22 and will be removed in version 0.24.\n",
            "  warnings.warn(msg, category=FutureWarning)\n",
            "/usr/local/lib/python3.6/dist-packages/sklearn/utils/deprecation.py:87: FutureWarning: Function safe_indexing is deprecated; safe_indexing is deprecated in version 0.22 and will be removed in version 0.24.\n",
            "  warnings.warn(msg, category=FutureWarning)\n",
            "/usr/local/lib/python3.6/dist-packages/sklearn/utils/deprecation.py:87: FutureWarning: Function safe_indexing is deprecated; safe_indexing is deprecated in version 0.22 and will be removed in version 0.24.\n",
            "  warnings.warn(msg, category=FutureWarning)\n",
            "/usr/local/lib/python3.6/dist-packages/sklearn/utils/deprecation.py:87: FutureWarning: Function safe_indexing is deprecated; safe_indexing is deprecated in version 0.22 and will be removed in version 0.24.\n",
            "  warnings.warn(msg, category=FutureWarning)\n",
            "/usr/local/lib/python3.6/dist-packages/sklearn/utils/deprecation.py:87: FutureWarning: Function safe_indexing is deprecated; safe_indexing is deprecated in version 0.22 and will be removed in version 0.24.\n",
            "  warnings.warn(msg, category=FutureWarning)\n",
            "/usr/local/lib/python3.6/dist-packages/sklearn/utils/deprecation.py:87: FutureWarning: Function safe_indexing is deprecated; safe_indexing is deprecated in version 0.22 and will be removed in version 0.24.\n",
            "  warnings.warn(msg, category=FutureWarning)\n",
            "/usr/local/lib/python3.6/dist-packages/sklearn/utils/deprecation.py:87: FutureWarning: Function safe_indexing is deprecated; safe_indexing is deprecated in version 0.22 and will be removed in version 0.24.\n",
            "  warnings.warn(msg, category=FutureWarning)\n",
            "/usr/local/lib/python3.6/dist-packages/sklearn/utils/deprecation.py:87: FutureWarning: Function safe_indexing is deprecated; safe_indexing is deprecated in version 0.22 and will be removed in version 0.24.\n",
            "  warnings.warn(msg, category=FutureWarning)\n",
            "/usr/local/lib/python3.6/dist-packages/sklearn/utils/deprecation.py:87: FutureWarning: Function safe_indexing is deprecated; safe_indexing is deprecated in version 0.22 and will be removed in version 0.24.\n",
            "  warnings.warn(msg, category=FutureWarning)\n",
            "/usr/local/lib/python3.6/dist-packages/sklearn/utils/deprecation.py:87: FutureWarning: Function safe_indexing is deprecated; safe_indexing is deprecated in version 0.22 and will be removed in version 0.24.\n",
            "  warnings.warn(msg, category=FutureWarning)\n",
            "/usr/local/lib/python3.6/dist-packages/sklearn/utils/deprecation.py:87: FutureWarning: Function safe_indexing is deprecated; safe_indexing is deprecated in version 0.22 and will be removed in version 0.24.\n",
            "  warnings.warn(msg, category=FutureWarning)\n",
            "/usr/local/lib/python3.6/dist-packages/sklearn/utils/deprecation.py:87: FutureWarning: Function safe_indexing is deprecated; safe_indexing is deprecated in version 0.22 and will be removed in version 0.24.\n",
            "  warnings.warn(msg, category=FutureWarning)\n",
            "/usr/local/lib/python3.6/dist-packages/sklearn/utils/deprecation.py:87: FutureWarning: Function safe_indexing is deprecated; safe_indexing is deprecated in version 0.22 and will be removed in version 0.24.\n",
            "  warnings.warn(msg, category=FutureWarning)\n",
            "/usr/local/lib/python3.6/dist-packages/sklearn/utils/deprecation.py:87: FutureWarning: Function safe_indexing is deprecated; safe_indexing is deprecated in version 0.22 and will be removed in version 0.24.\n",
            "  warnings.warn(msg, category=FutureWarning)\n",
            "/usr/local/lib/python3.6/dist-packages/sklearn/utils/deprecation.py:87: FutureWarning: Function safe_indexing is deprecated; safe_indexing is deprecated in version 0.22 and will be removed in version 0.24.\n",
            "  warnings.warn(msg, category=FutureWarning)\n",
            "/usr/local/lib/python3.6/dist-packages/sklearn/utils/deprecation.py:87: FutureWarning: Function safe_indexing is deprecated; safe_indexing is deprecated in version 0.22 and will be removed in version 0.24.\n",
            "  warnings.warn(msg, category=FutureWarning)\n",
            "/usr/local/lib/python3.6/dist-packages/sklearn/utils/deprecation.py:87: FutureWarning: Function safe_indexing is deprecated; safe_indexing is deprecated in version 0.22 and will be removed in version 0.24.\n",
            "  warnings.warn(msg, category=FutureWarning)\n",
            "/usr/local/lib/python3.6/dist-packages/sklearn/utils/deprecation.py:87: FutureWarning: Function safe_indexing is deprecated; safe_indexing is deprecated in version 0.22 and will be removed in version 0.24.\n",
            "  warnings.warn(msg, category=FutureWarning)\n",
            "/usr/local/lib/python3.6/dist-packages/sklearn/utils/deprecation.py:87: FutureWarning: Function safe_indexing is deprecated; safe_indexing is deprecated in version 0.22 and will be removed in version 0.24.\n",
            "  warnings.warn(msg, category=FutureWarning)\n",
            "/usr/local/lib/python3.6/dist-packages/sklearn/utils/deprecation.py:87: FutureWarning: Function safe_indexing is deprecated; safe_indexing is deprecated in version 0.22 and will be removed in version 0.24.\n",
            "  warnings.warn(msg, category=FutureWarning)\n",
            "/usr/local/lib/python3.6/dist-packages/sklearn/utils/deprecation.py:87: FutureWarning: Function safe_indexing is deprecated; safe_indexing is deprecated in version 0.22 and will be removed in version 0.24.\n",
            "  warnings.warn(msg, category=FutureWarning)\n",
            "/usr/local/lib/python3.6/dist-packages/sklearn/utils/deprecation.py:87: FutureWarning: Function safe_indexing is deprecated; safe_indexing is deprecated in version 0.22 and will be removed in version 0.24.\n",
            "  warnings.warn(msg, category=FutureWarning)\n",
            "/usr/local/lib/python3.6/dist-packages/sklearn/utils/deprecation.py:87: FutureWarning: Function safe_indexing is deprecated; safe_indexing is deprecated in version 0.22 and will be removed in version 0.24.\n",
            "  warnings.warn(msg, category=FutureWarning)\n",
            "/usr/local/lib/python3.6/dist-packages/sklearn/utils/deprecation.py:87: FutureWarning: Function safe_indexing is deprecated; safe_indexing is deprecated in version 0.22 and will be removed in version 0.24.\n",
            "  warnings.warn(msg, category=FutureWarning)\n",
            "/usr/local/lib/python3.6/dist-packages/sklearn/utils/deprecation.py:87: FutureWarning: Function safe_indexing is deprecated; safe_indexing is deprecated in version 0.22 and will be removed in version 0.24.\n",
            "  warnings.warn(msg, category=FutureWarning)\n",
            "/usr/local/lib/python3.6/dist-packages/sklearn/utils/deprecation.py:87: FutureWarning: Function safe_indexing is deprecated; safe_indexing is deprecated in version 0.22 and will be removed in version 0.24.\n",
            "  warnings.warn(msg, category=FutureWarning)\n",
            "/usr/local/lib/python3.6/dist-packages/sklearn/utils/deprecation.py:87: FutureWarning: Function safe_indexing is deprecated; safe_indexing is deprecated in version 0.22 and will be removed in version 0.24.\n",
            "  warnings.warn(msg, category=FutureWarning)\n",
            "/usr/local/lib/python3.6/dist-packages/sklearn/utils/deprecation.py:87: FutureWarning: Function safe_indexing is deprecated; safe_indexing is deprecated in version 0.22 and will be removed in version 0.24.\n",
            "  warnings.warn(msg, category=FutureWarning)\n",
            "/usr/local/lib/python3.6/dist-packages/sklearn/utils/deprecation.py:87: FutureWarning: Function safe_indexing is deprecated; safe_indexing is deprecated in version 0.22 and will be removed in version 0.24.\n",
            "  warnings.warn(msg, category=FutureWarning)\n",
            "/usr/local/lib/python3.6/dist-packages/sklearn/utils/deprecation.py:87: FutureWarning: Function safe_indexing is deprecated; safe_indexing is deprecated in version 0.22 and will be removed in version 0.24.\n",
            "  warnings.warn(msg, category=FutureWarning)\n",
            "/usr/local/lib/python3.6/dist-packages/sklearn/utils/deprecation.py:87: FutureWarning: Function safe_indexing is deprecated; safe_indexing is deprecated in version 0.22 and will be removed in version 0.24.\n",
            "  warnings.warn(msg, category=FutureWarning)\n",
            "/usr/local/lib/python3.6/dist-packages/sklearn/utils/deprecation.py:87: FutureWarning: Function safe_indexing is deprecated; safe_indexing is deprecated in version 0.22 and will be removed in version 0.24.\n",
            "  warnings.warn(msg, category=FutureWarning)\n",
            "/usr/local/lib/python3.6/dist-packages/sklearn/utils/deprecation.py:87: FutureWarning: Function safe_indexing is deprecated; safe_indexing is deprecated in version 0.22 and will be removed in version 0.24.\n",
            "  warnings.warn(msg, category=FutureWarning)\n",
            "/usr/local/lib/python3.6/dist-packages/sklearn/utils/deprecation.py:87: FutureWarning: Function safe_indexing is deprecated; safe_indexing is deprecated in version 0.22 and will be removed in version 0.24.\n",
            "  warnings.warn(msg, category=FutureWarning)\n",
            "/usr/local/lib/python3.6/dist-packages/sklearn/utils/deprecation.py:87: FutureWarning: Function safe_indexing is deprecated; safe_indexing is deprecated in version 0.22 and will be removed in version 0.24.\n",
            "  warnings.warn(msg, category=FutureWarning)\n",
            "/usr/local/lib/python3.6/dist-packages/sklearn/utils/deprecation.py:87: FutureWarning: Function safe_indexing is deprecated; safe_indexing is deprecated in version 0.22 and will be removed in version 0.24.\n",
            "  warnings.warn(msg, category=FutureWarning)\n",
            "/usr/local/lib/python3.6/dist-packages/sklearn/utils/deprecation.py:87: FutureWarning: Function safe_indexing is deprecated; safe_indexing is deprecated in version 0.22 and will be removed in version 0.24.\n",
            "  warnings.warn(msg, category=FutureWarning)\n",
            "/usr/local/lib/python3.6/dist-packages/sklearn/utils/deprecation.py:87: FutureWarning: Function safe_indexing is deprecated; safe_indexing is deprecated in version 0.22 and will be removed in version 0.24.\n",
            "  warnings.warn(msg, category=FutureWarning)\n",
            "/usr/local/lib/python3.6/dist-packages/sklearn/utils/deprecation.py:87: FutureWarning: Function safe_indexing is deprecated; safe_indexing is deprecated in version 0.22 and will be removed in version 0.24.\n",
            "  warnings.warn(msg, category=FutureWarning)\n",
            "/usr/local/lib/python3.6/dist-packages/sklearn/utils/deprecation.py:87: FutureWarning: Function safe_indexing is deprecated; safe_indexing is deprecated in version 0.22 and will be removed in version 0.24.\n",
            "  warnings.warn(msg, category=FutureWarning)\n",
            "/usr/local/lib/python3.6/dist-packages/sklearn/utils/deprecation.py:87: FutureWarning: Function safe_indexing is deprecated; safe_indexing is deprecated in version 0.22 and will be removed in version 0.24.\n",
            "  warnings.warn(msg, category=FutureWarning)\n",
            "/usr/local/lib/python3.6/dist-packages/sklearn/utils/deprecation.py:87: FutureWarning: Function safe_indexing is deprecated; safe_indexing is deprecated in version 0.22 and will be removed in version 0.24.\n",
            "  warnings.warn(msg, category=FutureWarning)\n",
            "/usr/local/lib/python3.6/dist-packages/sklearn/utils/deprecation.py:87: FutureWarning: Function safe_indexing is deprecated; safe_indexing is deprecated in version 0.22 and will be removed in version 0.24.\n",
            "  warnings.warn(msg, category=FutureWarning)\n",
            "/usr/local/lib/python3.6/dist-packages/sklearn/utils/deprecation.py:87: FutureWarning: Function safe_indexing is deprecated; safe_indexing is deprecated in version 0.22 and will be removed in version 0.24.\n",
            "  warnings.warn(msg, category=FutureWarning)\n",
            "/usr/local/lib/python3.6/dist-packages/sklearn/utils/deprecation.py:87: FutureWarning: Function safe_indexing is deprecated; safe_indexing is deprecated in version 0.22 and will be removed in version 0.24.\n",
            "  warnings.warn(msg, category=FutureWarning)\n",
            "/usr/local/lib/python3.6/dist-packages/sklearn/utils/deprecation.py:87: FutureWarning: Function safe_indexing is deprecated; safe_indexing is deprecated in version 0.22 and will be removed in version 0.24.\n",
            "  warnings.warn(msg, category=FutureWarning)\n",
            "/usr/local/lib/python3.6/dist-packages/sklearn/utils/deprecation.py:87: FutureWarning: Function safe_indexing is deprecated; safe_indexing is deprecated in version 0.22 and will be removed in version 0.24.\n",
            "  warnings.warn(msg, category=FutureWarning)\n",
            "/usr/local/lib/python3.6/dist-packages/sklearn/utils/deprecation.py:87: FutureWarning: Function safe_indexing is deprecated; safe_indexing is deprecated in version 0.22 and will be removed in version 0.24.\n",
            "  warnings.warn(msg, category=FutureWarning)\n",
            "/usr/local/lib/python3.6/dist-packages/sklearn/utils/deprecation.py:87: FutureWarning: Function safe_indexing is deprecated; safe_indexing is deprecated in version 0.22 and will be removed in version 0.24.\n",
            "  warnings.warn(msg, category=FutureWarning)\n",
            "/usr/local/lib/python3.6/dist-packages/sklearn/utils/deprecation.py:87: FutureWarning: Function safe_indexing is deprecated; safe_indexing is deprecated in version 0.22 and will be removed in version 0.24.\n",
            "  warnings.warn(msg, category=FutureWarning)\n",
            "/usr/local/lib/python3.6/dist-packages/sklearn/utils/deprecation.py:87: FutureWarning: Function safe_indexing is deprecated; safe_indexing is deprecated in version 0.22 and will be removed in version 0.24.\n",
            "  warnings.warn(msg, category=FutureWarning)\n",
            "/usr/local/lib/python3.6/dist-packages/sklearn/utils/deprecation.py:87: FutureWarning: Function safe_indexing is deprecated; safe_indexing is deprecated in version 0.22 and will be removed in version 0.24.\n",
            "  warnings.warn(msg, category=FutureWarning)\n",
            "/usr/local/lib/python3.6/dist-packages/sklearn/utils/deprecation.py:87: FutureWarning: Function safe_indexing is deprecated; safe_indexing is deprecated in version 0.22 and will be removed in version 0.24.\n",
            "  warnings.warn(msg, category=FutureWarning)\n",
            "/usr/local/lib/python3.6/dist-packages/sklearn/utils/deprecation.py:87: FutureWarning: Function safe_indexing is deprecated; safe_indexing is deprecated in version 0.22 and will be removed in version 0.24.\n",
            "  warnings.warn(msg, category=FutureWarning)\n",
            "/usr/local/lib/python3.6/dist-packages/sklearn/utils/deprecation.py:87: FutureWarning: Function safe_indexing is deprecated; safe_indexing is deprecated in version 0.22 and will be removed in version 0.24.\n",
            "  warnings.warn(msg, category=FutureWarning)\n",
            "/usr/local/lib/python3.6/dist-packages/sklearn/utils/deprecation.py:87: FutureWarning: Function safe_indexing is deprecated; safe_indexing is deprecated in version 0.22 and will be removed in version 0.24.\n",
            "  warnings.warn(msg, category=FutureWarning)\n",
            "/usr/local/lib/python3.6/dist-packages/sklearn/utils/deprecation.py:87: FutureWarning: Function safe_indexing is deprecated; safe_indexing is deprecated in version 0.22 and will be removed in version 0.24.\n",
            "  warnings.warn(msg, category=FutureWarning)\n",
            "/usr/local/lib/python3.6/dist-packages/sklearn/utils/deprecation.py:87: FutureWarning: Function safe_indexing is deprecated; safe_indexing is deprecated in version 0.22 and will be removed in version 0.24.\n",
            "  warnings.warn(msg, category=FutureWarning)\n",
            "/usr/local/lib/python3.6/dist-packages/sklearn/utils/deprecation.py:87: FutureWarning: Function safe_indexing is deprecated; safe_indexing is deprecated in version 0.22 and will be removed in version 0.24.\n",
            "  warnings.warn(msg, category=FutureWarning)\n",
            "/usr/local/lib/python3.6/dist-packages/sklearn/utils/deprecation.py:87: FutureWarning: Function safe_indexing is deprecated; safe_indexing is deprecated in version 0.22 and will be removed in version 0.24.\n",
            "  warnings.warn(msg, category=FutureWarning)\n",
            "/usr/local/lib/python3.6/dist-packages/sklearn/utils/deprecation.py:87: FutureWarning: Function safe_indexing is deprecated; safe_indexing is deprecated in version 0.22 and will be removed in version 0.24.\n",
            "  warnings.warn(msg, category=FutureWarning)\n",
            "/usr/local/lib/python3.6/dist-packages/sklearn/utils/deprecation.py:87: FutureWarning: Function safe_indexing is deprecated; safe_indexing is deprecated in version 0.22 and will be removed in version 0.24.\n",
            "  warnings.warn(msg, category=FutureWarning)\n",
            "/usr/local/lib/python3.6/dist-packages/sklearn/utils/deprecation.py:87: FutureWarning: Function safe_indexing is deprecated; safe_indexing is deprecated in version 0.22 and will be removed in version 0.24.\n",
            "  warnings.warn(msg, category=FutureWarning)\n",
            "/usr/local/lib/python3.6/dist-packages/sklearn/utils/deprecation.py:87: FutureWarning: Function safe_indexing is deprecated; safe_indexing is deprecated in version 0.22 and will be removed in version 0.24.\n",
            "  warnings.warn(msg, category=FutureWarning)\n",
            "/usr/local/lib/python3.6/dist-packages/sklearn/utils/deprecation.py:87: FutureWarning: Function safe_indexing is deprecated; safe_indexing is deprecated in version 0.22 and will be removed in version 0.24.\n",
            "  warnings.warn(msg, category=FutureWarning)\n",
            "/usr/local/lib/python3.6/dist-packages/sklearn/utils/deprecation.py:87: FutureWarning: Function safe_indexing is deprecated; safe_indexing is deprecated in version 0.22 and will be removed in version 0.24.\n",
            "  warnings.warn(msg, category=FutureWarning)\n",
            "/usr/local/lib/python3.6/dist-packages/sklearn/utils/deprecation.py:87: FutureWarning: Function safe_indexing is deprecated; safe_indexing is deprecated in version 0.22 and will be removed in version 0.24.\n",
            "  warnings.warn(msg, category=FutureWarning)\n",
            "/usr/local/lib/python3.6/dist-packages/sklearn/utils/deprecation.py:87: FutureWarning: Function safe_indexing is deprecated; safe_indexing is deprecated in version 0.22 and will be removed in version 0.24.\n",
            "  warnings.warn(msg, category=FutureWarning)\n",
            "/usr/local/lib/python3.6/dist-packages/sklearn/utils/deprecation.py:87: FutureWarning: Function safe_indexing is deprecated; safe_indexing is deprecated in version 0.22 and will be removed in version 0.24.\n",
            "  warnings.warn(msg, category=FutureWarning)\n",
            "/usr/local/lib/python3.6/dist-packages/sklearn/utils/deprecation.py:87: FutureWarning: Function safe_indexing is deprecated; safe_indexing is deprecated in version 0.22 and will be removed in version 0.24.\n",
            "  warnings.warn(msg, category=FutureWarning)\n",
            "/usr/local/lib/python3.6/dist-packages/sklearn/utils/deprecation.py:87: FutureWarning: Function safe_indexing is deprecated; safe_indexing is deprecated in version 0.22 and will be removed in version 0.24.\n",
            "  warnings.warn(msg, category=FutureWarning)\n"
          ],
          "name": "stderr"
        }
      ]
    },
    {
      "cell_type": "code",
      "metadata": {
        "id": "7MeEBU80HEPg",
        "outputId": "68e4ee79-3198-40af-c7d3-db3e4f0193d8",
        "colab": {
          "base_uri": "https://localhost:8080/"
        }
      },
      "source": [
        "print(imba_grid_2.best_score_, imba_grid_2.best_estimator_)"
      ],
      "execution_count": 56,
      "outputs": [
        {
          "output_type": "stream",
          "text": [
            "0.87 Pipeline(memory=None,\n",
            "         steps=[('ordinalencoder',\n",
            "                 OrdinalEncoder(cols=['Form: Created By', 'Flag for Rejection'],\n",
            "                                drop_invariant=False, handle_missing='value',\n",
            "                                handle_unknown='value',\n",
            "                                mapping=[{'col': 'Form: Created By',\n",
            "                                          'data_type': dtype('O'),\n",
            "                                          'mapping': graceumumararungu taroworks        1\n",
            "edouardumwanzuro taroworks         2\n",
            "etiennemutebutsi taroworks         3\n",
            "solangeyandereye taroworks         4\n",
            "aimablen...\n",
            "                 RandomForestClassifier(bootstrap=True, ccp_alpha=0.0,\n",
            "                                        class_weight=None, criterion='gini',\n",
            "                                        max_depth=4, max_features='auto',\n",
            "                                        max_leaf_nodes=None, max_samples=None,\n",
            "                                        min_impurity_decrease=0.0,\n",
            "                                        min_impurity_split=None,\n",
            "                                        min_samples_leaf=1, min_samples_split=2,\n",
            "                                        min_weight_fraction_leaf=0.0,\n",
            "                                        n_estimators=100, n_jobs=None,\n",
            "                                        oob_score=False, random_state=42,\n",
            "                                        verbose=0, warm_start=False))],\n",
            "         verbose=False)\n"
          ],
          "name": "stdout"
        }
      ]
    },
    {
      "cell_type": "code",
      "metadata": {
        "id": "lnG9l4qqIAwW",
        "outputId": "33c1e7c7-d2a1-4b64-8cd6-ef7e8f838518",
        "colab": {
          "base_uri": "https://localhost:8080/"
        }
      },
      "source": [
        "imba_grid_2.cv_results_\n",
        "\n",
        "# muted output because it was lenghty\n",
        "# during output we did see a lot of 1s... Is this a sign of overfitting? "
      ],
      "execution_count": 57,
      "outputs": [
        {
          "output_type": "execute_result",
          "data": {
            "text/plain": [
              "{'mean_fit_time': array([0.13758882, 0.13870254, 0.26055077, 0.2611379 , 0.07692922,\n",
              "        0.07896733, 0.13935528, 0.14127843, 0.26271207, 0.26523593,\n",
              "        0.07778962, 0.07791878, 0.13954954, 0.14753316, 0.26982233,\n",
              "        0.26699177, 0.0775785 , 0.07881786, 0.1411387 , 0.14225494,\n",
              "        0.26520923, 0.26474209, 0.07852395, 0.07932059]),\n",
              " 'mean_score_time': array([0.01253055, 0.01195337, 0.01901398, 0.01993937, 0.00846109,\n",
              "        0.00871191, 0.01181556, 0.01227048, 0.01927183, 0.01923874,\n",
              "        0.00871526, 0.00847718, 0.01198821, 0.01191201, 0.02068445,\n",
              "        0.02016184, 0.00893814, 0.00866537, 0.01205443, 0.01199803,\n",
              "        0.01918763, 0.01978938, 0.00866661, 0.00924981]),\n",
              " 'mean_test_score': array([0.8       , 0.87      , 0.8       , 0.82555556, 0.82777778,\n",
              "        0.87      , 0.81666667, 0.82555556, 0.83333333, 0.82555556,\n",
              "        0.81666667, 0.84777778, 0.83333333, 0.82555556, 0.83333333,\n",
              "        0.82555556, 0.81666667, 0.81555556, 0.83333333, 0.82555556,\n",
              "        0.85      , 0.82555556, 0.81666667, 0.81555556]),\n",
              " 'mean_train_score': array([0.9845128 , 0.99116839, 0.98062987, 0.98978234, 0.98036199,\n",
              "        0.99107148, 0.99863946, 1.        , 0.99863946, 1.        ,\n",
              "        0.99727891, 1.        , 1.        , 1.        , 1.        ,\n",
              "        1.        , 1.        , 1.        , 1.        , 1.        ,\n",
              "        1.        , 1.        , 1.        , 1.        ]),\n",
              " 'param_randomforestclassifier__max_depth': masked_array(data=[4, 4, 4, 4, 4, 4, 6, 6, 6, 6, 6, 6, 10, 10, 10, 10, 10,\n",
              "                    10, 12, 12, 12, 12, 12, 12],\n",
              "              mask=[False, False, False, False, False, False, False, False,\n",
              "                    False, False, False, False, False, False, False, False,\n",
              "                    False, False, False, False, False, False, False, False],\n",
              "        fill_value='?',\n",
              "             dtype=object),\n",
              " 'param_randomforestclassifier__n_estimators': masked_array(data=[100, 100, 200, 200, 50, 50, 100, 100, 200, 200, 50, 50,\n",
              "                    100, 100, 200, 200, 50, 50, 100, 100, 200, 200, 50, 50],\n",
              "              mask=[False, False, False, False, False, False, False, False,\n",
              "                    False, False, False, False, False, False, False, False,\n",
              "                    False, False, False, False, False, False, False, False],\n",
              "        fill_value='?',\n",
              "             dtype=object),\n",
              " 'param_simpleimputer__strategy': masked_array(data=['mean', 'median', 'mean', 'median', 'mean', 'median',\n",
              "                    'mean', 'median', 'mean', 'median', 'mean', 'median',\n",
              "                    'mean', 'median', 'mean', 'median', 'mean', 'median',\n",
              "                    'mean', 'median', 'mean', 'median', 'mean', 'median'],\n",
              "              mask=[False, False, False, False, False, False, False, False,\n",
              "                    False, False, False, False, False, False, False, False,\n",
              "                    False, False, False, False, False, False, False, False],\n",
              "        fill_value='?',\n",
              "             dtype=object),\n",
              " 'params': [{'randomforestclassifier__max_depth': 4,\n",
              "   'randomforestclassifier__n_estimators': 100,\n",
              "   'simpleimputer__strategy': 'mean'},\n",
              "  {'randomforestclassifier__max_depth': 4,\n",
              "   'randomforestclassifier__n_estimators': 100,\n",
              "   'simpleimputer__strategy': 'median'},\n",
              "  {'randomforestclassifier__max_depth': 4,\n",
              "   'randomforestclassifier__n_estimators': 200,\n",
              "   'simpleimputer__strategy': 'mean'},\n",
              "  {'randomforestclassifier__max_depth': 4,\n",
              "   'randomforestclassifier__n_estimators': 200,\n",
              "   'simpleimputer__strategy': 'median'},\n",
              "  {'randomforestclassifier__max_depth': 4,\n",
              "   'randomforestclassifier__n_estimators': 50,\n",
              "   'simpleimputer__strategy': 'mean'},\n",
              "  {'randomforestclassifier__max_depth': 4,\n",
              "   'randomforestclassifier__n_estimators': 50,\n",
              "   'simpleimputer__strategy': 'median'},\n",
              "  {'randomforestclassifier__max_depth': 6,\n",
              "   'randomforestclassifier__n_estimators': 100,\n",
              "   'simpleimputer__strategy': 'mean'},\n",
              "  {'randomforestclassifier__max_depth': 6,\n",
              "   'randomforestclassifier__n_estimators': 100,\n",
              "   'simpleimputer__strategy': 'median'},\n",
              "  {'randomforestclassifier__max_depth': 6,\n",
              "   'randomforestclassifier__n_estimators': 200,\n",
              "   'simpleimputer__strategy': 'mean'},\n",
              "  {'randomforestclassifier__max_depth': 6,\n",
              "   'randomforestclassifier__n_estimators': 200,\n",
              "   'simpleimputer__strategy': 'median'},\n",
              "  {'randomforestclassifier__max_depth': 6,\n",
              "   'randomforestclassifier__n_estimators': 50,\n",
              "   'simpleimputer__strategy': 'mean'},\n",
              "  {'randomforestclassifier__max_depth': 6,\n",
              "   'randomforestclassifier__n_estimators': 50,\n",
              "   'simpleimputer__strategy': 'median'},\n",
              "  {'randomforestclassifier__max_depth': 10,\n",
              "   'randomforestclassifier__n_estimators': 100,\n",
              "   'simpleimputer__strategy': 'mean'},\n",
              "  {'randomforestclassifier__max_depth': 10,\n",
              "   'randomforestclassifier__n_estimators': 100,\n",
              "   'simpleimputer__strategy': 'median'},\n",
              "  {'randomforestclassifier__max_depth': 10,\n",
              "   'randomforestclassifier__n_estimators': 200,\n",
              "   'simpleimputer__strategy': 'mean'},\n",
              "  {'randomforestclassifier__max_depth': 10,\n",
              "   'randomforestclassifier__n_estimators': 200,\n",
              "   'simpleimputer__strategy': 'median'},\n",
              "  {'randomforestclassifier__max_depth': 10,\n",
              "   'randomforestclassifier__n_estimators': 50,\n",
              "   'simpleimputer__strategy': 'mean'},\n",
              "  {'randomforestclassifier__max_depth': 10,\n",
              "   'randomforestclassifier__n_estimators': 50,\n",
              "   'simpleimputer__strategy': 'median'},\n",
              "  {'randomforestclassifier__max_depth': 12,\n",
              "   'randomforestclassifier__n_estimators': 100,\n",
              "   'simpleimputer__strategy': 'mean'},\n",
              "  {'randomforestclassifier__max_depth': 12,\n",
              "   'randomforestclassifier__n_estimators': 100,\n",
              "   'simpleimputer__strategy': 'median'},\n",
              "  {'randomforestclassifier__max_depth': 12,\n",
              "   'randomforestclassifier__n_estimators': 200,\n",
              "   'simpleimputer__strategy': 'mean'},\n",
              "  {'randomforestclassifier__max_depth': 12,\n",
              "   'randomforestclassifier__n_estimators': 200,\n",
              "   'simpleimputer__strategy': 'median'},\n",
              "  {'randomforestclassifier__max_depth': 12,\n",
              "   'randomforestclassifier__n_estimators': 50,\n",
              "   'simpleimputer__strategy': 'mean'},\n",
              "  {'randomforestclassifier__max_depth': 12,\n",
              "   'randomforestclassifier__n_estimators': 50,\n",
              "   'simpleimputer__strategy': 'median'}],\n",
              " 'rank_test_score': array([23,  1, 23, 10,  9,  1, 17, 10,  5, 10, 17,  4,  5, 10,  5, 10, 17,\n",
              "        21,  5, 10,  3, 10, 17, 21], dtype=int32),\n",
              " 'split0_test_score': array([1., 1., 1., 1., 1., 1., 1., 1., 1., 1., 1., 1., 1., 1., 1., 1., 1.,\n",
              "        1., 1., 1., 1., 1., 1., 1.]),\n",
              " 'split0_train_score': array([1., 1., 1., 1., 1., 1., 1., 1., 1., 1., 1., 1., 1., 1., 1., 1., 1.,\n",
              "        1., 1., 1., 1., 1., 1., 1.]),\n",
              " 'split10_test_score': array([0.75, 0.8 , 0.75, 0.8 , 0.75, 0.8 , 0.75, 0.8 , 0.75, 0.8 , 0.75,\n",
              "        0.8 , 0.75, 0.8 , 0.75, 0.8 , 0.75, 0.8 , 0.75, 0.8 , 1.  , 0.8 ,\n",
              "        0.75, 0.8 ]),\n",
              " 'split10_train_score': array([0.9375, 1.    , 0.94  , 1.    , 0.9375, 1.    , 1.    , 1.    ,\n",
              "        1.    , 1.    , 1.    , 1.    , 1.    , 1.    , 1.    , 1.    ,\n",
              "        1.    , 1.    , 1.    , 1.    , 1.    , 1.    , 1.    , 1.    ]),\n",
              " 'split11_test_score': array([1., 1., 1., 1., 1., 1., 1., 1., 1., 1., 1., 1., 1., 1., 1., 1., 1.,\n",
              "        1., 1., 1., 1., 1., 1., 1.]),\n",
              " 'split11_train_score': array([1., 1., 1., 1., 1., 1., 1., 1., 1., 1., 1., 1., 1., 1., 1., 1., 1.,\n",
              "        1., 1., 1., 1., 1., 1., 1.]),\n",
              " 'split12_test_score': array([1., 1., 1., 1., 1., 1., 1., 1., 1., 1., 1., 1., 1., 1., 1., 1., 1.,\n",
              "        1., 1., 1., 1., 1., 1., 1.]),\n",
              " 'split12_train_score': array([1., 1., 1., 1., 1., 1., 1., 1., 1., 1., 1., 1., 1., 1., 1., 1., 1.,\n",
              "        1., 1., 1., 1., 1., 1., 1.]),\n",
              " 'split13_test_score': array([0.33333333, 0.33333333, 0.33333333, 0.33333333, 0.33333333,\n",
              "        0.33333333, 0.33333333, 0.33333333, 0.33333333, 0.33333333,\n",
              "        0.33333333, 0.33333333, 0.33333333, 0.33333333, 0.33333333,\n",
              "        0.33333333, 0.33333333, 0.33333333, 0.33333333, 0.33333333,\n",
              "        0.33333333, 0.33333333, 0.33333333, 0.33333333]),\n",
              " 'split13_train_score': array([0.9787234 , 0.9787234 , 0.9787234 , 0.9787234 , 0.97826087,\n",
              "        0.97826087, 1.        , 1.        , 1.        , 1.        ,\n",
              "        1.        , 1.        , 1.        , 1.        , 1.        ,\n",
              "        1.        , 1.        , 1.        , 1.        , 1.        ,\n",
              "        1.        , 1.        , 1.        , 1.        ]),\n",
              " 'split14_test_score': array([0.75, 0.75, 0.75, 0.75, 0.75, 0.75, 0.75, 0.75, 0.75, 0.75, 0.75,\n",
              "        0.75, 0.75, 0.75, 0.75, 0.75, 0.75, 0.75, 0.75, 0.75, 0.75, 0.75,\n",
              "        0.75, 0.75]),\n",
              " 'split14_train_score': array([0.9787234 , 1.        , 0.97916667, 0.97826087, 0.97916667,\n",
              "        1.        , 1.        , 1.        , 1.        , 1.        ,\n",
              "        1.        , 1.        , 1.        , 1.        , 1.        ,\n",
              "        1.        , 1.        , 1.        , 1.        , 1.        ,\n",
              "        1.        , 1.        , 1.        , 1.        ]),\n",
              " 'split1_test_score': array([0.75      , 0.75      , 0.75      , 0.75      , 0.66666667,\n",
              "        0.75      , 0.75      , 0.75      , 0.66666667, 0.75      ,\n",
              "        0.75      , 0.75      , 0.66666667, 0.75      , 0.66666667,\n",
              "        0.75      , 0.75      , 0.75      , 0.66666667, 0.75      ,\n",
              "        0.66666667, 0.75      , 0.75      , 0.75      ]),\n",
              " 'split1_train_score': array([0.9787234 , 1.        , 0.9787234 , 1.        , 0.97916667,\n",
              "        1.        , 1.        , 1.        , 1.        , 1.        ,\n",
              "        1.        , 1.        , 1.        , 1.        , 1.        ,\n",
              "        1.        , 1.        , 1.        , 1.        , 1.        ,\n",
              "        1.        , 1.        , 1.        , 1.        ]),\n",
              " 'split2_test_score': array([0.75, 0.75, 0.75, 0.75, 0.75, 0.75, 0.75, 0.75, 0.75, 0.75, 0.75,\n",
              "        0.75, 0.75, 0.75, 0.75, 0.75, 0.75, 0.6 , 0.75, 0.75, 0.75, 0.75,\n",
              "        0.75, 0.6 ]),\n",
              " 'split2_train_score': array([1.       , 1.       , 1.       , 1.       , 0.9787234, 1.       ,\n",
              "        1.       , 1.       , 1.       , 1.       , 1.       , 1.       ,\n",
              "        1.       , 1.       , 1.       , 1.       , 1.       , 1.       ,\n",
              "        1.       , 1.       , 1.       , 1.       , 1.       , 1.       ]),\n",
              " 'split3_test_score': array([1., 1., 1., 1., 1., 1., 1., 1., 1., 1., 1., 1., 1., 1., 1., 1., 1.,\n",
              "        1., 1., 1., 1., 1., 1., 1.]),\n",
              " 'split3_train_score': array([1.        , 0.97727273, 0.97826087, 0.97727273, 0.97777778,\n",
              "        0.97727273, 1.        , 1.        , 1.        , 1.        ,\n",
              "        1.        , 1.        , 1.        , 1.        , 1.        ,\n",
              "        1.        , 1.        , 1.        , 1.        , 1.        ,\n",
              "        1.        , 1.        , 1.        , 1.        ]),\n",
              " 'split4_test_score': array([1., 1., 1., 1., 1., 1., 1., 1., 1., 1., 1., 1., 1., 1., 1., 1., 1.,\n",
              "        1., 1., 1., 1., 1., 1., 1.]),\n",
              " 'split4_train_score': array([1.        , 1.        , 0.97916667, 1.        , 1.        ,\n",
              "        1.        , 1.        , 1.        , 1.        , 1.        ,\n",
              "        1.        , 1.        , 1.        , 1.        , 1.        ,\n",
              "        1.        , 1.        , 1.        , 1.        , 1.        ,\n",
              "        1.        , 1.        , 1.        , 1.        ]),\n",
              " 'split5_test_score': array([1., 1., 1., 1., 1., 1., 1., 1., 1., 1., 1., 1., 1., 1., 1., 1., 1.,\n",
              "        1., 1., 1., 1., 1., 1., 1.]),\n",
              " 'split5_train_score': array([0.97826087, 0.97727273, 0.9787234 , 0.97727273, 0.9787234 ,\n",
              "        0.97674419, 1.        , 1.        , 1.        , 1.        ,\n",
              "        1.        , 1.        , 1.        , 1.        , 1.        ,\n",
              "        1.        , 1.        , 1.        , 1.        , 1.        ,\n",
              "        1.        , 1.        , 1.        , 1.        ]),\n",
              " 'split6_test_score': array([1.        , 1.        , 1.        , 1.        , 1.        ,\n",
              "        1.        , 0.66666667, 1.        , 1.        , 1.        ,\n",
              "        0.66666667, 1.        , 1.        , 1.        , 1.        ,\n",
              "        1.        , 0.66666667, 1.        , 1.        , 1.        ,\n",
              "        1.        , 1.        , 0.66666667, 1.        ]),\n",
              " 'split6_train_score': array([1., 1., 1., 1., 1., 1., 1., 1., 1., 1., 1., 1., 1., 1., 1., 1., 1.,\n",
              "        1., 1., 1., 1., 1., 1., 1.]),\n",
              " 'split7_test_score': array([0.66666667, 0.66666667, 0.66666667, 0.66666667, 0.66666667,\n",
              "        0.66666667, 0.75      , 0.66666667, 0.75      , 0.66666667,\n",
              "        0.75      , 0.66666667, 0.75      , 0.66666667, 0.75      ,\n",
              "        0.66666667, 0.75      , 0.66666667, 0.75      , 0.66666667,\n",
              "        0.75      , 0.66666667, 0.75      , 0.66666667]),\n",
              " 'split7_train_score': array([0.95833333, 0.97826087, 0.95833333, 0.97826087, 0.95833333,\n",
              "        0.97826087, 0.97959184, 1.        , 0.97959184, 1.        ,\n",
              "        0.97959184, 1.        , 1.        , 1.        , 1.        ,\n",
              "        1.        , 1.        , 1.        , 1.        , 1.        ,\n",
              "        1.        , 1.        , 1.        , 1.        ]),\n",
              " 'split8_test_score': array([1., 1., 1., 1., 1., 1., 1., 1., 1., 1., 1., 1., 1., 1., 1., 1., 1.,\n",
              "        1., 1., 1., 1., 1., 1., 1.]),\n",
              " 'split8_train_score': array([0.97826087, 0.97727273, 0.97916667, 0.97777778, 0.97777778,\n",
              "        0.97727273, 1.        , 1.        , 1.        , 1.        ,\n",
              "        0.97959184, 1.        , 1.        , 1.        , 1.        ,\n",
              "        1.        , 1.        , 1.        , 1.        , 1.        ,\n",
              "        1.        , 1.        , 1.        , 1.        ]),\n",
              " 'split9_test_score': array([0.        , 1.        , 0.        , 0.33333333, 0.5       ,\n",
              "        1.        , 0.5       , 0.33333333, 0.5       , 0.33333333,\n",
              "        0.5       , 0.66666667, 0.5       , 0.33333333, 0.5       ,\n",
              "        0.33333333, 0.5       , 0.33333333, 0.5       , 0.33333333,\n",
              "        0.5       , 0.33333333, 0.5       , 0.33333333]),\n",
              " 'split9_train_score': array([0.97916667, 0.9787234 , 0.95918367, 0.97916667, 0.96      ,\n",
              "        0.97826087, 1.        , 1.        , 1.        , 1.        ,\n",
              "        1.        , 1.        , 1.        , 1.        , 1.        ,\n",
              "        1.        , 1.        , 1.        , 1.        , 1.        ,\n",
              "        1.        , 1.        , 1.        , 1.        ]),\n",
              " 'std_fit_time': array([0.00345759, 0.00494231, 0.0053735 , 0.00513433, 0.00532268,\n",
              "        0.00540006, 0.00480283, 0.00523101, 0.00453551, 0.00629356,\n",
              "        0.00434202, 0.00367271, 0.00417515, 0.02497663, 0.00877385,\n",
              "        0.00677394, 0.00352892, 0.00353297, 0.00504489, 0.0070581 ,\n",
              "        0.00599148, 0.00578224, 0.00414384, 0.00558017]),\n",
              " 'std_score_time': array([0.00169544, 0.00058892, 0.00118021, 0.00234657, 0.00030726,\n",
              "        0.00053561, 0.00017489, 0.00093775, 0.00128441, 0.00114843,\n",
              "        0.00068245, 0.00038519, 0.00060059, 0.00024571, 0.00201956,\n",
              "        0.00128547, 0.00133001, 0.00048123, 0.00043406, 0.00041195,\n",
              "        0.00108427, 0.00133314, 0.00066505, 0.00117481]),\n",
              " 'std_test_score': array([0.28349668, 0.1878928 , 0.28349668, 0.22672113, 0.20964403,\n",
              "        0.1878928 , 0.20230157, 0.22672113, 0.20637973, 0.22672113,\n",
              "        0.20230157, 0.19089135, 0.20637973, 0.22672113, 0.20637973,\n",
              "        0.22672113, 0.20230157, 0.23305274, 0.20637973, 0.22672113,\n",
              "        0.20905431, 0.22672113, 0.20230157, 0.23305274]),\n",
              " 'std_train_score': array([0.01785469, 0.01082467, 0.01733361, 0.01093245, 0.01768479,\n",
              "        0.01094192, 0.00509069, 0.        , 0.00509069, 0.        ,\n",
              "        0.00693744, 0.        , 0.        , 0.        , 0.        ,\n",
              "        0.        , 0.        , 0.        , 0.        , 0.        ,\n",
              "        0.        , 0.        , 0.        , 0.        ])}"
            ]
          },
          "metadata": {
            "tags": []
          },
          "execution_count": 57
        }
      ]
    },
    {
      "cell_type": "code",
      "metadata": {
        "id": "i0jlggE6Kd_u",
        "outputId": "61e9d3f0-c4b8-406d-b05c-6e66e4f6d8b8",
        "colab": {
          "base_uri": "https://localhost:8080/"
        }
      },
      "source": [
        "# Now looking to the val set to get some more numbers\n",
        "\n",
        "y_val_predict = imba_grid_2.predict(X_val)\n",
        "\n",
        "precision_score(y_val, y_val_predict)"
      ],
      "execution_count": 58,
      "outputs": [
        {
          "output_type": "execute_result",
          "data": {
            "text/plain": [
              "0.9230769230769231"
            ]
          },
          "metadata": {
            "tags": []
          },
          "execution_count": 58
        }
      ]
    },
    {
      "cell_type": "markdown",
      "metadata": {
        "id": "2KeNenZtRqGL"
      },
      "source": [
        "The best score from above was .87, now running the model on the val set, it looks like we end with 92% precision score. "
      ]
    },
    {
      "cell_type": "code",
      "metadata": {
        "id": "B8NUwZbzRdYN"
      },
      "source": [
        ""
      ],
      "execution_count": null,
      "outputs": []
    }
  ]
}