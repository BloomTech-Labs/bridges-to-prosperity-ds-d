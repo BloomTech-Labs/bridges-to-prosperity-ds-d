{
 "cells": [
  {
   "cell_type": "code",
   "execution_count": 1,
   "metadata": {},
   "outputs": [],
   "source": [
    "import psycopg2\n",
    "import pandas as pd\n",
    "import json\n",
    "import os\n",
    "from dotenv import load_dotenv"
   ]
  },
  {
   "cell_type": "markdown",
   "metadata": {},
   "source": [
    "# Clean Columns of Data Frame of Interest"
   ]
  },
  {
   "cell_type": "code",
   "execution_count": 2,
   "metadata": {},
   "outputs": [],
   "source": [
    "#Its is important to have clean columns, without spaces, numbers at the start, or () brackets within the column name\n",
    "#May encounter errors when running queries on postgres sql database, or also may run into errors into convertin data frame\n",
    "#Into SQL Table"
   ]
  },
  {
   "cell_type": "code",
   "execution_count": 3,
   "metadata": {},
   "outputs": [],
   "source": [
    "df = pd.read_csv(\"https://raw.githubusercontent.com/JonRivera/Bridges_Prosperity_Labs28_Project/main/Data/B2P%20Dataset_2020.10.csv\")"
   ]
  },
  {
   "cell_type": "code",
   "execution_count": 4,
   "metadata": {},
   "outputs": [],
   "source": [
    "columns = ['Bridge_Name',\n",
    " 'Project_Code',\n",
    " 'Needs_Assessment',\n",
    " 'Bridge_Opportunity_Level1_Government',\n",
    " 'Bridge_Opportunity_Level2_Government',\n",
    " 'Stage',\n",
    " 'GPS_Latitude',\n",
    " 'GPS_Longitude',\n",
    " 'Bridge_Type',\n",
    " 'Bridge_Span_m',\n",
    " 'Individuals_Directly_Served',\n",
    " 'year_2013_2014_Data',\n",
    " 'Form_Name',\n",
    " 'Created_By',\n",
    " 'Bridge_Location_GPS_Latitude',\n",
    " 'Proposed_Bridge_Location_GPS_Longitude',\n",
    " 'Current_crossing_method',\n",
    " 'Nearest_all_weather_crossing_point',\n",
    " 'Days_per_year_river_flooded',\n",
    " 'Flood_duration_rainy_season',\n",
    " 'Market_access_blocked_by_river',\n",
    " 'Education_access_blocked_by_river',\n",
    " 'Health_access_blocked_by_river',\n",
    " 'Other_access_blocked_by_river',\n",
    " 'Primary_occupations',\n",
    " 'Primary_crops_grown',\n",
    " 'River_crossing_deaths_last_3_years',\n",
    " 'River_crossing_injuries_last_3_years',\n",
    " 'Incident_descriptions',\n",
    " 'Notes_social_information',\n",
    " 'Cell_service_quality',\n",
    " 'Accessibility',\n",
    " 'Name_nearest_city',\n",
    " 'Name_nearest_paved_or_sealed_road',\n",
    " 'Bridge_classification',\n",
    " 'Flag_for_Rejection',\n",
    " 'Rejection_Reason',\n",
    " 'Bridge_Types',\n",
    " 'Estimated_span_m',\n",
    " 'Height_differential_between_banks',\n",
    " 'General_Project_Photos',\n",
    " 'CaseSafeID',\n",
    " 'Senior_Engineering_Review_Conducted']"
   ]
  },
  {
   "cell_type": "code",
   "execution_count": 5,
   "metadata": {},
   "outputs": [],
   "source": [
    "df.columns = columns"
   ]
  },
  {
   "cell_type": "code",
   "execution_count": 6,
   "metadata": {},
   "outputs": [
    {
     "data": {
      "text/html": [
       "<div>\n",
       "<style scoped>\n",
       "    .dataframe tbody tr th:only-of-type {\n",
       "        vertical-align: middle;\n",
       "    }\n",
       "\n",
       "    .dataframe tbody tr th {\n",
       "        vertical-align: top;\n",
       "    }\n",
       "\n",
       "    .dataframe thead th {\n",
       "        text-align: right;\n",
       "    }\n",
       "</style>\n",
       "<table border=\"1\" class=\"dataframe\">\n",
       "  <thead>\n",
       "    <tr style=\"text-align: right;\">\n",
       "      <th></th>\n",
       "      <th>Bridge_Name</th>\n",
       "      <th>Project_Code</th>\n",
       "      <th>Needs_Assessment</th>\n",
       "      <th>Bridge_Opportunity_Level1_Government</th>\n",
       "      <th>Bridge_Opportunity_Level2_Government</th>\n",
       "      <th>Stage</th>\n",
       "      <th>GPS_Latitude</th>\n",
       "      <th>GPS_Longitude</th>\n",
       "      <th>Bridge_Type</th>\n",
       "      <th>Bridge_Span_m</th>\n",
       "      <th>...</th>\n",
       "      <th>Name_nearest_paved_or_sealed_road</th>\n",
       "      <th>Bridge_classification</th>\n",
       "      <th>Flag_for_Rejection</th>\n",
       "      <th>Rejection_Reason</th>\n",
       "      <th>Bridge_Types</th>\n",
       "      <th>Estimated_span_m</th>\n",
       "      <th>Height_differential_between_banks</th>\n",
       "      <th>General_Project_Photos</th>\n",
       "      <th>CaseSafeID</th>\n",
       "      <th>Senior_Engineering_Review_Conducted</th>\n",
       "    </tr>\n",
       "  </thead>\n",
       "  <tbody>\n",
       "    <tr>\n",
       "      <th>0</th>\n",
       "      <td>Bukinga</td>\n",
       "      <td>1009317</td>\n",
       "      <td>Rwanda Needs Assessment 2018</td>\n",
       "      <td>Southern Province</td>\n",
       "      <td>Nyaruguru</td>\n",
       "      <td>Cancelled</td>\n",
       "      <td>-2.760833</td>\n",
       "      <td>29.488056</td>\n",
       "      <td>Suspended Bridge</td>\n",
       "      <td>NaN</td>\n",
       "      <td>...</td>\n",
       "      <td>NaN</td>\n",
       "      <td>NaN</td>\n",
       "      <td>Yes</td>\n",
       "      <td>There is a planned vehicular road with a vehic...</td>\n",
       "      <td>NaN</td>\n",
       "      <td>NaN</td>\n",
       "      <td>NaN</td>\n",
       "      <td>NaN</td>\n",
       "      <td>006f100000asFErAAM</td>\n",
       "      <td>Yes</td>\n",
       "    </tr>\n",
       "    <tr>\n",
       "      <th>1</th>\n",
       "      <td>Kagarama</td>\n",
       "      <td>1007325</td>\n",
       "      <td>NaN</td>\n",
       "      <td>Western Province</td>\n",
       "      <td>Nyamasheke</td>\n",
       "      <td>Complete</td>\n",
       "      <td>-2.322534</td>\n",
       "      <td>29.141944</td>\n",
       "      <td>Suspension Bridge</td>\n",
       "      <td>48.0</td>\n",
       "      <td>...</td>\n",
       "      <td>Karongi-Nyamasheke</td>\n",
       "      <td>NaN</td>\n",
       "      <td>NaN</td>\n",
       "      <td>NaN</td>\n",
       "      <td>NaN</td>\n",
       "      <td>10.0</td>\n",
       "      <td>0.7</td>\n",
       "      <td>https://flic.kr/s/aHskvedfPB</td>\n",
       "      <td>006f100000a82QzAAI</td>\n",
       "      <td>Yes</td>\n",
       "    </tr>\n",
       "    <tr>\n",
       "      <th>2</th>\n",
       "      <td>Karambi</td>\n",
       "      <td>1007374</td>\n",
       "      <td>NaN</td>\n",
       "      <td>Southern Province</td>\n",
       "      <td>Huye</td>\n",
       "      <td>Complete</td>\n",
       "      <td>-2.513333</td>\n",
       "      <td>29.612778</td>\n",
       "      <td>Suspension Bridge</td>\n",
       "      <td>50.0</td>\n",
       "      <td>...</td>\n",
       "      <td>Huye-Nyamagabe</td>\n",
       "      <td>Standard</td>\n",
       "      <td>NaN</td>\n",
       "      <td>NaN</td>\n",
       "      <td>Suspension</td>\n",
       "      <td>45.0</td>\n",
       "      <td>1.0</td>\n",
       "      <td>https://flic.kr/s/aHskbMF1Kr</td>\n",
       "      <td>006f100000a86DaAAI</td>\n",
       "      <td>Yes</td>\n",
       "    </tr>\n",
       "    <tr>\n",
       "      <th>3</th>\n",
       "      <td>Rugeti</td>\n",
       "      <td>1007466</td>\n",
       "      <td>Rwanda Needs Assessment 2018</td>\n",
       "      <td>Southern Province</td>\n",
       "      <td>Nyamagabe</td>\n",
       "      <td>Complete</td>\n",
       "      <td>-2.476407</td>\n",
       "      <td>29.420800</td>\n",
       "      <td>Suspension Bridge</td>\n",
       "      <td>68.0</td>\n",
       "      <td>...</td>\n",
       "      <td>Nyamagabe-Rusizi</td>\n",
       "      <td>Standard</td>\n",
       "      <td>No</td>\n",
       "      <td>NaN</td>\n",
       "      <td>Suspended</td>\n",
       "      <td>47.4</td>\n",
       "      <td>1.1</td>\n",
       "      <td>https://www.flickr.com/photos/bridgestoprosper...</td>\n",
       "      <td>006f100000a86F4AAI</td>\n",
       "      <td>Yes</td>\n",
       "    </tr>\n",
       "    <tr>\n",
       "      <th>4</th>\n",
       "      <td>Nyakabuye - Nkomane</td>\n",
       "      <td>1007495</td>\n",
       "      <td>Rwanda Needs Assessment 2018</td>\n",
       "      <td>Southern Province</td>\n",
       "      <td>Nyamagabe</td>\n",
       "      <td>Complete</td>\n",
       "      <td>-2.233022</td>\n",
       "      <td>29.575130</td>\n",
       "      <td>Suspension Bridge</td>\n",
       "      <td>78.0</td>\n",
       "      <td>...</td>\n",
       "      <td>Nyamagabe</td>\n",
       "      <td>Standard</td>\n",
       "      <td>No</td>\n",
       "      <td>NaN</td>\n",
       "      <td>Suspended</td>\n",
       "      <td>90.0</td>\n",
       "      <td>1.1</td>\n",
       "      <td>https://www.flickr.com/photos/bridgestoprosper...</td>\n",
       "      <td>006f100000a86FXAAY</td>\n",
       "      <td>Yes</td>\n",
       "    </tr>\n",
       "  </tbody>\n",
       "</table>\n",
       "<p>5 rows × 43 columns</p>\n",
       "</div>"
      ],
      "text/plain": [
       "           Bridge_Name Project_Code              Needs_Assessment  \\\n",
       "0              Bukinga      1009317  Rwanda Needs Assessment 2018   \n",
       "1             Kagarama      1007325                           NaN   \n",
       "2              Karambi      1007374                           NaN   \n",
       "3               Rugeti      1007466  Rwanda Needs Assessment 2018   \n",
       "4  Nyakabuye - Nkomane      1007495  Rwanda Needs Assessment 2018   \n",
       "\n",
       "  Bridge_Opportunity_Level1_Government Bridge_Opportunity_Level2_Government  \\\n",
       "0                    Southern Province                            Nyaruguru   \n",
       "1                     Western Province                           Nyamasheke   \n",
       "2                    Southern Province                                 Huye   \n",
       "3                    Southern Province                            Nyamagabe   \n",
       "4                    Southern Province                            Nyamagabe   \n",
       "\n",
       "       Stage  GPS_Latitude  GPS_Longitude        Bridge_Type  Bridge_Span_m  \\\n",
       "0  Cancelled     -2.760833      29.488056   Suspended Bridge            NaN   \n",
       "1   Complete     -2.322534      29.141944  Suspension Bridge           48.0   \n",
       "2   Complete     -2.513333      29.612778  Suspension Bridge           50.0   \n",
       "3   Complete     -2.476407      29.420800  Suspension Bridge           68.0   \n",
       "4   Complete     -2.233022      29.575130  Suspension Bridge           78.0   \n",
       "\n",
       "   ...  Name_nearest_paved_or_sealed_road Bridge_classification  \\\n",
       "0  ...                                NaN                   NaN   \n",
       "1  ...                 Karongi-Nyamasheke                   NaN   \n",
       "2  ...                     Huye-Nyamagabe              Standard   \n",
       "3  ...                   Nyamagabe-Rusizi              Standard   \n",
       "4  ...                          Nyamagabe              Standard   \n",
       "\n",
       "  Flag_for_Rejection                                   Rejection_Reason  \\\n",
       "0                Yes  There is a planned vehicular road with a vehic...   \n",
       "1                NaN                                                NaN   \n",
       "2                NaN                                                NaN   \n",
       "3                 No                                                NaN   \n",
       "4                 No                                                NaN   \n",
       "\n",
       "   Bridge_Types  Estimated_span_m Height_differential_between_banks  \\\n",
       "0           NaN               NaN                               NaN   \n",
       "1           NaN              10.0                               0.7   \n",
       "2    Suspension              45.0                               1.0   \n",
       "3     Suspended              47.4                               1.1   \n",
       "4     Suspended              90.0                               1.1   \n",
       "\n",
       "                              General_Project_Photos          CaseSafeID  \\\n",
       "0                                                NaN  006f100000asFErAAM   \n",
       "1                       https://flic.kr/s/aHskvedfPB  006f100000a82QzAAI   \n",
       "2                       https://flic.kr/s/aHskbMF1Kr  006f100000a86DaAAI   \n",
       "3  https://www.flickr.com/photos/bridgestoprosper...  006f100000a86F4AAI   \n",
       "4  https://www.flickr.com/photos/bridgestoprosper...  006f100000a86FXAAY   \n",
       "\n",
       "  Senior_Engineering_Review_Conducted  \n",
       "0                                 Yes  \n",
       "1                                 Yes  \n",
       "2                                 Yes  \n",
       "3                                 Yes  \n",
       "4                                 Yes  \n",
       "\n",
       "[5 rows x 43 columns]"
      ]
     },
     "execution_count": 6,
     "metadata": {},
     "output_type": "execute_result"
    }
   ],
   "source": [
    "df.head()"
   ]
  },
  {
   "cell_type": "markdown",
   "metadata": {},
   "source": [
    "# Checking Secrets"
   ]
  },
  {
   "cell_type": "code",
   "execution_count": 11,
   "metadata": {},
   "outputs": [],
   "source": [
    "#Secrets are contained in a .envfile\n",
    "load_dotenv()\n",
    "db_name = os.getenv(\"DB_NAME\")\n",
    "db_user = os.getenv(\"DB_USER\")\n",
    "db_password = os.getenv(\"DB_PASSWORD\")\n",
    "db_host = os.getenv(\"DB_HOST\")\n",
    "db_port = os.getenv(\"DB_PORT\")\n",
    "\n",
    "# print(db_name)\n",
    "# print(db_user)\n",
    "# print(db_password)\n",
    "# print(db_host)\n",
    "# print(db_port)"
   ]
  },
  {
   "cell_type": "markdown",
   "metadata": {},
   "source": [
    "# Verify which tables exist in DataBase"
   ]
  },
  {
   "cell_type": "code",
   "execution_count": 10,
   "metadata": {},
   "outputs": [
    {
     "name": "stdout",
     "output_type": "stream",
     "text": [
      "['B2P_Oct_2018', 'B2P_OCT_2018_Merged', 'B2P_oct_2018']\n"
     ]
    }
   ],
   "source": [
    "import sqlalchemy  # Package for accessing SQL databases via Python\n",
    "\n",
    "# Connect to database (Note: The package psychopg2 is required for Postgres to work with SQLAlchemy)\n",
    "engine = sqlalchemy.create_engine(f\"postgresql://{db_user}:{db_password}@{db_host}:5432/bridges_to_prosperity_oct2018\")\n",
    "con = engine.connect()\n",
    "# Verify that there are no existing tables\n",
    "print(engine.table_names())\n",
    "engine.dispose()"
   ]
  },
  {
   "cell_type": "markdown",
   "metadata": {},
   "source": [
    "# The Following Code Uploads Data Frame to as Table to  Postgres SQL DataBase"
   ]
  },
  {
   "cell_type": "code",
   "execution_count": null,
   "metadata": {},
   "outputs": [],
   "source": [
    "# table_name = 'B2P_oct_2018'\n",
    "# df.to_sql(table_name, con)"
   ]
  },
  {
   "cell_type": "markdown",
   "metadata": {},
   "source": [
    "# Construct Function that allows us to connect and have a cursor to database of Interest"
   ]
  },
  {
   "cell_type": "code",
   "execution_count": null,
   "metadata": {},
   "outputs": [],
   "source": [
    "def conn_curs():\n",
    "    \"\"\"\n",
    "    makes a connection to the database\n",
    "    \"\"\"\n",
    "    global db_name\n",
    "    global db_user\n",
    "    global db_password\n",
    "    global db_host\n",
    "    global db_port\n",
    "    \n",
    "    connection = psycopg2.connect(dbname=db_name, user= db_user,\n",
    "                                  password=db_password, host= db_host,port=db_port)\n",
    "    cursor = connection.cursor()\n",
    "    return connection, cursor"
   ]
  },
  {
   "cell_type": "code",
   "execution_count": null,
   "metadata": {},
   "outputs": [],
   "source": [
    "def fetch_query_records(query):\n",
    "    global conn_curs\n",
    "    conn, cursor = conn_curs()\n",
    "    cursor.execute(query)\n",
    "    result = cursor.fetchall()\n",
    "    conn.close\n",
    "    return result"
   ]
  },
  {
   "cell_type": "code",
   "execution_count": null,
   "metadata": {},
   "outputs": [],
   "source": [
    "fetch_query_records(\"\"\"SELECT \"Bridge_Name\" from public.\"B2P_oct_2018\" LIMIT 1;\"\"\")"
   ]
  },
  {
   "cell_type": "code",
   "execution_count": null,
   "metadata": {},
   "outputs": [],
   "source": [
    "# Testing Querie to get Records based on Bridge Naem\n",
    "conn, cursor = conn_curs()\n",
    "query  = \"\"\"SELECT \"Bridge_Name\" from public.\"B2P_oct_2018\" where \"Bridge_Name\" = 'Bukinga' LIMIT 1;\"\"\"\n",
    "cursor.execute(query)\n",
    "result = cursor.fetchall()\n",
    "conn.close\n",
    "print(result)"
   ]
  },
  {
   "cell_type": "code",
   "execution_count": null,
   "metadata": {},
   "outputs": [],
   "source": [
    "def fetch_all_records():\n",
    "    global conn_curs\n",
    "    conn,cursor = conn_curs()\n",
    "    query = \"\"\" SELECT * from public.\"B2P_oct_2018\" LIMIT 1\"\"\";\n",
    "    cursor.execute(query)\n",
    "    result = cursor.fetchall()\n",
    "    conn.close()\n",
    "    df2 = pd.DataFrame(result, columns= ['index']+columns)\n",
    "    df2.iloc[:,1:]\n",
    "    df_json = df.to_json(orient='records')\n",
    "    parsed = json.loads(df_json)\n",
    "    return parsed\n"
   ]
  },
  {
   "cell_type": "code",
   "execution_count": null,
   "metadata": {},
   "outputs": [],
   "source": [
    "#Testing fetch_all_records function\n",
    "fetch_all_records()"
   ]
  },
  {
   "cell_type": "code",
   "execution_count": null,
   "metadata": {},
   "outputs": [],
   "source": [
    "# Testing Querie to get Records based on Project Code\n",
    "conn, cursor = conn_curs()\n",
    "query = \"\"\"SELECT * FROM public.\"B2P_oct_2018\" where \"Project_Code\" = '1009317' LIMIT 1;\"\"\"\n",
    "cursor.execute(query)\n",
    "result = cursor.fetchall()\n",
    "conn.close\n",
    "print(result)\n",
    "\n"
   ]
  },
  {
   "cell_type": "code",
   "execution_count": null,
   "metadata": {},
   "outputs": [],
   "source": [
    "def fetch_query_given_project(project_code):\n",
    "    global columns\n",
    "    global conn_curs\n",
    "    conn, cursor = conn_curs()\n",
    "    #SELECT * FROM public.\"B2P_oct_2018\" where \"Project_Code\"='1009317';\n",
    "    #query  = \"\"\"SELECT * from public.\"B2P_oct_2018\" where \"Bridge_Name\" = 'Bukinga' LIMIT 1;\"\"\"\n",
    "    query = f\"\"\"SELECT * FROM public.\"B2P_oct_2018\" where \"Project_Code\" = '{project_code}' LIMIT 1;\"\"\"\n",
    "    cursor.execute(query)\n",
    "    result = cursor.fetchall()\n",
    "    conn.close()\n",
    "    df = pd.DataFrame(result, columns=['index']+columns)\n",
    "    df_json = df.to_json(orient='records')\n",
    "    parsed = json.loads(df_json)\n",
    "    return parsed"
   ]
  },
  {
   "cell_type": "code",
   "execution_count": null,
   "metadata": {},
   "outputs": [],
   "source": [
    "# Testing fetch_query_give_project_function, py file we will change this slightly\n",
    "# We will be working with a class PostgreSQL, so we will have instance variable columns, and and conn_curs will be amethod"
   ]
  },
  {
   "cell_type": "code",
   "execution_count": null,
   "metadata": {},
   "outputs": [],
   "source": [
    "fetch_query_given_project(1009317)"
   ]
  }
 ],
 "metadata": {
  "kernelspec": {
   "display_name": "Python 3",
   "language": "python",
   "name": "python3"
  },
  "language_info": {
   "codemirror_mode": {
    "name": "ipython",
    "version": 3
   },
   "file_extension": ".py",
   "mimetype": "text/x-python",
   "name": "python",
   "nbconvert_exporter": "python",
   "pygments_lexer": "ipython3",
   "version": "3.7.3"
  }
 },
 "nbformat": 4,
 "nbformat_minor": 4
}
